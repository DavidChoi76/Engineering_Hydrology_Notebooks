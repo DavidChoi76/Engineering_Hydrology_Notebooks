{
 "cells": [
  {
   "cell_type": "markdown",
   "metadata": {},
   "source": [
    "# Notebook 4: Characterization of Long-Term Runoff"
   ]
  },
  {
   "cell_type": "code",
   "execution_count": 1,
   "metadata": {},
   "outputs": [
    {
     "data": {
      "text/html": [
       "\n",
       "    <div class=\"bk-root\">\n",
       "        <a href=\"https://bokeh.org\" target=\"_blank\" class=\"bk-logo bk-logo-small bk-logo-notebook\"></a>\n",
       "        <span id=\"1001\">Loading BokehJS ...</span>\n",
       "    </div>"
      ]
     },
     "metadata": {},
     "output_type": "display_data"
    },
    {
     "data": {
      "application/javascript": [
       "\n",
       "(function(root) {\n",
       "  function now() {\n",
       "    return new Date();\n",
       "  }\n",
       "\n",
       "  var force = true;\n",
       "\n",
       "  if (typeof root._bokeh_onload_callbacks === \"undefined\" || force === true) {\n",
       "    root._bokeh_onload_callbacks = [];\n",
       "    root._bokeh_is_loading = undefined;\n",
       "  }\n",
       "\n",
       "  var JS_MIME_TYPE = 'application/javascript';\n",
       "  var HTML_MIME_TYPE = 'text/html';\n",
       "  var EXEC_MIME_TYPE = 'application/vnd.bokehjs_exec.v0+json';\n",
       "  var CLASS_NAME = 'output_bokeh rendered_html';\n",
       "\n",
       "  /**\n",
       "   * Render data to the DOM node\n",
       "   */\n",
       "  function render(props, node) {\n",
       "    var script = document.createElement(\"script\");\n",
       "    node.appendChild(script);\n",
       "  }\n",
       "\n",
       "  /**\n",
       "   * Handle when an output is cleared or removed\n",
       "   */\n",
       "  function handleClearOutput(event, handle) {\n",
       "    var cell = handle.cell;\n",
       "\n",
       "    var id = cell.output_area._bokeh_element_id;\n",
       "    var server_id = cell.output_area._bokeh_server_id;\n",
       "    // Clean up Bokeh references\n",
       "    if (id != null && id in Bokeh.index) {\n",
       "      Bokeh.index[id].model.document.clear();\n",
       "      delete Bokeh.index[id];\n",
       "    }\n",
       "\n",
       "    if (server_id !== undefined) {\n",
       "      // Clean up Bokeh references\n",
       "      var cmd = \"from bokeh.io.state import curstate; print(curstate().uuid_to_server['\" + server_id + \"'].get_sessions()[0].document.roots[0]._id)\";\n",
       "      cell.notebook.kernel.execute(cmd, {\n",
       "        iopub: {\n",
       "          output: function(msg) {\n",
       "            var id = msg.content.text.trim();\n",
       "            if (id in Bokeh.index) {\n",
       "              Bokeh.index[id].model.document.clear();\n",
       "              delete Bokeh.index[id];\n",
       "            }\n",
       "          }\n",
       "        }\n",
       "      });\n",
       "      // Destroy server and session\n",
       "      var cmd = \"import bokeh.io.notebook as ion; ion.destroy_server('\" + server_id + \"')\";\n",
       "      cell.notebook.kernel.execute(cmd);\n",
       "    }\n",
       "  }\n",
       "\n",
       "  /**\n",
       "   * Handle when a new output is added\n",
       "   */\n",
       "  function handleAddOutput(event, handle) {\n",
       "    var output_area = handle.output_area;\n",
       "    var output = handle.output;\n",
       "\n",
       "    // limit handleAddOutput to display_data with EXEC_MIME_TYPE content only\n",
       "    if ((output.output_type != \"display_data\") || (!output.data.hasOwnProperty(EXEC_MIME_TYPE))) {\n",
       "      return\n",
       "    }\n",
       "\n",
       "    var toinsert = output_area.element.find(\".\" + CLASS_NAME.split(' ')[0]);\n",
       "\n",
       "    if (output.metadata[EXEC_MIME_TYPE][\"id\"] !== undefined) {\n",
       "      toinsert[toinsert.length - 1].firstChild.textContent = output.data[JS_MIME_TYPE];\n",
       "      // store reference to embed id on output_area\n",
       "      output_area._bokeh_element_id = output.metadata[EXEC_MIME_TYPE][\"id\"];\n",
       "    }\n",
       "    if (output.metadata[EXEC_MIME_TYPE][\"server_id\"] !== undefined) {\n",
       "      var bk_div = document.createElement(\"div\");\n",
       "      bk_div.innerHTML = output.data[HTML_MIME_TYPE];\n",
       "      var script_attrs = bk_div.children[0].attributes;\n",
       "      for (var i = 0; i < script_attrs.length; i++) {\n",
       "        toinsert[toinsert.length - 1].firstChild.setAttribute(script_attrs[i].name, script_attrs[i].value);\n",
       "        toinsert[toinsert.length - 1].firstChild.textContent = bk_div.children[0].textContent\n",
       "      }\n",
       "      // store reference to server id on output_area\n",
       "      output_area._bokeh_server_id = output.metadata[EXEC_MIME_TYPE][\"server_id\"];\n",
       "    }\n",
       "  }\n",
       "\n",
       "  function register_renderer(events, OutputArea) {\n",
       "\n",
       "    function append_mime(data, metadata, element) {\n",
       "      // create a DOM node to render to\n",
       "      var toinsert = this.create_output_subarea(\n",
       "        metadata,\n",
       "        CLASS_NAME,\n",
       "        EXEC_MIME_TYPE\n",
       "      );\n",
       "      this.keyboard_manager.register_events(toinsert);\n",
       "      // Render to node\n",
       "      var props = {data: data, metadata: metadata[EXEC_MIME_TYPE]};\n",
       "      render(props, toinsert[toinsert.length - 1]);\n",
       "      element.append(toinsert);\n",
       "      return toinsert\n",
       "    }\n",
       "\n",
       "    /* Handle when an output is cleared or removed */\n",
       "    events.on('clear_output.CodeCell', handleClearOutput);\n",
       "    events.on('delete.Cell', handleClearOutput);\n",
       "\n",
       "    /* Handle when a new output is added */\n",
       "    events.on('output_added.OutputArea', handleAddOutput);\n",
       "\n",
       "    /**\n",
       "     * Register the mime type and append_mime function with output_area\n",
       "     */\n",
       "    OutputArea.prototype.register_mime_type(EXEC_MIME_TYPE, append_mime, {\n",
       "      /* Is output safe? */\n",
       "      safe: true,\n",
       "      /* Index of renderer in `output_area.display_order` */\n",
       "      index: 0\n",
       "    });\n",
       "  }\n",
       "\n",
       "  // register the mime type if in Jupyter Notebook environment and previously unregistered\n",
       "  if (root.Jupyter !== undefined) {\n",
       "    var events = require('base/js/events');\n",
       "    var OutputArea = require('notebook/js/outputarea').OutputArea;\n",
       "\n",
       "    if (OutputArea.prototype.mime_types().indexOf(EXEC_MIME_TYPE) == -1) {\n",
       "      register_renderer(events, OutputArea);\n",
       "    }\n",
       "  }\n",
       "\n",
       "  \n",
       "  if (typeof (root._bokeh_timeout) === \"undefined\" || force === true) {\n",
       "    root._bokeh_timeout = Date.now() + 5000;\n",
       "    root._bokeh_failed_load = false;\n",
       "  }\n",
       "\n",
       "  var NB_LOAD_WARNING = {'data': {'text/html':\n",
       "     \"<div style='background-color: #fdd'>\\n\"+\n",
       "     \"<p>\\n\"+\n",
       "     \"BokehJS does not appear to have successfully loaded. If loading BokehJS from CDN, this \\n\"+\n",
       "     \"may be due to a slow or bad network connection. Possible fixes:\\n\"+\n",
       "     \"</p>\\n\"+\n",
       "     \"<ul>\\n\"+\n",
       "     \"<li>re-rerun `output_notebook()` to attempt to load from CDN again, or</li>\\n\"+\n",
       "     \"<li>use INLINE resources instead, as so:</li>\\n\"+\n",
       "     \"</ul>\\n\"+\n",
       "     \"<code>\\n\"+\n",
       "     \"from bokeh.resources import INLINE\\n\"+\n",
       "     \"output_notebook(resources=INLINE)\\n\"+\n",
       "     \"</code>\\n\"+\n",
       "     \"</div>\"}};\n",
       "\n",
       "  function display_loaded() {\n",
       "    var el = document.getElementById(\"1001\");\n",
       "    if (el != null) {\n",
       "      el.textContent = \"BokehJS is loading...\";\n",
       "    }\n",
       "    if (root.Bokeh !== undefined) {\n",
       "      if (el != null) {\n",
       "        el.textContent = \"BokehJS \" + root.Bokeh.version + \" successfully loaded.\";\n",
       "      }\n",
       "    } else if (Date.now() < root._bokeh_timeout) {\n",
       "      setTimeout(display_loaded, 100)\n",
       "    }\n",
       "  }\n",
       "\n",
       "\n",
       "  function run_callbacks() {\n",
       "    try {\n",
       "      root._bokeh_onload_callbacks.forEach(function(callback) {\n",
       "        if (callback != null)\n",
       "          callback();\n",
       "      });\n",
       "    } finally {\n",
       "      delete root._bokeh_onload_callbacks\n",
       "    }\n",
       "    console.debug(\"Bokeh: all callbacks have finished\");\n",
       "  }\n",
       "\n",
       "  function load_libs(css_urls, js_urls, callback) {\n",
       "    if (css_urls == null) css_urls = [];\n",
       "    if (js_urls == null) js_urls = [];\n",
       "\n",
       "    root._bokeh_onload_callbacks.push(callback);\n",
       "    if (root._bokeh_is_loading > 0) {\n",
       "      console.debug(\"Bokeh: BokehJS is being loaded, scheduling callback at\", now());\n",
       "      return null;\n",
       "    }\n",
       "    if (js_urls == null || js_urls.length === 0) {\n",
       "      run_callbacks();\n",
       "      return null;\n",
       "    }\n",
       "    console.debug(\"Bokeh: BokehJS not loaded, scheduling load and callback at\", now());\n",
       "    root._bokeh_is_loading = css_urls.length + js_urls.length;\n",
       "\n",
       "    function on_load() {\n",
       "      root._bokeh_is_loading--;\n",
       "      if (root._bokeh_is_loading === 0) {\n",
       "        console.debug(\"Bokeh: all BokehJS libraries/stylesheets loaded\");\n",
       "        run_callbacks()\n",
       "      }\n",
       "    }\n",
       "\n",
       "    function on_error() {\n",
       "      console.error(\"failed to load \" + url);\n",
       "    }\n",
       "\n",
       "    for (var i = 0; i < css_urls.length; i++) {\n",
       "      var url = css_urls[i];\n",
       "      const element = document.createElement(\"link\");\n",
       "      element.onload = on_load;\n",
       "      element.onerror = on_error;\n",
       "      element.rel = \"stylesheet\";\n",
       "      element.type = \"text/css\";\n",
       "      element.href = url;\n",
       "      console.debug(\"Bokeh: injecting link tag for BokehJS stylesheet: \", url);\n",
       "      document.body.appendChild(element);\n",
       "    }\n",
       "\n",
       "    const hashes = {\"https://cdn.bokeh.org/bokeh/release/bokeh-2.2.1.min.js\": \"qkRvDQVAIfzsJo40iRBbxt6sttt0hv4lh74DG7OK4MCHv4C5oohXYoHUM5W11uqS\", \"https://cdn.bokeh.org/bokeh/release/bokeh-widgets-2.2.1.min.js\": \"Sb7Mr06a9TNlet/GEBeKaf5xH3eb6AlCzwjtU82wNPyDrnfoiVl26qnvlKjmcAd+\", \"https://cdn.bokeh.org/bokeh/release/bokeh-tables-2.2.1.min.js\": \"HaJ15vgfmcfRtB4c4YBOI4f1MUujukqInOWVqZJZZGK7Q+ivud0OKGSTn/Vm2iso\"};\n",
       "\n",
       "    for (var i = 0; i < js_urls.length; i++) {\n",
       "      var url = js_urls[i];\n",
       "      var element = document.createElement('script');\n",
       "      element.onload = on_load;\n",
       "      element.onerror = on_error;\n",
       "      element.async = false;\n",
       "      element.src = url;\n",
       "      if (url in hashes) {\n",
       "        element.crossOrigin = \"anonymous\";\n",
       "        element.integrity = \"sha384-\" + hashes[url];\n",
       "      }\n",
       "      console.debug(\"Bokeh: injecting script tag for BokehJS library: \", url);\n",
       "      document.head.appendChild(element);\n",
       "    }\n",
       "  };\n",
       "\n",
       "  function inject_raw_css(css) {\n",
       "    const element = document.createElement(\"style\");\n",
       "    element.appendChild(document.createTextNode(css));\n",
       "    document.body.appendChild(element);\n",
       "  }\n",
       "\n",
       "  \n",
       "  var js_urls = [\"https://cdn.bokeh.org/bokeh/release/bokeh-2.2.1.min.js\", \"https://cdn.bokeh.org/bokeh/release/bokeh-widgets-2.2.1.min.js\", \"https://cdn.bokeh.org/bokeh/release/bokeh-tables-2.2.1.min.js\"];\n",
       "  var css_urls = [];\n",
       "  \n",
       "\n",
       "  var inline_js = [\n",
       "    function(Bokeh) {\n",
       "      Bokeh.set_log_level(\"info\");\n",
       "    },\n",
       "    function(Bokeh) {\n",
       "    \n",
       "    \n",
       "    }\n",
       "  ];\n",
       "\n",
       "  function run_inline_js() {\n",
       "    \n",
       "    if (root.Bokeh !== undefined || force === true) {\n",
       "      \n",
       "    for (var i = 0; i < inline_js.length; i++) {\n",
       "      inline_js[i].call(root, root.Bokeh);\n",
       "    }\n",
       "    if (force === true) {\n",
       "        display_loaded();\n",
       "      }} else if (Date.now() < root._bokeh_timeout) {\n",
       "      setTimeout(run_inline_js, 100);\n",
       "    } else if (!root._bokeh_failed_load) {\n",
       "      console.log(\"Bokeh: BokehJS failed to load within specified timeout.\");\n",
       "      root._bokeh_failed_load = true;\n",
       "    } else if (force !== true) {\n",
       "      var cell = $(document.getElementById(\"1001\")).parents('.cell').data().cell;\n",
       "      cell.output_area.append_execute_result(NB_LOAD_WARNING)\n",
       "    }\n",
       "\n",
       "  }\n",
       "\n",
       "  if (root._bokeh_is_loading === 0) {\n",
       "    console.debug(\"Bokeh: BokehJS loaded, going straight to plotting\");\n",
       "    run_inline_js();\n",
       "  } else {\n",
       "    load_libs(css_urls, js_urls, function() {\n",
       "      console.debug(\"Bokeh: BokehJS plotting callback run at\", now());\n",
       "      run_inline_js();\n",
       "    });\n",
       "  }\n",
       "}(window));"
      ],
      "application/vnd.bokehjs_load.v0+json": "\n(function(root) {\n  function now() {\n    return new Date();\n  }\n\n  var force = true;\n\n  if (typeof root._bokeh_onload_callbacks === \"undefined\" || force === true) {\n    root._bokeh_onload_callbacks = [];\n    root._bokeh_is_loading = undefined;\n  }\n\n  \n\n  \n  if (typeof (root._bokeh_timeout) === \"undefined\" || force === true) {\n    root._bokeh_timeout = Date.now() + 5000;\n    root._bokeh_failed_load = false;\n  }\n\n  var NB_LOAD_WARNING = {'data': {'text/html':\n     \"<div style='background-color: #fdd'>\\n\"+\n     \"<p>\\n\"+\n     \"BokehJS does not appear to have successfully loaded. If loading BokehJS from CDN, this \\n\"+\n     \"may be due to a slow or bad network connection. Possible fixes:\\n\"+\n     \"</p>\\n\"+\n     \"<ul>\\n\"+\n     \"<li>re-rerun `output_notebook()` to attempt to load from CDN again, or</li>\\n\"+\n     \"<li>use INLINE resources instead, as so:</li>\\n\"+\n     \"</ul>\\n\"+\n     \"<code>\\n\"+\n     \"from bokeh.resources import INLINE\\n\"+\n     \"output_notebook(resources=INLINE)\\n\"+\n     \"</code>\\n\"+\n     \"</div>\"}};\n\n  function display_loaded() {\n    var el = document.getElementById(\"1001\");\n    if (el != null) {\n      el.textContent = \"BokehJS is loading...\";\n    }\n    if (root.Bokeh !== undefined) {\n      if (el != null) {\n        el.textContent = \"BokehJS \" + root.Bokeh.version + \" successfully loaded.\";\n      }\n    } else if (Date.now() < root._bokeh_timeout) {\n      setTimeout(display_loaded, 100)\n    }\n  }\n\n\n  function run_callbacks() {\n    try {\n      root._bokeh_onload_callbacks.forEach(function(callback) {\n        if (callback != null)\n          callback();\n      });\n    } finally {\n      delete root._bokeh_onload_callbacks\n    }\n    console.debug(\"Bokeh: all callbacks have finished\");\n  }\n\n  function load_libs(css_urls, js_urls, callback) {\n    if (css_urls == null) css_urls = [];\n    if (js_urls == null) js_urls = [];\n\n    root._bokeh_onload_callbacks.push(callback);\n    if (root._bokeh_is_loading > 0) {\n      console.debug(\"Bokeh: BokehJS is being loaded, scheduling callback at\", now());\n      return null;\n    }\n    if (js_urls == null || js_urls.length === 0) {\n      run_callbacks();\n      return null;\n    }\n    console.debug(\"Bokeh: BokehJS not loaded, scheduling load and callback at\", now());\n    root._bokeh_is_loading = css_urls.length + js_urls.length;\n\n    function on_load() {\n      root._bokeh_is_loading--;\n      if (root._bokeh_is_loading === 0) {\n        console.debug(\"Bokeh: all BokehJS libraries/stylesheets loaded\");\n        run_callbacks()\n      }\n    }\n\n    function on_error() {\n      console.error(\"failed to load \" + url);\n    }\n\n    for (var i = 0; i < css_urls.length; i++) {\n      var url = css_urls[i];\n      const element = document.createElement(\"link\");\n      element.onload = on_load;\n      element.onerror = on_error;\n      element.rel = \"stylesheet\";\n      element.type = \"text/css\";\n      element.href = url;\n      console.debug(\"Bokeh: injecting link tag for BokehJS stylesheet: \", url);\n      document.body.appendChild(element);\n    }\n\n    const hashes = {\"https://cdn.bokeh.org/bokeh/release/bokeh-2.2.1.min.js\": \"qkRvDQVAIfzsJo40iRBbxt6sttt0hv4lh74DG7OK4MCHv4C5oohXYoHUM5W11uqS\", \"https://cdn.bokeh.org/bokeh/release/bokeh-widgets-2.2.1.min.js\": \"Sb7Mr06a9TNlet/GEBeKaf5xH3eb6AlCzwjtU82wNPyDrnfoiVl26qnvlKjmcAd+\", \"https://cdn.bokeh.org/bokeh/release/bokeh-tables-2.2.1.min.js\": \"HaJ15vgfmcfRtB4c4YBOI4f1MUujukqInOWVqZJZZGK7Q+ivud0OKGSTn/Vm2iso\"};\n\n    for (var i = 0; i < js_urls.length; i++) {\n      var url = js_urls[i];\n      var element = document.createElement('script');\n      element.onload = on_load;\n      element.onerror = on_error;\n      element.async = false;\n      element.src = url;\n      if (url in hashes) {\n        element.crossOrigin = \"anonymous\";\n        element.integrity = \"sha384-\" + hashes[url];\n      }\n      console.debug(\"Bokeh: injecting script tag for BokehJS library: \", url);\n      document.head.appendChild(element);\n    }\n  };\n\n  function inject_raw_css(css) {\n    const element = document.createElement(\"style\");\n    element.appendChild(document.createTextNode(css));\n    document.body.appendChild(element);\n  }\n\n  \n  var js_urls = [\"https://cdn.bokeh.org/bokeh/release/bokeh-2.2.1.min.js\", \"https://cdn.bokeh.org/bokeh/release/bokeh-widgets-2.2.1.min.js\", \"https://cdn.bokeh.org/bokeh/release/bokeh-tables-2.2.1.min.js\"];\n  var css_urls = [];\n  \n\n  var inline_js = [\n    function(Bokeh) {\n      Bokeh.set_log_level(\"info\");\n    },\n    function(Bokeh) {\n    \n    \n    }\n  ];\n\n  function run_inline_js() {\n    \n    if (root.Bokeh !== undefined || force === true) {\n      \n    for (var i = 0; i < inline_js.length; i++) {\n      inline_js[i].call(root, root.Bokeh);\n    }\n    if (force === true) {\n        display_loaded();\n      }} else if (Date.now() < root._bokeh_timeout) {\n      setTimeout(run_inline_js, 100);\n    } else if (!root._bokeh_failed_load) {\n      console.log(\"Bokeh: BokehJS failed to load within specified timeout.\");\n      root._bokeh_failed_load = true;\n    } else if (force !== true) {\n      var cell = $(document.getElementById(\"1001\")).parents('.cell').data().cell;\n      cell.output_area.append_execute_result(NB_LOAD_WARNING)\n    }\n\n  }\n\n  if (root._bokeh_is_loading === 0) {\n    console.debug(\"Bokeh: BokehJS loaded, going straight to plotting\");\n    run_inline_js();\n  } else {\n    load_libs(css_urls, js_urls, function() {\n      console.debug(\"Bokeh: BokehJS plotting callback run at\", now());\n      run_inline_js();\n    });\n  }\n}(window));"
     },
     "metadata": {},
     "output_type": "display_data"
    }
   ],
   "source": [
    "import math\n",
    "import pandas as pd\n",
    "import numpy as np\n",
    "from scipy import stats as st\n",
    "\n",
    "import matplotlib.pyplot as plt\n",
    "from pandas.plotting import register_matplotlib_converters\n",
    "register_matplotlib_converters()\n",
    "\n",
    "from bokeh.plotting import figure, show, output_file\n",
    "from bokeh.models import ColumnDataSource, Band\n",
    "from bokeh.io import output_notebook\n",
    "from bokeh.layouts import gridplot\n",
    "output_notebook()"
   ]
  },
  {
   "cell_type": "markdown",
   "metadata": {},
   "source": [
    "## Introduction\n",
    "\n",
    "In Notebook 2, we developed a rating curve for our location of interest based on discrete discharge measurements made during a series of visits, and we applied this stage-discharge relationship (rating curve) to the continous stage recorded at our hydrometric station (the datalogger recording from a pressure transducer).  Recall that our hydrometric station has only been running for a couple of years -- this isn't nearly enough data to estimate the flow characteristics (daily, seasonal, floods, droughts, etc.).  In this notebook, we look in the vicinity of our project location for other stations where records have been kept for much longer, i.e. several decades longer.\n",
    "\n",
    "First, we'll set up our rating curve as we did in Notebook 2 and rebuild the daily average flow series."
   ]
  },
  {
   "cell_type": "markdown",
   "metadata": {},
   "source": [
    "## Import the Data"
   ]
  },
  {
   "cell_type": "code",
   "execution_count": 2,
   "metadata": {},
   "outputs": [],
   "source": [
    "# import the stage data\n",
    "stage_df = pd.read_csv('../data/CIVL418_2020_Nameless_Creek_H_data.csv', parse_dates=['Date'])\n",
    "stage_df.set_index('Date', inplace=True)\n",
    "stage_df.sort_index(inplace=True)\n",
    "stage_df['Value'] = stage_df['Value'].astype(float)"
   ]
  },
  {
   "cell_type": "code",
   "execution_count": 3,
   "metadata": {},
   "outputs": [
    {
     "data": {
      "text/html": [
       "<div>\n",
       "<style scoped>\n",
       "    .dataframe tbody tr th:only-of-type {\n",
       "        vertical-align: middle;\n",
       "    }\n",
       "\n",
       "    .dataframe tbody tr th {\n",
       "        vertical-align: top;\n",
       "    }\n",
       "\n",
       "    .dataframe thead th {\n",
       "        text-align: right;\n",
       "    }\n",
       "</style>\n",
       "<table border=\"1\" class=\"dataframe\">\n",
       "  <thead>\n",
       "    <tr style=\"text-align: right;\">\n",
       "      <th></th>\n",
       "      <th>ID</th>\n",
       "      <th>PARAM</th>\n",
       "      <th>year</th>\n",
       "      <th>month</th>\n",
       "      <th>day</th>\n",
       "      <th>Value</th>\n",
       "    </tr>\n",
       "    <tr>\n",
       "      <th>Date</th>\n",
       "      <th></th>\n",
       "      <th></th>\n",
       "      <th></th>\n",
       "      <th></th>\n",
       "      <th></th>\n",
       "      <th></th>\n",
       "    </tr>\n",
       "  </thead>\n",
       "  <tbody>\n",
       "    <tr>\n",
       "      <th>2010-08-25</th>\n",
       "      <td>00XX000</td>\n",
       "      <td>2</td>\n",
       "      <td>2010</td>\n",
       "      <td>8</td>\n",
       "      <td>25</td>\n",
       "      <td>0.830</td>\n",
       "    </tr>\n",
       "    <tr>\n",
       "      <th>2010-08-26</th>\n",
       "      <td>00XX000</td>\n",
       "      <td>2</td>\n",
       "      <td>2010</td>\n",
       "      <td>8</td>\n",
       "      <td>26</td>\n",
       "      <td>0.876</td>\n",
       "    </tr>\n",
       "    <tr>\n",
       "      <th>2010-08-27</th>\n",
       "      <td>00XX000</td>\n",
       "      <td>2</td>\n",
       "      <td>2010</td>\n",
       "      <td>8</td>\n",
       "      <td>27</td>\n",
       "      <td>1.160</td>\n",
       "    </tr>\n",
       "    <tr>\n",
       "      <th>2010-08-28</th>\n",
       "      <td>00XX000</td>\n",
       "      <td>2</td>\n",
       "      <td>2010</td>\n",
       "      <td>8</td>\n",
       "      <td>28</td>\n",
       "      <td>0.867</td>\n",
       "    </tr>\n",
       "    <tr>\n",
       "      <th>2010-08-29</th>\n",
       "      <td>00XX000</td>\n",
       "      <td>2</td>\n",
       "      <td>2010</td>\n",
       "      <td>8</td>\n",
       "      <td>29</td>\n",
       "      <td>0.711</td>\n",
       "    </tr>\n",
       "  </tbody>\n",
       "</table>\n",
       "</div>"
      ],
      "text/plain": [
       "                 ID  PARAM  year  month  day  Value\n",
       "Date                                               \n",
       "2010-08-25  00XX000      2  2010      8   25  0.830\n",
       "2010-08-26  00XX000      2  2010      8   26  0.876\n",
       "2010-08-27  00XX000      2  2010      8   27  1.160\n",
       "2010-08-28  00XX000      2  2010      8   28  0.867\n",
       "2010-08-29  00XX000      2  2010      8   29  0.711"
      ]
     },
     "execution_count": 3,
     "metadata": {},
     "output_type": "execute_result"
    }
   ],
   "source": [
    "# take a quick look at what we're dealing with\n",
    "stage_df.head()"
   ]
  },
  {
   "cell_type": "code",
   "execution_count": 4,
   "metadata": {},
   "outputs": [
    {
     "data": {
      "image/png": "[encoded data removed]",
      "text/plain": [
       "<Figure size 432x288 with 1 Axes>"
      ]
     },
     "metadata": {
      "needs_background": "light"
     },
     "output_type": "display_data"
    }
   ],
   "source": [
    "plt.plot(stage_df.index, stage_df['Value'])\n",
    "plt.show()"
   ]
  },
  {
   "cell_type": "code",
   "execution_count": 5,
   "metadata": {},
   "outputs": [],
   "source": [
    "# the water level (stage) label is long, \n",
    "# let's create a shortcut reference label\n",
    "stage_label = 'water level (m above 0 flow ref)'\n",
    "flow_label = 'Flow (m^3/s)'\n"
   ]
  },
  {
   "cell_type": "code",
   "execution_count": 6,
   "metadata": {},
   "outputs": [],
   "source": [
    "# import the discharge measurements\n",
    "rc_df = pd.read_csv('../data/project_QH_table_2020.csv', parse_dates=['Date'])"
   ]
  },
  {
   "cell_type": "code",
   "execution_count": 7,
   "metadata": {},
   "outputs": [
    {
     "data": {
      "text/html": [
       "<div>\n",
       "<style scoped>\n",
       "    .dataframe tbody tr th:only-of-type {\n",
       "        vertical-align: middle;\n",
       "    }\n",
       "\n",
       "    .dataframe tbody tr th {\n",
       "        vertical-align: top;\n",
       "    }\n",
       "\n",
       "    .dataframe thead th {\n",
       "        text-align: right;\n",
       "    }\n",
       "</style>\n",
       "<table border=\"1\" class=\"dataframe\">\n",
       "  <thead>\n",
       "    <tr style=\"text-align: right;\">\n",
       "      <th></th>\n",
       "      <th>Date</th>\n",
       "      <th>Flow (m^3/s)</th>\n",
       "      <th>water level (m above 0 flow ref)</th>\n",
       "    </tr>\n",
       "  </thead>\n",
       "  <tbody>\n",
       "    <tr>\n",
       "      <th>0</th>\n",
       "      <td>2010-12-24</td>\n",
       "      <td>4.340</td>\n",
       "      <td>1.130</td>\n",
       "    </tr>\n",
       "    <tr>\n",
       "      <th>1</th>\n",
       "      <td>2011-01-11</td>\n",
       "      <td>0.217</td>\n",
       "      <td>0.149</td>\n",
       "    </tr>\n",
       "    <tr>\n",
       "      <th>2</th>\n",
       "      <td>2011-05-04</td>\n",
       "      <td>3.470</td>\n",
       "      <td>1.020</td>\n",
       "    </tr>\n",
       "    <tr>\n",
       "      <th>3</th>\n",
       "      <td>2011-09-19</td>\n",
       "      <td>4.280</td>\n",
       "      <td>0.966</td>\n",
       "    </tr>\n",
       "    <tr>\n",
       "      <th>4</th>\n",
       "      <td>2011-10-24</td>\n",
       "      <td>4.510</td>\n",
       "      <td>1.070</td>\n",
       "    </tr>\n",
       "    <tr>\n",
       "      <th>5</th>\n",
       "      <td>2011-12-17</td>\n",
       "      <td>0.997</td>\n",
       "      <td>0.443</td>\n",
       "    </tr>\n",
       "    <tr>\n",
       "      <th>6</th>\n",
       "      <td>2012-01-26</td>\n",
       "      <td>2.480</td>\n",
       "      <td>0.648</td>\n",
       "    </tr>\n",
       "    <tr>\n",
       "      <th>7</th>\n",
       "      <td>2012-02-18</td>\n",
       "      <td>1.330</td>\n",
       "      <td>0.624</td>\n",
       "    </tr>\n",
       "    <tr>\n",
       "      <th>8</th>\n",
       "      <td>2012-02-24</td>\n",
       "      <td>1.540</td>\n",
       "      <td>0.516</td>\n",
       "    </tr>\n",
       "  </tbody>\n",
       "</table>\n",
       "</div>"
      ],
      "text/plain": [
       "        Date  Flow (m^3/s)  water level (m above 0 flow ref)\n",
       "0 2010-12-24         4.340                             1.130\n",
       "1 2011-01-11         0.217                             0.149\n",
       "2 2011-05-04         3.470                             1.020\n",
       "3 2011-09-19         4.280                             0.966\n",
       "4 2011-10-24         4.510                             1.070\n",
       "5 2011-12-17         0.997                             0.443\n",
       "6 2012-01-26         2.480                             0.648\n",
       "7 2012-02-18         1.330                             0.624\n",
       "8 2012-02-24         1.540                             0.516"
      ]
     },
     "execution_count": 7,
     "metadata": {},
     "output_type": "execute_result"
    }
   ],
   "source": [
    "# take a look at the discharge measurements\n",
    "rc_df"
   ]
  },
  {
   "cell_type": "markdown",
   "metadata": {},
   "source": [
    "## Plot the Stage-Discharge Rating Curve and the Best Fit Curve\n",
    "\n",
    "Recall from Notebook 2: $Q = C(H-h_0)^b$.  If we transform the data to log space, we get a linear relationship:\n",
    "\n",
    "$$log(Q) = log(C) + b\\cdot log(h-h_0)$$\n",
    "\n",
    "If we rearrange to the form $y = intercept + slope \\cdot x$, we can use the scipy function for linear regression (`\n",
    "()` from the previous tutorial).\n",
    "\n",
    "Recall the x and y axis parameters are Q and h, respectively, so the linear form of the equation is then: \n",
    "\n",
    "$$log(h-h_0) = slope \\cdot log(Q) + intercept$$\n",
    "\n",
    "The above relationship is linear, so we can use ordinary least squares to find the best fit line (in log-log space), and then transform back to linear space.\n",
    "Note that $h_0$ cannot be fitted this way, and has to be set manually. In this case we can assume $h_0=0$."
   ]
  },
  {
   "cell_type": "code",
   "execution_count": 8,
   "metadata": {},
   "outputs": [],
   "source": [
    "# calculate the discharge based on the best fit\n",
    "# parameters found by ordinary least squares above\n",
    "def ols_rc_q(slope, intercept, h, h0):\n",
    "    \"\"\"\n",
    "    Calculate flow (Q) from the linear best fit parameters.\n",
    "        -slope: the `log_slope` calculated above (constant)\n",
    "        -intercept: `log_intercept` calculated above (constant)\n",
    "        -h0 is the same PZF offset used above (constant)\n",
    "        -h is the independent variable\n",
    "    Returns Q, the discharge in m^3/s.\n",
    "    \"\"\"\n",
    "    if slope == 0:\n",
    "        return 0\n",
    "    try:\n",
    "        return np.exp((np.log(h - h0) - intercept) / slope)\n",
    "    except ValueError: \n",
    "        return None"
   ]
  },
  {
   "cell_type": "code",
   "execution_count": 9,
   "metadata": {},
   "outputs": [],
   "source": [
    "# Find the best-fit line in log-log space\n",
    "# take the logarithm of the measured streamflows and stage\n",
    "h0=0\n",
    "q_log = np.log(rc_df[flow_label] - h0)\n",
    "stage_log = np.log(rc_df[stage_label])\n",
    "\n",
    "# find the parameters describing the linear best fit using ordinary least squares (OLS)\n",
    "log_slope, log_intercept, log_rval, log_pval, log_stderr = st.linregress(q_log, stage_log)"
   ]
  },
  {
   "cell_type": "code",
   "execution_count": 10,
   "metadata": {},
   "outputs": [],
   "source": [
    "stage_range = np.linspace(0.001, 1.5, 100)\n",
    "# put best fit results into a dataframe for plotting\n",
    "# use 0 as the PZF (point of zero flow) (the h0 parameter)\n",
    "bf_df = pd.DataFrame()\n",
    "bf_df['stage'] = stage_range\n",
    "\n",
    "# now as before, apply the `ols_rc_q` function to create the stage-discharge\n",
    "# curve based on the best-fit equation\n",
    "bf_df['best_fit_q'] = [ols_rc_q(log_slope, log_intercept, h, 0.0) for h in stage_range]\n",
    "bf_df.sort_values(by='stage', inplace=True)"
   ]
  },
  {
   "cell_type": "markdown",
   "metadata": {},
   "source": [
    "## Calculate Daily Average Discharge\n",
    "\n",
    "From the equation describing the ordinary least squares (OLS) best fit of the measured discharge,\n",
    "calculate daily average flow from daily average water level."
   ]
  },
  {
   "cell_type": "code",
   "execution_count": 11,
   "metadata": {},
   "outputs": [],
   "source": [
    "stage_df['RC Q (cms)'] = stage_df['Value'].apply(lambda h: ols_rc_q(log_slope, log_intercept, h, 0))\n",
    "stage_df['Date'] = stage_df.apply(lambda row: pd.to_datetime('{}-{}-{}'.format(row['year'], \n",
    "                                                                               row['month'],\n",
    "                                                                              row['day'])), axis=1)"
   ]
  },
  {
   "cell_type": "code",
   "execution_count": 12,
   "metadata": {},
   "outputs": [
    {
     "data": {
      "text/html": [
       "<div>\n",
       "<style scoped>\n",
       "    .dataframe tbody tr th:only-of-type {\n",
       "        vertical-align: middle;\n",
       "    }\n",
       "\n",
       "    .dataframe tbody tr th {\n",
       "        vertical-align: top;\n",
       "    }\n",
       "\n",
       "    .dataframe thead th {\n",
       "        text-align: right;\n",
       "    }\n",
       "</style>\n",
       "<table border=\"1\" class=\"dataframe\">\n",
       "  <thead>\n",
       "    <tr style=\"text-align: right;\">\n",
       "      <th></th>\n",
       "      <th>ID</th>\n",
       "      <th>PARAM</th>\n",
       "      <th>year</th>\n",
       "      <th>month</th>\n",
       "      <th>day</th>\n",
       "      <th>Value</th>\n",
       "      <th>RC Q (cms)</th>\n",
       "      <th>Date</th>\n",
       "    </tr>\n",
       "    <tr>\n",
       "      <th>Date</th>\n",
       "      <th></th>\n",
       "      <th></th>\n",
       "      <th></th>\n",
       "      <th></th>\n",
       "      <th></th>\n",
       "      <th></th>\n",
       "      <th></th>\n",
       "      <th></th>\n",
       "    </tr>\n",
       "  </thead>\n",
       "  <tbody>\n",
       "    <tr>\n",
       "      <th>2010-08-25</th>\n",
       "      <td>00XX000</td>\n",
       "      <td>2</td>\n",
       "      <td>2010</td>\n",
       "      <td>8</td>\n",
       "      <td>25</td>\n",
       "      <td>0.830</td>\n",
       "      <td>2.899688</td>\n",
       "      <td>2010-08-25</td>\n",
       "    </tr>\n",
       "    <tr>\n",
       "      <th>2010-08-26</th>\n",
       "      <td>00XX000</td>\n",
       "      <td>2</td>\n",
       "      <td>2010</td>\n",
       "      <td>8</td>\n",
       "      <td>26</td>\n",
       "      <td>0.876</td>\n",
       "      <td>3.155593</td>\n",
       "      <td>2010-08-26</td>\n",
       "    </tr>\n",
       "    <tr>\n",
       "      <th>2010-08-27</th>\n",
       "      <td>00XX000</td>\n",
       "      <td>2</td>\n",
       "      <td>2010</td>\n",
       "      <td>8</td>\n",
       "      <td>27</td>\n",
       "      <td>1.160</td>\n",
       "      <td>4.901088</td>\n",
       "      <td>2010-08-27</td>\n",
       "    </tr>\n",
       "    <tr>\n",
       "      <th>2010-08-28</th>\n",
       "      <td>00XX000</td>\n",
       "      <td>2</td>\n",
       "      <td>2010</td>\n",
       "      <td>8</td>\n",
       "      <td>28</td>\n",
       "      <td>0.867</td>\n",
       "      <td>3.104910</td>\n",
       "      <td>2010-08-28</td>\n",
       "    </tr>\n",
       "    <tr>\n",
       "      <th>2010-08-29</th>\n",
       "      <td>00XX000</td>\n",
       "      <td>2</td>\n",
       "      <td>2010</td>\n",
       "      <td>8</td>\n",
       "      <td>29</td>\n",
       "      <td>0.711</td>\n",
       "      <td>2.274967</td>\n",
       "      <td>2010-08-29</td>\n",
       "    </tr>\n",
       "    <tr>\n",
       "      <th>...</th>\n",
       "      <td>...</td>\n",
       "      <td>...</td>\n",
       "      <td>...</td>\n",
       "      <td>...</td>\n",
       "      <td>...</td>\n",
       "      <td>...</td>\n",
       "      <td>...</td>\n",
       "      <td>...</td>\n",
       "    </tr>\n",
       "    <tr>\n",
       "      <th>2012-06-27</th>\n",
       "      <td>00XX000</td>\n",
       "      <td>2</td>\n",
       "      <td>2012</td>\n",
       "      <td>6</td>\n",
       "      <td>27</td>\n",
       "      <td>1.950</td>\n",
       "      <td>11.065578</td>\n",
       "      <td>2012-06-27</td>\n",
       "    </tr>\n",
       "    <tr>\n",
       "      <th>2012-06-28</th>\n",
       "      <td>00XX000</td>\n",
       "      <td>2</td>\n",
       "      <td>2012</td>\n",
       "      <td>6</td>\n",
       "      <td>28</td>\n",
       "      <td>2.000</td>\n",
       "      <td>11.513670</td>\n",
       "      <td>2012-06-28</td>\n",
       "    </tr>\n",
       "    <tr>\n",
       "      <th>2012-06-29</th>\n",
       "      <td>00XX000</td>\n",
       "      <td>2</td>\n",
       "      <td>2012</td>\n",
       "      <td>6</td>\n",
       "      <td>29</td>\n",
       "      <td>2.380</td>\n",
       "      <td>15.123902</td>\n",
       "      <td>2012-06-29</td>\n",
       "    </tr>\n",
       "    <tr>\n",
       "      <th>2012-06-30</th>\n",
       "      <td>00XX000</td>\n",
       "      <td>2</td>\n",
       "      <td>2012</td>\n",
       "      <td>6</td>\n",
       "      <td>30</td>\n",
       "      <td>2.710</td>\n",
       "      <td>18.538791</td>\n",
       "      <td>2012-06-30</td>\n",
       "    </tr>\n",
       "    <tr>\n",
       "      <th>2012-07-01</th>\n",
       "      <td>00XX000</td>\n",
       "      <td>2</td>\n",
       "      <td>2012</td>\n",
       "      <td>7</td>\n",
       "      <td>1</td>\n",
       "      <td>3.020</td>\n",
       "      <td>21.970086</td>\n",
       "      <td>2012-07-01</td>\n",
       "    </tr>\n",
       "  </tbody>\n",
       "</table>\n",
       "<p>677 rows × 8 columns</p>\n",
       "</div>"
      ],
      "text/plain": [
       "                 ID  PARAM  year  month  day  Value  RC Q (cms)       Date\n",
       "Date                                                                      \n",
       "2010-08-25  00XX000      2  2010      8   25  0.830    2.899688 2010-08-25\n",
       "2010-08-26  00XX000      2  2010      8   26  0.876    3.155593 2010-08-26\n",
       "2010-08-27  00XX000      2  2010      8   27  1.160    4.901088 2010-08-27\n",
       "2010-08-28  00XX000      2  2010      8   28  0.867    3.104910 2010-08-28\n",
       "2010-08-29  00XX000      2  2010      8   29  0.711    2.274967 2010-08-29\n",
       "...             ...    ...   ...    ...  ...    ...         ...        ...\n",
       "2012-06-27  00XX000      2  2012      6   27  1.950   11.065578 2012-06-27\n",
       "2012-06-28  00XX000      2  2012      6   28  2.000   11.513670 2012-06-28\n",
       "2012-06-29  00XX000      2  2012      6   29  2.380   15.123902 2012-06-29\n",
       "2012-06-30  00XX000      2  2012      6   30  2.710   18.538791 2012-06-30\n",
       "2012-07-01  00XX000      2  2012      7    1  3.020   21.970086 2012-07-01\n",
       "\n",
       "[677 rows x 8 columns]"
      ]
     },
     "execution_count": 12,
     "metadata": {},
     "output_type": "execute_result"
    }
   ],
   "source": [
    "stage_df"
   ]
  },
  {
   "cell_type": "markdown",
   "metadata": {},
   "source": [
    "### Plot the Rating Curve and Resultant Flow Series"
   ]
  },
  {
   "cell_type": "markdown",
   "metadata": {},
   "source": [
    "The two plots below are linked.  Check the selection tools, and select points on one plot.  When validating data, it is helpful to be able to link the measurements on the rating curve plot and the daily flow series plot.  Consider how you would you check if the low flows were subject to a shift in the hydraulic control over time?    "
   ]
  },
  {
   "cell_type": "code",
   "execution_count": 14,
   "metadata": {},
   "outputs": [
    {
     "data": {
      "text/html": [
       "\n",
       "\n",
       "\n",
       "\n",
       "\n",
       "\n",
       "  <div class=\"bk-root\" id=\"99be4d57-572c-4dfd-8edb-306778dffdf0\" data-root-id=\"1579\"></div>\n"
      ]
     },
     "metadata": {},
     "output_type": "display_data"
    },
    {
     "data": {
      "application/javascript": [
       "(function(root) {\n",
       "  function embed_document(root) {\n",
       "    \n",
       "  var docs_json = {\"ad41b6f0-374b-491e-a2ee-9f2b66c78532\":{\"roots\":{\"references\":[{\"attributes\":{\"children\":[{\"id\":\"1578\"},{\"id\":\"1576\"}]},\"id\":\"1579\",\"type\":\"Column\"},{\"attributes\":{\"bottom_units\":\"screen\",\"fill_alpha\":0.5,\"fill_color\":\"lightgrey\",\"left_units\":\"screen\",\"level\":\"overlay\",\"line_alpha\":1.0,\"line_color\":\"black\",\"line_dash\":[4,4],\"line_width\":2,\"right_units\":\"screen\",\"top_units\":\"screen\"},\"id\":\"1478\",\"type\":\"BoxAnnotation\"},{\"attributes\":{\"data\":{\"Date\":{\"__ndarray__\":\"AABAzFrRckIAAMDzJddyQgAAgN2E+3JCAAAAt+8nc0IAAECgMzNzQgAAwBaVRHNCAADA/HRRc0IAAAAh3FhzQgAAgIPKWnNC\",\"dtype\":\"float64\",\"order\":\"little\",\"shape\":[9]},\"Flow (m^3/s)\":{\"__ndarray__\":\"XI/C9ShcEUAtsp3vp8bLP8P1KFyPwgtAH4XrUbgeEUAK16NwPQoSQIGVQ4ts5+8/16NwPQrXA0BI4XoUrkf1P6RwPQrXo/g/\",\"dtype\":\"float64\",\"order\":\"little\",\"shape\":[9]},\"index\":[0,1,2,3,4,5,6,7,8],\"water level (m above 0 flow ref)\":{\"__ndarray__\":\"FK5H4XoU8j/fT42XbhLDP1K4HoXrUfA/tvP91Hjp7j8fhetRuB7xPyYxCKwcWtw/I9v5fmq85D8rhxbZzvfjP1CNl24Sg+A/\",\"dtype\":\"float64\",\"order\":\"little\",\"shape\":[9]}},\"selected\":{\"id\":\"1431\"},\"selection_policy\":{\"id\":\"1430\"}},\"id\":\"1384\",\"type\":\"ColumnDataSource\"},{\"attributes\":{},\"id\":\"1508\",\"type\":\"UnionRenderers\"},{\"attributes\":{},\"id\":\"1509\",\"type\":\"Selection\"},{\"attributes\":{},\"id\":\"1430\",\"type\":\"UnionRenderers\"},{\"attributes\":{},\"id\":\"1431\",\"type\":\"Selection\"},{\"attributes\":{},\"id\":\"1398\",\"type\":\"BasicTicker\"},{\"attributes\":{\"fill_alpha\":{\"value\":0.5},\"fill_color\":{\"value\":\"red\"},\"line_alpha\":{\"value\":0.5},\"line_color\":{\"value\":\"red\"},\"size\":{\"units\":\"screen\",\"value\":5},\"x\":{\"field\":\"Flow (m^3/s)\"},\"y\":{\"field\":\"water level (m above 0 flow ref)\"}},\"id\":\"1421\",\"type\":\"Circle\"},{\"attributes\":{\"items\":[{\"id\":\"1512\"},{\"id\":\"1540\"}],\"location\":\"top_left\"},\"id\":\"1511\",\"type\":\"Legend\"},{\"attributes\":{\"line_alpha\":0.1,\"line_color\":\"dodgerblue\",\"x\":{\"field\":\"Date\"},\"y\":{\"field\":\"RC Q (cms)\"}},\"id\":\"1488\",\"type\":\"Line\"},{\"attributes\":{\"source\":{\"id\":\"1385\"}},\"id\":\"1490\",\"type\":\"CDSView\"},{\"attributes\":{\"label\":{\"value\":\"OLS-based RC Flow\"},\"renderers\":[{\"id\":\"1489\"}]},\"id\":\"1512\",\"type\":\"LegendItem\"},{\"attributes\":{\"source\":{\"id\":\"1436\"}},\"id\":\"1440\",\"type\":\"CDSView\"},{\"attributes\":{\"below\":[{\"id\":\"1464\"}],\"center\":[{\"id\":\"1467\"},{\"id\":\"1471\"},{\"id\":\"1511\"}],\"left\":[{\"id\":\"1468\"}],\"plot_height\":400,\"plot_width\":550,\"renderers\":[{\"id\":\"1489\"},{\"id\":\"1516\"}],\"title\":{\"id\":\"1454\"},\"toolbar\":{\"id\":\"1479\"},\"toolbar_location\":null,\"x_range\":{\"id\":\"1456\"},\"x_scale\":{\"id\":\"1460\"},\"y_range\":{\"id\":\"1458\"},\"y_scale\":{\"id\":\"1462\"}},\"id\":\"1453\",\"subtype\":\"Figure\",\"type\":\"Plot\"},{\"attributes\":{\"line_color\":\"green\",\"x\":{\"field\":\"x\"},\"y\":{\"field\":\"y\"}},\"id\":\"1437\",\"type\":\"Line\"},{\"attributes\":{\"label\":{\"value\":\"OLS Fit\"},\"renderers\":[{\"id\":\"1439\"}]},\"id\":\"1452\",\"type\":\"LegendItem\"},{\"attributes\":{\"line_color\":\"dodgerblue\",\"x\":{\"field\":\"Date\"},\"y\":{\"field\":\"RC Q (cms)\"}},\"id\":\"1487\",\"type\":\"Line\"},{\"attributes\":{\"line_alpha\":0.1,\"line_color\":\"green\",\"x\":{\"field\":\"x\"},\"y\":{\"field\":\"y\"}},\"id\":\"1438\",\"type\":\"Line\"},{\"attributes\":{},\"id\":\"1493\",\"type\":\"DatetimeTickFormatter\"},{\"attributes\":{},\"id\":\"1456\",\"type\":\"DataRange1d\"},{\"attributes\":{},\"id\":\"1495\",\"type\":\"BasicTickFormatter\"},{\"attributes\":{},\"id\":\"1458\",\"type\":\"DataRange1d\"},{\"attributes\":{\"source\":{\"id\":\"1384\"}},\"id\":\"1517\",\"type\":\"CDSView\"},{\"attributes\":{\"below\":[{\"id\":\"1397\"}],\"center\":[{\"id\":\"1400\"},{\"id\":\"1404\"},{\"id\":\"1434\"}],\"left\":[{\"id\":\"1401\"}],\"plot_height\":400,\"plot_width\":550,\"renderers\":[{\"id\":\"1423\"},{\"id\":\"1439\"}],\"title\":{\"id\":\"1387\"},\"toolbar\":{\"id\":\"1413\"},\"toolbar_location\":null,\"x_range\":{\"id\":\"1389\"},\"x_scale\":{\"id\":\"1393\"},\"y_range\":{\"id\":\"1391\"},\"y_scale\":{\"id\":\"1395\"}},\"id\":\"1386\",\"subtype\":\"Figure\",\"type\":\"Plot\"},{\"attributes\":{\"fill_alpha\":{\"value\":0.1},\"fill_color\":{\"value\":\"red\"},\"line_alpha\":{\"value\":0.1},\"line_color\":{\"value\":\"red\"},\"size\":{\"units\":\"screen\",\"value\":5},\"x\":{\"field\":\"Date\"},\"y\":{\"field\":\"Flow (m^3/s)\"}},\"id\":\"1515\",\"type\":\"Circle\"},{\"attributes\":{\"data_source\":{\"id\":\"1384\"},\"glyph\":{\"id\":\"1514\"},\"hover_glyph\":null,\"muted_glyph\":null,\"nonselection_glyph\":{\"id\":\"1515\"},\"selection_glyph\":null,\"view\":{\"id\":\"1517\"}},\"id\":\"1516\",\"type\":\"GlyphRenderer\"},{\"attributes\":{},\"id\":\"1448\",\"type\":\"UnionRenderers\"},{\"attributes\":{},\"id\":\"1449\",\"type\":\"Selection\"},{\"attributes\":{\"text\":\"Rating Curve Plot\"},\"id\":\"1387\",\"type\":\"Title\"},{\"attributes\":{\"label\":{\"value\":\"Measured Q\"},\"renderers\":[{\"id\":\"1516\"}]},\"id\":\"1540\",\"type\":\"LegendItem\"},{\"attributes\":{\"data\":{\"Date\":{\"__ndarray__\":\"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\",\"dtype\":\"float64\",\"order\":\"little\",\"shape\":[677]},\"ID\":[\"00XX000\",\"00XX000\",\"00XX000\",\"00XX000\",\"00XX000\",\"00XX000\",\"00XX000\",\"00XX000\",\"00XX000\",\"00XX000\",\"00XX000\",\"00XX000\",\"00XX000\",\"00XX000\",\"00XX000\",\"00XX000\",\"00XX000\",\"00XX000\",\"00XX000\",\"00XX000\",\"00XX000\",\"00XX000\",\"00XX000\",\"00XX000\",\"00XX000\",\"00XX000\",\"00XX000\",\"00XX000\",\"00XX000\",\"00XX000\",\"00XX000\",\"00XX000\",\"00XX000\",\"00XX000\",\"00XX000\",\"00XX000\",\"00XX000\",\"00XX000\",\"00XX000\",\"00XX000\",\"00XX000\",\"00XX000\",\"00XX000\",\"00XX000\",\"00XX000\",\"00XX000\",\"00XX000\",\"00XX000\",\"00XX000\",\"00XX000\",\"00XX000\",\"00XX000\",\"00XX000\",\"00XX000\",\"00XX000\",\"00XX000\",\"00XX000\",\"00XX000\",\"00XX000\",\"00XX000\",\"00XX000\",\"00XX000\",\"00XX000\",\"00XX000\",\"00XX000\",\"00XX000\",\"00XX000\",\"00XX000\",\"00XX000\",\"00XX000\",\"00XX000\",\"00XX000\",\"00XX000\",\"00XX000\",\"00XX000\",\"00XX000\",\"00XX000\",\"00XX000\",\"00XX000\",\"00XX000\",\"00XX000\",\"00XX000\",\"00XX000\",\"00XX000\",\"00XX000\",\"00XX000\",\"00XX000\",\"00XX000\",\"00XX000\",\"00XX000\",\"00XX000\",\"00XX000\",\"00XX000\",\"00XX000\",\"00XX000\",\"00XX000\",\"00XX000\",\"00XX000\",\"00XX000\",\"00XX000\",\"00XX000\",\"00XX000\",\"00XX000\",\"00XX000\",\"00XX000\",\"00XX000\",\"00XX000\",\"00XX000\",\"00XX000\",\"00XX000\",\"00XX000\",\"00XX000\",\"00XX000\",\"00XX000\",\"00XX000\",\"00XX000\",\"00XX000\",\"00XX000\",\"00XX000\",\"00XX000\",\"00XX000\",\"00XX000\",\"00XX000\",\"00XX000\",\"00XX000\",\"00XX000\",\"00XX000\",\"00XX000\",\"00XX000\",\"00XX000\",\"00XX000\",\"00XX000\",\"00XX000\",\"00XX000\",\"00XX000\",\"00XX000\",\"00XX000\",\"00XX000\",\"00XX000\",\"00XX000\",\"00XX000\",\"00XX000\",\"00XX000\",\"00XX000\",\"00XX000\",\"00XX000\",\"00XX000\",\"00XX000\",\"00XX000\",\"00XX000\",\"00XX000\",\"00XX000\",\"00XX000\",\"00XX000\",\"00XX000\",\"00XX000\",\"00XX000\",\"00XX000\",\"00XX000\",\"00XX000\",\"00XX000\",\"00XX000\",\"00XX000\",\"00XX000\",\"00XX000\",\"00XX000\",\"00XX000\",\"00XX000\",\"00XX000\",\"00XX000\",\"00XX000\",\"00XX000\",\"00XX000\",\"00XX000\",\"00XX000\",\"00XX000\",\"00XX000\",\"00XX000\",\"00XX000\",\"00XX000\",\"00XX000\",\"00XX000\",\"00XX000\",\"00XX000\",\"00XX000\",\"00XX000\",\"00XX000\",\"00XX000\",\"00XX000\",\"00XX000\",\"00XX000\",\"00XX000\",\"00XX000\",\"00XX000\",\"00XX000\",\"00XX000\",\"00XX000\",\"00XX000\",\"00XX000\",\"00XX000\",\"00XX000\",\"00XX000\",\"00XX000\",\"00XX000\",\"00XX000\",\"00XX000\",\"00XX000\",\"00XX000\",\"00XX000\",\"00XX000\",\"00XX000\",\"00XX000\",\"00XX000\",\"00XX000\",\"00XX000\",\"00XX000\",\"00XX000\",\"00XX000\",\"00XX000\",\"00XX000\",\"00XX000\",\"00XX000\",\"00XX000\",\"00XX000\",\"00XX000\",\"00XX000\",\"00XX000\",\"00XX000\",\"00XX000\",\"00XX000\",\"00XX000\",\"00XX000\",\"00XX000\",\"00XX000\",\"00XX000\",\"00XX000\",\"00XX000\",\"00XX000\",\"00XX000\",\"00XX000\",\"00XX000\",\"00XX000\",\"00XX000\",\"00XX000\",\"00XX000\",\"00XX000\",\"00XX000\",\"00XX000\",\"00XX000\",\"00XX000\",\"00XX000\",\"00XX000\",\"00XX000\",\"00XX000\",\"00XX000\",\"00XX000\",\"00XX000\",\"00XX000\",\"00XX000\",\"00XX000\",\"00XX000\",\"00XX000\",\"00XX000\",\"00XX000\",\"00XX000\",\"00XX000\",\"00XX000\",\"00XX000\",\"00XX000\",\"00XX000\",\"00XX000\",\"00XX000\",\"00XX000\",\"00XX000\",\"00XX000\",\"00XX000\",\"00XX000\",\"00XX000\",\"00XX000\",\"00XX000\",\"00XX000\",\"00XX000\",\"00XX000\",\"00XX000\",\"00XX000\",\"00XX000\",\"00XX000\",\"00XX000\",\"00XX000\",\"00XX000\",\"00XX000\",\"00XX000\",\"00XX000\",\"00XX000\",\"00XX000\",\"00XX000\",\"00XX000\",\"00XX000\",\"00XX000\",\"00XX000\",\"00XX000\",\"00XX000\",\"00XX000\",\"00XX000\",\"00XX000\",\"00XX000\",\"00XX000\",\"00XX000\",\"00XX000\",\"00XX000\",\"00XX000\",\"00XX000\",\"00XX000\",\"00XX000\",\"00XX000\",\"00XX000\",\"00XX000\",\"00XX000\",\"00XX000\",\"00XX000\",\"00XX000\",\"00XX000\",\"00XX000\",\"00XX000\",\"00XX000\",\"00XX000\",\"00XX000\",\"00XX000\",\"00XX000\",\"00XX000\",\"00XX000\",\"00XX000\",\"00XX000\",\"00XX000\",\"00XX000\",\"00XX000\",\"00XX000\",\"00XX000\",\"00XX000\",\"00XX000\",\"00XX000\",\"00XX000\",\"00XX000\",\"00XX000\",\"00XX000\",\"00XX000\",\"00XX000\",\"00XX000\",\"00XX000\",\"00XX000\",\"00XX000\",\"00XX000\",\"00XX000\",\"00XX000\",\"00XX000\",\"00XX000\",\"00XX000\",\"00XX000\",\"00XX000\",\"00XX000\",\"00XX000\",\"00XX000\",\"00XX000\",\"00XX000\",\"00XX000\",\"00XX000\",\"00XX000\",\"00XX000\",\"00XX000\",\"00XX000\",\"00XX000\",\"00XX000\",\"00XX000\",\"00XX000\",\"00XX000\",\"00XX000\",\"00XX000\",\"00XX000\",\"00XX000\",\"00XX000\",\"00XX000\",\"00XX000\",\"00XX000\",\"00XX000\",\"00XX000\",\"00XX000\",\"00XX000\",\"00XX000\",\"00XX000\",\"00XX000\",\"00XX000\",\"00XX000\",\"00XX000\",\"00XX000\",\"00XX000\",\"00XX000\",\"00XX000\",\"00XX000\",\"00XX000\",\"00XX000\",\"00XX000\",\"00XX000\",\"00XX000\",\"00XX000\",\"00XX000\",\"00XX000\",\"00XX000\",\"00XX000\",\"00XX000\",\"00XX000\",\"00XX000\",\"00XX000\",\"00XX000\",\"00XX000\",\"00XX000\",\"00XX000\",\"00XX000\",\"00XX000\",\"00XX000\",\"00XX000\",\"00XX000\",\"00XX000\",\"00XX000\",\"00XX000\",\"00XX000\",\"00XX000\",\"00XX000\",\"00XX000\",\"00XX000\",\"00XX000\",\"00XX000\",\"00XX000\",\"00XX000\",\"00XX000\",\"00XX000\",\"00XX000\",\"00XX000\",\"00XX000\",\"00XX000\",\"00XX000\",\"00XX000\",\"00XX000\",\"00XX000\",\"00XX000\",\"00XX000\",\"00XX000\",\"00XX000\",\"00XX000\",\"00XX000\",\"00XX000\",\"00XX000\",\"00XX000\",\"00XX000\",\"00XX000\",\"00XX000\",\"00XX000\",\"00XX000\",\"00XX000\",\"00XX000\",\"00XX000\",\"00XX000\",\"00XX000\",\"00XX000\",\"00XX000\",\"00XX000\",\"00XX000\",\"00XX000\",\"00XX000\",\"00XX000\",\"00XX000\",\"00XX000\",\"00XX000\",\"00XX000\",\"00XX000\",\"00XX000\",\"00XX000\",\"00XX000\",\"00XX000\",\"00XX000\",\"00XX000\",\"00XX000\",\"00XX000\",\"00XX000\",\"00XX000\",\"00XX000\",\"00XX000\",\"00XX000\",\"00XX000\",\"00XX000\",\"00XX000\",\"00XX000\",\"00XX000\",\"00XX000\",\"00XX000\",\"00XX000\",\"00XX000\",\"00XX000\",\"00XX000\",\"00XX000\",\"00XX000\",\"00XX000\",\"00XX000\",\"00XX000\",\"00XX000\",\"00XX000\",\"00XX000\",\"00XX000\",\"00XX000\",\"00XX000\",\"00XX000\",\"00XX000\",\"00XX000\",\"00XX000\",\"00XX000\",\"00XX000\",\"00XX000\",\"00XX000\",\"00XX000\",\"00XX000\",\"00XX000\",\"00XX000\",\"00XX000\",\"00XX000\",\"00XX000\",\"00XX000\",\"00XX000\",\"00XX000\",\"00XX000\",\"00XX000\",\"00XX000\",\"00XX000\",\"00XX000\",\"00XX000\",\"00XX000\",\"00XX000\",\"00XX000\",\"00XX000\",\"00XX000\",\"00XX000\",\"00XX000\",\"00XX000\",\"00XX000\",\"00XX000\",\"00XX000\",\"00XX000\",\"00XX000\",\"00XX000\",\"00XX000\",\"00XX000\",\"00XX000\",\"00XX000\",\"00XX000\",\"00XX000\",\"00XX000\",\"00XX000\",\"00XX000\",\"00XX000\",\"00XX000\",\"00XX000\",\"00XX000\",\"00XX000\",\"00XX000\",\"00XX000\",\"00XX000\",\"00XX000\",\"00XX000\",\"00XX000\",\"00XX000\",\"00XX000\",\"00XX000\",\"00XX000\",\"00XX000\",\"00XX000\",\"00XX000\",\"00XX000\",\"00XX000\",\"00XX000\",\"00XX000\",\"00XX000\",\"00XX000\",\"00XX000\",\"00XX000\",\"00XX000\",\"00XX000\",\"00XX000\",\"00XX000\",\"00XX000\",\"00XX000\",\"00XX000\",\"00XX000\",\"00XX000\",\"00XX000\",\"00XX000\",\"00XX000\",\"00XX000\",\"00XX000\",\"00XX000\",\"00XX000\",\"00XX000\",\"00XX000\",\"00XX000\",\"00XX000\",\"00XX000\",\"00XX000\",\"00XX000\",\"00XX000\",\"00XX000\",\"00XX000\",\"00XX000\",\"00XX000\",\"00XX000\",\"00XX000\",\"00XX000\",\"00XX000\",\"00XX000\",\"00XX000\",\"00XX000\",\"00XX000\",\"00XX000\",\"00XX000\",\"00XX000\",\"00XX000\",\"00XX000\",\"00XX000\",\"00XX000\",\"00XX000\",\"00XX000\",\"00XX000\",\"00XX000\",\"00XX000\",\"00XX000\",\"00XX000\",\"00XX000\",\"00XX000\",\"00XX000\",\"00XX000\",\"00XX000\",\"00XX000\",\"00XX000\",\"00XX000\",\"00XX000\",\"00XX000\",\"00XX000\",\"00XX000\",\"00XX000\",\"00XX000\",\"00XX000\",\"00XX000\",\"00XX000\",\"00XX000\",\"00XX000\",\"00XX000\",\"00XX000\",\"00XX000\",\"00XX000\",\"00XX000\",\"00XX000\",\"00XX000\",\"00XX000\",\"00XX000\",\"00XX000\",\"00XX000\",\"00XX000\",\"00XX000\",\"00XX000\",\"00XX000\",\"00XX000\",\"00XX000\",\"00XX000\",\"00XX000\",\"00XX000\",\"00XX000\",\"00XX000\",\"00XX000\",\"00XX000\",\"00XX000\",\"00XX000\"],\"PARAM\":[2,2,2,2,2,2,2,2,2,2,2,2,2,2,2,2,2,2,2,2,2,2,2,2,2,2,2,2,2,2,2,2,2,2,2,2,2,2,2,2,2,2,2,2,2,2,2,2,2,2,2,2,2,2,2,2,2,2,2,2,2,2,2,2,2,2,2,2,2,2,2,2,2,2,2,2,2,2,2,2,2,2,2,2,2,2,2,2,2,2,2,2,2,2,2,2,2,2,2,2,2,2,2,2,2,2,2,2,2,2,2,2,2,2,2,2,2,2,2,2,2,2,2,2,2,2,2,2,2,2,2,2,2,2,2,2,2,2,2,2,2,2,2,2,2,2,2,2,2,2,2,2,2,2,2,2,2,2,2,2,2,2,2,2,2,2,2,2,2,2,2,2,2,2,2,2,2,2,2,2,2,2,2,2,2,2,2,2,2,2,2,2,2,2,2,2,2,2,2,2,2,2,2,2,2,2,2,2,2,2,2,2,2,2,2,2,2,2,2,2,2,2,2,2,2,2,2,2,2,2,2,2,2,2,2,2,2,2,2,2,2,2,2,2,2,2,2,2,2,2,2,2,2,2,2,2,2,2,2,2,2,2,2,2,2,2,2,2,2,2,2,2,2,2,2,2,2,2,2,2,2,2,2,2,2,2,2,2,2,2,2,2,2,2,2,2,2,2,2,2,2,2,2,2,2,2,2,2,2,2,2,2,2,2,2,2,2,2,2,2,2,2,2,2,2,2,2,2,2,2,2,2,2,2,2,2,2,2,2,2,2,2,2,2,2,2,2,2,2,2,2,2,2,2,2,2,2,2,2,2,2,2,2,2,2,2,2,2,2,2,2,2,2,2,2,2,2,2,2,2,2,2,2,2,2,2,2,2,2,2,2,2,2,2,2,2,2,2,2,2,2,2,2,2,2,2,2,2,2,2,2,2,2,2,2,2,2,2,2,2,2,2,2,2,2,2,2,2,2,2,2,2,2,2,2,2,2,2,2,2,2,2,2,2,2,2,2,2,2,2,2,2,2,2,2,2,2,2,2,2,2,2,2,2,2,2,2,2,2,2,2,2,2,2,2,2,2,2,2,2,2,2,2,2,2,2,2,2,2,2,2,2,2,2,2,2,2,2,2,2,2,2,2,2,2,2,2,2,2,2,2,2,2,2,2,2,2,2,2,2,2,2,2,2,2,2,2,2,2,2,2,2,2,2,2,2,2,2,2,2,2,2,2,2,2,2,2,2,2,2,2,2,2,2,2,2,2,2,2,2,2,2,2,2,2,2,2,2,2,2,2,2,2,2,2,2,2,2,2,2,2,2,2,2,2,2,2,2,2,2,2,2,2,2,2,2,2,2,2,2,2,2,2,2,2,2,2,2,2,2,2,2,2,2,2,2,2,2,2,2,2,2,2,2,2,2,2,2,2,2,2,2,2,2,2,2,2,2,2,2,2,2,2,2,2,2,2,2,2,2,2,2,2,2,2,2,2,2,2,2,2,2,2,2,2,2,2,2,2,2,2,2,2,2,2,2,2],\"RC Q (cms)\":{\"__ndarray__\":\"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\",\"dtype\":\"float64\",\"order\":\"little\",\"shape\":[677]},\"Value\":{\"__ndarray__\":\"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\",\"dtype\":\"float64\",\"order\":\"little\",\"shape\":[677]},\"day\":[25,26,27,28,29,30,31,1,2,3,4,5,6,7,8,9,10,11,12,13,14,15,16,17,18,19,20,21,22,23,24,25,26,27,28,29,30,1,2,3,4,5,6,7,8,9,10,11,12,13,14,15,16,17,18,19,20,21,22,23,24,25,26,27,28,29,30,31,1,2,3,4,5,6,7,8,9,10,11,12,13,14,15,16,17,18,19,20,21,22,23,24,25,26,27,28,29,30,1,2,3,4,5,6,7,8,9,10,11,12,13,14,15,16,17,18,19,20,21,22,23,24,25,26,27,28,29,30,31,1,2,3,4,5,6,7,8,9,10,11,12,13,14,15,16,17,18,19,20,21,22,23,24,25,26,27,28,29,30,31,1,2,3,4,5,6,7,8,9,10,11,12,13,14,15,16,17,18,19,20,21,22,23,24,25,26,27,28,1,2,3,4,5,6,7,8,9,10,11,12,13,14,15,16,17,18,19,20,21,22,23,24,25,26,27,28,29,30,31,1,2,3,4,5,6,7,8,9,10,11,12,13,14,15,16,17,18,19,20,21,22,23,24,25,26,27,28,29,30,1,2,3,4,5,6,7,8,9,10,11,12,13,14,15,16,17,18,19,20,21,22,23,24,25,26,27,28,29,30,31,1,2,3,4,5,6,7,8,9,10,11,12,13,14,15,16,17,18,19,20,21,22,23,24,25,26,27,28,29,30,1,2,3,4,5,6,7,8,9,10,11,12,13,14,15,16,17,18,19,20,21,22,23,24,25,26,27,28,29,30,31,1,2,3,4,5,6,7,8,9,10,11,12,13,14,15,16,17,18,19,20,21,22,23,24,25,26,27,28,29,30,31,1,2,3,4,5,6,7,8,9,10,11,12,13,14,15,16,17,18,19,20,21,22,23,24,25,26,27,28,29,30,1,2,3,4,5,6,7,8,9,10,11,12,13,14,15,16,17,18,19,20,21,22,23,24,25,26,27,28,29,30,31,1,2,3,4,5,6,7,8,9,10,11,12,13,14,15,16,17,18,19,20,21,22,23,24,25,26,27,28,29,30,1,2,3,4,5,6,7,8,9,10,11,12,13,14,15,16,17,18,19,20,21,22,23,24,25,26,27,28,29,30,31,1,2,3,4,5,6,7,8,9,10,11,12,13,14,15,16,17,18,19,20,21,22,23,24,25,26,27,28,29,30,31,1,2,3,4,5,6,7,8,9,10,11,12,13,14,15,16,17,18,19,20,21,22,23,24,25,26,27,28,29,1,2,3,4,5,6,7,8,9,10,11,12,13,14,15,16,17,18,19,20,21,22,23,24,25,26,27,28,29,30,31,1,2,3,4,5,6,7,8,9,10,11,12,13,14,15,16,17,18,19,20,21,22,23,24,25,26,27,28,29,30,1,2,3,4,5,6,7,8,9,10,11,12,13,14,15,16,17,18,19,20,21,22,23,24,25,26,27,28,29,30,31,1,2,3,4,5,6,7,8,9,10,11,12,13,14,15,16,17,18,19,20,21,22,23,24,25,26,27,28,29,30,1],\"index\":[0,1,2,3,4,5,6,7,8,9,10,11,12,13,14,15,16,17,18,19,20,21,22,23,24,25,26,27,28,29,30,31,32,33,34,35,36,37,38,39,40,41,42,43,44,45,46,47,48,49,50,51,52,53,54,55,56,57,58,59,60,61,62,63,64,65,66,67,68,69,70,71,72,73,74,75,76,77,78,79,80,81,82,83,84,85,86,87,88,89,90,91,92,93,94,95,96,97,98,99,100,101,102,103,104,105,106,107,108,109,110,111,112,113,114,115,116,117,118,119,120,121,122,123,124,125,126,127,128,129,130,131,132,133,134,135,136,137,138,139,140,141,142,143,144,145,146,147,148,149,150,151,152,153,154,155,156,157,158,159,160,161,162,163,164,165,166,167,168,169,170,171,172,173,174,175,176,177,178,179,180,181,182,183,184,185,186,187,188,189,190,191,192,193,194,195,196,197,198,199,200,201,202,203,204,205,206,207,208,209,210,211,212,213,214,215,216,217,218,219,220,221,222,223,224,225,226,227,228,229,230,231,232,233,234,235,236,237,238,239,240,241,242,243,244,245,246,247,248,249,250,251,252,253,254,255,256,257,258,259,260,261,262,263,264,265,266,267,268,269,270,271,272,273,274,275,276,277,278,279,280,281,282,283,284,285,286,287,288,289,290,291,292,293,294,295,296,297,298,299,300,301,302,303,304,305,306,307,308,309,310,311,312,313,314,315,316,317,318,319,320,321,322,323,324,325,326,327,328,329,330,331,332,333,334,335,336,337,338,339,340,341,342,343,344,345,346,347,348,349,350,351,352,353,354,355,356,357,358,359,360,361,362,363,364,365,366,367,368,369,370,371,372,373,374,375,376,377,378,379,380,381,382,383,384,385,386,387,388,389,390,391,392,393,394,395,396,397,398,399,400,401,402,403,404,405,406,407,408,409,410,411,412,413,414,415,416,417,418,419,420,421,422,423,424,425,426,427,428,429,430,431,432,433,434,435,436,437,438,439,440,441,442,443,444,445,446,447,448,449,450,451,452,453,454,455,456,457,458,459,460,461,462,463,464,465,466,467,468,469,470,471,472,473,474,475,476,477,478,479,480,481,482,483,484,485,486,487,488,489,490,491,492,493,494,495,496,497,498,499,500,501,502,503,504,505,506,507,508,509,510,511,512,513,514,515,516,517,518,519,520,521,522,523,524,525,526,527,528,529,530,531,532,533,534,535,536,537,538,539,540,541,542,543,544,545,546,547,548,549,550,551,552,553,554,555,556,557,558,559,560,561,562,563,564,565,566,567,568,569,570,571,572,573,574,575,576,577,578,579,580,581,582,583,584,585,586,587,588,589,590,591,592,593,594,595,596,597,598,599,600,601,602,603,604,605,606,607,608,609,610,611,612,613,614,615,616,617,618,619,620,621,622,623,624,625,626,627,628,629,630,631,632,633,634,635,636,637,638,639,640,641,642,643,644,645,646,647,648,649,650,651,652,653,654,655,656,657,658,659,660,661,662,663,664,665,666,667,668,669,670,671,672,673,674,675,676],\"month\":[8,8,8,8,8,8,8,9,9,9,9,9,9,9,9,9,9,9,9,9,9,9,9,9,9,9,9,9,9,9,9,9,9,9,9,9,9,10,10,10,10,10,10,10,10,10,10,10,10,10,10,10,10,10,10,10,10,10,10,10,10,10,10,10,10,10,10,10,11,11,11,11,11,11,11,11,11,11,11,11,11,11,11,11,11,11,11,11,11,11,11,11,11,11,11,11,11,11,12,12,12,12,12,12,12,12,12,12,12,12,12,12,12,12,12,12,12,12,12,12,12,12,12,12,12,12,12,12,12,1,1,1,1,1,1,1,1,1,1,1,1,1,1,1,1,1,1,1,1,1,1,1,1,1,1,1,1,1,1,1,2,2,2,2,2,2,2,2,2,2,2,2,2,2,2,2,2,2,2,2,2,2,2,2,2,2,2,2,3,3,3,3,3,3,3,3,3,3,3,3,3,3,3,3,3,3,3,3,3,3,3,3,3,3,3,3,3,3,3,4,4,4,4,4,4,4,4,4,4,4,4,4,4,4,4,4,4,4,4,4,4,4,4,4,4,4,4,4,4,5,5,5,5,5,5,5,5,5,5,5,5,5,5,5,5,5,5,5,5,5,5,5,5,5,5,5,5,5,5,5,6,6,6,6,6,6,6,6,6,6,6,6,6,6,6,6,6,6,6,6,6,6,6,6,6,6,6,6,6,6,7,7,7,7,7,7,7,7,7,7,7,7,7,7,7,7,7,7,7,7,7,7,7,7,7,7,7,7,7,7,7,8,8,8,8,8,8,8,8,8,8,8,8,8,8,8,8,8,8,8,8,8,8,8,8,8,8,8,8,8,8,8,9,9,9,9,9,9,9,9,9,9,9,9,9,9,9,9,9,9,9,9,9,9,9,9,9,9,9,9,9,9,10,10,10,10,10,10,10,10,10,10,10,10,10,10,10,10,10,10,10,10,10,10,10,10,10,10,10,10,10,10,10,11,11,11,11,11,11,11,11,11,11,11,11,11,11,11,11,11,11,11,11,11,11,11,11,11,11,11,11,11,11,12,12,12,12,12,12,12,12,12,12,12,12,12,12,12,12,12,12,12,12,12,12,12,12,12,12,12,12,12,12,12,1,1,1,1,1,1,1,1,1,1,1,1,1,1,1,1,1,1,1,1,1,1,1,1,1,1,1,1,1,1,1,2,2,2,2,2,2,2,2,2,2,2,2,2,2,2,2,2,2,2,2,2,2,2,2,2,2,2,2,2,3,3,3,3,3,3,3,3,3,3,3,3,3,3,3,3,3,3,3,3,3,3,3,3,3,3,3,3,3,3,3,4,4,4,4,4,4,4,4,4,4,4,4,4,4,4,4,4,4,4,4,4,4,4,4,4,4,4,4,4,4,5,5,5,5,5,5,5,5,5,5,5,5,5,5,5,5,5,5,5,5,5,5,5,5,5,5,5,5,5,5,5,6,6,6,6,6,6,6,6,6,6,6,6,6,6,6,6,6,6,6,6,6,6,6,6,6,6,6,6,6,6,7],\"year\":[2010,2010,2010,2010,2010,2010,2010,2010,2010,2010,2010,2010,2010,2010,2010,2010,2010,2010,2010,2010,2010,2010,2010,2010,2010,2010,2010,2010,2010,2010,2010,2010,2010,2010,2010,2010,2010,2010,2010,2010,2010,2010,2010,2010,2010,2010,2010,2010,2010,2010,2010,2010,2010,2010,2010,2010,2010,2010,2010,2010,2010,2010,2010,2010,2010,2010,2010,2010,2010,2010,2010,2010,2010,2010,2010,2010,2010,2010,2010,2010,2010,2010,2010,2010,2010,2010,2010,2010,2010,2010,2010,2010,2010,2010,2010,2010,2010,2010,2010,2010,2010,2010,2010,2010,2010,2010,2010,2010,2010,2010,2010,2010,2010,2010,2010,2010,2010,2010,2010,2010,2010,2010,2010,2010,2010,2010,2010,2010,2010,2011,2011,2011,2011,2011,2011,2011,2011,2011,2011,2011,2011,2011,2011,2011,2011,2011,2011,2011,2011,2011,2011,2011,2011,2011,2011,2011,2011,2011,2011,2011,2011,2011,2011,2011,2011,2011,2011,2011,2011,2011,2011,2011,2011,2011,2011,2011,2011,2011,2011,2011,2011,2011,2011,2011,2011,2011,2011,2011,2011,2011,2011,2011,2011,2011,2011,2011,2011,2011,2011,2011,2011,2011,2011,2011,2011,2011,2011,2011,2011,2011,2011,2011,2011,2011,2011,2011,2011,2011,2011,2011,2011,2011,2011,2011,2011,2011,2011,2011,2011,2011,2011,2011,2011,2011,2011,2011,2011,2011,2011,2011,2011,2011,2011,2011,2011,2011,2011,2011,2011,2011,2011,2011,2011,2011,2011,2011,2011,2011,2011,2011,2011,2011,2011,2011,2011,2011,2011,2011,2011,2011,2011,2011,2011,2011,2011,2011,2011,2011,2011,2011,2011,2011,2011,2011,2011,2011,2011,2011,2011,2011,2011,2011,2011,2011,2011,2011,2011,2011,2011,2011,2011,2011,2011,2011,2011,2011,2011,2011,2011,2011,2011,2011,2011,2011,2011,2011,2011,2011,2011,2011,2011,2011,2011,2011,2011,2011,2011,2011,2011,2011,2011,2011,2011,2011,2011,2011,2011,2011,2011,2011,2011,2011,2011,2011,2011,2011,2011,2011,2011,2011,2011,2011,2011,2011,2011,2011,2011,2011,2011,2011,2011,2011,2011,2011,2011,2011,2011,2011,2011,2011,2011,2011,2011,2011,2011,2011,2011,2011,2011,2011,2011,2011,2011,2011,2011,2011,2011,2011,2011,2011,2011,2011,2011,2011,2011,2011,2011,2011,2011,2011,2011,2011,2011,2011,2011,2011,2011,2011,2011,2011,2011,2011,2011,2011,2011,2011,2011,2011,2011,2011,2011,2011,2011,2011,2011,2011,2011,2011,2011,2011,2011,2011,2011,2011,2011,2011,2011,2011,2011,2011,2011,2011,2011,2011,2011,2011,2011,2011,2011,2011,2011,2011,2011,2011,2011,2011,2011,2011,2011,2011,2011,2011,2011,2011,2011,2011,2011,2011,2011,2011,2011,2011,2011,2011,2011,2011,2011,2011,2011,2011,2011,2011,2011,2011,2011,2011,2011,2011,2011,2011,2011,2011,2011,2011,2012,2012,2012,2012,2012,2012,2012,2012,2012,2012,2012,2012,2012,2012,2012,2012,2012,2012,2012,2012,2012,2012,2012,2012,2012,2012,2012,2012,2012,2012,2012,2012,2012,2012,2012,2012,2012,2012,2012,2012,2012,2012,2012,2012,2012,2012,2012,2012,2012,2012,2012,2012,2012,2012,2012,2012,2012,2012,2012,2012,2012,2012,2012,2012,2012,2012,2012,2012,2012,2012,2012,2012,2012,2012,2012,2012,2012,2012,2012,2012,2012,2012,2012,2012,2012,2012,2012,2012,2012,2012,2012,2012,2012,2012,2012,2012,2012,2012,2012,2012,2012,2012,2012,2012,2012,2012,2012,2012,2012,2012,2012,2012,2012,2012,2012,2012,2012,2012,2012,2012,2012,2012,2012,2012,2012,2012,2012,2012,2012,2012,2012,2012,2012,2012,2012,2012,2012,2012,2012,2012,2012,2012,2012,2012,2012,2012,2012,2012,2012,2012,2012,2012,2012,2012,2012,2012,2012,2012,2012,2012,2012,2012,2012,2012,2012,2012,2012,2012,2012,2012,2012,2012,2012,2012,2012,2012,2012,2012,2012,2012,2012,2012,2012]},\"selected\":{\"id\":\"1509\"},\"selection_policy\":{\"id\":\"1508\"}},\"id\":\"1385\",\"type\":\"ColumnDataSource\"},{\"attributes\":{\"data_source\":{\"id\":\"1385\"},\"glyph\":{\"id\":\"1487\"},\"hover_glyph\":null,\"muted_glyph\":null,\"nonselection_glyph\":{\"id\":\"1488\"},\"selection_glyph\":null,\"view\":{\"id\":\"1490\"}},\"id\":\"1489\",\"type\":\"GlyphRenderer\"},{\"attributes\":{\"text\":\"Daily Flow Hydrograph\"},\"id\":\"1454\",\"type\":\"Title\"},{\"attributes\":{\"mantissas\":[1,2,5],\"max_interval\":500.0,\"num_minor_ticks\":0},\"id\":\"1496\",\"type\":\"AdaptiveTicker\"},{\"attributes\":{\"axis_label\":\"Date\",\"formatter\":{\"id\":\"1493\"},\"ticker\":{\"id\":\"1465\"}},\"id\":\"1464\",\"type\":\"DatetimeAxis\"},{\"attributes\":{\"base\":60,\"mantissas\":[1,2,5,10,15,20,30],\"max_interval\":1800000.0,\"min_interval\":1000.0,\"num_minor_ticks\":0},\"id\":\"1497\",\"type\":\"AdaptiveTicker\"},{\"attributes\":{\"data\":{\"x\":{\"__ndarray__\":\"s43/MfIjFD9yVJJ0cqZ4P72uELkJZJE/LOTuBZgloD9cf3Tm6CKpP2XeqV7yvbE/uEDKGVaItz9aas9kteS9P7P0vUbZZMI/w9W/tNYXxj/f9rhEIwjKP1UQQmEHM84/uwu+JRRL0T+/l8tpupfTP5RZ1qOL/tU/t9ZMdLV+2D/+flXqeRfbP6k6IFssyN0/M4CdbxdI4D9HxS0meLfhP4efEUf1MeM/YKlBpFC35D/fnQBaUEfmP3YyBlS+4ec/EYw05WeG6T9BsmFuHTXrP085gRGy7ew/pHMMb/uv7j8tM/u16D3wP8f0Zv+GKPE/sTt5gcYX8j8X/HkIlgvzP/1mry3lA/Q/GQSrR6QA9T/B8TtcxAH2P8D6zhM3B/c/ztcNru4Q+D9nCpb33R75PxuYpUD4MPo/RcigVDFH+z/4EVhyfWH8P4LM+ETRf/0/SxCW3SGi/j82oDmtZMj/P8Bgt79HeQBAF1SdOkwQAUD3zjsAO6kBQKipxG8PRAJAuvOwDMXgAkBXFOh8V38DQAozCIfCHwRAFvLMEALCBECX1JEdEmYFQN/x7czuCwZA7tVmWZSzBkDUpTgX/1wHQHTPMXMrCAhA6bag8RW1CEDn+VEtu2MJQGcDntYXFApAy8eEsijGCkC+nNaZ6nkLQBY4aXhaLwxAVvZXTHXmDEAXnU4lOJ8NQJXe3SOgWQ5ApvPYeKoVD0A5r7tkVNMPQLU9jJtNSRBAxt0GJ76pEECvDOGK+goRQFmm84MBbRFA53qh1dHPEUAplZ5JajMSQA0uuq/JlxJAuSOr3e78EkBHzt6u2GITQK8OSgSGyRNA3nY8xPUwFEB8bDXaJpkUQNMpuzYYAhVAMoIzz8hrFUApUb6dN9YVQFt9EaFjQRZAYHlW3EutFkBwLglX7xkXQAA+2BxNhxdAc4iGPWT1F0CC6M3MM2QYQHUTQ+K60xhA4Y86mfhDGUDftK4Q7LQZQA+lJmuUJhpAFzmezvCYGkA9zm5kAAwbQEruOFnCfxtArsbO3DX0G0AHZR8iWmkcQFKwIl8u3xxADRbGzLFVHUA=\",\"dtype\":\"float64\",\"order\":\"little\",\"shape\":[100]},\"y\":{\"__ndarray__\":\"/Knx0k1iUD9m7mT3X4eQPxZhzYhNBKA/+UroFevEpz/cNAOjiIWvP2APDxgTo7M/UYSc3mGDtz9C+SmlsGO7PzRut2v/Q78/k3EiGSeSwT8MLGl8ToLDP4Tmr991csU//aD2Qp1ixz92Wz2mxFLJP+4VhAnsQss/Z9DKbBMzzT/gihHQOiPPP6wirBmxidA/6X9Py8SB0T8l3fJ82HnSP2I6li7scdM/npc54P9p1D/a9NyRE2LVPxdSgEMnWtY/U68j9TpS1z+PDMemTkrYP8xpalhiQtk/CMcNCnY62j9EJLG7iTLbP4GBVG2dKtw/vd73HrEi3T/6O5vQxBrePzaZPoLYEt8/OfvwGXYF4D/XqcLyf4HgP3ZYlMuJ/eA/FAdmpJN54T+ytTd9nfXhP1BkCVanceI/7hLbLrHt4j+NwawHu2njPytwfuDE5eM/yR5Quc5h5D9nzSGS2N3kPwV882riWeU/oyrFQ+zV5T9C2ZYc9lHmP+CHaPX/zeY/fjY6zglK5z8c5QunE8bnP7qT3X8dQug/WUKvWCe+6D/38IAxMTrpP5WfUgo7tuk/M04k40Qy6j/R/PW7Tq7qP2+rx5RYKus/DlqZbWKm6z+sCGtGbCLsP0q3PB92nuw/6GUO+H8a7T+GFODQiZbtPyXDsamTEu4/w3GDgp2O7j9hIFVbpwrvP//OJjSxhu8/zj58hl0B8D8dFuVyYj/wP2ztTV9nffA/u8S2S2y78D8LnB84cfnwP1pziCR2N/E/qUrxEHt18T/4IVr9f7PxP0f5wumE8fE/ltAr1okv8j/lp5TCjm3yPzR//a6Tq/I/g1Zmm5jp8j/SLc+HnSfzPyIFOHSiZfM/cdygYKej8z/AswlNrOHzPw+LcjmxH/Q/XmLbJbZd9D+tOUQSu5v0P/wQrf6/2fQ/S+gV68QX9T+av37XyVX1P+mW58POk/U/OG5QsNPR9T+IRbmc2A/2P9ccIondTfY/JvSKdeKL9j91y/Nh58n2P8SiXE7sB/c/E3rFOvFF9z9iUS4n9oP3P7EolxP7wfc/AAAAAAAA+D8=\",\"dtype\":\"float64\",\"order\":\"little\",\"shape\":[100]}},\"selected\":{\"id\":\"1449\"},\"selection_policy\":{\"id\":\"1448\"}},\"id\":\"1436\",\"type\":\"ColumnDataSource\"},{\"attributes\":{\"num_minor_ticks\":5,\"tickers\":[{\"id\":\"1496\"},{\"id\":\"1497\"},{\"id\":\"1498\"},{\"id\":\"1499\"},{\"id\":\"1500\"},{\"id\":\"1501\"},{\"id\":\"1502\"},{\"id\":\"1503\"},{\"id\":\"1504\"},{\"id\":\"1505\"},{\"id\":\"1506\"},{\"id\":\"1507\"}]},\"id\":\"1465\",\"type\":\"DatetimeTicker\"},{\"attributes\":{\"days\":[1,2,3,4,5,6,7,8,9,10,11,12,13,14,15,16,17,18,19,20,21,22,23,24,25,26,27,28,29,30,31]},\"id\":\"1499\",\"type\":\"DaysTicker\"},{\"attributes\":{\"axis\":{\"id\":\"1401\"},\"dimension\":1,\"ticker\":null},\"id\":\"1404\",\"type\":\"Grid\"},{\"attributes\":{},\"id\":\"1462\",\"type\":\"LinearScale\"},{\"attributes\":{\"base\":24,\"mantissas\":[1,2,4,6,8,12],\"max_interval\":43200000.0,\"min_interval\":3600000.0,\"num_minor_ticks\":0},\"id\":\"1498\",\"type\":\"AdaptiveTicker\"},{\"attributes\":{},\"id\":\"1393\",\"type\":\"LinearScale\"},{\"attributes\":{\"axis\":{\"id\":\"1397\"},\"ticker\":null},\"id\":\"1400\",\"type\":\"Grid\"},{\"attributes\":{},\"id\":\"1460\",\"type\":\"LinearScale\"},{\"attributes\":{\"months\":[0,1,2,3,4,5,6,7,8,9,10,11]},\"id\":\"1503\",\"type\":\"MonthsTicker\"},{\"attributes\":{},\"id\":\"1389\",\"type\":\"DataRange1d\"},{\"attributes\":{\"months\":[0,2,4,6,8,10]},\"id\":\"1504\",\"type\":\"MonthsTicker\"},{\"attributes\":{},\"id\":\"1391\",\"type\":\"DataRange1d\"},{\"attributes\":{\"days\":[1,4,7,10,13,16,19,22,25,28]},\"id\":\"1500\",\"type\":\"DaysTicker\"},{\"attributes\":{\"callback\":null},\"id\":\"1408\",\"type\":\"HoverTool\"},{\"attributes\":{\"days\":[1,15]},\"id\":\"1502\",\"type\":\"DaysTicker\"},{\"attributes\":{\"axis_label\":\"Stage (m)\",\"formatter\":{\"id\":\"1429\"},\"ticker\":{\"id\":\"1402\"}},\"id\":\"1401\",\"type\":\"LinearAxis\"},{\"attributes\":{\"months\":[0,6]},\"id\":\"1506\",\"type\":\"MonthsTicker\"},{\"attributes\":{},\"id\":\"1407\",\"type\":\"ResetTool\"},{\"attributes\":{\"toolbar\":{\"id\":\"1577\"},\"toolbar_location\":\"above\"},\"id\":\"1578\",\"type\":\"ToolbarBox\"},{\"attributes\":{\"days\":[1,8,15,22]},\"id\":\"1501\",\"type\":\"DaysTicker\"},{\"attributes\":{},\"id\":\"1402\",\"type\":\"BasicTicker\"},{\"attributes\":{},\"id\":\"1507\",\"type\":\"YearsTicker\"},{\"attributes\":{\"toolbars\":[{\"id\":\"1413\"},{\"id\":\"1479\"}],\"tools\":[{\"id\":\"1405\"},{\"id\":\"1406\"},{\"id\":\"1407\"},{\"id\":\"1408\"},{\"id\":\"1409\"},{\"id\":\"1410\"},{\"id\":\"1472\"},{\"id\":\"1473\"},{\"id\":\"1474\"},{\"id\":\"1475\"},{\"id\":\"1476\"},{\"id\":\"1477\"}]},\"id\":\"1577\",\"type\":\"ProxyToolbar\"},{\"attributes\":{\"months\":[0,4,8]},\"id\":\"1505\",\"type\":\"MonthsTicker\"},{\"attributes\":{\"children\":[[{\"id\":\"1386\"},0,0],[{\"id\":\"1453\"},0,1]]},\"id\":\"1576\",\"type\":\"GridBox\"},{\"attributes\":{\"overlay\":{\"id\":\"1411\"}},\"id\":\"1410\",\"type\":\"BoxSelectTool\"},{\"attributes\":{\"axis_label\":\"Flow (m\\u00b3/s)\",\"formatter\":{\"id\":\"1427\"},\"ticker\":{\"id\":\"1398\"}},\"id\":\"1397\",\"type\":\"LinearAxis\"},{\"attributes\":{\"active_drag\":\"auto\",\"active_inspect\":\"auto\",\"active_multi\":null,\"active_scroll\":\"auto\",\"active_tap\":\"auto\",\"tools\":[{\"id\":\"1405\"},{\"id\":\"1406\"},{\"id\":\"1407\"},{\"id\":\"1408\"},{\"id\":\"1409\"},{\"id\":\"1410\"}]},\"id\":\"1413\",\"type\":\"Toolbar\"},{\"attributes\":{\"fill_alpha\":{\"value\":0.1},\"fill_color\":{\"value\":\"red\"},\"line_alpha\":{\"value\":0.1},\"line_color\":{\"value\":\"red\"},\"size\":{\"units\":\"screen\",\"value\":5},\"x\":{\"field\":\"Flow (m^3/s)\"},\"y\":{\"field\":\"water level (m above 0 flow ref)\"}},\"id\":\"1422\",\"type\":\"Circle\"},{\"attributes\":{\"data_source\":{\"id\":\"1436\"},\"glyph\":{\"id\":\"1437\"},\"hover_glyph\":null,\"muted_glyph\":null,\"nonselection_glyph\":{\"id\":\"1438\"},\"selection_glyph\":null,\"view\":{\"id\":\"1440\"}},\"id\":\"1439\",\"type\":\"GlyphRenderer\"},{\"attributes\":{\"overlay\":{\"id\":\"1412\"}},\"id\":\"1409\",\"type\":\"PolySelectTool\"},{\"attributes\":{},\"id\":\"1406\",\"type\":\"WheelZoomTool\"},{\"attributes\":{},\"id\":\"1405\",\"type\":\"PanTool\"},{\"attributes\":{},\"id\":\"1469\",\"type\":\"BasicTicker\"},{\"attributes\":{\"overlay\":{\"id\":\"1478\"}},\"id\":\"1474\",\"type\":\"BoxZoomTool\"},{\"attributes\":{},\"id\":\"1473\",\"type\":\"WheelZoomTool\"},{\"attributes\":{\"axis\":{\"id\":\"1468\"},\"dimension\":1,\"ticker\":null},\"id\":\"1471\",\"type\":\"Grid\"},{\"attributes\":{\"fill_alpha\":{\"value\":0.8},\"fill_color\":{\"value\":\"red\"},\"line_alpha\":{\"value\":0.8},\"line_color\":{\"value\":\"red\"},\"size\":{\"units\":\"screen\",\"value\":5},\"x\":{\"field\":\"Date\"},\"y\":{\"field\":\"Flow (m^3/s)\"}},\"id\":\"1514\",\"type\":\"Circle\"},{\"attributes\":{},\"id\":\"1472\",\"type\":\"PanTool\"},{\"attributes\":{},\"id\":\"1475\",\"type\":\"SaveTool\"},{\"attributes\":{\"active_drag\":\"auto\",\"active_inspect\":\"auto\",\"active_multi\":null,\"active_scroll\":\"auto\",\"active_tap\":\"auto\",\"tools\":[{\"id\":\"1472\"},{\"id\":\"1473\"},{\"id\":\"1474\"},{\"id\":\"1475\"},{\"id\":\"1476\"},{\"id\":\"1477\"}]},\"id\":\"1479\",\"type\":\"Toolbar\"},{\"attributes\":{},\"id\":\"1476\",\"type\":\"ResetTool\"},{\"attributes\":{\"axis_label\":\"Flow (m\\u00b3/s)\",\"formatter\":{\"id\":\"1495\"},\"ticker\":{\"id\":\"1469\"}},\"id\":\"1468\",\"type\":\"LinearAxis\"},{\"attributes\":{},\"id\":\"1477\",\"type\":\"HelpTool\"},{\"attributes\":{\"bottom_units\":\"screen\",\"fill_alpha\":0.5,\"fill_color\":\"lightgrey\",\"left_units\":\"screen\",\"level\":\"overlay\",\"line_alpha\":1.0,\"line_color\":\"black\",\"line_dash\":[4,4],\"line_width\":2,\"right_units\":\"screen\",\"top_units\":\"screen\"},\"id\":\"1411\",\"type\":\"BoxAnnotation\"},{\"attributes\":{\"fill_alpha\":0.5,\"fill_color\":\"lightgrey\",\"level\":\"overlay\",\"line_alpha\":1.0,\"line_color\":\"black\",\"line_dash\":[4,4],\"line_width\":2,\"xs_units\":\"screen\",\"ys_units\":\"screen\"},\"id\":\"1412\",\"type\":\"PolyAnnotation\"},{\"attributes\":{},\"id\":\"1395\",\"type\":\"LinearScale\"},{\"attributes\":{\"axis\":{\"id\":\"1464\"},\"ticker\":null},\"id\":\"1467\",\"type\":\"Grid\"},{\"attributes\":{\"data_source\":{\"id\":\"1384\"},\"glyph\":{\"id\":\"1421\"},\"hover_glyph\":null,\"muted_glyph\":null,\"nonselection_glyph\":{\"id\":\"1422\"},\"selection_glyph\":null,\"view\":{\"id\":\"1424\"}},\"id\":\"1423\",\"type\":\"GlyphRenderer\"},{\"attributes\":{\"items\":[{\"id\":\"1435\"},{\"id\":\"1452\"}],\"location\":\"bottom_right\"},\"id\":\"1434\",\"type\":\"Legend\"},{\"attributes\":{\"source\":{\"id\":\"1384\"}},\"id\":\"1424\",\"type\":\"CDSView\"},{\"attributes\":{\"label\":{\"value\":\"Measured Q\"},\"renderers\":[{\"id\":\"1423\"}]},\"id\":\"1435\",\"type\":\"LegendItem\"},{\"attributes\":{},\"id\":\"1427\",\"type\":\"BasicTickFormatter\"},{\"attributes\":{},\"id\":\"1429\",\"type\":\"BasicTickFormatter\"}],\"root_ids\":[\"1579\"]},\"title\":\"Bokeh Application\",\"version\":\"2.2.1\"}};\n",
       "  var render_items = [{\"docid\":\"ad41b6f0-374b-491e-a2ee-9f2b66c78532\",\"root_ids\":[\"1579\"],\"roots\":{\"1579\":\"99be4d57-572c-4dfd-8edb-306778dffdf0\"}}];\n",
       "  root.Bokeh.embed.embed_items_notebook(docs_json, render_items);\n",
       "\n",
       "  }\n",
       "  if (root.Bokeh !== undefined) {\n",
       "    embed_document(root);\n",
       "  } else {\n",
       "    var attempts = 0;\n",
       "    var timer = setInterval(function(root) {\n",
       "      if (root.Bokeh !== undefined) {\n",
       "        clearInterval(timer);\n",
       "        embed_document(root);\n",
       "      } else {\n",
       "        attempts++;\n",
       "        if (attempts > 100) {\n",
       "          clearInterval(timer);\n",
       "          console.log(\"Bokeh: ERROR: Unable to run BokehJS code because BokehJS library is missing\");\n",
       "        }\n",
       "      }\n",
       "    }, 10, root)\n",
       "  }\n",
       "})(window);"
      ],
      "application/vnd.bokehjs_exec.v0+json": ""
     },
     "metadata": {
      "application/vnd.bokehjs_exec.v0+json": {
       "id": "1579"
      }
     },
     "output_type": "display_data"
    }
   ],
   "source": [
    "# output to static HTML file\n",
    "#output_file(\"filename.html\")\n",
    "\n",
    "# customize the tools for interacting with the bokeh plot\n",
    "TOOLS=\"pan,wheel_zoom,reset,hover,poly_select,box_select\"\n",
    "\n",
    "# Bokeh uses a ColumnDataSource data structure to \n",
    "# link plots and make them more interactive\n",
    "# set data sources for plot linking\n",
    "stage_df.reset_index(inplace=True, drop=True)\n",
    "rc_source = ColumnDataSource(data=dict())\n",
    "rc_source.data = rc_source.from_df(rc_df)\n",
    "\n",
    "ts_source = ColumnDataSource(data=dict())\n",
    "ts_source.data = ts_source.from_df(stage_df)\n",
    "\n",
    "#### RATING CURVE PLOT (LET)\n",
    "rc_plot = figure(plot_width=550, plot_height=400,\n",
    "                title='Rating Curve Plot',\n",
    "                tools=TOOLS)\n",
    "\n",
    "# plot the measured discharge points\n",
    "rc_plot.circle(flow_label, stage_label, size=5, color=\"red\", alpha=0.5,\n",
    "              legend_label='Measured Q', source=rc_source)\n",
    "\n",
    "# plot the rating curve based on the OLS best fit\n",
    "rc_plot.line(bf_df['best_fit_q'], bf_df['stage'],\n",
    "             line_color='green', legend_label='OLS Fit')\n",
    "\n",
    "#### DAILY FLOW SERIES PLOT (RIGHT)\n",
    "daily_flow_plot = figure(plot_width=550, plot_height=400, \n",
    "                        x_axis_type='datetime', title='Daily Flow Hydrograph')\n",
    "\n",
    "# # plot the flow series based on the OLS best fit\n",
    "daily_flow_plot.line('Date', 'RC Q (cms)', \n",
    "                    legend_label='OLS-based RC Flow', color='dodgerblue',\n",
    "                    source=ts_source)\n",
    "\n",
    "# plot the daily flow series generated from the manual rating curve\n",
    "daily_flow_plot.circle('Date', flow_label, size=5, color=\"red\", alpha=0.8,\n",
    "              source=rc_source, legend_label='Measured Q')\n",
    "\n",
    "# daily_flow_plot.line('Date', 'RC Q (cms)')\n",
    "# label the axes\n",
    "daily_flow_plot.xaxis.axis_label = 'Date'\n",
    "daily_flow_plot.yaxis.axis_label = 'Flow (m³/s)'\n",
    "daily_flow_plot.legend.location = \"top_left\"\n",
    "rc_plot.xaxis.axis_label = 'Flow (m³/s)'\n",
    "rc_plot.yaxis.axis_label = 'Stage (m)'\n",
    "rc_plot.legend.location = \"bottom_right\"\n",
    "\n",
    "layout = gridplot([[rc_plot, daily_flow_plot]])\n",
    "\n",
    "# show the results\n",
    "show(layout)"
   ]
  },
  {
   "cell_type": "markdown",
   "metadata": {},
   "source": [
    "## Characterizing Water Resources\n",
    "\n",
    "Below are a few points to consider regarding the characterization of the water resource over the **long term**.\n",
    "\n",
    "1.  How long has the hydrometric station been operating?  \n",
    "2.  If we're collecting data to support civil engineering design, to assess financial viability of a project, to inform operations, and to quantify the impact of our use of water resources or our modification of natural flow regimes, have we collected enough data?\n",
    "3.  How much data is enough?\n",
    "4.  If we don't have enough, what can we do to better evaluate the water resource?\n",
    "\n"
   ]
  },
  {
   "cell_type": "markdown",
   "metadata": {},
   "source": [
    "## Linear Regression of Daily Streamflow\n",
    "\n",
    "![Active WSC Stations in Western Canada](img/wsc_map_view1.png)\n",
    "\n",
    "Water Survey of Canada (WSC) has operated and maintained hydrometric stations across Canada for over 100 years.  If we can find a regional proxy WSC station in **close proximity to our location of interest, with similar basin characteristics** to those of our project, we can correlate daily streamflow between the two locations, ultimately to generate an estimated (or synthetic) long-term flow series for our project location.\n",
    "\n",
    "Typically regressions are done by chronological pairing, which effectively says \"if the flow at the regional (proxy) station was $Q_p$ at time $t$, the flow at our project location at time $t$ will be approximately $C\\cdot Q_p + D$ where $C$ and $D$ are constants.  "
   ]
  },
  {
   "cell_type": "markdown",
   "metadata": {},
   "source": [
    "### Steps to develop a correlation: Chronological Pairing (CP)\n",
    "\n",
    "A lot of work goes into finding an appropriate long-term record comparable to our location of interest, but we will assume we have been given a long-term daily flow series to use.\n",
    "\n",
    "1.  Find just the concurrent days of record (days where we have flow recorded for both creeks/rivers).\n",
    "2.  Create a scatter plot where the coordinates of each data point are (flow1, flow2).  It is customary to put the long-term regional station on the x-axis.\n",
    "3.  Determine the equation describing the line of best fit through the data.\n",
    "4.  Apply the best fit line equation to the long-term surrogate record to yield an estimated long-term series for the project location.\n",
    "\n",
    "To further refine this estimate, we can recognize that the mechanisms driving flow across seasons and months can change quite dramatically, and the relationship between the two catchments can also change month-by-month, and/or season by season.  If there is enough data to create seasonal or monthly regressions, we can develop a best-fit equation for each month or season.  The process of steps 2 through 4 then are the same, except we treat each season or month independently.  \n",
    "\n",
    "The above method is referred to as **chronological pairing (CP)**, as it pairs flow that occurs on the same day.  But what if there are timing differences between stations, or what if the spatial variability of precipitation results in flow events that don't coincide in the short term?  "
   ]
  },
  {
   "cell_type": "markdown",
   "metadata": {},
   "source": [
    "### Empirical Frequency Pairing\n",
    "\n",
    "To eliminate the temporal constraint on timing of events at the daily level, instead of comparing concurrent days, we can compare magnitudes of flows. This method is referred to as Empirical Frequency Pairing (EFP) and is commonly used in British Columbia.  Empirical frequency pairing still uses concurrent records, however it is the ranked flows in each series that are compared, i.e. the data points on an EFP plot are:  \n",
    "\n",
    "$$[(R1_{siteA}, R1_{site_B}), (R2_{siteA}, R2_{siteB}), ..., (Rn_{siteA}, Rn_{siteB})]$$  \n",
    "\n",
    "The steps to derive an estimated long-term flow series for our location of interest are the same (i.e. steps 2-4 above)."
   ]
  },
  {
   "cell_type": "markdown",
   "metadata": {},
   "source": [
    "### Setting up a Regression\n",
    "\n",
    "The first step is to import the regional data series and find all of the dates with values for both locations.\n",
    "\n",
    "Previewing the data shows line 1 has information about two distinct parameters.  Where the `PARAM` column value is 1, the `Value` column corresponds to daily discharge ($\\frac{m^3}{s}$ and where the `PARAM` column value is 2, the `Value` column corresonds to daily water level ($m$).  We need to correctly set the header line to index 1 (the second row), so that the headings are read correctly."
   ]
  },
  {
   "cell_type": "code",
   "execution_count": 15,
   "metadata": {},
   "outputs": [
    {
     "data": {
      "text/html": [
       "<div>\n",
       "<style scoped>\n",
       "    .dataframe tbody tr th:only-of-type {\n",
       "        vertical-align: middle;\n",
       "    }\n",
       "\n",
       "    .dataframe tbody tr th {\n",
       "        vertical-align: top;\n",
       "    }\n",
       "\n",
       "    .dataframe thead th {\n",
       "        text-align: right;\n",
       "    }\n",
       "</style>\n",
       "<table border=\"1\" class=\"dataframe\">\n",
       "  <thead>\n",
       "    <tr style=\"text-align: right;\">\n",
       "      <th></th>\n",
       "      <th>PARAM</th>\n",
       "      <th>Regional Flow (m^3/s)</th>\n",
       "      <th>SYM</th>\n",
       "    </tr>\n",
       "    <tr>\n",
       "      <th>Date</th>\n",
       "      <th></th>\n",
       "      <th></th>\n",
       "      <th></th>\n",
       "    </tr>\n",
       "  </thead>\n",
       "  <tbody>\n",
       "    <tr>\n",
       "      <th>1987-01-26</th>\n",
       "      <td>1</td>\n",
       "      <td>0.283</td>\n",
       "      <td>A</td>\n",
       "    </tr>\n",
       "    <tr>\n",
       "      <th>1987-01-27</th>\n",
       "      <td>1</td>\n",
       "      <td>0.240</td>\n",
       "      <td>B</td>\n",
       "    </tr>\n",
       "    <tr>\n",
       "      <th>1987-01-28</th>\n",
       "      <td>1</td>\n",
       "      <td>0.240</td>\n",
       "      <td>B</td>\n",
       "    </tr>\n",
       "    <tr>\n",
       "      <th>1987-01-29</th>\n",
       "      <td>1</td>\n",
       "      <td>0.273</td>\n",
       "      <td>NaN</td>\n",
       "    </tr>\n",
       "    <tr>\n",
       "      <th>1987-01-30</th>\n",
       "      <td>1</td>\n",
       "      <td>0.255</td>\n",
       "      <td>NaN</td>\n",
       "    </tr>\n",
       "  </tbody>\n",
       "</table>\n",
       "</div>"
      ],
      "text/plain": [
       "            PARAM  Regional Flow (m^3/s)  SYM\n",
       "Date                                         \n",
       "1987-01-26      1                  0.283    A\n",
       "1987-01-27      1                  0.240    B\n",
       "1987-01-28      1                  0.240    B\n",
       "1987-01-29      1                  0.273  NaN\n",
       "1987-01-30      1                  0.255  NaN"
      ]
     },
     "execution_count": 15,
     "metadata": {},
     "output_type": "execute_result"
    }
   ],
   "source": [
    "# set the header row to index 1, tell the function to set the `Date` column as the index.\n",
    "# If you look at the raw csv file, you'll see that there's an information line at the very top,\n",
    "# and the second line (index 1 in programming) is where the column headers are\n",
    "regional_df = pd.read_csv('../data/notebook_2_data/Regional_data.csv', header=1, parse_dates=True, index_col='Date')\n",
    "\n",
    "# select only the discharge data (PARAM == 1)\n",
    "regional_df = regional_df[regional_df['PARAM'] == 1]\n",
    "\n",
    "regional_df.columns = ['PARAM', 'Regional Flow (m^3/s)', 'SYM']\n",
    "\n",
    "# preview the data\n",
    "regional_df.head()"
   ]
  },
  {
   "cell_type": "code",
   "execution_count": 16,
   "metadata": {},
   "outputs": [
    {
     "name": "stdout",
     "output_type": "stream",
     "text": [
      "REGIONAL DATA: Start date = 1987-01-26 00:00:00, End date = 2017-12-31 00:00:00\n",
      "SITE DATA: Start date = 2010-08-25 00:00:00, End date = 2012-07-01 00:00:00\n"
     ]
    }
   ],
   "source": [
    "# check the date range covered by the regional data\n",
    "print('REGIONAL DATA: Start date = {}, End date = {}'.format(regional_df.index[0], regional_df.index[-1]))\n",
    "\n",
    "# we need to set the index again to the date for stage_df\n",
    "stage_df.set_index('Date', inplace=True)\n",
    "# check the date range covered by our data measured at site\n",
    "print('SITE DATA: Start date = {}, End date = {}'.format(stage_df.index[0], stage_df.index[-1]))"
   ]
  },
  {
   "cell_type": "markdown",
   "metadata": {},
   "source": [
    "### Obtain Concurrent Data\n",
    "\n",
    "In the previous step, we can see that the regional dataset encompasses the date range of our site data.  To perform a regression, we want to use concurrent data only.   The `concat`, or concatenate, function [documentation can be found here](https://pandas.pydata.org/pandas-docs/stable/reference/api/pandas.concat.html). "
   ]
  },
  {
   "cell_type": "code",
   "execution_count": 19,
   "metadata": {},
   "outputs": [
    {
     "name": "stdout",
     "output_type": "stream",
     "text": [
      "            Regional Flow (m^3/s)  RC Q (cms)\n",
      "Date                                         \n",
      "2010-08-25                  1.930    2.899688\n",
      "2010-08-26                  1.910    3.155593\n",
      "2010-08-27                  1.410    4.901088\n",
      "2010-08-28                  1.110    3.104910\n",
      "2010-08-29                  0.996    2.274967\n",
      "...                           ...         ...\n",
      "2012-06-27                  4.110   11.065578\n",
      "2012-06-28                  3.580   11.513670\n",
      "2012-06-29                  4.140   15.123902\n",
      "2012-06-30                  6.540   18.538791\n",
      "2012-07-01                  5.000   21.970086\n",
      "\n",
      "[677 rows x 2 columns]\n"
     ]
    }
   ],
   "source": [
    "# create a new dataframe of concurrent data and plot the data\n",
    "# join='inner' says to line up the indices and get the values that are common between the two dataframes\n",
    "# axis=1 says line up columns instead of rows\n",
    "concurrent_df = pd.concat([stage_df, regional_df], join='inner', axis=1)\n",
    "\n",
    "# filter just the columns we want\n",
    "concurrent_df = concurrent_df[['Regional Flow (m^3/s)', 'RC Q (cms)']]\n",
    "\n",
    "print(concurrent_df)\n",
    "\n",
    "\n",
    "# not rename the columns to something that is more indicative of the location of each data source\n",
    "concurrent_df.columns = ['Regional_Q', 'Project_Q']\n",
    "concurrent_df.head()\n",
    "\n",
    "concurrent_df.dropna(inplace=True)\n"
   ]
  },
  {
   "cell_type": "code",
   "execution_count": 20,
   "metadata": {},
   "outputs": [],
   "source": [
    "# find the best fit equation\n",
    "slope, intercept, rval, pval, stderr = st.linregress(concurrent_df['Regional_Q'], concurrent_df['Project_Q'])"
   ]
  },
  {
   "cell_type": "markdown",
   "metadata": {},
   "source": [
    "# Regression Plot"
   ]
  },
  {
   "cell_type": "code",
   "execution_count": 21,
   "metadata": {},
   "outputs": [
    {
     "data": {
      "text/html": [
       "\n",
       "\n",
       "\n",
       "\n",
       "\n",
       "\n",
       "  <div class=\"bk-root\" id=\"a5a924a6-6de1-4236-b0b6-766045e2e6f0\" data-root-id=\"1797\"></div>\n"
      ]
     },
     "metadata": {},
     "output_type": "display_data"
    },
    {
     "data": {
      "application/javascript": [
       "(function(root) {\n",
       "  function embed_document(root) {\n",
       "    \n",
       "  var docs_json = {\"9b0e7000-6ff7-4df8-8c32-69f09427e8e0\":{\"roots\":{\"references\":[{\"attributes\":{\"below\":[{\"id\":\"1808\"}],\"center\":[{\"id\":\"1811\"},{\"id\":\"1815\"},{\"id\":\"1852\"}],\"left\":[{\"id\":\"1812\"}],\"plot_height\":400,\"plot_width\":700,\"renderers\":[{\"id\":\"1834\"},{\"id\":\"1839\"}],\"title\":{\"id\":\"1798\"},\"toolbar\":{\"id\":\"1824\"},\"x_range\":{\"id\":\"1800\"},\"x_scale\":{\"id\":\"1804\"},\"y_range\":{\"id\":\"1802\"},\"y_scale\":{\"id\":\"1806\"}},\"id\":\"1797\",\"subtype\":\"Figure\",\"type\":\"Plot\"},{\"attributes\":{},\"id\":\"1849\",\"type\":\"Selection\"},{\"attributes\":{},\"id\":\"1802\",\"type\":\"DataRange1d\"},{\"attributes\":{\"data_source\":{\"id\":\"1836\"},\"glyph\":{\"id\":\"1837\"},\"hover_glyph\":null,\"muted_glyph\":null,\"nonselection_glyph\":{\"id\":\"1838\"},\"selection_glyph\":null,\"view\":{\"id\":\"1840\"}},\"id\":\"1839\",\"type\":\"GlyphRenderer\"},{\"attributes\":{\"source\":{\"id\":\"1831\"}},\"id\":\"1835\",\"type\":\"CDSView\"},{\"attributes\":{\"overlay\":{\"id\":\"1822\"}},\"id\":\"1821\",\"type\":\"BoxSelectTool\"},{\"attributes\":{\"overlay\":{\"id\":\"1823\"}},\"id\":\"1820\",\"type\":\"PolySelectTool\"},{\"attributes\":{\"fill_alpha\":{\"value\":0.1},\"fill_color\":{\"value\":\"dodgerblue\"},\"line_alpha\":{\"value\":0.1},\"line_color\":{\"value\":\"dodgerblue\"},\"x\":{\"field\":\"x\"},\"y\":{\"field\":\"y\"}},\"id\":\"1833\",\"type\":\"Scatter\"},{\"attributes\":{\"line_alpha\":0.1,\"line_color\":\"firebrick\",\"line_width\":2,\"x\":{\"field\":\"x\"},\"y\":{\"field\":\"y\"}},\"id\":\"1838\",\"type\":\"Line\"},{\"attributes\":{\"axis\":{\"id\":\"1812\"},\"dimension\":1,\"ticker\":null},\"id\":\"1815\",\"type\":\"Grid\"},{\"attributes\":{\"callback\":null},\"id\":\"1819\",\"type\":\"HoverTool\"},{\"attributes\":{},\"id\":\"1809\",\"type\":\"BasicTicker\"},{\"attributes\":{},\"id\":\"1813\",\"type\":\"BasicTicker\"},{\"attributes\":{},\"id\":\"1804\",\"type\":\"LinearScale\"},{\"attributes\":{},\"id\":\"1806\",\"type\":\"LinearScale\"},{\"attributes\":{\"data\":{\"x\":{\"__ndarray__\":\"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\",\"dtype\":\"float64\",\"order\":\"little\",\"shape\":[590]},\"y\":{\"__ndarray__\":\"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\",\"dtype\":\"float64\",\"order\":\"little\",\"shape\":[590]}},\"selected\":{\"id\":\"1847\"},\"selection_policy\":{\"id\":\"1846\"}},\"id\":\"1831\",\"type\":\"ColumnDataSource\"},{\"attributes\":{},\"id\":\"1817\",\"type\":\"WheelZoomTool\"},{\"attributes\":{\"active_drag\":\"auto\",\"active_inspect\":\"auto\",\"active_multi\":null,\"active_scroll\":\"auto\",\"active_tap\":\"auto\",\"tools\":[{\"id\":\"1816\"},{\"id\":\"1817\"},{\"id\":\"1818\"},{\"id\":\"1819\"},{\"id\":\"1820\"},{\"id\":\"1821\"}]},\"id\":\"1824\",\"type\":\"Toolbar\"},{\"attributes\":{\"data_source\":{\"id\":\"1831\"},\"glyph\":{\"id\":\"1832\"},\"hover_glyph\":null,\"muted_glyph\":null,\"nonselection_glyph\":{\"id\":\"1833\"},\"selection_glyph\":null,\"view\":{\"id\":\"1835\"}},\"id\":\"1834\",\"type\":\"GlyphRenderer\"},{\"attributes\":{\"bottom_units\":\"screen\",\"fill_alpha\":0.5,\"fill_color\":\"lightgrey\",\"left_units\":\"screen\",\"level\":\"overlay\",\"line_alpha\":1.0,\"line_color\":\"black\",\"line_dash\":[4,4],\"line_width\":2,\"right_units\":\"screen\",\"top_units\":\"screen\"},\"id\":\"1822\",\"type\":\"BoxAnnotation\"},{\"attributes\":{},\"id\":\"1845\",\"type\":\"BasicTickFormatter\"},{\"attributes\":{},\"id\":\"1818\",\"type\":\"ResetTool\"},{\"attributes\":{\"formatter\":{\"id\":\"1843\"},\"ticker\":{\"id\":\"1809\"}},\"id\":\"1808\",\"type\":\"LinearAxis\"},{\"attributes\":{},\"id\":\"1846\",\"type\":\"UnionRenderers\"},{\"attributes\":{\"fill_alpha\":0.5,\"fill_color\":\"lightgrey\",\"level\":\"overlay\",\"line_alpha\":1.0,\"line_color\":\"black\",\"line_dash\":[4,4],\"line_width\":2,\"xs_units\":\"screen\",\"ys_units\":\"screen\"},\"id\":\"1823\",\"type\":\"PolyAnnotation\"},{\"attributes\":{\"line_color\":\"firebrick\",\"line_width\":2,\"x\":{\"field\":\"x\"},\"y\":{\"field\":\"y\"}},\"id\":\"1837\",\"type\":\"Line\"},{\"attributes\":{},\"id\":\"1847\",\"type\":\"Selection\"},{\"attributes\":{\"label\":{\"value\":\"Q = 2.4*Qregional + 1.5\"},\"renderers\":[{\"id\":\"1839\"}]},\"id\":\"1853\",\"type\":\"LegendItem\"},{\"attributes\":{\"axis\":{\"id\":\"1808\"},\"ticker\":null},\"id\":\"1811\",\"type\":\"Grid\"},{\"attributes\":{\"text\":\"Regression Plot (All Concurrent Data)\"},\"id\":\"1798\",\"type\":\"Title\"},{\"attributes\":{\"source\":{\"id\":\"1836\"}},\"id\":\"1840\",\"type\":\"CDSView\"},{\"attributes\":{\"formatter\":{\"id\":\"1845\"},\"ticker\":{\"id\":\"1813\"}},\"id\":\"1812\",\"type\":\"LinearAxis\"},{\"attributes\":{},\"id\":\"1816\",\"type\":\"PanTool\"},{\"attributes\":{\"items\":[{\"id\":\"1853\"}]},\"id\":\"1852\",\"type\":\"Legend\"},{\"attributes\":{\"data\":{\"x\":{\"__ndarray__\":\"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\",\"dtype\":\"float64\",\"order\":\"little\",\"shape\":[500]},\"y\":[1.5051283385516117,1.5548593013310652,1.6045902641105185,1.654321226889972,1.7040521896694254,1.753783152448879,1.8035141152283325,1.8532450780077858,1.9029760407872394,1.9527070035666927,2.0024379663461462,2.0521689291255996,2.1018998919050533,2.1516308546845067,2.20136181746396,2.2510927802434137,2.300823743022867,2.3505547058023204,2.4002856685817737,2.4500166313612275,2.499747594140681,2.5494785569201346,2.5992095196995875,2.6489404824790412,2.698671445258495,2.748402408037948,2.7981333708174017,2.847864333596855,2.8975952963763083,2.947326259155762,2.9970572219352154,3.0467881847146687,3.0965191474941225,3.1462501102735754,3.195981073053029,3.245712035832483,3.295442998611936,3.3451739613913896,3.3949049241708433,3.444635886950296,3.49436684972975,3.5440978125092033,3.593828775288657,3.6435597380681104,3.6932907008475637,3.743021663627017,3.792752626406471,3.842483589185924,3.892214551965378,3.9419455147448312,3.9916764775242846,4.041407440303738,4.091138403083191,4.140869365862645,4.190600328642098,4.240331291421551,4.290062254201006,4.339793216980459,4.389524179759912,4.439255142539366,4.488986105318819,4.538717068098272,4.588448030877727,4.63817899365718,4.687909956436632,4.737640919216087,4.78737188199554,4.837102844774993,4.8868338075544475,4.9365647703339,4.986295733113353,5.036026695892808,5.085757658672261,5.135488621451714,5.185219584231168,5.234950547010621,5.284681509790074,5.334412472569529,5.384143435348982,5.4338743981284345,5.483605360907887,5.533336323687342,5.583067286466795,5.632798249246249,5.6825292120257025,5.732260174805155,5.781991137584609,5.831722100364062,5.881453063143516,5.93118402592297,5.980914988702422,6.030645951481876,6.08037691426133,6.130107877040783,6.179838839820237,6.22956980259969,6.279300765379144,6.329031728158597,6.378762690938051,6.428493653717504,6.4782246164969575,6.527955579276411,6.577686542055864,6.627417504835318,6.677148467614771,6.7268794303942245,6.776610393173678,6.826341355953132,6.876072318732585,6.925803281512039,6.975534244291492,7.025265207070945,7.074996169850399,7.124727132629853,7.174458095409306,7.224189058188759,7.273920020968212,7.323650983747666,7.37338194652712,7.423112909306574,7.472843872086027,7.5225748348654795,7.572305797644933,7.622036760424387,7.671767723203841,7.721498685983295,7.771229648762747,7.8209606115422,7.870691574321654,7.920422537101108,7.970153499880562,8.019884462660015,8.069615425439467,8.119346388218922,8.169077350998375,8.218808313777828,8.268539276557282,8.318270239336734,8.368001202116188,8.417732164895643,8.467463127675096,8.517194090454549,8.566925053234003,8.616656016013454,8.666386978792909,8.716117941572364,8.765848904351817,8.81557986713127,8.865310829910724,8.915041792690175,8.96477275546963,9.014503718249085,9.064234681028537,9.11396564380799,9.163696606587445,9.213427569366896,9.26315853214635,9.312889494925805,9.362620457705258,9.412351420484711,9.462082383264164,9.511813346043617,9.561544308823073,9.611275271602526,9.66100623438198,9.710737197161432,9.760468159940885,9.810199122720338,9.859930085499794,9.909661048279247,9.9593920110587,10.009122973838153,10.058853936617606,10.108584899397059,10.158315862176512,10.208046824955968,10.25777778773542,10.307508750514874,10.357239713294327,10.40697067607378,10.456701638853232,10.506432601632689,10.556163564412142,10.605894527191595,10.655625489971047,10.7053564527505,10.755087415529953,10.80481837830941,10.854549341088862,10.904280303868315,10.954011266647768,11.003742229427225,11.053473192206678,11.103204154986127,11.152935117765583,11.202666080545036,11.252397043324489,11.302128006103942,11.351858968883395,11.401589931662851,11.451320894442304,11.501051857221757,11.55078282000121,11.600513782780663,11.650244745560116,11.699975708339569,11.749706671119025,11.799437633898478,11.84916859667793,11.898899559457384,11.948630522236837,11.998361485016293,12.048092447795746,12.097823410575199,12.147554373354652,12.197285336134104,12.247016298913557,12.29674726169301,12.346478224472467,12.39620918725192,12.445940150031372,12.495671112810825,12.545402075590278,12.595133038369735,12.644864001149188,12.69459496392864,12.744325926708093,12.794056889487546,12.843787852266999,12.893518815046452,12.943249777825905,12.992980740605361,13.042711703384814,13.092442666164267,13.14217362894372,13.191904591723176,13.24163555450263,13.291366517282082,13.341097480061535,13.390828442840988,13.44055940562044,13.490290368399894,13.540021331179346,13.589752293958803,13.639483256738256,13.689214219517709,13.738945182297162,13.788676145076618,13.83840710785607,13.888138070635524,13.937869033414977,13.98759999619443,14.037330958973882,14.087061921753335,14.136792884532788,14.186523847312245,14.236254810091697,14.28598577287115,14.335716735650603,14.385447698430056,14.435178661209513,14.484909623988965,14.534640586768418,14.584371549547871,14.634102512327324,14.683833475106777,14.73356443788623,14.783295400665686,14.83302636344514,14.882757326224592,14.932488289004045,14.982219251783498,15.031950214562954,15.081681177342407,15.131412140121856,15.181143102901313,15.230874065680766,15.280605028460219,15.330335991239672,15.380066954019128,15.42979791679858,15.479528879578034,15.529259842357487,15.57899080513694,15.628721767916396,15.678452730695849,15.728183693475298,15.777914656254755,15.827645619034207,15.87737658181366,15.927107544593113,15.97683850737257,16.026569470152022,16.076300432931475,16.12603139571093,16.17576235849038,16.225493321269838,16.275224284049287,16.32495524682874,16.374686209608196,16.42441717238765,16.474148135167102,16.523879097946555,16.573610060726008,16.623341023505464,16.673071986284917,16.72280294906437,16.772533911843823,16.82226487462328,16.87199583740273,16.92172680018218,16.971457762961638,17.02118872574109,17.070919688520544,17.120650651299997,17.17038161407945,17.220112576858906,17.26984353963836,17.31957450241781,17.369305465197264,17.419036427976717,17.46876739075617,17.518498353535623,17.568229316315076,17.617960279094532,17.667691241873985,17.717422204653438,17.76715316743289,17.816884130212344,17.8666150929918,17.916346055771253,17.966077018550706,18.01580798133016,18.065538944109612,18.115269906889065,18.165000869668518,18.214731832447974,18.264462795227427,18.31419375800688,18.363924720786333,18.413655683565786,18.463386646345242,18.513117609124695,18.562848571904148,18.6125795346836,18.662310497463054,18.712041460242506,18.76177242302196,18.811503385801412,18.86123434858087,18.91096531136032,18.960696274139774,19.010427236919227,19.060158199698684,19.109889162478137,19.159620125257586,19.209351088037042,19.259082050816495,19.308813013595948,19.3585439763754,19.408274939154854,19.45800590193431,19.507736864713763,19.557467827493216,19.60719879027267,19.656929753052125,19.70666071583158,19.756391678611028,19.806122641390484,19.855853604169937,19.90558456694939,19.955315529728843,20.005046492508296,20.054777455287752,20.104508418067205,20.154239380846658,20.20397034362611,20.253701306405564,20.30343226918502,20.35316323196447,20.402894194743926,20.45262515752338,20.502356120302835,20.552087083082284,20.60181804586174,20.651549008641194,20.701279971420643,20.7510109342001,20.800741896979552,20.850472859759005,20.900203822538458,20.949934785317915,20.999665748097367,21.04939671087682,21.099127673656273,21.14885863643573,21.19858959921518,21.248320561994632,21.29805152477409,21.347782487553538,21.397513450332994,21.447244413112447,21.496975375891903,21.546706338671353,21.59643730145081,21.646168264230262,21.695899227009715,21.745630189789168,21.79536115256862,21.845092115348077,21.894823078127526,21.944554040906983,21.994285003686436,22.04401596646589,22.09374692924534,22.143477892024798,22.193208854804247,22.242939817583704,22.292670780363157,22.342401743142606,22.392132705922062,22.441863668701515,22.49159463148097,22.54132559426042,22.591056557039877,22.64078751981933,22.690518482598787,22.740249445378236,22.789980408157692,22.839711370937145,22.889442333716598,22.93917329649605,22.988904259275504,23.038635222054957,23.08836618483441,23.138097147613866,23.18782811039332,23.237559073172772,23.287290035952225,23.33702099873168,23.38675196151113,23.436482924290587,23.48621388707004,23.53594484984949,23.585675812628946,23.6354067754084,23.685137738187855,23.734868700967304,23.78459966374676,23.834330626526214,23.88406158930567,23.93379255208512,23.983523514864576,24.03325447764403,24.082985440423478,24.132716403202934,24.182447365982387,24.23217832876184,24.281909291541293,24.33164025432075,24.3813712171002,24.431102179879655,24.480833142659108,24.530564105438565,24.580295068218014,24.63002603099747,24.679756993776923,24.729487956556373,24.77921891933583,24.828949882115282,24.87868084489474,24.928411807674188,24.978142770453644,25.027873733233097,25.07760469601255,25.127335658792003,25.17706662157146,25.22679758435091,25.27652854713036,25.326259509909818,25.37599047268927,25.425721435468724,25.475452398248176,25.525183361027633,25.574914323807082,25.62464528658654,25.67437624936599,25.724107212145448,25.773838174924897,25.82356913770435,25.873300100483807,25.923031063263256,25.972762026042712,26.022492988822165,26.07222395160162,26.12195491438107,26.171685877160527,26.22141683993998,26.271147802719433,26.320878765498886]},\"selected\":{\"id\":\"1849\"},\"selection_policy\":{\"id\":\"1848\"}},\"id\":\"1836\",\"type\":\"ColumnDataSource\"},{\"attributes\":{},\"id\":\"1800\",\"type\":\"DataRange1d\"},{\"attributes\":{\"fill_color\":{\"value\":\"dodgerblue\"},\"line_color\":{\"value\":\"dodgerblue\"},\"x\":{\"field\":\"x\"},\"y\":{\"field\":\"y\"}},\"id\":\"1832\",\"type\":\"Scatter\"},{\"attributes\":{},\"id\":\"1843\",\"type\":\"BasicTickFormatter\"},{\"attributes\":{},\"id\":\"1848\",\"type\":\"UnionRenderers\"}],\"root_ids\":[\"1797\"]},\"title\":\"Bokeh Application\",\"version\":\"2.2.1\"}};\n",
       "  var render_items = [{\"docid\":\"9b0e7000-6ff7-4df8-8c32-69f09427e8e0\",\"root_ids\":[\"1797\"],\"roots\":{\"1797\":\"a5a924a6-6de1-4236-b0b6-766045e2e6f0\"}}];\n",
       "  root.Bokeh.embed.embed_items_notebook(docs_json, render_items);\n",
       "\n",
       "  }\n",
       "  if (root.Bokeh !== undefined) {\n",
       "    embed_document(root);\n",
       "  } else {\n",
       "    var attempts = 0;\n",
       "    var timer = setInterval(function(root) {\n",
       "      if (root.Bokeh !== undefined) {\n",
       "        clearInterval(timer);\n",
       "        embed_document(root);\n",
       "      } else {\n",
       "        attempts++;\n",
       "        if (attempts > 100) {\n",
       "          clearInterval(timer);\n",
       "          console.log(\"Bokeh: ERROR: Unable to run BokehJS code because BokehJS library is missing\");\n",
       "        }\n",
       "      }\n",
       "    }, 10, root)\n",
       "  }\n",
       "})(window);"
      ],
      "application/vnd.bokehjs_exec.v0+json": ""
     },
     "metadata": {
      "application/vnd.bokehjs_exec.v0+json": {
       "id": "1797"
      }
     },
     "output_type": "display_data"
    }
   ],
   "source": [
    "#### Regression Plot\n",
    "reg_plot = figure(plot_width=700, plot_height=400,\n",
    "                title='Regression Plot (All Concurrent Data)',\n",
    "                tools=TOOLS)\n",
    "\n",
    "# plot the concurrent daily flows\n",
    "reg_plot.scatter(concurrent_df['Regional_Q'], concurrent_df['Project_Q'],\n",
    "                color='dodgerblue')\n",
    "\n",
    "#plot the best fit\n",
    "q_range = np.linspace(0, concurrent_df['Regional_Q'].max(), 500)\n",
    "\n",
    "reg_line = [slope * q + intercept for q in q_range]\n",
    "\n",
    "reg_plot.line(q_range, reg_line, legend_label='Q = {:.1f}*Qregional + {:.1f}'.format(slope, intercept),\n",
    "             color='firebrick', line_width=2)\n",
    "\n",
    "show(reg_plot)\n",
    "# plt.xlabel('Regional Station Daily Avg. Flow (m^3/s)')\n",
    "# plt.ylabel('Project Location Daily Avg. Flow (m^3/s)')"
   ]
  },
  {
   "cell_type": "markdown",
   "metadata": {},
   "source": [
    "## Estimate Long-Term Daily Flow at Project Location\n",
    "\n",
    "The last step in the process of a long-term flow estimate for our project location is to use the equation of the best fit line (the model) to calculate estimated daily flows over periods where flow was not measured at our project location."
   ]
  },
  {
   "cell_type": "code",
   "execution_count": 22,
   "metadata": {},
   "outputs": [],
   "source": [
    "lt_series = regional_df.copy()[['Regional Flow (m^3/s)']]\n",
    "lt_series.columns = ['Regional_Q']\n",
    "# map the equation of the best fit line to the regional flow series\n",
    "lt_series['Proj_Q'] = lt_series.apply(lambda q: slope * q + intercept, axis=1)"
   ]
  },
  {
   "cell_type": "markdown",
   "metadata": {},
   "source": [
    "## Compare the Modelled vs. Measured Flow\n"
   ]
  },
  {
   "cell_type": "code",
   "execution_count": 23,
   "metadata": {},
   "outputs": [
    {
     "data": {
      "text/html": [
       "\n",
       "\n",
       "\n",
       "\n",
       "\n",
       "\n",
       "  <div class=\"bk-root\" id=\"31b2611a-aa54-46b9-a5bd-e7f1c11a8e83\" data-root-id=\"1982\"></div>\n"
      ]
     },
     "metadata": {},
     "output_type": "display_data"
    },
    {
     "data": {
      "application/javascript": [
       "(function(root) {\n",
       "  function embed_document(root) {\n",
       "    \n",
       "  var docs_json = {\"214df1cf-04f3-4ade-8a52-9e526ce62d6c\":{\"roots\":{\"references\":[{\"attributes\":{\"below\":[{\"id\":\"1993\"}],\"center\":[{\"id\":\"1996\"},{\"id\":\"2000\"},{\"id\":\"2042\"}],\"left\":[{\"id\":\"1997\"}],\"plot_height\":400,\"plot_width\":700,\"renderers\":[{\"id\":\"2019\"},{\"id\":\"2047\"}],\"title\":{\"id\":\"1983\"},\"toolbar\":{\"id\":\"2009\"},\"x_range\":{\"id\":\"1985\"},\"x_scale\":{\"id\":\"1989\"},\"y_range\":{\"id\":\"1987\"},\"y_scale\":{\"id\":\"1991\"}},\"id\":\"1982\",\"subtype\":\"Figure\",\"type\":\"Plot\"},{\"attributes\":{\"data\":{\"x\":{\"__ndarray__\":\"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\",\"dtype\":\"float64\",\"order\":\"little\",\"shape\":[590]},\"y\":{\"__ndarray__\":\"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\",\"dtype\":\"float64\",\"order\":\"little\",\"shape\":[590]}},\"selected\":{\"id\":\"2039\"},\"selection_policy\":{\"id\":\"2038\"}},\"id\":\"2016\",\"type\":\"ColumnDataSource\"},{\"attributes\":{\"data_source\":{\"id\":\"2016\"},\"glyph\":{\"id\":\"2017\"},\"hover_glyph\":null,\"muted_glyph\":null,\"nonselection_glyph\":{\"id\":\"2018\"},\"selection_glyph\":null,\"view\":{\"id\":\"2020\"}},\"id\":\"2019\",\"type\":\"GlyphRenderer\"},{\"attributes\":{\"axis\":{\"id\":\"1993\"},\"ticker\":null},\"id\":\"1996\",\"type\":\"Grid\"},{\"attributes\":{},\"id\":\"2025\",\"type\":\"BasicTickFormatter\"},{\"attributes\":{\"days\":[1,2,3,4,5,6,7,8,9,10,11,12,13,14,15,16,17,18,19,20,21,22,23,24,25,26,27,28,29,30,31]},\"id\":\"2029\",\"type\":\"DaysTicker\"},{\"attributes\":{\"line_color\":\"dodgerblue\",\"line_width\":2,\"x\":{\"field\":\"x\"},\"y\":{\"field\":\"y\"}},\"id\":\"2017\",\"type\":\"Line\"},{\"attributes\":{},\"id\":\"1998\",\"type\":\"BasicTicker\"},{\"attributes\":{\"formatter\":{\"id\":\"2025\"},\"ticker\":{\"id\":\"1998\"}},\"id\":\"1997\",\"type\":\"LinearAxis\"},{\"attributes\":{},\"id\":\"2003\",\"type\":\"ResetTool\"},{\"attributes\":{},\"id\":\"1991\",\"type\":\"LinearScale\"},{\"attributes\":{\"days\":[1,15]},\"id\":\"2032\",\"type\":\"DaysTicker\"},{\"attributes\":{\"line_alpha\":0.1,\"line_color\":\"dodgerblue\",\"line_width\":2,\"x\":{\"field\":\"x\"},\"y\":{\"field\":\"y\"}},\"id\":\"2018\",\"type\":\"Line\"},{\"attributes\":{\"line_color\":\"darkblue\",\"line_dash\":[6],\"line_width\":2,\"x\":{\"field\":\"x\"},\"y\":{\"field\":\"y\"}},\"id\":\"2045\",\"type\":\"Line\"},{\"attributes\":{\"formatter\":{\"id\":\"2023\"},\"ticker\":{\"id\":\"1994\"}},\"id\":\"1993\",\"type\":\"DatetimeAxis\"},{\"attributes\":{\"line_alpha\":0.1,\"line_color\":\"darkblue\",\"line_dash\":[6],\"line_width\":2,\"x\":{\"field\":\"x\"},\"y\":{\"field\":\"y\"}},\"id\":\"2046\",\"type\":\"Line\"},{\"attributes\":{\"months\":[0,1,2,3,4,5,6,7,8,9,10,11]},\"id\":\"2033\",\"type\":\"MonthsTicker\"},{\"attributes\":{\"text\":\"Measured vs. Modeled Daily Avg. Flow\"},\"id\":\"1983\",\"type\":\"Title\"},{\"attributes\":{\"num_minor_ticks\":5,\"tickers\":[{\"id\":\"2026\"},{\"id\":\"2027\"},{\"id\":\"2028\"},{\"id\":\"2029\"},{\"id\":\"2030\"},{\"id\":\"2031\"},{\"id\":\"2032\"},{\"id\":\"2033\"},{\"id\":\"2034\"},{\"id\":\"2035\"},{\"id\":\"2036\"},{\"id\":\"2037\"}]},\"id\":\"1994\",\"type\":\"DatetimeTicker\"},{\"attributes\":{\"months\":[0,6]},\"id\":\"2036\",\"type\":\"MonthsTicker\"},{\"attributes\":{},\"id\":\"1989\",\"type\":\"LinearScale\"},{\"attributes\":{},\"id\":\"2037\",\"type\":\"YearsTicker\"},{\"attributes\":{},\"id\":\"2039\",\"type\":\"Selection\"},{\"attributes\":{},\"id\":\"1985\",\"type\":\"DataRange1d\"},{\"attributes\":{},\"id\":\"2038\",\"type\":\"UnionRenderers\"},{\"attributes\":{\"days\":[1,8,15,22]},\"id\":\"2031\",\"type\":\"DaysTicker\"},{\"attributes\":{},\"id\":\"2023\",\"type\":\"DatetimeTickFormatter\"},{\"attributes\":{},\"id\":\"2001\",\"type\":\"PanTool\"},{\"attributes\":{},\"id\":\"2068\",\"type\":\"UnionRenderers\"},{\"attributes\":{\"axis\":{\"id\":\"1997\"},\"dimension\":1,\"ticker\":null},\"id\":\"2000\",\"type\":\"Grid\"},{\"attributes\":{\"bottom_units\":\"screen\",\"fill_alpha\":0.5,\"fill_color\":\"lightgrey\",\"left_units\":\"screen\",\"level\":\"overlay\",\"line_alpha\":1.0,\"line_color\":\"black\",\"line_dash\":[4,4],\"line_width\":2,\"right_units\":\"screen\",\"top_units\":\"screen\"},\"id\":\"2007\",\"type\":\"BoxAnnotation\"},{\"attributes\":{\"overlay\":{\"id\":\"2008\"}},\"id\":\"2005\",\"type\":\"PolySelectTool\"},{\"attributes\":{\"callback\":null},\"id\":\"2004\",\"type\":\"HoverTool\"},{\"attributes\":{},\"id\":\"2002\",\"type\":\"WheelZoomTool\"},{\"attributes\":{},\"id\":\"2069\",\"type\":\"Selection\"},{\"attributes\":{\"source\":{\"id\":\"2044\"}},\"id\":\"2048\",\"type\":\"CDSView\"},{\"attributes\":{\"fill_alpha\":0.5,\"fill_color\":\"lightgrey\",\"level\":\"overlay\",\"line_alpha\":1.0,\"line_color\":\"black\",\"line_dash\":[4,4],\"line_width\":2,\"xs_units\":\"screen\",\"ys_units\":\"screen\"},\"id\":\"2008\",\"type\":\"PolyAnnotation\"},{\"attributes\":{\"months\":[0,4,8]},\"id\":\"2035\",\"type\":\"MonthsTicker\"},{\"attributes\":{\"data\":{\"x\":{\"__ndarray__\":\"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\",\"dtype\":\"float64\",\"order\":\"little\",\"shape\":[590]},\"y\":{\"__ndarray__\":\"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\",\"dtype\":\"float64\",\"order\":\"little\",\"shape\":[590]}},\"selected\":{\"id\":\"2069\"},\"selection_policy\":{\"id\":\"2068\"}},\"id\":\"2044\",\"type\":\"ColumnDataSource\"},{\"attributes\":{\"days\":[1,4,7,10,13,16,19,22,25,28]},\"id\":\"2030\",\"type\":\"DaysTicker\"},{\"attributes\":{\"label\":{\"value\":\"Modeled Q\"},\"renderers\":[{\"id\":\"2047\"}]},\"id\":\"2072\",\"type\":\"LegendItem\"},{\"attributes\":{\"overlay\":{\"id\":\"2007\"}},\"id\":\"2006\",\"type\":\"BoxSelectTool\"},{\"attributes\":{\"base\":24,\"mantissas\":[1,2,4,6,8,12],\"max_interval\":43200000.0,\"min_interval\":3600000.0,\"num_minor_ticks\":0},\"id\":\"2028\",\"type\":\"AdaptiveTicker\"},{\"attributes\":{\"data_source\":{\"id\":\"2044\"},\"glyph\":{\"id\":\"2045\"},\"hover_glyph\":null,\"muted_glyph\":null,\"nonselection_glyph\":{\"id\":\"2046\"},\"selection_glyph\":null,\"view\":{\"id\":\"2048\"}},\"id\":\"2047\",\"type\":\"GlyphRenderer\"},{\"attributes\":{\"label\":{\"value\":\"Measured Q\"},\"renderers\":[{\"id\":\"2019\"}]},\"id\":\"2043\",\"type\":\"LegendItem\"},{\"attributes\":{\"base\":60,\"mantissas\":[1,2,5,10,15,20,30],\"max_interval\":1800000.0,\"min_interval\":1000.0,\"num_minor_ticks\":0},\"id\":\"2027\",\"type\":\"AdaptiveTicker\"},{\"attributes\":{\"items\":[{\"id\":\"2043\"},{\"id\":\"2072\"}]},\"id\":\"2042\",\"type\":\"Legend\"},{\"attributes\":{},\"id\":\"1987\",\"type\":\"DataRange1d\"},{\"attributes\":{\"months\":[0,2,4,6,8,10]},\"id\":\"2034\",\"type\":\"MonthsTicker\"},{\"attributes\":{\"active_drag\":\"auto\",\"active_inspect\":\"auto\",\"active_multi\":null,\"active_scroll\":\"auto\",\"active_tap\":\"auto\",\"tools\":[{\"id\":\"2001\"},{\"id\":\"2002\"},{\"id\":\"2003\"},{\"id\":\"2004\"},{\"id\":\"2005\"},{\"id\":\"2006\"}]},\"id\":\"2009\",\"type\":\"Toolbar\"},{\"attributes\":{\"source\":{\"id\":\"2016\"}},\"id\":\"2020\",\"type\":\"CDSView\"},{\"attributes\":{\"mantissas\":[1,2,5],\"max_interval\":500.0,\"num_minor_ticks\":0},\"id\":\"2026\",\"type\":\"AdaptiveTicker\"}],\"root_ids\":[\"1982\"]},\"title\":\"Bokeh Application\",\"version\":\"2.2.1\"}};\n",
       "  var render_items = [{\"docid\":\"214df1cf-04f3-4ade-8a52-9e526ce62d6c\",\"root_ids\":[\"1982\"],\"roots\":{\"1982\":\"31b2611a-aa54-46b9-a5bd-e7f1c11a8e83\"}}];\n",
       "  root.Bokeh.embed.embed_items_notebook(docs_json, render_items);\n",
       "\n",
       "  }\n",
       "  if (root.Bokeh !== undefined) {\n",
       "    embed_document(root);\n",
       "  } else {\n",
       "    var attempts = 0;\n",
       "    var timer = setInterval(function(root) {\n",
       "      if (root.Bokeh !== undefined) {\n",
       "        clearInterval(timer);\n",
       "        embed_document(root);\n",
       "      } else {\n",
       "        attempts++;\n",
       "        if (attempts > 100) {\n",
       "          clearInterval(timer);\n",
       "          console.log(\"Bokeh: ERROR: Unable to run BokehJS code because BokehJS library is missing\");\n",
       "        }\n",
       "      }\n",
       "    }, 10, root)\n",
       "  }\n",
       "})(window);"
      ],
      "application/vnd.bokehjs_exec.v0+json": ""
     },
     "metadata": {
      "application/vnd.bokehjs_exec.v0+json": {
       "id": "1982"
      }
     },
     "output_type": "display_data"
    }
   ],
   "source": [
    "mod_df = pd.concat([stage_df, lt_series], join='inner', axis=1)\n",
    "# keep only the measured and modeled columns\n",
    "mod_df = mod_df[['RC Q (cms)', 'Proj_Q']]\n",
    "# rename the columns to something more intuitive\n",
    "mod_df.columns = ['Measured_Q', 'Modeled_Q']\n",
    "\n",
    "mod_df.dropna(inplace=True)\n",
    "\n",
    "reg_plot = figure(plot_width=700, plot_height=400,\n",
    "                title='Measured vs. Modeled Daily Avg. Flow',\n",
    "                tools=TOOLS, x_axis_type='datetime')\n",
    "\n",
    "reg_plot.line(mod_df.index, mod_df['Measured_Q'], line_width=2,\n",
    "             color='dodgerblue', legend_label='Measured Q')\n",
    "\n",
    "reg_plot.line(mod_df.index, mod_df['Modeled_Q'], line_width=2,\n",
    "             color='darkblue', legend_label='Modeled Q',\n",
    "             line_dash='dashed')\n",
    "\n",
    "show(reg_plot)"
   ]
  },
  {
   "cell_type": "markdown",
   "metadata": {},
   "source": [
    "### In the above plot, note general patterns, specific exceptions, and any trends\n",
    "\n",
    "Note the big deviation between the two series in the summer of 2010.  This looks like our model is doing a particularly bad job in the late summer.  How about in other seasons?   How is the model doing at predicting peaks?  \n",
    "\n",
    "How else can we evaluate how the model is fitting the measured data, noting in particular that we are interested in certain ranges of flows, perhaps for generating energy year-round, or supplying a community with drinking water in a dry season?\n",
    "\n",
    "Recall how we plotted the flow duration curve in Notebook 3.  The flow duration curve is particularly useful for focusing on how well the model matches measured data across the range of flows (though extremes are de-emphasized).  \n",
    "\n",
    "### Plot a comparison of Flow Duration Curves"
   ]
  },
  {
   "cell_type": "code",
   "execution_count": 24,
   "metadata": {},
   "outputs": [
    {
     "data": {
      "text/html": [
       "\n",
       "\n",
       "\n",
       "\n",
       "\n",
       "\n",
       "  <div class=\"bk-root\" id=\"ae1a8d3e-357e-4c02-a914-327f29f273e5\" data-root-id=\"2284\"></div>\n"
      ]
     },
     "metadata": {},
     "output_type": "display_data"
    },
    {
     "data": {
      "application/javascript": [
       "(function(root) {\n",
       "  function embed_document(root) {\n",
       "    \n",
       "  var docs_json = {\"6e42f97e-e1c6-4acc-ab9a-994dd2ef5b9a\":{\"roots\":{\"references\":[{\"attributes\":{\"below\":[{\"id\":\"2295\"}],\"center\":[{\"id\":\"2298\"},{\"id\":\"2302\"},{\"id\":\"2330\"}],\"left\":[{\"id\":\"2299\"}],\"plot_height\":400,\"plot_width\":700,\"renderers\":[{\"id\":\"2320\"},{\"id\":\"2335\"}],\"title\":{\"id\":\"2285\"},\"toolbar\":{\"id\":\"2310\"},\"x_range\":{\"id\":\"2287\"},\"x_scale\":{\"id\":\"2291\"},\"y_range\":{\"id\":\"2289\"},\"y_scale\":{\"id\":\"2293\"}},\"id\":\"2284\",\"subtype\":\"Figure\",\"type\":\"Plot\"},{\"attributes\":{\"label\":{\"value\":\"Modeled\"},\"renderers\":[{\"id\":\"2335\"}]},\"id\":\"2347\",\"type\":\"LegendItem\"},{\"attributes\":{\"line_color\":\"darkblue\",\"line_dash\":[6],\"line_width\":2,\"x\":{\"field\":\"x\"},\"y\":{\"field\":\"y\"}},\"id\":\"2333\",\"type\":\"Line\"},{\"attributes\":{},\"id\":\"2289\",\"type\":\"DataRange1d\"},{\"attributes\":{\"data\":{\"x\":{\"__ndarray__\":\"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\",\"dtype\":\"float64\",\"order\":\"little\",\"shape\":[200]},\"y\":{\"__ndarray__\":\"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\",\"dtype\":\"float64\",\"order\":\"little\",\"shape\":[200]}},\"selected\":{\"id\":\"2345\"},\"selection_policy\":{\"id\":\"2344\"}},\"id\":\"2332\",\"type\":\"ColumnDataSource\"},{\"attributes\":{\"bottom_units\":\"screen\",\"fill_alpha\":0.5,\"fill_color\":\"lightgrey\",\"left_units\":\"screen\",\"level\":\"overlay\",\"line_alpha\":1.0,\"line_color\":\"black\",\"line_dash\":[4,4],\"line_width\":2,\"right_units\":\"screen\",\"top_units\":\"screen\"},\"id\":\"2309\",\"type\":\"BoxAnnotation\"},{\"attributes\":{\"line_alpha\":0.1,\"line_color\":\"darkblue\",\"line_dash\":[6],\"line_width\":2,\"x\":{\"field\":\"x\"},\"y\":{\"field\":\"y\"}},\"id\":\"2334\",\"type\":\"Line\"},{\"attributes\":{\"line_color\":\"dodgerblue\",\"line_width\":2,\"x\":{\"field\":\"x\"},\"y\":{\"field\":\"y\"}},\"id\":\"2318\",\"type\":\"Line\"},{\"attributes\":{},\"id\":\"2327\",\"type\":\"UnionRenderers\"},{\"attributes\":{\"source\":{\"id\":\"2317\"}},\"id\":\"2321\",\"type\":\"CDSView\"},{\"attributes\":{\"overlay\":{\"id\":\"2309\"}},\"id\":\"2305\",\"type\":\"BoxZoomTool\"},{\"attributes\":{\"data\":{\"x\":{\"__ndarray__\":\"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\",\"dtype\":\"float64\",\"order\":\"little\",\"shape\":[200]},\"y\":{\"__ndarray__\":\"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\",\"dtype\":\"float64\",\"order\":\"little\",\"shape\":[200]}},\"selected\":{\"id\":\"2328\"},\"selection_policy\":{\"id\":\"2327\"}},\"id\":\"2317\",\"type\":\"ColumnDataSource\"},{\"attributes\":{},\"id\":\"2308\",\"type\":\"HelpTool\"},{\"attributes\":{},\"id\":\"2291\",\"type\":\"LinearScale\"},{\"attributes\":{},\"id\":\"2300\",\"type\":\"BasicTicker\"},{\"attributes\":{},\"id\":\"2344\",\"type\":\"UnionRenderers\"},{\"attributes\":{\"text\":\"Measured vs. Modeled Flow Duration Curve\"},\"id\":\"2285\",\"type\":\"Title\"},{\"attributes\":{},\"id\":\"2293\",\"type\":\"LinearScale\"},{\"attributes\":{},\"id\":\"2345\",\"type\":\"Selection\"},{\"attributes\":{},\"id\":\"2296\",\"type\":\"BasicTicker\"},{\"attributes\":{\"axis\":{\"id\":\"2299\"},\"dimension\":1,\"ticker\":null},\"id\":\"2302\",\"type\":\"Grid\"},{\"attributes\":{\"line_alpha\":0.1,\"line_color\":\"dodgerblue\",\"line_width\":2,\"x\":{\"field\":\"x\"},\"y\":{\"field\":\"y\"}},\"id\":\"2319\",\"type\":\"Line\"},{\"attributes\":{},\"id\":\"2328\",\"type\":\"Selection\"},{\"attributes\":{},\"id\":\"2326\",\"type\":\"BasicTickFormatter\"},{\"attributes\":{},\"id\":\"2306\",\"type\":\"SaveTool\"},{\"attributes\":{\"axis_label\":\"Flow [m^3/s]\",\"formatter\":{\"id\":\"2326\"},\"ticker\":{\"id\":\"2300\"}},\"id\":\"2299\",\"type\":\"LinearAxis\"},{\"attributes\":{},\"id\":\"2307\",\"type\":\"ResetTool\"},{\"attributes\":{\"items\":[{\"id\":\"2331\"},{\"id\":\"2347\"}]},\"id\":\"2330\",\"type\":\"Legend\"},{\"attributes\":{\"axis_label\":\"Percent of Time Exceeded [%]\",\"formatter\":{\"id\":\"2324\"},\"ticker\":{\"id\":\"2296\"}},\"id\":\"2295\",\"type\":\"LinearAxis\"},{\"attributes\":{\"data_source\":{\"id\":\"2332\"},\"glyph\":{\"id\":\"2333\"},\"hover_glyph\":null,\"muted_glyph\":null,\"nonselection_glyph\":{\"id\":\"2334\"},\"selection_glyph\":null,\"view\":{\"id\":\"2336\"}},\"id\":\"2335\",\"type\":\"GlyphRenderer\"},{\"attributes\":{\"label\":{\"value\":\"Measured\"},\"renderers\":[{\"id\":\"2320\"}]},\"id\":\"2331\",\"type\":\"LegendItem\"},{\"attributes\":{},\"id\":\"2324\",\"type\":\"BasicTickFormatter\"},{\"attributes\":{},\"id\":\"2304\",\"type\":\"WheelZoomTool\"},{\"attributes\":{\"data_source\":{\"id\":\"2317\"},\"glyph\":{\"id\":\"2318\"},\"hover_glyph\":null,\"muted_glyph\":null,\"nonselection_glyph\":{\"id\":\"2319\"},\"selection_glyph\":null,\"view\":{\"id\":\"2321\"}},\"id\":\"2320\",\"type\":\"GlyphRenderer\"},{\"attributes\":{\"axis\":{\"id\":\"2295\"},\"ticker\":null},\"id\":\"2298\",\"type\":\"Grid\"},{\"attributes\":{\"source\":{\"id\":\"2332\"}},\"id\":\"2336\",\"type\":\"CDSView\"},{\"attributes\":{},\"id\":\"2287\",\"type\":\"DataRange1d\"},{\"attributes\":{\"active_drag\":\"auto\",\"active_inspect\":\"auto\",\"active_multi\":null,\"active_scroll\":\"auto\",\"active_tap\":\"auto\",\"tools\":[{\"id\":\"2303\"},{\"id\":\"2304\"},{\"id\":\"2305\"},{\"id\":\"2306\"},{\"id\":\"2307\"},{\"id\":\"2308\"}]},\"id\":\"2310\",\"type\":\"Toolbar\"},{\"attributes\":{},\"id\":\"2303\",\"type\":\"PanTool\"}],\"root_ids\":[\"2284\"]},\"title\":\"Bokeh Application\",\"version\":\"2.2.1\"}};\n",
       "  var render_items = [{\"docid\":\"6e42f97e-e1c6-4acc-ab9a-994dd2ef5b9a\",\"root_ids\":[\"2284\"],\"roots\":{\"2284\":\"ae1a8d3e-357e-4c02-a914-327f29f273e5\"}}];\n",
       "  root.Bokeh.embed.embed_items_notebook(docs_json, render_items);\n",
       "\n",
       "  }\n",
       "  if (root.Bokeh !== undefined) {\n",
       "    embed_document(root);\n",
       "  } else {\n",
       "    var attempts = 0;\n",
       "    var timer = setInterval(function(root) {\n",
       "      if (root.Bokeh !== undefined) {\n",
       "        clearInterval(timer);\n",
       "        embed_document(root);\n",
       "      } else {\n",
       "        attempts++;\n",
       "        if (attempts > 100) {\n",
       "          clearInterval(timer);\n",
       "          console.log(\"Bokeh: ERROR: Unable to run BokehJS code because BokehJS library is missing\");\n",
       "        }\n",
       "      }\n",
       "    }, 10, root)\n",
       "  }\n",
       "})(window);"
      ],
      "application/vnd.bokehjs_exec.v0+json": ""
     },
     "metadata": {
      "application/vnd.bokehjs_exec.v0+json": {
       "id": "2284"
      }
     },
     "output_type": "display_data"
    }
   ],
   "source": [
    "pct_exceeded = np.linspace(0, 100, 200)\n",
    "msd_quantiles = np.percentile(mod_df['Measured_Q'], pct_exceeded)\n",
    "modeled_quantiles = np.percentile(mod_df['Modeled_Q'], pct_exceeded)\n",
    "\n",
    "fdc_plot = figure(width=700, height=400, title='Measured vs. Modeled Flow Duration Curve')\n",
    "fdc_plot.line(pct_exceeded[::-1], msd_quantiles, legend_label=\"Measured\", line_width=2,\n",
    "             color='dodgerblue')\n",
    "fdc_plot.line(pct_exceeded[::-1], modeled_quantiles, line_width=2,\n",
    "             color='darkblue', legend_label='Modeled', line_dash='dashed')\n",
    "fdc_plot.yaxis.axis_label = 'Flow [m^3/s]'\n",
    "fdc_plot.xaxis.axis_label = 'Percent of Time Exceeded [%]'\n",
    "show(fdc_plot)"
   ]
  },
  {
   "cell_type": "markdown",
   "metadata": {},
   "source": [
    "### Estimate the Long-Term Mean Annual Flow for our Project Location\n",
    "\n",
    "Compare the long term mean annual against the short term, then compare the long-term monthly and annual series."
   ]
  },
  {
   "cell_type": "code",
   "execution_count": 25,
   "metadata": {},
   "outputs": [
    {
     "name": "stdout",
     "output_type": "stream",
     "text": [
      "The mean annual flow (MAD) at our project location is 5.6 m^3/s\n",
      "To compare, the average flow over the measured period was 4.7 m^3/s\n"
     ]
    }
   ],
   "source": [
    "lt_mad = lt_series[['Proj_Q']].mean().to_numpy()[0]\n",
    "msd_mean = stage_df[['RC Q (cms)']].mean().to_numpy()[0]\n",
    "\n",
    "print('The mean annual flow (MAD) at our project location is {:.1f} m^3/s'.format(lt_mad))\n",
    "print('To compare, the average flow over the measured period was {:.1f} m^3/s'.format(msd_mean))"
   ]
  },
  {
   "cell_type": "code",
   "execution_count": 26,
   "metadata": {},
   "outputs": [
    {
     "data": {
      "image/png": "[encoded data removed]",
      "text/plain": [
       "<Figure size 432x288 with 1 Axes>"
      ]
     },
     "metadata": {
      "needs_background": "light"
     },
     "output_type": "display_data"
    }
   ],
   "source": [
    "lt_series['year'] = lt_series.index.year\n",
    "annual_series = lt_series[['Proj_Q', 'year']].groupby('year').mean()\n",
    "\n",
    "stage_df['year'] = stage_df.index.year\n",
    "msd_ann = stage_df[['year', 'RC Q (cms)']].groupby('year').mean()\n",
    "\n",
    "plt.plot(annual_series['Proj_Q'], label='LT Modelled')\n",
    "plt.plot([1987, 2017], [lt_mad, lt_mad], label='LT Mean', color='green')\n",
    "plt.scatter(msd_ann.index, msd_ann['RC Q (cms)'], color='red')\n",
    "plt.title('Mean Annual Series')\n",
    "plt.legend()\n",
    "plt.show()"
   ]
  },
  {
   "cell_type": "markdown",
   "metadata": {},
   "source": [
    "## Questions for Submission on Canvas\n",
    "\n",
    "1.  From our regression plot and from the comparison of measured and estimated daily flow series, what do you think about the quality of our model, i.e. how well does the best fit line approximate the concurrent daily flows (blue dots)?  \n",
    "2.  What range of flow is exceeded 67% OR MORE of the time, how well is this range modelled and what might this flow range be pertinent to?  \n",
    "3.  What could differences in concurrent flows at the two locations be attributable to?  \n",
    "4.  How might we modify our model to capture one of the differences you noted in 3?\n",
    "5.  In the last plot, we see that the ~two years we measured flow at our project location were very close to the long-term mean annual.  What if the two years we happened to measure were 2000 and 2001 and we took these as representative without doing a regression analysis with a long-term regional record?"
   ]
  },
  {
   "cell_type": "markdown",
   "metadata": {},
   "source": [
    "## References\n",
    "\n",
    "1. A.S. Hamilton & R.D. Moore (2012). Quantifying Uncertainty in Streamflow Records , Canadian Water Resources Journal / Revue canadienne des ressources hydriques, 37:1, 3-21, DOI: 10.4296/cwrj3701865\n",
    "2. Environment Canada (2012).  Hydrometric Manual - Data Computations.  Water Survey of Canada, Weather and Environmental Monitoring Directorate."
   ]
  }
 ],
 "metadata": {
  "kernelspec": {
   "display_name": "Python 3",
   "language": "python",
   "name": "python3"
  },
  "language_info": {
   "codemirror_mode": {
    "name": "ipython",
    "version": 3
   },
   "file_extension": ".py",
   "mimetype": "text/x-python",
   "name": "python",
   "nbconvert_exporter": "python",
   "pygments_lexer": "ipython3",
   "version": "3.8.5"
  }
 },
 "nbformat": 4,
 "nbformat_minor": 4
}
