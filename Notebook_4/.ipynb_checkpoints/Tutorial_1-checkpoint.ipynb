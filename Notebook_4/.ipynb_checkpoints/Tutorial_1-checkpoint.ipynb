{
 "cells": [
  {
   "cell_type": "markdown",
   "metadata": {},
   "source": [
    "# IWME 502 / CIVL 598G - Advanced Engineering Hydrology\n",
    "\n",
    "## Tutorial 1: Flow Measurement using the Salt Dilution Method"
   ]
  },
  {
   "cell_type": "code",
   "execution_count": 11,
   "metadata": {},
   "outputs": [],
   "source": [
    "# import required packages\n",
    "import pandas as pd\n",
    "import numpy as np\n",
    "import math\n",
    "\n",
    "# plotting library\n",
    "from matplotlib import pyplot as plt\n",
    "# advanced statistics library\n",
    "from scipy import stats\n",
    "\n",
    "%matplotlib inline"
   ]
  },
  {
   "cell_type": "markdown",
   "metadata": {},
   "source": [
    "### Given Information:\n",
    "\n",
    "| Parameter | Value | Units |\n",
    "|---|---|---|\n",
    "| Drainage Area | 89.7 | km<sup>2</sup> |\n",
    "| Gross Head | 100 | m |\n",
    "| Head Loss | 8 | % |\n",
    "| EM Efficiency | 90 | % |\n",
    "| IFR | 0.3 | $\\frac{m^3}{s}$ |\n",
    "\n",
    "* Date of salt dilution measurement: **26 Sept 2010**\n",
    "* Injected Salt Mass: **100 kg**\n"
   ]
  },
  {
   "cell_type": "markdown",
   "metadata": {},
   "source": [
    "### Import the Salt Dilution Data"
   ]
  },
  {
   "cell_type": "code",
   "execution_count": 12,
   "metadata": {},
   "outputs": [],
   "source": [
    "# calibration data\n",
    "sd_cal = pd.read_csv('data/SD_cal.csv')\n",
    "# discharge data\n",
    "sd_data = pd.read_csv('data/SD_data.csv')\n",
    "\n",
    "# data given in  the calibration file\n",
    "cal_solution_concn = 10 # g/L\n",
    "cal_vol = 500 # total calibration volume mL\n",
    "cal_vol_increment = 1 # [mL] increments for calibration solution "
   ]
  },
  {
   "cell_type": "code",
   "execution_count": 13,
   "metadata": {},
   "outputs": [],
   "source": [
    "#  add the volume of solution to the calibration volume\n",
    "sd_cal['Calibration volume (ml)'] = cal_vol + sd_cal['Calibration solution added (ml)']\n",
    "\n",
    "# calculate the equivalent salt mass added from the calibration solution volume\n",
    "# and the calibration solution concentration.\n",
    "sd_cal['Salt added (mg)'] = sd_cal['Calibration solution added (ml)'] * cal_solution_concn\n",
    "sd_cal['Concentration (mg/l)'] = sd_cal['Salt added (mg)'] / (sd_cal['Calibration volume (ml)'] / 1000)\n",
    "\n",
    "# drop empty rows\n",
    "sd_cal.dropna(how='any', inplace=True)"
   ]
  },
  {
   "cell_type": "markdown",
   "metadata": {},
   "source": [
    "## Correct Conductivity for Temperature\n",
    "\n",
    "The electrical conductivity of water is a function of temperature, so it is important that the water used for calibration is the same temperature as the water in the stream being measured.  Alternatively, a temperature correction can be applied.\n",
    "\n",
    "Presented below are two different methods of temperature compensation."
   ]
  },
  {
   "cell_type": "code",
   "execution_count": 14,
   "metadata": {},
   "outputs": [],
   "source": [
    "def eu_std_ect_adjust(temp, ec):\n",
    "    \"\"\"\n",
    "    Takes in a temperature (Theta), and an EC value,\n",
    "    returns a temperature adjusted ECT value\n",
    "    based on EU standard 27888 conversion.\n",
    "    \"\"\"\n",
    "    c1 = -0.198058\n",
    "    c2 = -1.992186\n",
    "    c3 = 231.17628\n",
    "    c4 = 86.39123\n",
    "    r = c1 + math.exp(c2 + c3 / (temp + c4))\n",
    "    c5 = 0.962144\n",
    "    c6 = 0.965078\n",
    "    c7 = 1.116\n",
    "    f25 = ((1 - c5) + c5 * (r**c6)) * c7\n",
    "    return ec * f25\n",
    "\n",
    "def linear2_ect_adjust(temp, ec):\n",
    "    \"\"\"\n",
    "    Takes in a temperature (Theta), and an EC value,\n",
    "    returns a temperature adjusted ECT value\n",
    "    based on linear interpolation with 2% at 25 degrees.\n",
    "    \"\"\"\n",
    "    f25 = 2.0\n",
    "    return ec / (1 + (f25 /100) * (temp - 25))\n"
   ]
  },
  {
   "cell_type": "code",
   "execution_count": 15,
   "metadata": {},
   "outputs": [
    {
     "data": {
      "text/html": [
       "<div>\n",
       "<style scoped>\n",
       "    .dataframe tbody tr th:only-of-type {\n",
       "        vertical-align: middle;\n",
       "    }\n",
       "\n",
       "    .dataframe tbody tr th {\n",
       "        vertical-align: top;\n",
       "    }\n",
       "\n",
       "    .dataframe thead th {\n",
       "        text-align: right;\n",
       "    }\n",
       "</style>\n",
       "<table border=\"1\" class=\"dataframe\">\n",
       "  <thead>\n",
       "    <tr style=\"text-align: right;\">\n",
       "      <th></th>\n",
       "      <th>Calibration volume (ml)</th>\n",
       "      <th>Calibration solution added (ml)</th>\n",
       "      <th>Salt added (mg)</th>\n",
       "      <th>Concentration (mg/l)</th>\n",
       "      <th>Conductivity (microSiemens/cm)</th>\n",
       "      <th>Temperature (C)</th>\n",
       "      <th>ECT (uS/cm)</th>\n",
       "    </tr>\n",
       "  </thead>\n",
       "  <tbody>\n",
       "    <tr>\n",
       "      <th>0</th>\n",
       "      <td>500.0</td>\n",
       "      <td>0.0</td>\n",
       "      <td>0.0</td>\n",
       "      <td>0.000000</td>\n",
       "      <td>303.0</td>\n",
       "      <td>10.8</td>\n",
       "      <td>423.676126</td>\n",
       "    </tr>\n",
       "    <tr>\n",
       "      <th>1</th>\n",
       "      <td>501.0</td>\n",
       "      <td>1.0</td>\n",
       "      <td>10.0</td>\n",
       "      <td>19.960080</td>\n",
       "      <td>343.0</td>\n",
       "      <td>10.8</td>\n",
       "      <td>479.606968</td>\n",
       "    </tr>\n",
       "    <tr>\n",
       "      <th>2</th>\n",
       "      <td>502.0</td>\n",
       "      <td>2.0</td>\n",
       "      <td>20.0</td>\n",
       "      <td>39.840637</td>\n",
       "      <td>380.0</td>\n",
       "      <td>10.8</td>\n",
       "      <td>531.342997</td>\n",
       "    </tr>\n",
       "    <tr>\n",
       "      <th>3</th>\n",
       "      <td>503.0</td>\n",
       "      <td>3.0</td>\n",
       "      <td>30.0</td>\n",
       "      <td>59.642147</td>\n",
       "      <td>426.0</td>\n",
       "      <td>10.8</td>\n",
       "      <td>595.663465</td>\n",
       "    </tr>\n",
       "    <tr>\n",
       "      <th>4</th>\n",
       "      <td>504.0</td>\n",
       "      <td>4.0</td>\n",
       "      <td>40.0</td>\n",
       "      <td>79.365079</td>\n",
       "      <td>464.0</td>\n",
       "      <td>10.8</td>\n",
       "      <td>648.797764</td>\n",
       "    </tr>\n",
       "    <tr>\n",
       "      <th>5</th>\n",
       "      <td>505.0</td>\n",
       "      <td>5.0</td>\n",
       "      <td>50.0</td>\n",
       "      <td>99.009901</td>\n",
       "      <td>505.0</td>\n",
       "      <td>10.8</td>\n",
       "      <td>706.126877</td>\n",
       "    </tr>\n",
       "    <tr>\n",
       "      <th>6</th>\n",
       "      <td>506.0</td>\n",
       "      <td>6.0</td>\n",
       "      <td>60.0</td>\n",
       "      <td>118.577075</td>\n",
       "      <td>546.0</td>\n",
       "      <td>10.8</td>\n",
       "      <td>763.455990</td>\n",
       "    </tr>\n",
       "  </tbody>\n",
       "</table>\n",
       "</div>"
      ],
      "text/plain": [
       "   Calibration volume (ml)  Calibration solution added (ml)  Salt added (mg)  \\\n",
       "0                    500.0                              0.0              0.0   \n",
       "1                    501.0                              1.0             10.0   \n",
       "2                    502.0                              2.0             20.0   \n",
       "3                    503.0                              3.0             30.0   \n",
       "4                    504.0                              4.0             40.0   \n",
       "5                    505.0                              5.0             50.0   \n",
       "6                    506.0                              6.0             60.0   \n",
       "\n",
       "   Concentration (mg/l)  Conductivity (microSiemens/cm)  Temperature (C)  \\\n",
       "0              0.000000                           303.0             10.8   \n",
       "1             19.960080                           343.0             10.8   \n",
       "2             39.840637                           380.0             10.8   \n",
       "3             59.642147                           426.0             10.8   \n",
       "4             79.365079                           464.0             10.8   \n",
       "5             99.009901                           505.0             10.8   \n",
       "6            118.577075                           546.0             10.8   \n",
       "\n",
       "   ECT (uS/cm)  \n",
       "0   423.676126  \n",
       "1   479.606968  \n",
       "2   531.342997  \n",
       "3   595.663465  \n",
       "4   648.797764  \n",
       "5   706.126877  \n",
       "6   763.455990  "
      ]
     },
     "execution_count": 15,
     "metadata": {},
     "output_type": "execute_result"
    }
   ],
   "source": [
    "# apply temperature compensation conductivity for temperature \n",
    "sd_cal['ECT (uS/cm)'] = sd_cal.apply(lambda x: eu_std_ect_adjust(temp=x['Temperature (C)'], ec=x['Conductivity (microSiemens/cm)']), axis=1)\n",
    "sd_cal"
   ]
  },
  {
   "cell_type": "markdown",
   "metadata": {},
   "source": [
    "### Plot the calibration and best fit line"
   ]
  },
  {
   "cell_type": "code",
   "execution_count": 50,
   "metadata": {},
   "outputs": [
    {
     "data": {
      "text/plain": [
       "<matplotlib.legend.Legend at 0x7f63ce807668>"
      ]
     },
     "execution_count": 50,
     "metadata": {},
     "output_type": "execute_result"
    },
    {
     "data": {
      "image/png": "[encoded data removed]",
      "text/plain": [
       "<Figure size 720x432 with 1 Axes>"
      ]
     },
     "metadata": {
      "needs_background": "light"
     },
     "output_type": "display_data"
    }
   ],
   "source": [
    "fig, ax = plt.subplots(1, 1, figsize=(10,6))\n",
    "\n",
    "# figure(title='Salt Dilution Calibration', plot_width=700, plot_height=500,\n",
    "#                 tools='pan,wheel_zoom,box_zoom,box_select,reset',\n",
    "#                 toolbar_location=\"above\")\n",
    "\n",
    "# ignore the first row (0, 0)\n",
    "cond_series = sd_cal['Conductivity (microSiemens/cm)'].loc[1:]\n",
    "conc_series = sd_cal['Concentration (mg/l)'].loc[1:]\n",
    "\n",
    "plt.plot(cond_series, conc_series, 'ro', label=\"Calibration Points\")\n",
    "\n",
    "# cal_fig.circle(\n",
    "#               size=6, legend_label=\"Calibration Points\",\n",
    "#               color=\"red\", alpha=0.6)\n",
    "\n",
    "# plt.set_ylabel('Temp. Compenstated Conductivity [uS/cm]')\n",
    "ax.set_xlabel('Temp. Compenstated Conductivity [uS/cm]')\n",
    "ax.set_ylabel('Concentration [mg/l]')\n",
    "\n",
    "# add best fit line\n",
    "slope, intercept, r_value, p_value, std_err = scipy.stats.linregress(cond_series,\n",
    "                                                                    conc_series)\n",
    "x_range = np.linspace(cond_series.min(), cond_series.max(),  100)\n",
    "best_fit = [x * slope + intercept for x in x_range]\n",
    "\n",
    "plt.plot(x_range, best_fit, 'b--', label='Best Fit (R^2 = {:.2f})'.format(r_value**2))\n",
    "plt.legend()"
   ]
  },
  {
   "cell_type": "markdown",
   "metadata": {},
   "source": [
    "### Best Fit slope and R<sup>2</sup> of calibration points"
   ]
  },
  {
   "cell_type": "code",
   "execution_count": 32,
   "metadata": {},
   "outputs": [
    {
     "name": "stdout",
     "output_type": "stream",
     "text": [
      "The calibration best fit slope is 0.48 [[mg/L] / [uS/cm]] \n",
      " and the coefficient of determination of the calibration is 0.9995.\n"
     ]
    }
   ],
   "source": [
    "print('The calibration best fit slope is {} [[mg/L] / [uS/cm]] \\n and the coefficient of determination of the calibration is {}.'.format(round(slope,2), round(r_value**2, 4)))"
   ]
  },
  {
   "cell_type": "markdown",
   "metadata": {},
   "source": [
    "### Plot the measurement\n",
    "\n",
    "The data states that the conductivity measured with the probe is already temperature compensated.\n"
   ]
  },
  {
   "cell_type": "code",
   "execution_count": 33,
   "metadata": {},
   "outputs": [],
   "source": [
    "msmt_start = 190\n",
    "msmt_end = 800"
   ]
  },
  {
   "cell_type": "code",
   "execution_count": 65,
   "metadata": {},
   "outputs": [
    {
     "data": {
      "text/plain": [
       "<matplotlib.legend.Legend at 0x7f63ce763e48>"
      ]
     },
     "execution_count": 65,
     "metadata": {},
     "output_type": "execute_result"
    },
    {
     "data": {
      "image/png": "[encoded data removed]",
      "text/plain": [
       "<Figure size 720x432 with 1 Axes>"
      ]
     },
     "metadata": {
      "needs_background": "light"
     },
     "output_type": "display_data"
    }
   ],
   "source": [
    "fig, ax = plt.subplots(1, 1, figsize=(10,6))\n",
    "\n",
    "ax.plot(sd_data['Time (s)'], sd_data['ECT (uS/cm)'], label=\"ECT (uS/cm)\")\n",
    "\n",
    "ax.set_xlabel('Elapsed Time (s)')\n",
    "ax.set_ylabel('Temp. Compenstated Conductivity [uS/cm]')\n",
    "ax.set_title('Salt Dilution Measurement')\n",
    "\n",
    "start_bg = 0  # set the time (in seconds) for the end point of the background\n",
    "end_bg = 150  # set the time (in seconds) for the end point of the background\n",
    "ax.plot(sd_data['Time (s)'].iloc[start_bg: end_bg], \n",
    "              sd_data['ECT (uS/cm)'].iloc[start_bg: end_bg], 'ro',\n",
    "                label='Background')\n",
    "\n",
    "\n",
    "background_ect = sd_data['ECT (uS/cm)'].iloc[start_bg: end_bg].mean()\n",
    "\n",
    "ax.plot(sd_data['Time (s)'].iloc[msmt_start], \n",
    "        sd_data['ECT (uS/cm)'].iloc[msmt_start], 'go',\n",
    "        label='Measurement Start & End')\n",
    "\n",
    "ax.plot(sd_data['Time (s)'].iloc[msmt_end], \n",
    "        sd_data['ECT (uS/cm)'].iloc[msmt_end],\n",
    "       'go')\n",
    "\n",
    "plt.legend()"
   ]
  },
  {
   "cell_type": "markdown",
   "metadata": {},
   "source": [
    "### Calculate the Discharge\n",
    "Calculate the area under the curve\n",
    "\n",
    "\n",
    "The area is: $$A_{curve} = \\sum_{i=start}^{end} (ECT_i - ECT_{BG,i}) \\cdot Slope_{calibration} \\cdot t_{step,i} = \\frac{\\mu S}{cm} \\cdot \\frac {mg/L}{\\mu S/cm} \\cdot s = \\frac {mg}{L} \\cdot s$$\n",
    "Then discharge (Q) is calculated by: $\\frac{m_{salt}}{A_{curve}} = \\frac{M\\cdot kg \\cdot \\frac{1x10^6 mg}{1kg}}{\\frac {mg}{L} \\cdot \\frac{1000 L}{1m^3} \\cdot s} = \\frac {m^3}{s}$\n"
   ]
  },
  {
   "cell_type": "code",
   "execution_count": 66,
   "metadata": {},
   "outputs": [
    {
     "data": {
      "text/html": [
       "<div>\n",
       "<style scoped>\n",
       "    .dataframe tbody tr th:only-of-type {\n",
       "        vertical-align: middle;\n",
       "    }\n",
       "\n",
       "    .dataframe tbody tr th {\n",
       "        vertical-align: top;\n",
       "    }\n",
       "\n",
       "    .dataframe thead th {\n",
       "        text-align: right;\n",
       "    }\n",
       "</style>\n",
       "<table border=\"1\" class=\"dataframe\">\n",
       "  <thead>\n",
       "    <tr style=\"text-align: right;\">\n",
       "      <th></th>\n",
       "      <th>Time (s)</th>\n",
       "      <th>ECT (uS/cm)</th>\n",
       "      <th>Temperature (C)</th>\n",
       "    </tr>\n",
       "  </thead>\n",
       "  <tbody>\n",
       "    <tr>\n",
       "      <th>0</th>\n",
       "      <td>1</td>\n",
       "      <td>298</td>\n",
       "      <td>10.8</td>\n",
       "    </tr>\n",
       "    <tr>\n",
       "      <th>1</th>\n",
       "      <td>2</td>\n",
       "      <td>298</td>\n",
       "      <td>10.8</td>\n",
       "    </tr>\n",
       "    <tr>\n",
       "      <th>2</th>\n",
       "      <td>3</td>\n",
       "      <td>298</td>\n",
       "      <td>10.8</td>\n",
       "    </tr>\n",
       "    <tr>\n",
       "      <th>3</th>\n",
       "      <td>4</td>\n",
       "      <td>298</td>\n",
       "      <td>10.8</td>\n",
       "    </tr>\n",
       "    <tr>\n",
       "      <th>4</th>\n",
       "      <td>5</td>\n",
       "      <td>298</td>\n",
       "      <td>10.8</td>\n",
       "    </tr>\n",
       "  </tbody>\n",
       "</table>\n",
       "</div>"
      ],
      "text/plain": [
       "   Time (s)  ECT (uS/cm)  Temperature (C)\n",
       "0         1          298             10.8\n",
       "1         2          298             10.8\n",
       "2         3          298             10.8\n",
       "3         4          298             10.8\n",
       "4         5          298             10.8"
      ]
     },
     "execution_count": 66,
     "metadata": {},
     "output_type": "execute_result"
    }
   ],
   "source": [
    "sd_data.head()"
   ]
  },
  {
   "cell_type": "code",
   "execution_count": 67,
   "metadata": {},
   "outputs": [
    {
     "name": "stdout",
     "output_type": "stream",
     "text": [
      "The calculated discharge for the measurement is 11.99 m^3/s\n"
     ]
    }
   ],
   "source": [
    "sd_data['t_elapsed'] = sd_data['Time (s)']\n",
    "\n",
    "\n",
    "sd_data['Concentration'] = (sd_data['ECT (uS/cm)'] - background_ect) * slope\n",
    "\n",
    "time_step = 1 # the time step of the EC measurement device is 1s\n",
    "\n",
    "conc_Area = sum(sd_data['Concentration'] * time_step)\n",
    "\n",
    "mass = 100 # 100 kg salt was dumped in the river\n",
    "\n",
    "Q_calculated = mass * 1000 / conc_Area\n",
    "\n",
    "print('The calculated discharge for the measurement is {} m^3/s'.format(round(Q_calculated, 2)))"
   ]
  }
 ],
 "metadata": {
  "kernelspec": {
   "display_name": "Python 3",
   "language": "python",
   "name": "python3"
  },
  "language_info": {
   "codemirror_mode": {
    "name": "ipython",
    "version": 3
   },
   "file_extension": ".py",
   "mimetype": "text/x-python",
   "name": "python",
   "nbconvert_exporter": "python",
   "pygments_lexer": "ipython3",
   "version": "3.6.9"
  }
 },
 "nbformat": 4,
 "nbformat_minor": 4
}
