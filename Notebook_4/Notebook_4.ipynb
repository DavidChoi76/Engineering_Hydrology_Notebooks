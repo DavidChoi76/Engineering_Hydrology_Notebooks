{
 "cells": [
  {
   "cell_type": "markdown",
   "metadata": {},
   "source": [
    "# Notebook 4: Characterization of Long-Term Runoff"
   ]
  },
  {
   "cell_type": "code",
   "execution_count": 1,
   "metadata": {},
   "outputs": [
    {
     "data": {
      "text/html": [
       "\n",
       "    <div class=\"bk-root\">\n",
       "        <a href=\"https://bokeh.org\" target=\"_blank\" class=\"bk-logo bk-logo-small bk-logo-notebook\"></a>\n",
       "        <span id=\"1001\">Loading BokehJS ...</span>\n",
       "    </div>"
      ]
     },
     "metadata": {},
     "output_type": "display_data"
    },
    {
     "data": {
      "application/javascript": [
       "\n",
       "(function(root) {\n",
       "  function now() {\n",
       "    return new Date();\n",
       "  }\n",
       "\n",
       "  var force = true;\n",
       "\n",
       "  if (typeof root._bokeh_onload_callbacks === \"undefined\" || force === true) {\n",
       "    root._bokeh_onload_callbacks = [];\n",
       "    root._bokeh_is_loading = undefined;\n",
       "  }\n",
       "\n",
       "  var JS_MIME_TYPE = 'application/javascript';\n",
       "  var HTML_MIME_TYPE = 'text/html';\n",
       "  var EXEC_MIME_TYPE = 'application/vnd.bokehjs_exec.v0+json';\n",
       "  var CLASS_NAME = 'output_bokeh rendered_html';\n",
       "\n",
       "  /**\n",
       "   * Render data to the DOM node\n",
       "   */\n",
       "  function render(props, node) {\n",
       "    var script = document.createElement(\"script\");\n",
       "    node.appendChild(script);\n",
       "  }\n",
       "\n",
       "  /**\n",
       "   * Handle when an output is cleared or removed\n",
       "   */\n",
       "  function handleClearOutput(event, handle) {\n",
       "    var cell = handle.cell;\n",
       "\n",
       "    var id = cell.output_area._bokeh_element_id;\n",
       "    var server_id = cell.output_area._bokeh_server_id;\n",
       "    // Clean up Bokeh references\n",
       "    if (id != null && id in Bokeh.index) {\n",
       "      Bokeh.index[id].model.document.clear();\n",
       "      delete Bokeh.index[id];\n",
       "    }\n",
       "\n",
       "    if (server_id !== undefined) {\n",
       "      // Clean up Bokeh references\n",
       "      var cmd = \"from bokeh.io.state import curstate; print(curstate().uuid_to_server['\" + server_id + \"'].get_sessions()[0].document.roots[0]._id)\";\n",
       "      cell.notebook.kernel.execute(cmd, {\n",
       "        iopub: {\n",
       "          output: function(msg) {\n",
       "            var id = msg.content.text.trim();\n",
       "            if (id in Bokeh.index) {\n",
       "              Bokeh.index[id].model.document.clear();\n",
       "              delete Bokeh.index[id];\n",
       "            }\n",
       "          }\n",
       "        }\n",
       "      });\n",
       "      // Destroy server and session\n",
       "      var cmd = \"import bokeh.io.notebook as ion; ion.destroy_server('\" + server_id + \"')\";\n",
       "      cell.notebook.kernel.execute(cmd);\n",
       "    }\n",
       "  }\n",
       "\n",
       "  /**\n",
       "   * Handle when a new output is added\n",
       "   */\n",
       "  function handleAddOutput(event, handle) {\n",
       "    var output_area = handle.output_area;\n",
       "    var output = handle.output;\n",
       "\n",
       "    // limit handleAddOutput to display_data with EXEC_MIME_TYPE content only\n",
       "    if ((output.output_type != \"display_data\") || (!output.data.hasOwnProperty(EXEC_MIME_TYPE))) {\n",
       "      return\n",
       "    }\n",
       "\n",
       "    var toinsert = output_area.element.find(\".\" + CLASS_NAME.split(' ')[0]);\n",
       "\n",
       "    if (output.metadata[EXEC_MIME_TYPE][\"id\"] !== undefined) {\n",
       "      toinsert[toinsert.length - 1].firstChild.textContent = output.data[JS_MIME_TYPE];\n",
       "      // store reference to embed id on output_area\n",
       "      output_area._bokeh_element_id = output.metadata[EXEC_MIME_TYPE][\"id\"];\n",
       "    }\n",
       "    if (output.metadata[EXEC_MIME_TYPE][\"server_id\"] !== undefined) {\n",
       "      var bk_div = document.createElement(\"div\");\n",
       "      bk_div.innerHTML = output.data[HTML_MIME_TYPE];\n",
       "      var script_attrs = bk_div.children[0].attributes;\n",
       "      for (var i = 0; i < script_attrs.length; i++) {\n",
       "        toinsert[toinsert.length - 1].firstChild.setAttribute(script_attrs[i].name, script_attrs[i].value);\n",
       "        toinsert[toinsert.length - 1].firstChild.textContent = bk_div.children[0].textContent\n",
       "      }\n",
       "      // store reference to server id on output_area\n",
       "      output_area._bokeh_server_id = output.metadata[EXEC_MIME_TYPE][\"server_id\"];\n",
       "    }\n",
       "  }\n",
       "\n",
       "  function register_renderer(events, OutputArea) {\n",
       "\n",
       "    function append_mime(data, metadata, element) {\n",
       "      // create a DOM node to render to\n",
       "      var toinsert = this.create_output_subarea(\n",
       "        metadata,\n",
       "        CLASS_NAME,\n",
       "        EXEC_MIME_TYPE\n",
       "      );\n",
       "      this.keyboard_manager.register_events(toinsert);\n",
       "      // Render to node\n",
       "      var props = {data: data, metadata: metadata[EXEC_MIME_TYPE]};\n",
       "      render(props, toinsert[toinsert.length - 1]);\n",
       "      element.append(toinsert);\n",
       "      return toinsert\n",
       "    }\n",
       "\n",
       "    /* Handle when an output is cleared or removed */\n",
       "    events.on('clear_output.CodeCell', handleClearOutput);\n",
       "    events.on('delete.Cell', handleClearOutput);\n",
       "\n",
       "    /* Handle when a new output is added */\n",
       "    events.on('output_added.OutputArea', handleAddOutput);\n",
       "\n",
       "    /**\n",
       "     * Register the mime type and append_mime function with output_area\n",
       "     */\n",
       "    OutputArea.prototype.register_mime_type(EXEC_MIME_TYPE, append_mime, {\n",
       "      /* Is output safe? */\n",
       "      safe: true,\n",
       "      /* Index of renderer in `output_area.display_order` */\n",
       "      index: 0\n",
       "    });\n",
       "  }\n",
       "\n",
       "  // register the mime type if in Jupyter Notebook environment and previously unregistered\n",
       "  if (root.Jupyter !== undefined) {\n",
       "    var events = require('base/js/events');\n",
       "    var OutputArea = require('notebook/js/outputarea').OutputArea;\n",
       "\n",
       "    if (OutputArea.prototype.mime_types().indexOf(EXEC_MIME_TYPE) == -1) {\n",
       "      register_renderer(events, OutputArea);\n",
       "    }\n",
       "  }\n",
       "\n",
       "  \n",
       "  if (typeof (root._bokeh_timeout) === \"undefined\" || force === true) {\n",
       "    root._bokeh_timeout = Date.now() + 5000;\n",
       "    root._bokeh_failed_load = false;\n",
       "  }\n",
       "\n",
       "  var NB_LOAD_WARNING = {'data': {'text/html':\n",
       "     \"<div style='background-color: #fdd'>\\n\"+\n",
       "     \"<p>\\n\"+\n",
       "     \"BokehJS does not appear to have successfully loaded. If loading BokehJS from CDN, this \\n\"+\n",
       "     \"may be due to a slow or bad network connection. Possible fixes:\\n\"+\n",
       "     \"</p>\\n\"+\n",
       "     \"<ul>\\n\"+\n",
       "     \"<li>re-rerun `output_notebook()` to attempt to load from CDN again, or</li>\\n\"+\n",
       "     \"<li>use INLINE resources instead, as so:</li>\\n\"+\n",
       "     \"</ul>\\n\"+\n",
       "     \"<code>\\n\"+\n",
       "     \"from bokeh.resources import INLINE\\n\"+\n",
       "     \"output_notebook(resources=INLINE)\\n\"+\n",
       "     \"</code>\\n\"+\n",
       "     \"</div>\"}};\n",
       "\n",
       "  function display_loaded() {\n",
       "    var el = document.getElementById(\"1001\");\n",
       "    if (el != null) {\n",
       "      el.textContent = \"BokehJS is loading...\";\n",
       "    }\n",
       "    if (root.Bokeh !== undefined) {\n",
       "      if (el != null) {\n",
       "        el.textContent = \"BokehJS \" + root.Bokeh.version + \" successfully loaded.\";\n",
       "      }\n",
       "    } else if (Date.now() < root._bokeh_timeout) {\n",
       "      setTimeout(display_loaded, 100)\n",
       "    }\n",
       "  }\n",
       "\n",
       "\n",
       "  function run_callbacks() {\n",
       "    try {\n",
       "      root._bokeh_onload_callbacks.forEach(function(callback) {\n",
       "        if (callback != null)\n",
       "          callback();\n",
       "      });\n",
       "    } finally {\n",
       "      delete root._bokeh_onload_callbacks\n",
       "    }\n",
       "    console.debug(\"Bokeh: all callbacks have finished\");\n",
       "  }\n",
       "\n",
       "  function load_libs(css_urls, js_urls, callback) {\n",
       "    if (css_urls == null) css_urls = [];\n",
       "    if (js_urls == null) js_urls = [];\n",
       "\n",
       "    root._bokeh_onload_callbacks.push(callback);\n",
       "    if (root._bokeh_is_loading > 0) {\n",
       "      console.debug(\"Bokeh: BokehJS is being loaded, scheduling callback at\", now());\n",
       "      return null;\n",
       "    }\n",
       "    if (js_urls == null || js_urls.length === 0) {\n",
       "      run_callbacks();\n",
       "      return null;\n",
       "    }\n",
       "    console.debug(\"Bokeh: BokehJS not loaded, scheduling load and callback at\", now());\n",
       "    root._bokeh_is_loading = css_urls.length + js_urls.length;\n",
       "\n",
       "    function on_load() {\n",
       "      root._bokeh_is_loading--;\n",
       "      if (root._bokeh_is_loading === 0) {\n",
       "        console.debug(\"Bokeh: all BokehJS libraries/stylesheets loaded\");\n",
       "        run_callbacks()\n",
       "      }\n",
       "    }\n",
       "\n",
       "    function on_error() {\n",
       "      console.error(\"failed to load \" + url);\n",
       "    }\n",
       "\n",
       "    for (var i = 0; i < css_urls.length; i++) {\n",
       "      var url = css_urls[i];\n",
       "      const element = document.createElement(\"link\");\n",
       "      element.onload = on_load;\n",
       "      element.onerror = on_error;\n",
       "      element.rel = \"stylesheet\";\n",
       "      element.type = \"text/css\";\n",
       "      element.href = url;\n",
       "      console.debug(\"Bokeh: injecting link tag for BokehJS stylesheet: \", url);\n",
       "      document.body.appendChild(element);\n",
       "    }\n",
       "\n",
       "    const hashes = {\"https://cdn.bokeh.org/bokeh/release/bokeh-2.2.1.min.js\": \"qkRvDQVAIfzsJo40iRBbxt6sttt0hv4lh74DG7OK4MCHv4C5oohXYoHUM5W11uqS\", \"https://cdn.bokeh.org/bokeh/release/bokeh-widgets-2.2.1.min.js\": \"Sb7Mr06a9TNlet/GEBeKaf5xH3eb6AlCzwjtU82wNPyDrnfoiVl26qnvlKjmcAd+\", \"https://cdn.bokeh.org/bokeh/release/bokeh-tables-2.2.1.min.js\": \"HaJ15vgfmcfRtB4c4YBOI4f1MUujukqInOWVqZJZZGK7Q+ivud0OKGSTn/Vm2iso\"};\n",
       "\n",
       "    for (var i = 0; i < js_urls.length; i++) {\n",
       "      var url = js_urls[i];\n",
       "      var element = document.createElement('script');\n",
       "      element.onload = on_load;\n",
       "      element.onerror = on_error;\n",
       "      element.async = false;\n",
       "      element.src = url;\n",
       "      if (url in hashes) {\n",
       "        element.crossOrigin = \"anonymous\";\n",
       "        element.integrity = \"sha384-\" + hashes[url];\n",
       "      }\n",
       "      console.debug(\"Bokeh: injecting script tag for BokehJS library: \", url);\n",
       "      document.head.appendChild(element);\n",
       "    }\n",
       "  };\n",
       "\n",
       "  function inject_raw_css(css) {\n",
       "    const element = document.createElement(\"style\");\n",
       "    element.appendChild(document.createTextNode(css));\n",
       "    document.body.appendChild(element);\n",
       "  }\n",
       "\n",
       "  \n",
       "  var js_urls = [\"https://cdn.bokeh.org/bokeh/release/bokeh-2.2.1.min.js\", \"https://cdn.bokeh.org/bokeh/release/bokeh-widgets-2.2.1.min.js\", \"https://cdn.bokeh.org/bokeh/release/bokeh-tables-2.2.1.min.js\"];\n",
       "  var css_urls = [];\n",
       "  \n",
       "\n",
       "  var inline_js = [\n",
       "    function(Bokeh) {\n",
       "      Bokeh.set_log_level(\"info\");\n",
       "    },\n",
       "    function(Bokeh) {\n",
       "    \n",
       "    \n",
       "    }\n",
       "  ];\n",
       "\n",
       "  function run_inline_js() {\n",
       "    \n",
       "    if (root.Bokeh !== undefined || force === true) {\n",
       "      \n",
       "    for (var i = 0; i < inline_js.length; i++) {\n",
       "      inline_js[i].call(root, root.Bokeh);\n",
       "    }\n",
       "    if (force === true) {\n",
       "        display_loaded();\n",
       "      }} else if (Date.now() < root._bokeh_timeout) {\n",
       "      setTimeout(run_inline_js, 100);\n",
       "    } else if (!root._bokeh_failed_load) {\n",
       "      console.log(\"Bokeh: BokehJS failed to load within specified timeout.\");\n",
       "      root._bokeh_failed_load = true;\n",
       "    } else if (force !== true) {\n",
       "      var cell = $(document.getElementById(\"1001\")).parents('.cell').data().cell;\n",
       "      cell.output_area.append_execute_result(NB_LOAD_WARNING)\n",
       "    }\n",
       "\n",
       "  }\n",
       "\n",
       "  if (root._bokeh_is_loading === 0) {\n",
       "    console.debug(\"Bokeh: BokehJS loaded, going straight to plotting\");\n",
       "    run_inline_js();\n",
       "  } else {\n",
       "    load_libs(css_urls, js_urls, function() {\n",
       "      console.debug(\"Bokeh: BokehJS plotting callback run at\", now());\n",
       "      run_inline_js();\n",
       "    });\n",
       "  }\n",
       "}(window));"
      ],
      "application/vnd.bokehjs_load.v0+json": "\n(function(root) {\n  function now() {\n    return new Date();\n  }\n\n  var force = true;\n\n  if (typeof root._bokeh_onload_callbacks === \"undefined\" || force === true) {\n    root._bokeh_onload_callbacks = [];\n    root._bokeh_is_loading = undefined;\n  }\n\n  \n\n  \n  if (typeof (root._bokeh_timeout) === \"undefined\" || force === true) {\n    root._bokeh_timeout = Date.now() + 5000;\n    root._bokeh_failed_load = false;\n  }\n\n  var NB_LOAD_WARNING = {'data': {'text/html':\n     \"<div style='background-color: #fdd'>\\n\"+\n     \"<p>\\n\"+\n     \"BokehJS does not appear to have successfully loaded. If loading BokehJS from CDN, this \\n\"+\n     \"may be due to a slow or bad network connection. Possible fixes:\\n\"+\n     \"</p>\\n\"+\n     \"<ul>\\n\"+\n     \"<li>re-rerun `output_notebook()` to attempt to load from CDN again, or</li>\\n\"+\n     \"<li>use INLINE resources instead, as so:</li>\\n\"+\n     \"</ul>\\n\"+\n     \"<code>\\n\"+\n     \"from bokeh.resources import INLINE\\n\"+\n     \"output_notebook(resources=INLINE)\\n\"+\n     \"</code>\\n\"+\n     \"</div>\"}};\n\n  function display_loaded() {\n    var el = document.getElementById(\"1001\");\n    if (el != null) {\n      el.textContent = \"BokehJS is loading...\";\n    }\n    if (root.Bokeh !== undefined) {\n      if (el != null) {\n        el.textContent = \"BokehJS \" + root.Bokeh.version + \" successfully loaded.\";\n      }\n    } else if (Date.now() < root._bokeh_timeout) {\n      setTimeout(display_loaded, 100)\n    }\n  }\n\n\n  function run_callbacks() {\n    try {\n      root._bokeh_onload_callbacks.forEach(function(callback) {\n        if (callback != null)\n          callback();\n      });\n    } finally {\n      delete root._bokeh_onload_callbacks\n    }\n    console.debug(\"Bokeh: all callbacks have finished\");\n  }\n\n  function load_libs(css_urls, js_urls, callback) {\n    if (css_urls == null) css_urls = [];\n    if (js_urls == null) js_urls = [];\n\n    root._bokeh_onload_callbacks.push(callback);\n    if (root._bokeh_is_loading > 0) {\n      console.debug(\"Bokeh: BokehJS is being loaded, scheduling callback at\", now());\n      return null;\n    }\n    if (js_urls == null || js_urls.length === 0) {\n      run_callbacks();\n      return null;\n    }\n    console.debug(\"Bokeh: BokehJS not loaded, scheduling load and callback at\", now());\n    root._bokeh_is_loading = css_urls.length + js_urls.length;\n\n    function on_load() {\n      root._bokeh_is_loading--;\n      if (root._bokeh_is_loading === 0) {\n        console.debug(\"Bokeh: all BokehJS libraries/stylesheets loaded\");\n        run_callbacks()\n      }\n    }\n\n    function on_error() {\n      console.error(\"failed to load \" + url);\n    }\n\n    for (var i = 0; i < css_urls.length; i++) {\n      var url = css_urls[i];\n      const element = document.createElement(\"link\");\n      element.onload = on_load;\n      element.onerror = on_error;\n      element.rel = \"stylesheet\";\n      element.type = \"text/css\";\n      element.href = url;\n      console.debug(\"Bokeh: injecting link tag for BokehJS stylesheet: \", url);\n      document.body.appendChild(element);\n    }\n\n    const hashes = {\"https://cdn.bokeh.org/bokeh/release/bokeh-2.2.1.min.js\": \"qkRvDQVAIfzsJo40iRBbxt6sttt0hv4lh74DG7OK4MCHv4C5oohXYoHUM5W11uqS\", \"https://cdn.bokeh.org/bokeh/release/bokeh-widgets-2.2.1.min.js\": \"Sb7Mr06a9TNlet/GEBeKaf5xH3eb6AlCzwjtU82wNPyDrnfoiVl26qnvlKjmcAd+\", \"https://cdn.bokeh.org/bokeh/release/bokeh-tables-2.2.1.min.js\": \"HaJ15vgfmcfRtB4c4YBOI4f1MUujukqInOWVqZJZZGK7Q+ivud0OKGSTn/Vm2iso\"};\n\n    for (var i = 0; i < js_urls.length; i++) {\n      var url = js_urls[i];\n      var element = document.createElement('script');\n      element.onload = on_load;\n      element.onerror = on_error;\n      element.async = false;\n      element.src = url;\n      if (url in hashes) {\n        element.crossOrigin = \"anonymous\";\n        element.integrity = \"sha384-\" + hashes[url];\n      }\n      console.debug(\"Bokeh: injecting script tag for BokehJS library: \", url);\n      document.head.appendChild(element);\n    }\n  };\n\n  function inject_raw_css(css) {\n    const element = document.createElement(\"style\");\n    element.appendChild(document.createTextNode(css));\n    document.body.appendChild(element);\n  }\n\n  \n  var js_urls = [\"https://cdn.bokeh.org/bokeh/release/bokeh-2.2.1.min.js\", \"https://cdn.bokeh.org/bokeh/release/bokeh-widgets-2.2.1.min.js\", \"https://cdn.bokeh.org/bokeh/release/bokeh-tables-2.2.1.min.js\"];\n  var css_urls = [];\n  \n\n  var inline_js = [\n    function(Bokeh) {\n      Bokeh.set_log_level(\"info\");\n    },\n    function(Bokeh) {\n    \n    \n    }\n  ];\n\n  function run_inline_js() {\n    \n    if (root.Bokeh !== undefined || force === true) {\n      \n    for (var i = 0; i < inline_js.length; i++) {\n      inline_js[i].call(root, root.Bokeh);\n    }\n    if (force === true) {\n        display_loaded();\n      }} else if (Date.now() < root._bokeh_timeout) {\n      setTimeout(run_inline_js, 100);\n    } else if (!root._bokeh_failed_load) {\n      console.log(\"Bokeh: BokehJS failed to load within specified timeout.\");\n      root._bokeh_failed_load = true;\n    } else if (force !== true) {\n      var cell = $(document.getElementById(\"1001\")).parents('.cell').data().cell;\n      cell.output_area.append_execute_result(NB_LOAD_WARNING)\n    }\n\n  }\n\n  if (root._bokeh_is_loading === 0) {\n    console.debug(\"Bokeh: BokehJS loaded, going straight to plotting\");\n    run_inline_js();\n  } else {\n    load_libs(css_urls, js_urls, function() {\n      console.debug(\"Bokeh: BokehJS plotting callback run at\", now());\n      run_inline_js();\n    });\n  }\n}(window));"
     },
     "metadata": {},
     "output_type": "display_data"
    }
   ],
   "source": [
    "import math\n",
    "import pandas as pd\n",
    "import numpy as np\n",
    "from scipy import stats as st\n",
    "\n",
    "import matplotlib.pyplot as plt\n",
    "from pandas.plotting import register_matplotlib_converters\n",
    "register_matplotlib_converters()\n",
    "\n",
    "from bokeh.plotting import figure, show, output_file\n",
    "from bokeh.models import ColumnDataSource, Band\n",
    "from bokeh.io import output_notebook\n",
    "from bokeh.layouts import gridplot\n",
    "output_notebook()"
   ]
  },
  {
   "cell_type": "markdown",
   "metadata": {},
   "source": [
    "## Introduction\n",
    "\n",
    "In Notebook 2, we developed a rating curve for our location of interest based on discrete discharge measurements made during a series of visits, and we applied this stage-discharge relationship (rating curve) to the continous stage recorded at our hydrometric station (the datalogger recording from a pressure transducer).  Recall that our hydrometric station has only been running for a couple of years -- this isn't nearly enough data to estimate the flow characteristics (daily, seasonal, floods, droughts, etc.).  In this notebook, we look in the vicinity of our project location for other stations where records have been kept for much longer, i.e. several decades longer.\n",
    "\n",
    "First, we'll set up our rating curve as we did in Notebook 2 and rebuild the daily average flow series."
   ]
  },
  {
   "cell_type": "markdown",
   "metadata": {},
   "source": [
    "## Import the Data"
   ]
  },
  {
   "cell_type": "code",
   "execution_count": 2,
   "metadata": {},
   "outputs": [],
   "source": [
    "# import the stage data\n",
    "stage_df = pd.read_csv('../data/notebook_2_data/WL_data.csv', parse_dates=['Date'])"
   ]
  },
  {
   "cell_type": "code",
   "execution_count": 3,
   "metadata": {},
   "outputs": [
    {
     "data": {
      "text/html": [
       "<div>\n",
       "<style scoped>\n",
       "    .dataframe tbody tr th:only-of-type {\n",
       "        vertical-align: middle;\n",
       "    }\n",
       "\n",
       "    .dataframe tbody tr th {\n",
       "        vertical-align: top;\n",
       "    }\n",
       "\n",
       "    .dataframe thead th {\n",
       "        text-align: right;\n",
       "    }\n",
       "</style>\n",
       "<table border=\"1\" class=\"dataframe\">\n",
       "  <thead>\n",
       "    <tr style=\"text-align: right;\">\n",
       "      <th></th>\n",
       "      <th>Date</th>\n",
       "      <th>Water level (daily av.) (m)</th>\n",
       "    </tr>\n",
       "  </thead>\n",
       "  <tbody>\n",
       "    <tr>\n",
       "      <th>0</th>\n",
       "      <td>2009-01-01</td>\n",
       "      <td>0.240</td>\n",
       "    </tr>\n",
       "    <tr>\n",
       "      <th>1</th>\n",
       "      <td>2009-01-02</td>\n",
       "      <td>0.236</td>\n",
       "    </tr>\n",
       "    <tr>\n",
       "      <th>2</th>\n",
       "      <td>2009-01-03</td>\n",
       "      <td>0.234</td>\n",
       "    </tr>\n",
       "    <tr>\n",
       "      <th>3</th>\n",
       "      <td>2009-01-04</td>\n",
       "      <td>0.233</td>\n",
       "    </tr>\n",
       "    <tr>\n",
       "      <th>4</th>\n",
       "      <td>2009-01-05</td>\n",
       "      <td>0.231</td>\n",
       "    </tr>\n",
       "  </tbody>\n",
       "</table>\n",
       "</div>"
      ],
      "text/plain": [
       "        Date  Water level (daily av.) (m)\n",
       "0 2009-01-01                        0.240\n",
       "1 2009-01-02                        0.236\n",
       "2 2009-01-03                        0.234\n",
       "3 2009-01-04                        0.233\n",
       "4 2009-01-05                        0.231"
      ]
     },
     "execution_count": 3,
     "metadata": {},
     "output_type": "execute_result"
    }
   ],
   "source": [
    "# take a quick look at what we're dealing with\n",
    "stage_df.head()"
   ]
  },
  {
   "cell_type": "code",
   "execution_count": 4,
   "metadata": {},
   "outputs": [],
   "source": [
    "# the water level (stage) label is long, \n",
    "# let's create a shortcut reference label\n",
    "stage_label = 'Water level (daily av.) (m)'\n"
   ]
  },
  {
   "cell_type": "code",
   "execution_count": 5,
   "metadata": {},
   "outputs": [],
   "source": [
    "# import the discharge measurements\n",
    "rc_df = pd.read_csv('../data/notebook_2_data/RC_Data.csv', parse_dates=['Date'])"
   ]
  },
  {
   "cell_type": "code",
   "execution_count": 6,
   "metadata": {},
   "outputs": [
    {
     "data": {
      "text/html": [
       "<div>\n",
       "<style scoped>\n",
       "    .dataframe tbody tr th:only-of-type {\n",
       "        vertical-align: middle;\n",
       "    }\n",
       "\n",
       "    .dataframe tbody tr th {\n",
       "        vertical-align: top;\n",
       "    }\n",
       "\n",
       "    .dataframe thead th {\n",
       "        text-align: right;\n",
       "    }\n",
       "</style>\n",
       "<table border=\"1\" class=\"dataframe\">\n",
       "  <thead>\n",
       "    <tr style=\"text-align: right;\">\n",
       "      <th></th>\n",
       "      <th>Date</th>\n",
       "      <th>Flow (m3/s)</th>\n",
       "      <th>Water level (m)</th>\n",
       "    </tr>\n",
       "  </thead>\n",
       "  <tbody>\n",
       "    <tr>\n",
       "      <th>0</th>\n",
       "      <td>2009-01-02</td>\n",
       "      <td>1.565</td>\n",
       "      <td>0.236</td>\n",
       "    </tr>\n",
       "    <tr>\n",
       "      <th>1</th>\n",
       "      <td>2009-01-07</td>\n",
       "      <td>1.530</td>\n",
       "      <td>0.267</td>\n",
       "    </tr>\n",
       "    <tr>\n",
       "      <th>2</th>\n",
       "      <td>2009-03-20</td>\n",
       "      <td>0.967</td>\n",
       "      <td>0.224</td>\n",
       "    </tr>\n",
       "    <tr>\n",
       "      <th>3</th>\n",
       "      <td>2009-09-12</td>\n",
       "      <td>5.133</td>\n",
       "      <td>0.707</td>\n",
       "    </tr>\n",
       "    <tr>\n",
       "      <th>4</th>\n",
       "      <td>2009-11-10</td>\n",
       "      <td>3.402</td>\n",
       "      <td>0.468</td>\n",
       "    </tr>\n",
       "    <tr>\n",
       "      <th>5</th>\n",
       "      <td>2009-11-18</td>\n",
       "      <td>4.474</td>\n",
       "      <td>0.589</td>\n",
       "    </tr>\n",
       "    <tr>\n",
       "      <th>6</th>\n",
       "      <td>2010-03-24</td>\n",
       "      <td>1.297</td>\n",
       "      <td>0.296</td>\n",
       "    </tr>\n",
       "    <tr>\n",
       "      <th>7</th>\n",
       "      <td>2010-03-25</td>\n",
       "      <td>1.823</td>\n",
       "      <td>0.300</td>\n",
       "    </tr>\n",
       "    <tr>\n",
       "      <th>8</th>\n",
       "      <td>2010-08-25</td>\n",
       "      <td>4.682</td>\n",
       "      <td>0.632</td>\n",
       "    </tr>\n",
       "  </tbody>\n",
       "</table>\n",
       "</div>"
      ],
      "text/plain": [
       "        Date  Flow (m3/s)  Water level (m)\n",
       "0 2009-01-02        1.565            0.236\n",
       "1 2009-01-07        1.530            0.267\n",
       "2 2009-03-20        0.967            0.224\n",
       "3 2009-09-12        5.133            0.707\n",
       "4 2009-11-10        3.402            0.468\n",
       "5 2009-11-18        4.474            0.589\n",
       "6 2010-03-24        1.297            0.296\n",
       "7 2010-03-25        1.823            0.300\n",
       "8 2010-08-25        4.682            0.632"
      ]
     },
     "execution_count": 6,
     "metadata": {},
     "output_type": "execute_result"
    }
   ],
   "source": [
    "# take a look at the discharge measurements\n",
    "rc_df"
   ]
  },
  {
   "cell_type": "markdown",
   "metadata": {},
   "source": [
    "## Plot the Stage-Discharge Rating Curve and the Best Fit Curve\n",
    "\n",
    "Recall from Notebook 2: $Q = C(H-h_0)^b$.  If we transform the data to log space, we get a linear relationship:\n",
    "\n",
    "$$log(Q) = log(C) + b\\cdot log(h-h_0)$$\n",
    "\n",
    "If we rearrange to the form $y = intercept + slope \\cdot x$, we can use the scipy function for linear regression (`\n",
    "()` from the previous tutorial).\n",
    "\n",
    "Recall the x and y axis parameters are Q and h, respectively, so the linear form of the equation is then: \n",
    "\n",
    "$$log(h-h_0) = slope \\cdot log(Q) + intercept$$\n",
    "\n",
    "The above relationship is linear, so we can use ordinary least squares to find the best fit line (in log-log space), and then transform back to linear space.\n",
    "Note that $h_0$ cannot be fitted this way, and has to be set manually. In this case we can assume $h_0=0$."
   ]
  },
  {
   "cell_type": "code",
   "execution_count": 7,
   "metadata": {},
   "outputs": [],
   "source": [
    "# calculate the discharge based on the best fit\n",
    "# parameters found by ordinary least squares above\n",
    "def ols_rc_q(slope, intercept, h, h0):\n",
    "    \"\"\"\n",
    "    Calculate flow (Q) from the linear best fit parameters.\n",
    "        -slope: the `log_slope` calculated above (constant)\n",
    "        -intercept: `log_intercept` calculated above (constant)\n",
    "        -h0 is the same PZF offset used above (constant)\n",
    "        -h is the independent variable\n",
    "    Returns Q, the discharge in m^3/s.\n",
    "    \"\"\"\n",
    "    if slope == 0:\n",
    "        return 0\n",
    "    try:\n",
    "        return np.exp((np.log(h - h0) - intercept) / slope)\n",
    "    except ValueError: \n",
    "        return None"
   ]
  },
  {
   "cell_type": "code",
   "execution_count": 8,
   "metadata": {},
   "outputs": [],
   "source": [
    "# Find the best-fit line in log-log space\n",
    "# take the logarithm of the measured streamflows and stage\n",
    "h0=0\n",
    "q_log = np.log(rc_df['Flow (m3/s)'] - h0)\n",
    "stage_log = np.log(rc_df['Water level (m)'])\n",
    "\n",
    "# find the parameters describing the linear best fit using ordinary least squares (OLS)\n",
    "log_slope, log_intercept, log_rval, log_pval, log_stderr = st.linregress(q_log, stage_log)"
   ]
  },
  {
   "cell_type": "code",
   "execution_count": 9,
   "metadata": {},
   "outputs": [],
   "source": [
    "stage_range = np.linspace(0.001, 1.5, 100)\n",
    "# put best fit results into a dataframe for plotting\n",
    "# use 0 as the PZF (point of zero flow) (the h0 parameter)\n",
    "bf_df = pd.DataFrame()\n",
    "bf_df['stage'] = stage_range\n",
    "\n",
    "# now as before, apply the `ols_rc_q` function to create the stage-discharge\n",
    "# curve based on the best-fit equation\n",
    "bf_df['best_fit_q'] = [ols_rc_q(log_slope, log_intercept, h, 0.0) for h in stage_range]\n",
    "bf_df.sort_values(by='stage', inplace=True)"
   ]
  },
  {
   "cell_type": "markdown",
   "metadata": {},
   "source": [
    "## Calculate Daily Average Discharge\n",
    "\n",
    "From the equation describing the ordinary least squares (OLS) best fit of the measured discharge,\n",
    "calculate daily average flow from daily average water level."
   ]
  },
  {
   "cell_type": "code",
   "execution_count": 10,
   "metadata": {},
   "outputs": [],
   "source": [
    "stage_df['RC Q (cms)'] = stage_df[stage_label].apply(lambda h: ols_rc_q(log_slope, log_intercept, h, 0))"
   ]
  },
  {
   "cell_type": "code",
   "execution_count": 11,
   "metadata": {},
   "outputs": [
    {
     "data": {
      "text/html": [
       "<div>\n",
       "<style scoped>\n",
       "    .dataframe tbody tr th:only-of-type {\n",
       "        vertical-align: middle;\n",
       "    }\n",
       "\n",
       "    .dataframe tbody tr th {\n",
       "        vertical-align: top;\n",
       "    }\n",
       "\n",
       "    .dataframe thead th {\n",
       "        text-align: right;\n",
       "    }\n",
       "</style>\n",
       "<table border=\"1\" class=\"dataframe\">\n",
       "  <thead>\n",
       "    <tr style=\"text-align: right;\">\n",
       "      <th></th>\n",
       "      <th>Date</th>\n",
       "      <th>Water level (daily av.) (m)</th>\n",
       "      <th>RC Q (cms)</th>\n",
       "    </tr>\n",
       "  </thead>\n",
       "  <tbody>\n",
       "    <tr>\n",
       "      <th>0</th>\n",
       "      <td>2009-01-01</td>\n",
       "      <td>0.240</td>\n",
       "      <td>1.214128</td>\n",
       "    </tr>\n",
       "    <tr>\n",
       "      <th>1</th>\n",
       "      <td>2009-01-02</td>\n",
       "      <td>0.236</td>\n",
       "      <td>1.185106</td>\n",
       "    </tr>\n",
       "    <tr>\n",
       "      <th>2</th>\n",
       "      <td>2009-01-03</td>\n",
       "      <td>0.234</td>\n",
       "      <td>1.170675</td>\n",
       "    </tr>\n",
       "    <tr>\n",
       "      <th>3</th>\n",
       "      <td>2009-01-04</td>\n",
       "      <td>0.233</td>\n",
       "      <td>1.163480</td>\n",
       "    </tr>\n",
       "    <tr>\n",
       "      <th>4</th>\n",
       "      <td>2009-01-05</td>\n",
       "      <td>0.231</td>\n",
       "      <td>1.149130</td>\n",
       "    </tr>\n",
       "    <tr>\n",
       "      <th>...</th>\n",
       "      <td>...</td>\n",
       "      <td>...</td>\n",
       "      <td>...</td>\n",
       "    </tr>\n",
       "    <tr>\n",
       "      <th>725</th>\n",
       "      <td>2010-12-27</td>\n",
       "      <td>0.288</td>\n",
       "      <td>1.578517</td>\n",
       "    </tr>\n",
       "    <tr>\n",
       "      <th>726</th>\n",
       "      <td>2010-12-28</td>\n",
       "      <td>0.287</td>\n",
       "      <td>1.570633</td>\n",
       "    </tr>\n",
       "    <tr>\n",
       "      <th>727</th>\n",
       "      <td>2010-12-29</td>\n",
       "      <td>0.265</td>\n",
       "      <td>1.400280</td>\n",
       "    </tr>\n",
       "    <tr>\n",
       "      <th>728</th>\n",
       "      <td>2010-12-30</td>\n",
       "      <td>0.248</td>\n",
       "      <td>1.272812</td>\n",
       "    </tr>\n",
       "    <tr>\n",
       "      <th>729</th>\n",
       "      <td>2010-12-31</td>\n",
       "      <td>0.242</td>\n",
       "      <td>1.228720</td>\n",
       "    </tr>\n",
       "  </tbody>\n",
       "</table>\n",
       "<p>730 rows × 3 columns</p>\n",
       "</div>"
      ],
      "text/plain": [
       "          Date  Water level (daily av.) (m)  RC Q (cms)\n",
       "0   2009-01-01                        0.240    1.214128\n",
       "1   2009-01-02                        0.236    1.185106\n",
       "2   2009-01-03                        0.234    1.170675\n",
       "3   2009-01-04                        0.233    1.163480\n",
       "4   2009-01-05                        0.231    1.149130\n",
       "..         ...                          ...         ...\n",
       "725 2010-12-27                        0.288    1.578517\n",
       "726 2010-12-28                        0.287    1.570633\n",
       "727 2010-12-29                        0.265    1.400280\n",
       "728 2010-12-30                        0.248    1.272812\n",
       "729 2010-12-31                        0.242    1.228720\n",
       "\n",
       "[730 rows x 3 columns]"
      ]
     },
     "execution_count": 11,
     "metadata": {},
     "output_type": "execute_result"
    }
   ],
   "source": [
    "stage_df"
   ]
  },
  {
   "cell_type": "markdown",
   "metadata": {},
   "source": [
    "### Plot the Rating Curve and Resultant Flow Series"
   ]
  },
  {
   "cell_type": "markdown",
   "metadata": {},
   "source": [
    "The two plots below are linked.  Check the selection tools, and select points on one plot.  When validating data, it is helpful to be able to link the measurements on the rating curve plot and the daily flow series plot.  Consider how you would you check if the low flows were subject to a shift in the hydraulic control over time?    "
   ]
  },
  {
   "cell_type": "code",
   "execution_count": 12,
   "metadata": {},
   "outputs": [
    {
     "data": {
      "text/html": [
       "\n",
       "\n",
       "\n",
       "\n",
       "\n",
       "\n",
       "  <div class=\"bk-root\" id=\"9e66ce47-daab-4816-92a9-5fec74411212\" data-root-id=\"1197\"></div>\n"
      ]
     },
     "metadata": {},
     "output_type": "display_data"
    },
    {
     "data": {
      "application/javascript": [
       "(function(root) {\n",
       "  function embed_document(root) {\n",
       "    \n",
       "  var docs_json = {\"c90571f4-a1ad-4897-b449-fcd91eb4de86\":{\"roots\":{\"references\":[{\"attributes\":{\"children\":[{\"id\":\"1196\"},{\"id\":\"1194\"}]},\"id\":\"1197\",\"type\":\"Column\"},{\"attributes\":{},\"id\":\"1095\",\"type\":\"HelpTool\"},{\"attributes\":{\"axis_label\":\"Flow (m\\u00b3/s)\",\"formatter\":{\"id\":\"1112\"},\"ticker\":{\"id\":\"1087\"}},\"id\":\"1086\",\"type\":\"LinearAxis\"},{\"attributes\":{\"axis\":{\"id\":\"1086\"},\"dimension\":1,\"ticker\":null},\"id\":\"1089\",\"type\":\"Grid\"},{\"attributes\":{},\"id\":\"1087\",\"type\":\"BasicTicker\"},{\"attributes\":{\"fill_alpha\":{\"value\":0.8},\"fill_color\":{\"value\":\"red\"},\"line_alpha\":{\"value\":0.8},\"line_color\":{\"value\":\"red\"},\"size\":{\"units\":\"screen\",\"value\":5},\"x\":{\"field\":\"Date\"},\"y\":{\"field\":\"Flow (m3/s)\"}},\"id\":\"1132\",\"type\":\"Circle\"},{\"attributes\":{},\"id\":\"1091\",\"type\":\"WheelZoomTool\"},{\"attributes\":{},\"id\":\"1090\",\"type\":\"PanTool\"},{\"attributes\":{\"overlay\":{\"id\":\"1096\"}},\"id\":\"1092\",\"type\":\"BoxZoomTool\"},{\"attributes\":{},\"id\":\"1093\",\"type\":\"SaveTool\"},{\"attributes\":{\"fill_alpha\":{\"value\":0.1},\"fill_color\":{\"value\":\"red\"},\"line_alpha\":{\"value\":0.1},\"line_color\":{\"value\":\"red\"},\"size\":{\"units\":\"screen\",\"value\":5},\"x\":{\"field\":\"Flow (m3/s)\"},\"y\":{\"field\":\"Water level (m)\"}},\"id\":\"1040\",\"type\":\"Circle\"},{\"attributes\":{},\"id\":\"1094\",\"type\":\"ResetTool\"},{\"attributes\":{\"label\":{\"value\":\"Measured Q\"},\"renderers\":[{\"id\":\"1041\"}]},\"id\":\"1053\",\"type\":\"LegendItem\"},{\"attributes\":{},\"id\":\"1050\",\"type\":\"UnionRenderers\"},{\"attributes\":{},\"id\":\"1051\",\"type\":\"Selection\"},{\"attributes\":{\"bottom_units\":\"screen\",\"fill_alpha\":0.5,\"fill_color\":\"lightgrey\",\"left_units\":\"screen\",\"level\":\"overlay\",\"line_alpha\":1.0,\"line_color\":\"black\",\"line_dash\":[4,4],\"line_width\":2,\"right_units\":\"screen\",\"top_units\":\"screen\"},\"id\":\"1096\",\"type\":\"BoxAnnotation\"},{\"attributes\":{\"line_color\":\"green\",\"x\":{\"field\":\"x\"},\"y\":{\"field\":\"y\"}},\"id\":\"1055\",\"type\":\"Line\"},{\"attributes\":{\"below\":[{\"id\":\"1082\"}],\"center\":[{\"id\":\"1085\"},{\"id\":\"1089\"},{\"id\":\"1129\"}],\"left\":[{\"id\":\"1086\"}],\"plot_height\":400,\"plot_width\":550,\"renderers\":[{\"id\":\"1107\"},{\"id\":\"1134\"}],\"title\":{\"id\":\"1072\"},\"toolbar\":{\"id\":\"1097\"},\"toolbar_location\":null,\"x_range\":{\"id\":\"1074\"},\"x_scale\":{\"id\":\"1078\"},\"y_range\":{\"id\":\"1076\"},\"y_scale\":{\"id\":\"1080\"}},\"id\":\"1071\",\"subtype\":\"Figure\",\"type\":\"Plot\"},{\"attributes\":{\"data\":{\"x\":{\"__ndarray__\":\"QYH079HOPT/0XPFya4eZPyyXFcNSi7A/Y6BprS40vT+7Mj87JOzFP91l2KrxFc4/iTC/dhZ/0z8YUFnmMknYPwMNtPo2Yt0/5x0yAzxi4T9xHdeUpjXkP175RthlKec/vXL57cw76j/brtuuZ2vtPzbr6qd3W/A/efm4+qAO8j/4QZUnrs7zPxCkAlIqm/U/vYYEdqtz9z8GzsjY0Ff5P0Z7+8RBR/s/72dSgaxB/T8Q9Yp0xUb/PydKqzYjqwBAHb2CA/e3AUBqk7aSv8kCQJFr4kFg4ANANemOKb77BEDazufyvxsGQK4U3LJNQAdA9orMyVBpCEAOihbHs5YJQMNr6E9iyApABh3nCEn+C0CbjECCVTgNQFo41yV2dg5AY3tAJ5q4D0C8Fq26WH8QQPKOolZWJBFAOrBMhz7LEUC/xlc4CnQSQCueb5yyHhNAAKnLKDHLE0BDMRyRf3kUQNs8zsOXKRVAcx+d5nPbFUCx0mlTDo8WQLAiUZVhRBdAXZD6ZWj7F0ALgRqrHbQYQHnwInR8bhlAn2Me+H8qGkBUUbGTI+gaQMWePsdipxtAGSgsNTloHEBdnkSgoiodQA1KNOqa7h1Aon8eEh60HkAjy0kzKHsfQN2D8MHaISBAJeLjKeGGIEAxPsCFpewgQKynkRUmUyFA9/6xJGG6IUB6CVMJVSIiQMYZDyQAiyJAGtV/32D0IkDSqdqvdV4jQHWTkhI9ySNA4dD+jbU0JEDxOAax3aAkQCTgzhK0DSVAaMhxUjd7JUANWbIWZuklQJRiuQ0/WCZA9HXT7MDHJkDAWzJw6jcnQOF6sVq6qCdARQKddS8aKEA3rHuQSIwoQNP02oAE/yhAoZ8dImJyKUA5a0xVYOYpQKLT6AD+WipAfcbBEDrQKkD0Lcp1E0YrQCM58SWJvCtAGEr8G5ozLECnc2JXRassQNdxKdyJIy1AAwrEsmacLUDSv/Hn2hUuQInOn4zljy5ADVbLtYUKL0DVrGR8uoUvQDnkmX7BADBAo9deLO8+MEBXc5XZZX0wQAFpFxolvDBAgPt3gyz7MEA=\",\"dtype\":\"float64\",\"order\":\"little\",\"shape\":[100]},\"y\":{\"__ndarray__\":\"/Knx0k1iUD9m7mT3X4eQPxZhzYhNBKA/+UroFevEpz/cNAOjiIWvP2APDxgTo7M/UYSc3mGDtz9C+SmlsGO7PzRut2v/Q78/k3EiGSeSwT8MLGl8ToLDP4Tmr991csU//aD2Qp1ixz92Wz2mxFLJP+4VhAnsQss/Z9DKbBMzzT/gihHQOiPPP6wirBmxidA/6X9Py8SB0T8l3fJ82HnSP2I6li7scdM/npc54P9p1D/a9NyRE2LVPxdSgEMnWtY/U68j9TpS1z+PDMemTkrYP8xpalhiQtk/CMcNCnY62j9EJLG7iTLbP4GBVG2dKtw/vd73HrEi3T/6O5vQxBrePzaZPoLYEt8/OfvwGXYF4D/XqcLyf4HgP3ZYlMuJ/eA/FAdmpJN54T+ytTd9nfXhP1BkCVanceI/7hLbLrHt4j+NwawHu2njPytwfuDE5eM/yR5Quc5h5D9nzSGS2N3kPwV882riWeU/oyrFQ+zV5T9C2ZYc9lHmP+CHaPX/zeY/fjY6zglK5z8c5QunE8bnP7qT3X8dQug/WUKvWCe+6D/38IAxMTrpP5WfUgo7tuk/M04k40Qy6j/R/PW7Tq7qP2+rx5RYKus/DlqZbWKm6z+sCGtGbCLsP0q3PB92nuw/6GUO+H8a7T+GFODQiZbtPyXDsamTEu4/w3GDgp2O7j9hIFVbpwrvP//OJjSxhu8/zj58hl0B8D8dFuVyYj/wP2ztTV9nffA/u8S2S2y78D8LnB84cfnwP1pziCR2N/E/qUrxEHt18T/4IVr9f7PxP0f5wumE8fE/ltAr1okv8j/lp5TCjm3yPzR//a6Tq/I/g1Zmm5jp8j/SLc+HnSfzPyIFOHSiZfM/cdygYKej8z/AswlNrOHzPw+LcjmxH/Q/XmLbJbZd9D+tOUQSu5v0P/wQrf6/2fQ/S+gV68QX9T+av37XyVX1P+mW58POk/U/OG5QsNPR9T+IRbmc2A/2P9ccIondTfY/JvSKdeKL9j91y/Nh58n2P8SiXE7sB/c/E3rFOvFF9z9iUS4n9oP3P7EolxP7wfc/AAAAAAAA+D8=\",\"dtype\":\"float64\",\"order\":\"little\",\"shape\":[100]}},\"selected\":{\"id\":\"1069\"},\"selection_policy\":{\"id\":\"1068\"}},\"id\":\"1054\",\"type\":\"ColumnDataSource\"},{\"attributes\":{\"data_source\":{\"id\":\"1054\"},\"glyph\":{\"id\":\"1055\"},\"hover_glyph\":null,\"muted_glyph\":null,\"nonselection_glyph\":{\"id\":\"1056\"},\"selection_glyph\":null,\"view\":{\"id\":\"1058\"}},\"id\":\"1057\",\"type\":\"GlyphRenderer\"},{\"attributes\":{\"source\":{\"id\":\"1054\"}},\"id\":\"1058\",\"type\":\"CDSView\"},{\"attributes\":{\"active_drag\":\"auto\",\"active_inspect\":\"auto\",\"active_multi\":null,\"active_scroll\":\"auto\",\"active_tap\":\"auto\",\"tools\":[{\"id\":\"1090\"},{\"id\":\"1091\"},{\"id\":\"1092\"},{\"id\":\"1093\"},{\"id\":\"1094\"},{\"id\":\"1095\"}]},\"id\":\"1097\",\"type\":\"Toolbar\"},{\"attributes\":{\"label\":{\"value\":\"OLS Fit\"},\"renderers\":[{\"id\":\"1057\"}]},\"id\":\"1070\",\"type\":\"LegendItem\"},{\"attributes\":{\"line_color\":\"green\",\"x\":{\"field\":\"Date\"},\"y\":{\"field\":\"RC Q (cms)\"}},\"id\":\"1105\",\"type\":\"Line\"},{\"attributes\":{\"line_alpha\":0.1,\"line_color\":\"green\",\"x\":{\"field\":\"x\"},\"y\":{\"field\":\"y\"}},\"id\":\"1056\",\"type\":\"Line\"},{\"attributes\":{\"text\":\"Rating Curve Plot\"},\"id\":\"1005\",\"type\":\"Title\"},{\"attributes\":{},\"id\":\"1074\",\"type\":\"DataRange1d\"},{\"attributes\":{\"items\":[{\"id\":\"1130\"},{\"id\":\"1158\"}],\"location\":\"top_left\"},\"id\":\"1129\",\"type\":\"Legend\"},{\"attributes\":{\"items\":[{\"id\":\"1053\"},{\"id\":\"1070\"}],\"location\":\"bottom_right\"},\"id\":\"1052\",\"type\":\"Legend\"},{\"attributes\":{\"fill_alpha\":{\"value\":0.5},\"fill_color\":{\"value\":\"red\"},\"line_alpha\":{\"value\":0.5},\"line_color\":{\"value\":\"red\"},\"size\":{\"units\":\"screen\",\"value\":5},\"x\":{\"field\":\"Flow (m3/s)\"},\"y\":{\"field\":\"Water level (m)\"}},\"id\":\"1039\",\"type\":\"Circle\"},{\"attributes\":{\"data\":{\"Date\":{\"__ndarray__\":\"AADA1PfocUIAAIA6SulxQgAAQKCc6XFCAAAABu/pcUIAAMBrQepxQgAAgNGT6nFCAABAN+bqcUIAAACdOOtxQgAAwAKL63FCAACAaN3rcUIAAEDOL+xxQgAAADSC7HFCAADAmdTscUIAAID/Ju1xQgAAQGV57XFCAAAAy8vtcUIAAMAwHu5xQgAAgJZw7nFCAABA/MLucUIAAABiFe9xQgAAwMdn73FCAACALbrvcUIAAECTDPBxQgAAAPle8HFCAADAXrHwcUIAAIDEA/FxQgAAQCpW8XFCAAAAkKjxcUIAAMD1+vFxQgAAgFtN8nFCAABAwZ/ycUIAAAAn8vJxQgAAwIxE83FCAACA8pbzcUIAAEBY6fNxQgAAAL479HFCAADAI470cUIAAICJ4PRxQgAAQO8y9XFCAAAAVYX1cUIAAMC61/VxQgAAgCAq9nFCAABAhnz2cUIAAADszvZxQgAAwFEh93FCAACAt3P3cUIAAEAdxvdxQgAAAIMY+HFCAADA6Gr4cUIAAIBOvfhxQgAAQLQP+XFCAAAAGmL5cUIAAMB/tPlxQgAAgOUG+nFCAABAS1n6cUIAAACxq/pxQgAAwBb++nFCAACAfFD7cUIAAEDiovtxQgAAAEj1+3FCAADArUf8cUIAAIATmvxxQgAAQHns/HFCAAAA3z79cUIAAMBEkf1xQgAAgKrj/XFCAABAEDb+cUIAAAB2iP5xQgAAwNva/nFCAACAQS3/cUIAAECnf/9xQgAAAA3S/3FCAADAciQAckIAAIDYdgByQgAAQD7JAHJCAAAApBsBckIAAMAJbgFyQgAAgG/AAXJCAABA1RICckIAAAA7ZQJyQgAAwKC3AnJCAACABgoDckIAAEBsXANyQgAAANKuA3JCAADANwEEckIAAICdUwRyQgAAQAOmBHJCAAAAafgEckIAAMDOSgVyQgAAgDSdBXJCAABAmu8FckIAAAAAQgZyQgAAwGWUBnJCAACAy+YGckIAAEAxOQdyQgAAAJeLB3JCAADA/N0HckIAAIBiMAhyQgAAQMiCCHJCAAAALtUIckIAAMCTJwlyQgAAgPl5CXJCAABAX8wJckIAAADFHgpyQgAAwCpxCnJCAACAkMMKckIAAED2FQtyQgAAAFxoC3JCAADAwboLckIAAIAnDQxyQgAAQI1fDHJCAAAA87EMckIAAMBYBA1yQgAAgL5WDXJCAABAJKkNckIAAACK+w1yQgAAwO9NDnJCAACAVaAOckIAAEC78g5yQgAAACFFD3JCAADAhpcPckIAAIDs6Q9yQgAAQFI8EHJCAAAAuI4QckIAAMAd4RByQgAAgIMzEXJCAABA6YURckIAAABP2BFyQgAAwLQqEnJCAACAGn0SckIAAECAzxJyQgAAAOYhE3JCAADAS3QTckIAAICxxhNyQgAAQBcZFHJCAAAAfWsUckIAAMDivRRyQgAAgEgQFXJCAABArmIVckIAAAAUtRVyQgAAwHkHFnJCAACA31kWckIAAEBFrBZyQgAAAKv+FnJCAADAEFEXckIAAIB2oxdyQgAAQNz1F3JCAAAAQkgYckIAAMCnmhhyQgAAgA3tGHJCAABAcz8ZckIAAADZkRlyQgAAwD7kGXJCAACApDYackIAAEAKiRpyQgAAAHDbGnJCAADA1S0bckIAAIA7gBtyQgAAQKHSG3JCAAAAByUcckIAAMBsdxxyQgAAgNLJHHJCAABAOBwdckIAAACebh1yQgAAwAPBHXJCAACAaRMeckIAAEDPZR5yQgAAADW4HnJCAADAmgofckIAAIAAXR9yQgAAQGavH3JCAAAAzAEgckIAAMAxVCByQgAAgJemIHJCAABA/fggckIAAABjSyFyQgAAwMidIXJCAACALvAhckIAAECUQiJyQgAAAPqUInJCAADAX+cickIAAIDFOSNyQgAAQCuMI3JCAAAAkd4jckIAAMD2MCRyQgAAgFyDJHJCAABAwtUkckIAAAAoKCVyQgAAwI16JXJCAACA88wlckIAAEBZHyZyQgAAAL9xJnJCAADAJMQmckIAAICKFidyQgAAQPBoJ3JCAAAAVrsnckIAAMC7DShyQgAAgCFgKHJCAABAh7IockIAAADtBClyQgAAwFJXKXJCAACAuKkpckIAAEAe/ClyQgAAAIROKnJCAADA6aAqckIAAIBP8ypyQgAAQLVFK3JCAAAAG5grckIAAMCA6ityQgAAgOY8LHJCAABATI8sckIAAACy4SxyQgAAwBc0LXJCAACAfYYtckIAAEDj2C1yQgAAAEkrLnJCAADArn0uckIAAIAU0C5yQgAAQHoiL3JCAAAA4HQvckIAAMBFxy9yQgAAgKsZMHJCAABAEWwwckIAAAB3vjByQgAAwNwQMXJCAACAQmMxckIAAECotTFyQgAAAA4IMnJCAADAc1oyckIAAIDZrDJyQgAAQD//MnJCAAAApVEzckIAAMAKpDNyQgAAgHD2M3JCAABA1kg0ckIAAAA8mzRyQgAAwKHtNHJCAACAB0A1ckIAAEBtkjVyQgAAANPkNXJCAADAODc2ckIAAICeiTZyQgAAQATcNnJCAAAAai43ckIAAMDPgDdyQgAAgDXTN3JCAABAmyU4ckIAAAABeDhyQgAAwGbKOHJCAACAzBw5ckIAAEAybzlyQgAAAJjBOXJCAADA/RM6ckIAAIBjZjpyQgAAQMm4OnJCAAAALws7ckIAAMCUXTtyQgAAgPqvO3JCAABAYAI8ckIAAADGVDxyQgAAwCunPHJCAACAkfk8ckIAAED3Sz1yQgAAAF2ePXJCAADAwvA9ckIAAIAoQz5yQgAAQI6VPnJCAAAA9Oc+ckIAAMBZOj9yQgAAgL+MP3JCAABAJd8/ckIAAACLMUByQgAAwPCDQHJCAACAVtZAckIAAEC8KEFyQgAAACJ7QXJCAADAh81BckIAAIDtH0JyQgAAQFNyQnJCAAAAucRCckIAAMAeF0NyQgAAgIRpQ3JCAABA6rtDckIAAABQDkRyQgAAwLVgRHJCAACAG7NEckIAAECBBUVyQgAAAOdXRXJCAADATKpFckIAAICy/EVyQgAAQBhPRnJCAAAAfqFGckIAAMDj80ZyQgAAgElGR3JCAABAr5hHckIAAAAV60dyQgAAwHo9SHJCAACA4I9IckIAAEBG4khyQgAAAKw0SXJCAADAEYdJckIAAIB32UlyQgAAQN0rSnJCAAAAQ35KckIAAMCo0EpyQgAAgA4jS3JCAABAdHVLckIAAADax0tyQgAAwD8aTHJCAACApWxMckIAAEALv0xyQgAAAHERTXJCAADA1mNNckIAAIA8tk1yQgAAQKIITnJCAAAACFtOckIAAMBtrU5yQgAAgNP/TnJCAABAOVJPckIAAACfpE9yQgAAwAT3T3JCAACAaklQckIAAEDQm1ByQgAAADbuUHJCAADAm0BRckIAAIABk1FyQgAAQGflUXJCAAAAzTdSckIAAMAyilJyQgAAgJjcUnJCAABA/i5TckIAAABkgVNyQgAAwMnTU3JCAACALyZUckIAAECVeFRyQgAAAPvKVHJCAADAYB1VckIAAIDGb1VyQgAAQCzCVXJCAAAAkhRWckIAAMD3ZlZyQgAAgF25VnJCAABAwwtXckIAAAApXldyQgAAwI6wV3JCAACA9AJYckIAAEBaVVhyQgAAAMCnWHJCAADAJfpYckIAAICLTFlyQgAAQPGeWXJCAAAAV/FZckIAAMC8Q1pyQgAAgCKWWnJCAABAiOhackIAAADuOltyQgAAwFONW3JCAACAud9bckIAAEAfMlxyQgAAAIWEXHJCAADA6tZcckIAAIBQKV1yQgAAQLZ7XXJCAAAAHM5dckIAAMCBIF5yQgAAgOdyXnJCAABATcVeckIAAACzF19yQgAAwBhqX3JCAACAfrxfckIAAEDkDmByQgAAAEphYHJCAADAr7NgckIAAIAVBmFyQgAAQHtYYXJCAAAA4aphckIAAMBG/WFyQgAAgKxPYnJCAABAEqJickIAAAB49GJyQgAAwN1GY3JCAACAQ5ljckIAAECp62NyQgAAAA8+ZHJCAADAdJBkckIAAIDa4mRyQgAAQEA1ZXJCAAAApodlckIAAMAL2mVyQgAAgHEsZnJCAABA135mckIAAAA90WZyQgAAwKIjZ3JCAACACHZnckIAAEBuyGdyQgAAANQaaHJCAADAOW1ockIAAICfv2hyQgAAQAUSaXJCAAAAa2RpckIAAMDQtmlyQgAAgDYJanJCAABAnFtqckIAAAACrmpyQgAAwGcAa3JCAACAzVJrckIAAEAzpWtyQgAAAJn3a3JCAADA/klsckIAAIBknGxyQgAAQMrubHJCAAAAMEFtckIAAMCVk21yQgAAgPvlbXJCAABAYThuckIAAADHim5yQgAAwCzdbnJCAACAki9vckIAAED4gW9yQgAAAF7Ub3JCAADAwyZwckIAAIApeXByQgAAQI/LcHJCAAAA9R1xckIAAMBacHFyQgAAgMDCcXJCAABAJhVyckIAAACMZ3JyQgAAwPG5cnJCAACAVwxzckIAAEC9XnNyQgAAACOxc3JCAADAiAN0ckIAAIDuVXRyQgAAQFSodHJCAAAAuvp0ckIAAMAfTXVyQgAAgIWfdXJCAABA6/F1ckIAAABRRHZyQgAAwLaWdnJCAACAHOl2ckIAAECCO3dyQgAAAOiNd3JCAADATeB3ckIAAICzMnhyQgAAQBmFeHJCAAAAf9d4ckIAAMDkKXlyQgAAgEp8eXJCAABAsM55ckIAAAAWIXpyQgAAwHtzenJCAACA4cV6ckIAAEBHGHtyQgAAAK1qe3JCAADAEr17ckIAAIB4D3xyQgAAQN5hfHJCAAAARLR8ckIAAMCpBn1yQgAAgA9ZfXJCAABAdat9ckIAAADb/X1yQgAAwEBQfnJCAACApqJ+ckIAAEAM9X5yQgAAAHJHf3JCAADA15l/ckIAAIA97H9yQgAAQKM+gHJCAAAACZGAckIAAMBu44ByQgAAgNQ1gXJCAABAOoiBckIAAACg2oFyQgAAwAUtgnJCAACAa3+CckIAAEDR0YJyQgAAADckg3JCAADAnHaDckIAAIACyYNyQgAAQGgbhHJCAAAAzm2EckIAAMAzwIRyQgAAgJkShXJCAABA/2SFckIAAABlt4VyQgAAwMoJhnJCAACAMFyGckIAAECWroZyQgAAAPwAh3JCAADAYVOHckIAAIDHpYdyQgAAQC34h3JCAAAAk0qIckIAAMD4nIhyQgAAgF7viHJCAABAxEGJckIAAAAqlIlyQgAAwI/miXJCAACA9TiKckIAAEBbi4pyQgAAAMHdinJCAADAJjCLckIAAICMgotyQgAAQPLUi3JCAAAAWCeMckIAAMC9eYxyQgAAgCPMjHJCAABAiR6NckIAAADvcI1yQgAAwFTDjXJCAACAuhWOckIAAEAgaI5yQgAAAIa6jnJCAADA6wyPckIAAIBRX49yQgAAQLexj3JCAAAAHQSQckIAAMCCVpByQgAAgOiokHJCAABATvuQckIAAAC0TZFyQgAAwBmgkXJCAACAf/KRckIAAEDlRJJyQgAAAEuXknJCAADAsOmSckIAAIAWPJNyQgAAQHyOk3JCAAAA4uCTckIAAMBHM5RyQgAAgK2FlHJCAABAE9iUckIAAAB5KpVyQgAAwN58lXJCAACARM+VckIAAECqIZZyQgAAABB0lnJCAADAdcaWckIAAIDbGJdyQgAAQEFrl3JCAAAAp72XckIAAMAMEJhyQgAAgHJimHJCAABA2LSYckIAAAA+B5lyQgAAwKNZmXJCAACACayZckIAAEBv/plyQgAAANVQmnJCAADAOqOackIAAICg9ZpyQgAAQAZIm3JCAAAAbJqbckIAAMDR7JtyQgAAgDc/nHJCAABAnZGcckIAAAAD5JxyQgAAwGg2nXJCAACAzoidckIAAEA0251yQgAAAJotnnJCAADA/3+eckIAAIBl0p5yQgAAQMskn3JCAAAAMXefckIAAMCWyZ9yQgAAgPwboHJCAABAYm6gckIAAADIwKByQgAAwC0ToXJCAACAk2WhckIAAED5t6FyQgAAAF8KonJCAADAxFyickIAAIAqr6JyQgAAQJABo3JCAAAA9lOjckIAAMBbpqNyQgAAgMH4o3JCAABAJ0ukckIAAACNnaRyQgAAwPLvpHJCAACAWEKlckIAAEC+lKVyQgAAACTnpXJCAADAiTmmckIAAIDvi6ZyQgAAQFXepnJCAAAAuzCnckIAAMAgg6dyQgAAgIbVp3JCAABA7CeockIAAABSeqhyQgAAwLfMqHJCAACAHR+pckIAAECDcalyQgAAAOnDqXJCAADAThaqckIAAIC0aKpyQgAAQBq7qnJCAAAAgA2rckIAAMDlX6tyQgAAgEuyq3JCAABAsQSsckIAAAAXV6xyQgAAwHyprHJCAACA4vusckIAAEBITq1yQgAAAK6grXJCAADAE/OtckIAAIB5Ra5yQgAAQN+XrnJCAAAARequckIAAMCqPK9yQgAAgBCPr3JCAABAduGvckIAAADcM7ByQgAAwEGGsHJCAACAp9iwckIAAEANK7FyQgAAAHN9sXJCAADA2M+xckIAAIA+IrJyQgAAQKR0snJCAAAACseyckIAAMBvGbNyQgAAgNVrs3JCAABAO76zckIAAAChELRyQgAAwAZjtHJCAACAbLW0ckIAAEDSB7VyQgAAADhatXJCAADAnay1ckIAAIAD/7VyQgAAQGlRtnJCAAAAz6O2ckIAAMA09rZyQgAAgJpIt3JCAABAAJu3ckIAAABm7bdyQgAAwMs/uHJCAACAMZK4ckIAAECX5LhyQgAAAP02uXJCAADAYom5ckIAAIDI27lyQgAAQC4uunJCAAAAlIC6ckIAAMD50rpyQgAAgF8lu3JCAABAxXe7ckIAAAAryrtyQgAAwJAcvHJCAACA9m68ckIAAEBcwbxyQgAAAMITvXJCAADAJ2a9ckIAAICNuL1yQgAAQPMKvnJCAAAAWV2+ckIAAMC+r75yQgAAgCQCv3JCAABAilS/ckIAAADwpr9yQgAAwFX5v3JCAACAu0vAckIAAEAhnsByQgAAAIfwwHJCAADA7ELBckIAAIBSlcFyQgAAQLjnwXJCAAAAHjrCckIAAMCDjMJyQgAAgOnewnJCAABATzHDckIAAAC1g8NyQgAAwBrWw3JCAACAgCjEckIAAEDmesRyQgAAAEzNxHJCAADAsR/FckIAAIAXcsVyQgAAQH3ExXJCAAAA4xbGckIAAMBIacZyQgAAgK67xnJCAABAFA7HckIAAAB6YMdyQgAAwN+yx3JCAACARQXIckIAAECrV8hyQgAAABGqyHJCAADAdvzIckIAAIDcTslyQgAAQEKhyXJCAAAAqPPJckIAAMANRspyQgAAgHOYynJCAABA2erKckIAAAA/PctyQgAAwKSPy3JCAACACuLLckIAAEBwNMxyQgAAANaGzHJCAADAO9nMckIAAIChK81yQgAAQAd+zXJCAAAAbdDNckIAAMDSIs5yQgAAgDh1znJCAABAnsfOckIAAAAEGs9yQgAAwGlsz3JCAACAz77PckIAAEA1EdByQgAAAJtj0HJCAADAALbQckIAAIBmCNFyQgAAQMxa0XJCAAAAMq3RckIAAMCX/9FyQgAAgP1R0nJCAABAY6TSckIAAADJ9tJyQgAAwC5J03JCAACAlJvTckI=\",\"dtype\":\"float64\",\"order\":\"little\",\"shape\":[730]},\"RC Q (cms)\":{\"__ndarray__\":\"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\",\"dtype\":\"float64\",\"order\":\"little\",\"shape\":[730]},\"Water level (daily av.) (m)\":{\"__ndarray__\":\"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\",\"dtype\":\"float64\",\"order\":\"little\",\"shape\":[730]},\"index\":[0,1,2,3,4,5,6,7,8,9,10,11,12,13,14,15,16,17,18,19,20,21,22,23,24,25,26,27,28,29,30,31,32,33,34,35,36,37,38,39,40,41,42,43,44,45,46,47,48,49,50,51,52,53,54,55,56,57,58,59,60,61,62,63,64,65,66,67,68,69,70,71,72,73,74,75,76,77,78,79,80,81,82,83,84,85,86,87,88,89,90,91,92,93,94,95,96,97,98,99,100,101,102,103,104,105,106,107,108,109,110,111,112,113,114,115,116,117,118,119,120,121,122,123,124,125,126,127,128,129,130,131,132,133,134,135,136,137,138,139,140,141,142,143,144,145,146,147,148,149,150,151,152,153,154,155,156,157,158,159,160,161,162,163,164,165,166,167,168,169,170,171,172,173,174,175,176,177,178,179,180,181,182,183,184,185,186,187,188,189,190,191,192,193,194,195,196,197,198,199,200,201,202,203,204,205,206,207,208,209,210,211,212,213,214,215,216,217,218,219,220,221,222,223,224,225,226,227,228,229,230,231,232,233,234,235,236,237,238,239,240,241,242,243,244,245,246,247,248,249,250,251,252,253,254,255,256,257,258,259,260,261,262,263,264,265,266,267,268,269,270,271,272,273,274,275,276,277,278,279,280,281,282,283,284,285,286,287,288,289,290,291,292,293,294,295,296,297,298,299,300,301,302,303,304,305,306,307,308,309,310,311,312,313,314,315,316,317,318,319,320,321,322,323,324,325,326,327,328,329,330,331,332,333,334,335,336,337,338,339,340,341,342,343,344,345,346,347,348,349,350,351,352,353,354,355,356,357,358,359,360,361,362,363,364,365,366,367,368,369,370,371,372,373,374,375,376,377,378,379,380,381,382,383,384,385,386,387,388,389,390,391,392,393,394,395,396,397,398,399,400,401,402,403,404,405,406,407,408,409,410,411,412,413,414,415,416,417,418,419,420,421,422,423,424,425,426,427,428,429,430,431,432,433,434,435,436,437,438,439,440,441,442,443,444,445,446,447,448,449,450,451,452,453,454,455,456,457,458,459,460,461,462,463,464,465,466,467,468,469,470,471,472,473,474,475,476,477,478,479,480,481,482,483,484,485,486,487,488,489,490,491,492,493,494,495,496,497,498,499,500,501,502,503,504,505,506,507,508,509,510,511,512,513,514,515,516,517,518,519,520,521,522,523,524,525,526,527,528,529,530,531,532,533,534,535,536,537,538,539,540,541,542,543,544,545,546,547,548,549,550,551,552,553,554,555,556,557,558,559,560,561,562,563,564,565,566,567,568,569,570,571,572,573,574,575,576,577,578,579,580,581,582,583,584,585,586,587,588,589,590,591,592,593,594,595,596,597,598,599,600,601,602,603,604,605,606,607,608,609,610,611,612,613,614,615,616,617,618,619,620,621,622,623,624,625,626,627,628,629,630,631,632,633,634,635,636,637,638,639,640,641,642,643,644,645,646,647,648,649,650,651,652,653,654,655,656,657,658,659,660,661,662,663,664,665,666,667,668,669,670,671,672,673,674,675,676,677,678,679,680,681,682,683,684,685,686,687,688,689,690,691,692,693,694,695,696,697,698,699,700,701,702,703,704,705,706,707,708,709,710,711,712,713,714,715,716,717,718,719,720,721,722,723,724,725,726,727,728,729]},\"selected\":{\"id\":\"1128\"},\"selection_policy\":{\"id\":\"1127\"}},\"id\":\"1003\",\"type\":\"ColumnDataSource\"},{\"attributes\":{\"line_alpha\":0.1,\"line_color\":\"green\",\"x\":{\"field\":\"Date\"},\"y\":{\"field\":\"RC Q (cms)\"}},\"id\":\"1106\",\"type\":\"Line\"},{\"attributes\":{\"source\":{\"id\":\"1003\"}},\"id\":\"1108\",\"type\":\"CDSView\"},{\"attributes\":{},\"id\":\"1069\",\"type\":\"Selection\"},{\"attributes\":{\"label\":{\"value\":\"OLS-based RC Flow\"},\"renderers\":[{\"id\":\"1107\"}]},\"id\":\"1130\",\"type\":\"LegendItem\"},{\"attributes\":{},\"id\":\"1011\",\"type\":\"LinearScale\"},{\"attributes\":{},\"id\":\"1013\",\"type\":\"LinearScale\"},{\"attributes\":{},\"id\":\"1110\",\"type\":\"DatetimeTickFormatter\"},{\"attributes\":{},\"id\":\"1068\",\"type\":\"UnionRenderers\"},{\"attributes\":{\"data\":{\"Date\":{\"__ndarray__\":\"AACAOkrpcUIAAEA35upxQgAAQNUSAnJCAABAybg6ckIAAIA8tk1yQgAAgGpJUHJCAAAAf9d4ckIAAMDkKXlyQgAAgLRoqnJC\",\"dtype\":\"float64\",\"order\":\"little\",\"shape\":[9]},\"Flow (m3/s)\":{\"__ndarray__\":\"CtejcD0K+T97FK5H4Xr4P4xs5/up8e4/1HjpJjGIFECd76fGSzcLQEw3iUFg5RFAjZduEoPA9D9fukkMAiv9P+18PzVeuhJA\",\"dtype\":\"float64\",\"order\":\"little\",\"shape\":[9]},\"Water level (m)\":{\"__ndarray__\":\"aZHtfD81zj9KDAIrhxbRP3jpJjEIrMw/OrTIdr6f5j/AyqFFtvPdPwwCK4cW2eI/jGzn+6nx0j8zMzMzMzPTP9NNYhBYOeQ/\",\"dtype\":\"float64\",\"order\":\"little\",\"shape\":[9]},\"index\":[0,1,2,3,4,5,6,7,8]},\"selected\":{\"id\":\"1051\"},\"selection_policy\":{\"id\":\"1050\"}},\"id\":\"1002\",\"type\":\"ColumnDataSource\"},{\"attributes\":{},\"id\":\"1009\",\"type\":\"DataRange1d\"},{\"attributes\":{},\"id\":\"1076\",\"type\":\"DataRange1d\"},{\"attributes\":{\"num_minor_ticks\":5,\"tickers\":[{\"id\":\"1115\"},{\"id\":\"1116\"},{\"id\":\"1117\"},{\"id\":\"1118\"},{\"id\":\"1119\"},{\"id\":\"1120\"},{\"id\":\"1121\"},{\"id\":\"1122\"},{\"id\":\"1123\"},{\"id\":\"1124\"},{\"id\":\"1125\"},{\"id\":\"1126\"}]},\"id\":\"1083\",\"type\":\"DatetimeTicker\"},{\"attributes\":{},\"id\":\"1112\",\"type\":\"BasicTickFormatter\"},{\"attributes\":{\"text\":\"Daily Flow Hydrograph\"},\"id\":\"1072\",\"type\":\"Title\"},{\"attributes\":{},\"id\":\"1007\",\"type\":\"DataRange1d\"},{\"attributes\":{\"axis_label\":\"Date\",\"formatter\":{\"id\":\"1110\"},\"ticker\":{\"id\":\"1083\"}},\"id\":\"1082\",\"type\":\"DatetimeAxis\"},{\"attributes\":{\"below\":[{\"id\":\"1015\"}],\"center\":[{\"id\":\"1018\"},{\"id\":\"1022\"},{\"id\":\"1052\"}],\"left\":[{\"id\":\"1019\"}],\"plot_height\":400,\"plot_width\":550,\"renderers\":[{\"id\":\"1041\"},{\"id\":\"1057\"}],\"title\":{\"id\":\"1005\"},\"toolbar\":{\"id\":\"1031\"},\"toolbar_location\":null,\"x_range\":{\"id\":\"1007\"},\"x_scale\":{\"id\":\"1011\"},\"y_range\":{\"id\":\"1009\"},\"y_scale\":{\"id\":\"1013\"}},\"id\":\"1004\",\"subtype\":\"Figure\",\"type\":\"Plot\"},{\"attributes\":{\"axis\":{\"id\":\"1082\"},\"ticker\":null},\"id\":\"1085\",\"type\":\"Grid\"},{\"attributes\":{\"data_source\":{\"id\":\"1003\"},\"glyph\":{\"id\":\"1105\"},\"hover_glyph\":null,\"muted_glyph\":null,\"nonselection_glyph\":{\"id\":\"1106\"},\"selection_glyph\":null,\"view\":{\"id\":\"1108\"}},\"id\":\"1107\",\"type\":\"GlyphRenderer\"},{\"attributes\":{},\"id\":\"1080\",\"type\":\"LinearScale\"},{\"attributes\":{},\"id\":\"1078\",\"type\":\"LinearScale\"},{\"attributes\":{},\"id\":\"1016\",\"type\":\"BasicTicker\"},{\"attributes\":{\"axis_label\":\"Flow (m\\u00b3/s)\",\"formatter\":{\"id\":\"1044\"},\"ticker\":{\"id\":\"1016\"}},\"id\":\"1015\",\"type\":\"LinearAxis\"},{\"attributes\":{\"axis_label\":\"Stage (m)\",\"formatter\":{\"id\":\"1046\"},\"ticker\":{\"id\":\"1020\"}},\"id\":\"1019\",\"type\":\"LinearAxis\"},{\"attributes\":{\"axis\":{\"id\":\"1015\"},\"ticker\":null},\"id\":\"1018\",\"type\":\"Grid\"},{\"attributes\":{},\"id\":\"1020\",\"type\":\"BasicTicker\"},{\"attributes\":{\"axis\":{\"id\":\"1019\"},\"dimension\":1,\"ticker\":null},\"id\":\"1022\",\"type\":\"Grid\"},{\"attributes\":{\"base\":60,\"mantissas\":[1,2,5,10,15,20,30],\"max_interval\":1800000.0,\"min_interval\":1000.0,\"num_minor_ticks\":0},\"id\":\"1116\",\"type\":\"AdaptiveTicker\"},{\"attributes\":{\"days\":[1,2,3,4,5,6,7,8,9,10,11,12,13,14,15,16,17,18,19,20,21,22,23,24,25,26,27,28,29,30,31]},\"id\":\"1118\",\"type\":\"DaysTicker\"},{\"attributes\":{\"overlay\":{\"id\":\"1030\"}},\"id\":\"1027\",\"type\":\"PolySelectTool\"},{\"attributes\":{},\"id\":\"1024\",\"type\":\"WheelZoomTool\"},{\"attributes\":{},\"id\":\"1023\",\"type\":\"PanTool\"},{\"attributes\":{\"mantissas\":[1,2,5],\"max_interval\":500.0,\"num_minor_ticks\":0},\"id\":\"1115\",\"type\":\"AdaptiveTicker\"},{\"attributes\":{},\"id\":\"1025\",\"type\":\"ResetTool\"},{\"attributes\":{\"base\":24,\"mantissas\":[1,2,4,6,8,12],\"max_interval\":43200000.0,\"min_interval\":3600000.0,\"num_minor_ticks\":0},\"id\":\"1117\",\"type\":\"AdaptiveTicker\"},{\"attributes\":{\"callback\":null},\"id\":\"1026\",\"type\":\"HoverTool\"},{\"attributes\":{\"months\":[0,1,2,3,4,5,6,7,8,9,10,11]},\"id\":\"1122\",\"type\":\"MonthsTicker\"},{\"attributes\":{\"months\":[0,2,4,6,8,10]},\"id\":\"1123\",\"type\":\"MonthsTicker\"},{\"attributes\":{\"overlay\":{\"id\":\"1029\"}},\"id\":\"1028\",\"type\":\"BoxSelectTool\"},{\"attributes\":{\"days\":[1,4,7,10,13,16,19,22,25,28]},\"id\":\"1119\",\"type\":\"DaysTicker\"},{\"attributes\":{\"days\":[1,15]},\"id\":\"1121\",\"type\":\"DaysTicker\"},{\"attributes\":{\"months\":[0,6]},\"id\":\"1125\",\"type\":\"MonthsTicker\"},{\"attributes\":{\"days\":[1,8,15,22]},\"id\":\"1120\",\"type\":\"DaysTicker\"},{\"attributes\":{},\"id\":\"1126\",\"type\":\"YearsTicker\"},{\"attributes\":{\"months\":[0,4,8]},\"id\":\"1124\",\"type\":\"MonthsTicker\"},{\"attributes\":{},\"id\":\"1127\",\"type\":\"UnionRenderers\"},{\"attributes\":{},\"id\":\"1128\",\"type\":\"Selection\"},{\"attributes\":{\"bottom_units\":\"screen\",\"fill_alpha\":0.5,\"fill_color\":\"lightgrey\",\"left_units\":\"screen\",\"level\":\"overlay\",\"line_alpha\":1.0,\"line_color\":\"black\",\"line_dash\":[4,4],\"line_width\":2,\"right_units\":\"screen\",\"top_units\":\"screen\"},\"id\":\"1029\",\"type\":\"BoxAnnotation\"},{\"attributes\":{\"children\":[[{\"id\":\"1004\"},0,0],[{\"id\":\"1071\"},0,1]]},\"id\":\"1194\",\"type\":\"GridBox\"},{\"attributes\":{\"toolbars\":[{\"id\":\"1031\"},{\"id\":\"1097\"}],\"tools\":[{\"id\":\"1023\"},{\"id\":\"1024\"},{\"id\":\"1025\"},{\"id\":\"1026\"},{\"id\":\"1027\"},{\"id\":\"1028\"},{\"id\":\"1090\"},{\"id\":\"1091\"},{\"id\":\"1092\"},{\"id\":\"1093\"},{\"id\":\"1094\"},{\"id\":\"1095\"}]},\"id\":\"1195\",\"type\":\"ProxyToolbar\"},{\"attributes\":{\"fill_alpha\":0.5,\"fill_color\":\"lightgrey\",\"level\":\"overlay\",\"line_alpha\":1.0,\"line_color\":\"black\",\"line_dash\":[4,4],\"line_width\":2,\"xs_units\":\"screen\",\"ys_units\":\"screen\"},\"id\":\"1030\",\"type\":\"PolyAnnotation\"},{\"attributes\":{\"source\":{\"id\":\"1002\"}},\"id\":\"1135\",\"type\":\"CDSView\"},{\"attributes\":{\"toolbar\":{\"id\":\"1195\"},\"toolbar_location\":\"above\"},\"id\":\"1196\",\"type\":\"ToolbarBox\"},{\"attributes\":{\"fill_alpha\":{\"value\":0.1},\"fill_color\":{\"value\":\"red\"},\"line_alpha\":{\"value\":0.1},\"line_color\":{\"value\":\"red\"},\"size\":{\"units\":\"screen\",\"value\":5},\"x\":{\"field\":\"Date\"},\"y\":{\"field\":\"Flow (m3/s)\"}},\"id\":\"1133\",\"type\":\"Circle\"},{\"attributes\":{\"active_drag\":\"auto\",\"active_inspect\":\"auto\",\"active_multi\":null,\"active_scroll\":\"auto\",\"active_tap\":\"auto\",\"tools\":[{\"id\":\"1023\"},{\"id\":\"1024\"},{\"id\":\"1025\"},{\"id\":\"1026\"},{\"id\":\"1027\"},{\"id\":\"1028\"}]},\"id\":\"1031\",\"type\":\"Toolbar\"},{\"attributes\":{\"label\":{\"value\":\"Measured Q\"},\"renderers\":[{\"id\":\"1134\"}]},\"id\":\"1158\",\"type\":\"LegendItem\"},{\"attributes\":{\"data_source\":{\"id\":\"1002\"},\"glyph\":{\"id\":\"1132\"},\"hover_glyph\":null,\"muted_glyph\":null,\"nonselection_glyph\":{\"id\":\"1133\"},\"selection_glyph\":null,\"view\":{\"id\":\"1135\"}},\"id\":\"1134\",\"type\":\"GlyphRenderer\"},{\"attributes\":{\"data_source\":{\"id\":\"1002\"},\"glyph\":{\"id\":\"1039\"},\"hover_glyph\":null,\"muted_glyph\":null,\"nonselection_glyph\":{\"id\":\"1040\"},\"selection_glyph\":null,\"view\":{\"id\":\"1042\"}},\"id\":\"1041\",\"type\":\"GlyphRenderer\"},{\"attributes\":{\"source\":{\"id\":\"1002\"}},\"id\":\"1042\",\"type\":\"CDSView\"},{\"attributes\":{},\"id\":\"1044\",\"type\":\"BasicTickFormatter\"},{\"attributes\":{},\"id\":\"1046\",\"type\":\"BasicTickFormatter\"}],\"root_ids\":[\"1197\"]},\"title\":\"Bokeh Application\",\"version\":\"2.2.1\"}};\n",
       "  var render_items = [{\"docid\":\"c90571f4-a1ad-4897-b449-fcd91eb4de86\",\"root_ids\":[\"1197\"],\"roots\":{\"1197\":\"9e66ce47-daab-4816-92a9-5fec74411212\"}}];\n",
       "  root.Bokeh.embed.embed_items_notebook(docs_json, render_items);\n",
       "\n",
       "  }\n",
       "  if (root.Bokeh !== undefined) {\n",
       "    embed_document(root);\n",
       "  } else {\n",
       "    var attempts = 0;\n",
       "    var timer = setInterval(function(root) {\n",
       "      if (root.Bokeh !== undefined) {\n",
       "        clearInterval(timer);\n",
       "        embed_document(root);\n",
       "      } else {\n",
       "        attempts++;\n",
       "        if (attempts > 100) {\n",
       "          clearInterval(timer);\n",
       "          console.log(\"Bokeh: ERROR: Unable to run BokehJS code because BokehJS library is missing\");\n",
       "        }\n",
       "      }\n",
       "    }, 10, root)\n",
       "  }\n",
       "})(window);"
      ],
      "application/vnd.bokehjs_exec.v0+json": ""
     },
     "metadata": {
      "application/vnd.bokehjs_exec.v0+json": {
       "id": "1197"
      }
     },
     "output_type": "display_data"
    }
   ],
   "source": [
    "# output to static HTML file\n",
    "#output_file(\"filename.html\")\n",
    "\n",
    "# customize the tools for interacting with the bokeh plot\n",
    "TOOLS=\"pan,wheel_zoom,reset,hover,poly_select,box_select\"\n",
    "\n",
    "# Bokeh uses a ColumnDataSource data structure to \n",
    "# link plots and make them more interactive\n",
    "\n",
    "stage_df = stage_df.reset_index(drop=True)\n",
    "\n",
    "# set data sources for plot linking\n",
    "rc_source = ColumnDataSource(data=dict())\n",
    "rc_source.data = rc_source.from_df(rc_df)\n",
    "\n",
    "ts_source = ColumnDataSource(data=dict())\n",
    "ts_source.data = ts_source.from_df(stage_df)\n",
    "\n",
    "#### RATING CURVE PLOT (LET)\n",
    "rc_plot = figure(plot_width=550, plot_height=400,\n",
    "                title='Rating Curve Plot',\n",
    "                tools=TOOLS)\n",
    "\n",
    "# plot the measured discharge points\n",
    "rc_plot.circle('Flow (m3/s)', 'Water level (m)', size=5, color=\"red\", alpha=0.5,\n",
    "              legend_label='Measured Q', source=rc_source)\n",
    "\n",
    "# plot the rating curve based on the OLS best fit\n",
    "rc_plot.line(bf_df['best_fit_q'], bf_df['stage'],\n",
    "             line_color='green', legend_label='OLS Fit')\n",
    "\n",
    "#### DAILY FLOW SERIES PLOT (RIGHT)\n",
    "daily_flow_plot = figure(plot_width=550, plot_height=400, \n",
    "                        x_axis_type='datetime', title='Daily Flow Hydrograph')\n",
    "\n",
    "# # plot the flow series based on the OLS best fit\n",
    "daily_flow_plot.line('Date', 'RC Q (cms)', \n",
    "                    legend_label='OLS-based RC Flow', color='green',\n",
    "                    source=ts_source)\n",
    "\n",
    "# plot the daily flow series generated from the manual rating curve\n",
    "daily_flow_plot.circle('Date', 'Flow (m3/s)', size=5, color=\"red\", alpha=0.8,\n",
    "              source=rc_source, legend_label='Measured Q')\n",
    "\n",
    "# daily_flow_plot.line('Date', 'RC Q (cms)')\n",
    "# label the axes\n",
    "daily_flow_plot.xaxis.axis_label = 'Date'\n",
    "daily_flow_plot.yaxis.axis_label = 'Flow (m³/s)'\n",
    "daily_flow_plot.legend.location = \"top_left\"\n",
    "rc_plot.xaxis.axis_label = 'Flow (m³/s)'\n",
    "rc_plot.yaxis.axis_label = 'Stage (m)'\n",
    "rc_plot.legend.location = \"bottom_right\"\n",
    "\n",
    "layout = gridplot([[rc_plot, daily_flow_plot]])\n",
    "\n",
    "# show the results\n",
    "show(layout)"
   ]
  },
  {
   "cell_type": "markdown",
   "metadata": {},
   "source": [
    "## Characterizing Water Resources\n",
    "\n",
    "Below are a few points to consider regarding the characterization of the water resource over the **long term**.\n",
    "\n",
    "1.  How long has the hydrometric station been operating?  \n",
    "2.  If we're collecting data to support civil engineering design, to assess financial viability of a project, to inform operations, and to quantify the impact of our use of water resources or our modification of natural flow regimes, have we collected enough data?\n",
    "3.  How much data is enough?\n",
    "4.  If we don't have enough, what can we do to better evaluate the water resource?\n",
    "\n"
   ]
  },
  {
   "cell_type": "markdown",
   "metadata": {},
   "source": [
    "## Linear Regression of Daily Streamflow\n",
    "\n",
    "![Active WSC Stations in Western Canada](img/wsc_map_view1.png)\n",
    "\n",
    "Water Survey of Canada (WSC) has operated and maintained hydrometric stations across Canada for over 100 years.  If we can find a regional proxy WSC station in **close proximity to our location of interest, with similar basin characteristics** to those of our project, we can correlate daily streamflow between the two locations, ultimately to generate an estimated (or synthetic) long-term flow series for our project location.\n",
    "\n",
    "Typically regressions are done by chronological pairing, which effectively says \"if the flow at the regional (proxy) station was $Q_p$ at time $t$, the flow at our project location at time $t$ will be approximately $C\\cdot Q_p + D$ where $C$ and $D$ are constants.  "
   ]
  },
  {
   "cell_type": "markdown",
   "metadata": {},
   "source": [
    "### Steps to develop a correlation: Chronological Pairing (CP)\n",
    "\n",
    "A lot of work goes into finding an appropriate long-term record comparable to our location of interest, but we will assume we have been given a long-term daily flow series to use.\n",
    "\n",
    "1.  Find just the concurrent days of record (days where we have flow recorded for both creeks/rivers).\n",
    "2.  Create a scatter plot where the coordinates of each data point are (flow1, flow2).  It is customary to put the long-term regional station on the x-axis.\n",
    "3.  Determine the equation describing the line of best fit through the data.\n",
    "4.  Apply the best fit line equation to the long-term surrogate record to yield an estimated long-term series for the project location.\n",
    "\n",
    "To further refine this estimate, we can recognize that the mechanisms driving flow across seasons and months can change quite dramatically, and the relationship between the two catchments can also change month-by-month, and/or season by season.  If there is enough data to create seasonal or monthly regressions, we can develop a best-fit equation for each month or season.  The process of steps 2 through 4 then are the same, except we treat each season or month independently.  \n",
    "\n",
    "The above method is referred to as **chronological pairing (CP)**, as it pairs flow that occurs on the same day.  But what if there are timing differences between stations, or what if the spatial variability of precipitation results in flow events that don't coincide in the short term?  "
   ]
  },
  {
   "cell_type": "markdown",
   "metadata": {},
   "source": [
    "### Empirical Frequency Pairing\n",
    "\n",
    "To eliminate the temporal constraint on timing of events at the daily level, instead of comparing concurrent days, we can compare magnitudes of flows. This method is referred to as Empirical Frequency Pairing (EFP) and is commonly used in British Columbia.  Empirical frequency pairing still uses concurrent records, however it is the ranked flows in each series that are compared, i.e. the data points on an EFP plot are:  \n",
    "\n",
    "$$[(R1_{siteA}, R1_{site_B}), (R2_{siteA}, R2_{siteB}), ..., (Rn_{siteA}, Rn_{siteB})]$$  \n",
    "\n",
    "The steps to derive an estimated long-term flow series for our location of interest are the same (i.e. steps 2-4 above)."
   ]
  },
  {
   "cell_type": "markdown",
   "metadata": {},
   "source": [
    "### Setting up a Regression\n",
    "\n",
    "The first step is to import the regional data series and find all of the dates with values for both locations.\n",
    "\n",
    "Previewing the data shows line 1 has information about two distinct parameters.  Where the `PARAM` column value is 1, the `Value` column corresponds to daily discharge ($\\frac{m^3}{s}$ and where the `PARAM` column value is 2, the `Value` column corresonds to daily water level ($m$).  We need to correctly set the header line to index 1 (the second row), so that the headings are read correctly."
   ]
  },
  {
   "cell_type": "code",
   "execution_count": 17,
   "metadata": {},
   "outputs": [
    {
     "data": {
      "text/html": [
       "<div>\n",
       "<style scoped>\n",
       "    .dataframe tbody tr th:only-of-type {\n",
       "        vertical-align: middle;\n",
       "    }\n",
       "\n",
       "    .dataframe tbody tr th {\n",
       "        vertical-align: top;\n",
       "    }\n",
       "\n",
       "    .dataframe thead th {\n",
       "        text-align: right;\n",
       "    }\n",
       "</style>\n",
       "<table border=\"1\" class=\"dataframe\">\n",
       "  <thead>\n",
       "    <tr style=\"text-align: right;\">\n",
       "      <th></th>\n",
       "      <th>PARAM</th>\n",
       "      <th>Value</th>\n",
       "      <th>SYM</th>\n",
       "    </tr>\n",
       "    <tr>\n",
       "      <th>Date</th>\n",
       "      <th></th>\n",
       "      <th></th>\n",
       "      <th></th>\n",
       "    </tr>\n",
       "  </thead>\n",
       "  <tbody>\n",
       "    <tr>\n",
       "      <th>1987-01-26</th>\n",
       "      <td>1</td>\n",
       "      <td>0.283</td>\n",
       "      <td>A</td>\n",
       "    </tr>\n",
       "    <tr>\n",
       "      <th>1987-01-27</th>\n",
       "      <td>1</td>\n",
       "      <td>0.240</td>\n",
       "      <td>B</td>\n",
       "    </tr>\n",
       "    <tr>\n",
       "      <th>1987-01-28</th>\n",
       "      <td>1</td>\n",
       "      <td>0.240</td>\n",
       "      <td>B</td>\n",
       "    </tr>\n",
       "    <tr>\n",
       "      <th>1987-01-29</th>\n",
       "      <td>1</td>\n",
       "      <td>0.273</td>\n",
       "      <td>NaN</td>\n",
       "    </tr>\n",
       "    <tr>\n",
       "      <th>1987-01-30</th>\n",
       "      <td>1</td>\n",
       "      <td>0.255</td>\n",
       "      <td>NaN</td>\n",
       "    </tr>\n",
       "  </tbody>\n",
       "</table>\n",
       "</div>"
      ],
      "text/plain": [
       "            PARAM  Value  SYM\n",
       "Date                         \n",
       "1987-01-26      1  0.283    A\n",
       "1987-01-27      1  0.240    B\n",
       "1987-01-28      1  0.240    B\n",
       "1987-01-29      1  0.273  NaN\n",
       "1987-01-30      1  0.255  NaN"
      ]
     },
     "execution_count": 17,
     "metadata": {},
     "output_type": "execute_result"
    }
   ],
   "source": [
    "# set the header row to index 1, tell the function to set the `Date` column as the index.\n",
    "# If you look at the raw csv file, you'll see that there's an information line at the very top,\n",
    "# and the second line (index 1 in programming) is where the column headers are\n",
    "regional_df = pd.read_csv('../data/notebook_2_data/Regional_data.csv', header=1, parse_dates=True, index_col='Date')\n",
    "\n",
    "# select only the discharge data (PARAM == 1)\n",
    "regional_df = regional_df[regional_df['PARAM'] == 1]\n",
    "\n",
    "# preview the data\n",
    "regional_df.head()"
   ]
  },
  {
   "cell_type": "code",
   "execution_count": 18,
   "metadata": {},
   "outputs": [
    {
     "name": "stdout",
     "output_type": "stream",
     "text": [
      "REGIONAL DATA: Start date = 1987-01-26 00:00:00, End date = 2017-12-31 00:00:00\n",
      "SITE DATA: Start date = 2009-01-01 00:00:00, End date = 2010-12-31 00:00:00\n"
     ]
    }
   ],
   "source": [
    "# check the date range covered by the regional data\n",
    "print('REGIONAL DATA: Start date = {}, End date = {}'.format(regional_df.index[0], regional_df.index[-1]))\n",
    "\n",
    "# for the concat function, the indexes of all dataframes need to be datetime\n",
    "stage_df.set_index('Date', inplace=True)\n",
    "# check the date range covered by our data measured at site\n",
    "print('SITE DATA: Start date = {}, End date = {}'.format(stage_df.index[0], stage_df.index[-1]))\n",
    "\n"
   ]
  },
  {
   "cell_type": "markdown",
   "metadata": {},
   "source": [
    "### Obtain Concurrent Data\n",
    "\n",
    "In the previous step, we can see that the regional dataset encompasses the date range of our site data.  To perform a regression, we want to use concurrent data only.   The `concat`, or concatenate, function [documentation can be found here](https://pandas.pydata.org/pandas-docs/stable/reference/api/pandas.concat.html). "
   ]
  },
  {
   "cell_type": "code",
   "execution_count": 26,
   "metadata": {},
   "outputs": [
    {
     "data": {
      "text/html": [
       "<div>\n",
       "<style scoped>\n",
       "    .dataframe tbody tr th:only-of-type {\n",
       "        vertical-align: middle;\n",
       "    }\n",
       "\n",
       "    .dataframe tbody tr th {\n",
       "        vertical-align: top;\n",
       "    }\n",
       "\n",
       "    .dataframe thead th {\n",
       "        text-align: right;\n",
       "    }\n",
       "</style>\n",
       "<table border=\"1\" class=\"dataframe\">\n",
       "  <thead>\n",
       "    <tr style=\"text-align: right;\">\n",
       "      <th></th>\n",
       "      <th>Regional_Q</th>\n",
       "      <th>Project_Q</th>\n",
       "    </tr>\n",
       "    <tr>\n",
       "      <th>Date</th>\n",
       "      <th></th>\n",
       "      <th></th>\n",
       "    </tr>\n",
       "  </thead>\n",
       "  <tbody>\n",
       "    <tr>\n",
       "      <th>2009-01-01</th>\n",
       "      <td>0.240</td>\n",
       "      <td>1.214128</td>\n",
       "    </tr>\n",
       "    <tr>\n",
       "      <th>2009-01-02</th>\n",
       "      <td>0.230</td>\n",
       "      <td>1.185106</td>\n",
       "    </tr>\n",
       "    <tr>\n",
       "      <th>2009-01-03</th>\n",
       "      <td>0.225</td>\n",
       "      <td>1.170675</td>\n",
       "    </tr>\n",
       "    <tr>\n",
       "      <th>2009-01-04</th>\n",
       "      <td>0.208</td>\n",
       "      <td>1.163480</td>\n",
       "    </tr>\n",
       "    <tr>\n",
       "      <th>2009-01-05</th>\n",
       "      <td>0.200</td>\n",
       "      <td>1.149130</td>\n",
       "    </tr>\n",
       "  </tbody>\n",
       "</table>\n",
       "</div>"
      ],
      "text/plain": [
       "            Regional_Q  Project_Q\n",
       "Date                             \n",
       "2009-01-01       0.240   1.214128\n",
       "2009-01-02       0.230   1.185106\n",
       "2009-01-03       0.225   1.170675\n",
       "2009-01-04       0.208   1.163480\n",
       "2009-01-05       0.200   1.149130"
      ]
     },
     "execution_count": 26,
     "metadata": {},
     "output_type": "execute_result"
    }
   ],
   "source": [
    "# create a new dataframe of concurrent data and plot the data\n",
    "# join='inner' says to line up the indices and get the values that are common between the two dataframes\n",
    "# axis=1 says line up columns instead of rows\n",
    "\n",
    "concurrent_df = pd.concat([stage_df, regional_df], join='inner', axis=1)\n",
    "\n",
    "# filter just the columns we want\n",
    "concurrent_df = concurrent_df[['Value', 'RC Q (cms)']]\n",
    "# not rename the columns to something that is more indicative of the location of each data source\n",
    "concurrent_df.columns = ['Regional_Q', 'Project_Q']\n",
    "concurrent_df.head()\n"
   ]
  },
  {
   "cell_type": "code",
   "execution_count": 36,
   "metadata": {},
   "outputs": [],
   "source": [
    "# find the best fit equation\n",
    "slope, intercept, rval, pval, stderr = st.linregress(concurrent_df['Regional_Q'], concurrent_df['Project_Q'])"
   ]
  },
  {
   "cell_type": "markdown",
   "metadata": {},
   "source": [
    "# Regression Plot"
   ]
  },
  {
   "cell_type": "code",
   "execution_count": 43,
   "metadata": {},
   "outputs": [
    {
     "data": {
      "text/html": [
       "\n",
       "\n",
       "\n",
       "\n",
       "\n",
       "\n",
       "  <div class=\"bk-root\" id=\"6fbac22c-761f-4b94-adb0-32b218863f05\" data-root-id=\"2434\"></div>\n"
      ]
     },
     "metadata": {},
     "output_type": "display_data"
    },
    {
     "data": {
      "application/javascript": [
       "(function(root) {\n",
       "  function embed_document(root) {\n",
       "    \n",
       "  var docs_json = {\"ef87487b-58b1-466e-ac5a-2c92f22edf94\":{\"roots\":{\"references\":[{\"attributes\":{\"below\":[{\"id\":\"2445\"}],\"center\":[{\"id\":\"2448\"},{\"id\":\"2452\"},{\"id\":\"2489\"}],\"left\":[{\"id\":\"2449\"}],\"plot_height\":400,\"plot_width\":700,\"renderers\":[{\"id\":\"2471\"},{\"id\":\"2476\"}],\"title\":{\"id\":\"2435\"},\"toolbar\":{\"id\":\"2461\"},\"x_range\":{\"id\":\"2437\"},\"x_scale\":{\"id\":\"2441\"},\"y_range\":{\"id\":\"2439\"},\"y_scale\":{\"id\":\"2443\"}},\"id\":\"2434\",\"subtype\":\"Figure\",\"type\":\"Plot\"},{\"attributes\":{},\"id\":\"2443\",\"type\":\"LinearScale\"},{\"attributes\":{\"overlay\":{\"id\":\"2460\"}},\"id\":\"2457\",\"type\":\"PolySelectTool\"},{\"attributes\":{},\"id\":\"2450\",\"type\":\"BasicTicker\"},{\"attributes\":{},\"id\":\"2439\",\"type\":\"DataRange1d\"},{\"attributes\":{},\"id\":\"2485\",\"type\":\"UnionRenderers\"},{\"attributes\":{\"axis\":{\"id\":\"2449\"},\"dimension\":1,\"ticker\":null},\"id\":\"2452\",\"type\":\"Grid\"},{\"attributes\":{\"data\":{\"x\":{\"__ndarray__\":\"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\",\"dtype\":\"float64\",\"order\":\"little\",\"shape\":[730]},\"y\":{\"__ndarray__\":\"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\",\"dtype\":\"float64\",\"order\":\"little\",\"shape\":[730]}},\"selected\":{\"id\":\"2486\"},\"selection_policy\":{\"id\":\"2485\"}},\"id\":\"2468\",\"type\":\"ColumnDataSource\"},{\"attributes\":{\"label\":{\"value\":\"Q = 2.0*Qregional + 0.9\"},\"renderers\":[{\"id\":\"2476\"}]},\"id\":\"2490\",\"type\":\"LegendItem\"},{\"attributes\":{},\"id\":\"2441\",\"type\":\"LinearScale\"},{\"attributes\":{\"fill_alpha\":{\"value\":0.1},\"fill_color\":{\"value\":\"dodgerblue\"},\"line_alpha\":{\"value\":0.1},\"line_color\":{\"value\":\"dodgerblue\"},\"x\":{\"field\":\"x\"},\"y\":{\"field\":\"y\"}},\"id\":\"2470\",\"type\":\"Scatter\"},{\"attributes\":{\"source\":{\"id\":\"2473\"}},\"id\":\"2477\",\"type\":\"CDSView\"},{\"attributes\":{\"formatter\":{\"id\":\"2479\"},\"ticker\":{\"id\":\"2446\"}},\"id\":\"2445\",\"type\":\"LinearAxis\"},{\"attributes\":{\"overlay\":{\"id\":\"2459\"}},\"id\":\"2458\",\"type\":\"BoxSelectTool\"},{\"attributes\":{\"callback\":null},\"id\":\"2456\",\"type\":\"HoverTool\"},{\"attributes\":{},\"id\":\"2486\",\"type\":\"Selection\"},{\"attributes\":{\"data_source\":{\"id\":\"2468\"},\"glyph\":{\"id\":\"2469\"},\"hover_glyph\":null,\"muted_glyph\":null,\"nonselection_glyph\":{\"id\":\"2470\"},\"selection_glyph\":null,\"view\":{\"id\":\"2472\"}},\"id\":\"2471\",\"type\":\"GlyphRenderer\"},{\"attributes\":{},\"id\":\"2437\",\"type\":\"DataRange1d\"},{\"attributes\":{},\"id\":\"2479\",\"type\":\"BasicTickFormatter\"},{\"attributes\":{\"data\":{\"x\":{\"__ndarray__\":\"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\",\"dtype\":\"float64\",\"order\":\"little\",\"shape\":[500]},\"y\":[0.8548714692164818,0.8974754373066858,0.9400794053968898,0.9826833734870939,1.0252873415772978,1.0678913096675018,1.110495277757706,1.15309924584791,1.1957032139381139,1.2383071820283178,1.2809111501185217,1.323515118208726,1.36611908629893,1.4087230543891338,1.451327022479338,1.493930990569542,1.5365349586597459,1.57913892674995,1.6217428948401538,1.664346862930358,1.7069508310205619,1.7495547991107658,1.79215876720097,1.834762735291174,1.8773667033813781,1.919970671471582,1.962574639561786,2.00517860765199,2.047782575742194,2.0903865438323983,2.132990511922602,2.175594480012806,2.21819844810301,2.260802416193214,2.3034063842834183,2.346010352373622,2.3886143204638257,2.43121828855403,2.473822256644234,2.516426224734438,2.559030192824642,2.601634160914846,2.64423812900505,2.686842097095254,2.729446065185458,2.7720500332756624,2.814654001365866,2.8572579694560702,2.8998619375462744,2.942465905636478,2.9850698737266823,3.027673841816886,3.07027780990709,3.1128817779972944,3.155485746087498,3.1980897141777023,3.2406936822679064,3.28329765035811,3.3259016184483143,3.3685055865385185,3.4111095546287222,3.4537135227189264,3.4963174908091306,3.538921458899334,3.581525426989538,3.624129395079742,3.666733363169946,3.70933733126015,3.7519412993503543,3.794545267440558,3.837149235530762,3.8797532036209663,3.92235717171117,3.964961139801374,4.007565107891578,4.050169075981782,4.092773044071986,4.1353770121621904,4.177980980252395,4.220584948342598,4.263188916432802,4.305792884523006,4.34839685261321,4.391000820703415,4.433604788793618,4.476208756883823,4.518812724974026,4.56141669306423,4.6040206611544345,4.646624629244638,4.689228597334843,4.731832565425046,4.77443653351525,4.8170405016054545,4.859644469695659,4.902248437785862,4.944852405876067,4.98745637396627,5.0300603420564745,5.072664310146679,5.115268278236883,5.157872246327087,5.20047621441729,5.243080182507494,5.285684150597699,5.328288118687903,5.370892086778107,5.413496054868311,5.456100022958514,5.4987039910487185,5.541307959138923,5.583911927229127,5.626515895319331,5.669119863409535,5.7117238314997385,5.754327799589943,5.796931767680147,5.839535735770351,5.882139703860555,5.924743671950759,5.967347640040963,6.009951608131167,6.052555576221371,6.095159544311575,6.137763512401779,6.1803674804919835,6.222971448582186,6.26557541667239,6.308179384762594,6.350783352852798,6.3933873209430025,6.435991289033206,6.47859525712341,6.521199225213614,6.563803193303818,6.6064071613940225,6.649011129484227,6.69161509757443,6.734219065664634,6.776823033754838,6.8194270018450425,6.862030969935247,6.904634938025451,6.947238906115654,6.989842874205858,7.032446842296062,7.075050810386267,7.117654778476471,7.160258746566675,7.202862714656878,7.245466682747082,7.288070650837287,7.330674618927491,7.373278587017695,7.415882555107899,7.458486523198102,7.5010904912883065,7.543694459378511,7.586298427468715,7.628902395558919,7.671506363649122,7.7141103317393265,7.756714299829531,7.799318267919735,7.841922236009939,7.884526204100143,7.927130172190346,7.969734140280551,8.012338108370756,8.054942076460959,8.097546044551162,8.140150012641367,8.18275398073157,8.225357948821774,8.267961916911979,8.310565885002184,8.353169853092387,8.39577382118259,8.438377789272796,8.480981757362999,8.523585725453202,8.566189693543407,8.608793661633612,8.651397629723816,8.694001597814019,8.736605565904224,8.779209533994427,8.82181350208463,8.864417470174836,8.907021438265039,8.949625406355242,8.992229374445447,9.034833342535652,9.077437310625854,9.120041278716059,9.162645246806262,9.205249214896467,9.24785318298667,9.290457151076875,9.333061119167079,9.375665087257284,9.418269055347487,9.460873023437692,9.503476991527895,9.546080959618099,9.588684927708302,9.631288895798507,9.67389286388871,9.716496831978915,9.759100800069119,9.801704768159324,9.844308736249527,9.886912704339732,9.929516672429935,9.97212064052014,10.014724608610344,10.057328576700547,10.09993254479075,10.142536512880955,10.185140480971159,10.227744449061364,10.270348417151567,10.312952385241772,10.355556353331975,10.39816032142218,10.440764289512384,10.483368257602589,10.52597222569279,10.568576193782995,10.611180161873198,10.653784129963404,10.696388098053607,10.738992066143812,10.781596034234015,10.82420000232422,10.866803970414423,10.909407938504629,10.952011906594832,10.994615874685037,11.037219842775238,11.079823810865443,11.122427778955647,11.165031747045852,11.207635715136055,11.25023968322626,11.292843651316463,11.335447619406668,11.378051587496872,11.420655555587077,11.46325952367728,11.505863491767485,11.548467459857687,11.59107142794789,11.633675396038095,11.676279364128298,11.718883332218503,11.761487300308707,11.804091268398912,11.846695236489115,11.88929920457932,11.931903172669523,11.974507140759728,12.01711110884993,12.059715076940135,12.102319045030338,12.144923013120543,12.187526981210747,12.230130949300952,12.272734917391155,12.31533888548136,12.357942853571563,12.400546821661768,12.443150789751972,12.485754757842177,12.528358725932378,12.570962694022583,12.613566662112786,12.656170630202991,12.698774598293195,12.7413785663834,12.783982534473603,12.826586502563808,12.869190470654011,12.911794438744217,12.95439840683442,12.997002374924625,13.039606343014826,13.082210311105031,13.124814279195235,13.16741824728544,13.210022215375643,13.252626183465848,13.295230151556051,13.337834119646256,13.38043808773646,13.423042055826665,13.465646023916868,13.508249992007071,13.550853960097275,13.59345792818748,13.636061896277683,13.678665864367888,13.721269832458091,13.763873800548296,13.8064777686385,13.849081736728705,13.891685704818908,13.934289672909113,13.976893640999316,14.01949760908952,14.062101577179723,14.104705545269928,14.147309513360131,14.189913481450336,14.23251744954054,14.275121417630745,14.317725385720948,14.360329353811153,14.402933321901356,14.445537289991561,14.488141258081763,14.530745226171968,14.573349194262171,14.615953162352376,14.65855713044258,14.701161098532785,14.743765066622988,14.786369034713193,14.828973002803396,14.871576970893601,14.914180938983804,14.95678490707401,14.999388875164211,15.041992843254414,15.08459681134462,15.127200779434823,15.169804747525028,15.212408715615231,15.255012683705436,15.29761665179564,15.340220619885844,15.382824587976048,15.425428556066253,15.468032524156456,15.51063649224666,15.553240460336863,15.595844428427068,15.638448396517271,15.681052364607476,15.72365633269768,15.766260300787884,15.808864268878088,15.851468236968293,15.894072205058496,15.936676173148701,15.979280141238903,16.021884109329108,16.064488077419313,16.107092045509518,16.14969601359972,16.192299981689924,16.234903949780126,16.27750791787033,16.320111885960536,16.36271585405074,16.405319822140946,16.44792379023115,16.49052775832135,16.533131726411554,16.57573569450176,16.618339662591964,16.66094363068217,16.703547598772374,16.746151566862576,16.78875553495278,16.831359503042982,16.873963471133187,16.916567439223392,16.959171407313598,17.001775375403803,17.044379343494,17.086983311584206,17.12958727967441,17.172191247764616,17.21479521585482,17.257399183945026,17.300003152035224,17.342607120125436,17.385211088215634,17.42781505630584,17.470419024396044,17.51302299248625,17.555626960576454,17.59823092866666,17.640834896756857,17.68343886484707,17.726042832937267,17.768646801027472,17.811250769117677,17.853854737207882,17.896458705298087,17.939062673388285,17.98166664147849,18.024270609568696,18.0668745776589,18.109478545749106,18.15208251383931,18.194686481929516,18.237290450019714,18.27989441810992,18.322498386200124,18.36510235429033,18.407706322380534,18.45031029047074,18.492914258560937,18.53551822665115,18.578122194741347,18.620726162831552,18.663330130921757,18.705934099011955,18.748538067102167,18.791142035192365,18.83374600328257,18.876349971372775,18.91895393946298,18.961557907553185,19.00416187564339,19.04676584373359,19.0893698118238,19.131973779914,19.174577748004204,19.21718171609441,19.259785684184614,19.30238965227482,19.344993620365017,19.387597588455222,19.430201556545427,19.472805524635632,19.515409492725837,19.558013460816042,19.600617428906247,19.643221396996452,19.68582536508665,19.728429333176855,19.77103330126706,19.813637269357265,19.85624123744747,19.89884520553767,19.94144917362788,19.98405314171808,20.026657109808284,20.06926107789849,20.111865045988694,20.1544690140789,20.197072982169097,20.2396769502593,20.282280918349507,20.324884886439712,20.367488854529917,20.410092822620122,20.452696790710327,20.495300758800532,20.53790472689073,20.580508694980935,20.62311266307114,20.665716631161345,20.70832059925155,20.750924567341748,20.79352853543196,20.83613250352216,20.878736471612363,20.92134043970257,20.963944407792773,21.00654837588298,21.049152343973184,21.09175631206338,21.134360280153594,21.17696424824379,21.219568216333997,21.2621721844242,21.304776152514407,21.347380120604612,21.38998408869481,21.432588056785015,21.47519202487522,21.517795992965425,21.56039996105563,21.603003929145835,21.64560789723604,21.688211865326238,21.730815833416443,21.77341980150665,21.816023769596853,21.85862773768706,21.901231705777263,21.94383567386746,21.986439641957674,22.02904361004787,22.071647578138077,22.11425154622828]},\"selected\":{\"id\":\"2488\"},\"selection_policy\":{\"id\":\"2487\"}},\"id\":\"2473\",\"type\":\"ColumnDataSource\"},{\"attributes\":{\"text\":\"Regression Plot (All Concurrent Data)\"},\"id\":\"2435\",\"type\":\"Title\"},{\"attributes\":{},\"id\":\"2453\",\"type\":\"PanTool\"},{\"attributes\":{\"active_drag\":\"auto\",\"active_inspect\":\"auto\",\"active_multi\":null,\"active_scroll\":\"auto\",\"active_tap\":\"auto\",\"tools\":[{\"id\":\"2453\"},{\"id\":\"2454\"},{\"id\":\"2455\"},{\"id\":\"2456\"},{\"id\":\"2457\"},{\"id\":\"2458\"}]},\"id\":\"2461\",\"type\":\"Toolbar\"},{\"attributes\":{\"items\":[{\"id\":\"2490\"}]},\"id\":\"2489\",\"type\":\"Legend\"},{\"attributes\":{},\"id\":\"2454\",\"type\":\"WheelZoomTool\"},{\"attributes\":{\"axis\":{\"id\":\"2445\"},\"ticker\":null},\"id\":\"2448\",\"type\":\"Grid\"},{\"attributes\":{},\"id\":\"2487\",\"type\":\"UnionRenderers\"},{\"attributes\":{\"formatter\":{\"id\":\"2481\"},\"ticker\":{\"id\":\"2450\"}},\"id\":\"2449\",\"type\":\"LinearAxis\"},{\"attributes\":{\"bottom_units\":\"screen\",\"fill_alpha\":0.5,\"fill_color\":\"lightgrey\",\"left_units\":\"screen\",\"level\":\"overlay\",\"line_alpha\":1.0,\"line_color\":\"black\",\"line_dash\":[4,4],\"line_width\":2,\"right_units\":\"screen\",\"top_units\":\"screen\"},\"id\":\"2459\",\"type\":\"BoxAnnotation\"},{\"attributes\":{},\"id\":\"2481\",\"type\":\"BasicTickFormatter\"},{\"attributes\":{\"fill_color\":{\"value\":\"dodgerblue\"},\"line_color\":{\"value\":\"dodgerblue\"},\"x\":{\"field\":\"x\"},\"y\":{\"field\":\"y\"}},\"id\":\"2469\",\"type\":\"Scatter\"},{\"attributes\":{},\"id\":\"2455\",\"type\":\"ResetTool\"},{\"attributes\":{\"line_alpha\":0.1,\"line_color\":\"firebrick\",\"line_width\":2,\"x\":{\"field\":\"x\"},\"y\":{\"field\":\"y\"}},\"id\":\"2475\",\"type\":\"Line\"},{\"attributes\":{\"source\":{\"id\":\"2468\"}},\"id\":\"2472\",\"type\":\"CDSView\"},{\"attributes\":{},\"id\":\"2446\",\"type\":\"BasicTicker\"},{\"attributes\":{\"line_color\":\"firebrick\",\"line_width\":2,\"x\":{\"field\":\"x\"},\"y\":{\"field\":\"y\"}},\"id\":\"2474\",\"type\":\"Line\"},{\"attributes\":{\"fill_alpha\":0.5,\"fill_color\":\"lightgrey\",\"level\":\"overlay\",\"line_alpha\":1.0,\"line_color\":\"black\",\"line_dash\":[4,4],\"line_width\":2,\"xs_units\":\"screen\",\"ys_units\":\"screen\"},\"id\":\"2460\",\"type\":\"PolyAnnotation\"},{\"attributes\":{},\"id\":\"2488\",\"type\":\"Selection\"},{\"attributes\":{\"data_source\":{\"id\":\"2473\"},\"glyph\":{\"id\":\"2474\"},\"hover_glyph\":null,\"muted_glyph\":null,\"nonselection_glyph\":{\"id\":\"2475\"},\"selection_glyph\":null,\"view\":{\"id\":\"2477\"}},\"id\":\"2476\",\"type\":\"GlyphRenderer\"}],\"root_ids\":[\"2434\"]},\"title\":\"Bokeh Application\",\"version\":\"2.2.1\"}};\n",
       "  var render_items = [{\"docid\":\"ef87487b-58b1-466e-ac5a-2c92f22edf94\",\"root_ids\":[\"2434\"],\"roots\":{\"2434\":\"6fbac22c-761f-4b94-adb0-32b218863f05\"}}];\n",
       "  root.Bokeh.embed.embed_items_notebook(docs_json, render_items);\n",
       "\n",
       "  }\n",
       "  if (root.Bokeh !== undefined) {\n",
       "    embed_document(root);\n",
       "  } else {\n",
       "    var attempts = 0;\n",
       "    var timer = setInterval(function(root) {\n",
       "      if (root.Bokeh !== undefined) {\n",
       "        clearInterval(timer);\n",
       "        embed_document(root);\n",
       "      } else {\n",
       "        attempts++;\n",
       "        if (attempts > 100) {\n",
       "          clearInterval(timer);\n",
       "          console.log(\"Bokeh: ERROR: Unable to run BokehJS code because BokehJS library is missing\");\n",
       "        }\n",
       "      }\n",
       "    }, 10, root)\n",
       "  }\n",
       "})(window);"
      ],
      "application/vnd.bokehjs_exec.v0+json": ""
     },
     "metadata": {
      "application/vnd.bokehjs_exec.v0+json": {
       "id": "2434"
      }
     },
     "output_type": "display_data"
    }
   ],
   "source": [
    "#### Regression Plot\n",
    "reg_plot = figure(plot_width=700, plot_height=400,\n",
    "                title='Regression Plot (All Concurrent Data)',\n",
    "                tools=TOOLS)\n",
    "\n",
    "# plot the concurrent daily flows\n",
    "reg_plot.scatter(concurrent_df['Regional_Q'], concurrent_df['Project_Q'],\n",
    "                color='dodgerblue')\n",
    "\n",
    "#plot the best fit\n",
    "q_range = np.linspace(0, concurrent_df['Regional_Q'].max(), 500)\n",
    "\n",
    "reg_line = [slope * q + intercept for q in q_range]\n",
    "\n",
    "reg_plot.line(q_range, reg_line, legend_label='Q = {:.1f}*Qregional + {:.1f}'.format(slope, intercept),\n",
    "             color='firebrick', line_width=2)\n",
    "\n",
    "show(reg_plot)\n",
    "# plt.xlabel('Regional Station Daily Avg. Flow (m^3/s)')\n",
    "# plt.ylabel('Project Location Daily Avg. Flow (m^3/s)')"
   ]
  },
  {
   "cell_type": "markdown",
   "metadata": {},
   "source": [
    "## Estimate Long-Term Daily Flow at Project Location\n",
    "\n",
    "The last step in the process of a long-term flow estimate for our project location is to use the equation of the best fit line (the model) to calculate estimated daily flows over periods where flow was not measured at our project location."
   ]
  },
  {
   "cell_type": "code",
   "execution_count": 46,
   "metadata": {},
   "outputs": [],
   "source": [
    "lt_series = regional_df.copy()[['Value']]\n",
    "lt_series.columns = ['Regional_Q']\n",
    "# map the equation of the best fit line to the regional flow series\n",
    "lt_series['Proj_Q'] = lt_series.apply(lambda q: slope * q + intercept, axis=1)"
   ]
  },
  {
   "cell_type": "markdown",
   "metadata": {},
   "source": [
    "## Compare the Modelled vs. Measured Flow\n"
   ]
  },
  {
   "cell_type": "code",
   "execution_count": 52,
   "metadata": {},
   "outputs": [
    {
     "data": {
      "text/html": [
       "\n",
       "\n",
       "\n",
       "\n",
       "\n",
       "\n",
       "  <div class=\"bk-root\" id=\"f9612c87-dd8a-4de3-af3f-66768f7a3b24\" data-root-id=\"3081\"></div>\n"
      ]
     },
     "metadata": {},
     "output_type": "display_data"
    },
    {
     "data": {
      "application/javascript": [
       "(function(root) {\n",
       "  function embed_document(root) {\n",
       "    \n",
       "  var docs_json = {\"1df3fbf9-6d26-4b42-852b-b1d88333da44\":{\"roots\":{\"references\":[{\"attributes\":{\"below\":[{\"id\":\"3092\"}],\"center\":[{\"id\":\"3095\"},{\"id\":\"3099\"},{\"id\":\"3141\"}],\"left\":[{\"id\":\"3096\"}],\"plot_height\":400,\"plot_width\":700,\"renderers\":[{\"id\":\"3118\"},{\"id\":\"3146\"}],\"title\":{\"id\":\"3082\"},\"toolbar\":{\"id\":\"3108\"},\"x_range\":{\"id\":\"3084\"},\"x_scale\":{\"id\":\"3088\"},\"y_range\":{\"id\":\"3086\"},\"y_scale\":{\"id\":\"3090\"}},\"id\":\"3081\",\"subtype\":\"Figure\",\"type\":\"Plot\"},{\"attributes\":{\"data\":{\"x\":{\"__ndarray__\":\"AADA1PfocUIAAIA6SulxQgAAQKCc6XFCAAAABu/pcUIAAMBrQepxQgAAgNGT6nFCAABAN+bqcUIAAACdOOtxQgAAwAKL63FCAACAaN3rcUIAAEDOL+xxQgAAADSC7HFCAADAmdTscUIAAID/Ju1xQgAAQGV57XFCAAAAy8vtcUIAAMAwHu5xQgAAgJZw7nFCAABA/MLucUIAAABiFe9xQgAAwMdn73FCAACALbrvcUIAAECTDPBxQgAAAPle8HFCAADAXrHwcUIAAIDEA/FxQgAAQCpW8XFCAAAAkKjxcUIAAMD1+vFxQgAAgFtN8nFCAABAwZ/ycUIAAAAn8vJxQgAAwIxE83FCAACA8pbzcUIAAEBY6fNxQgAAAL479HFCAADAI470cUIAAICJ4PRxQgAAQO8y9XFCAAAAVYX1cUIAAMC61/VxQgAAgCAq9nFCAABAhnz2cUIAAADszvZxQgAAwFEh93FCAACAt3P3cUIAAEAdxvdxQgAAAIMY+HFCAADA6Gr4cUIAAIBOvfhxQgAAQLQP+XFCAAAAGmL5cUIAAMB/tPlxQgAAgOUG+nFCAABAS1n6cUIAAACxq/pxQgAAwBb++nFCAACAfFD7cUIAAEDiovtxQgAAAEj1+3FCAADArUf8cUIAAIATmvxxQgAAQHns/HFCAAAA3z79cUIAAMBEkf1xQgAAgKrj/XFCAABAEDb+cUIAAAB2iP5xQgAAwNva/nFCAACAQS3/cUIAAECnf/9xQgAAAA3S/3FCAADAciQAckIAAIDYdgByQgAAQD7JAHJCAAAApBsBckIAAMAJbgFyQgAAgG/AAXJCAABA1RICckIAAAA7ZQJyQgAAwKC3AnJCAACABgoDckIAAEBsXANyQgAAANKuA3JCAADANwEEckIAAICdUwRyQgAAQAOmBHJCAAAAafgEckIAAMDOSgVyQgAAgDSdBXJCAABAmu8FckIAAAAAQgZyQgAAwGWUBnJCAACAy+YGckIAAEAxOQdyQgAAAJeLB3JCAADA/N0HckIAAIBiMAhyQgAAQMiCCHJCAAAALtUIckIAAMCTJwlyQgAAgPl5CXJCAABAX8wJckIAAADFHgpyQgAAwCpxCnJCAACAkMMKckIAAED2FQtyQgAAAFxoC3JCAADAwboLckIAAIAnDQxyQgAAQI1fDHJCAAAA87EMckIAAMBYBA1yQgAAgL5WDXJCAABAJKkNckIAAACK+w1yQgAAwO9NDnJCAACAVaAOckIAAEC78g5yQgAAACFFD3JCAADAhpcPckIAAIDs6Q9yQgAAQFI8EHJCAAAAuI4QckIAAMAd4RByQgAAgIMzEXJCAABA6YURckIAAABP2BFyQgAAwLQqEnJCAACAGn0SckIAAECAzxJyQgAAAOYhE3JCAADAS3QTckIAAICxxhNyQgAAQBcZFHJCAAAAfWsUckIAAMDivRRyQgAAgEgQFXJCAABArmIVckIAAAAUtRVyQgAAwHkHFnJCAACA31kWckIAAEBFrBZyQgAAAKv+FnJCAADAEFEXckIAAIB2oxdyQgAAQNz1F3JCAAAAQkgYckIAAMCnmhhyQgAAgA3tGHJCAABAcz8ZckIAAADZkRlyQgAAwD7kGXJCAACApDYackIAAEAKiRpyQgAAAHDbGnJCAADA1S0bckIAAIA7gBtyQgAAQKHSG3JCAAAAByUcckIAAMBsdxxyQgAAgNLJHHJCAABAOBwdckIAAACebh1yQgAAwAPBHXJCAACAaRMeckIAAEDPZR5yQgAAADW4HnJCAADAmgofckIAAIAAXR9yQgAAQGavH3JCAAAAzAEgckIAAMAxVCByQgAAgJemIHJCAABA/fggckIAAABjSyFyQgAAwMidIXJCAACALvAhckIAAECUQiJyQgAAAPqUInJCAADAX+cickIAAIDFOSNyQgAAQCuMI3JCAAAAkd4jckIAAMD2MCRyQgAAgFyDJHJCAABAwtUkckIAAAAoKCVyQgAAwI16JXJCAACA88wlckIAAEBZHyZyQgAAAL9xJnJCAADAJMQmckIAAICKFidyQgAAQPBoJ3JCAAAAVrsnckIAAMC7DShyQgAAgCFgKHJCAABAh7IockIAAADtBClyQgAAwFJXKXJCAACAuKkpckIAAEAe/ClyQgAAAIROKnJCAADA6aAqckIAAIBP8ypyQgAAQLVFK3JCAAAAG5grckIAAMCA6ityQgAAgOY8LHJCAABATI8sckIAAACy4SxyQgAAwBc0LXJCAACAfYYtckIAAEDj2C1yQgAAAEkrLnJCAADArn0uckIAAIAU0C5yQgAAQHoiL3JCAAAA4HQvckIAAMBFxy9yQgAAgKsZMHJCAABAEWwwckIAAAB3vjByQgAAwNwQMXJCAACAQmMxckIAAECotTFyQgAAAA4IMnJCAADAc1oyckIAAIDZrDJyQgAAQD//MnJCAAAApVEzckIAAMAKpDNyQgAAgHD2M3JCAABA1kg0ckIAAAA8mzRyQgAAwKHtNHJCAACAB0A1ckIAAEBtkjVyQgAAANPkNXJCAADAODc2ckIAAICeiTZyQgAAQATcNnJCAAAAai43ckIAAMDPgDdyQgAAgDXTN3JCAABAmyU4ckIAAAABeDhyQgAAwGbKOHJCAACAzBw5ckIAAEAybzlyQgAAAJjBOXJCAADA/RM6ckIAAIBjZjpyQgAAQMm4OnJCAAAALws7ckIAAMCUXTtyQgAAgPqvO3JCAABAYAI8ckIAAADGVDxyQgAAwCunPHJCAACAkfk8ckIAAED3Sz1yQgAAAF2ePXJCAADAwvA9ckIAAIAoQz5yQgAAQI6VPnJCAAAA9Oc+ckIAAMBZOj9yQgAAgL+MP3JCAABAJd8/ckIAAACLMUByQgAAwPCDQHJCAACAVtZAckIAAEC8KEFyQgAAACJ7QXJCAADAh81BckIAAIDtH0JyQgAAQFNyQnJCAAAAucRCckIAAMAeF0NyQgAAgIRpQ3JCAABA6rtDckIAAABQDkRyQgAAwLVgRHJCAACAG7NEckIAAECBBUVyQgAAAOdXRXJCAADATKpFckIAAICy/EVyQgAAQBhPRnJCAAAAfqFGckIAAMDj80ZyQgAAgElGR3JCAABAr5hHckIAAAAV60dyQgAAwHo9SHJCAACA4I9IckIAAEBG4khyQgAAAKw0SXJCAADAEYdJckIAAIB32UlyQgAAQN0rSnJCAAAAQ35KckIAAMCo0EpyQgAAgA4jS3JCAABAdHVLckIAAADax0tyQgAAwD8aTHJCAACApWxMckIAAEALv0xyQgAAAHERTXJCAADA1mNNckIAAIA8tk1yQgAAQKIITnJCAAAACFtOckIAAMBtrU5yQgAAgNP/TnJCAABAOVJPckIAAACfpE9yQgAAwAT3T3JCAACAaklQckIAAEDQm1ByQgAAADbuUHJCAADAm0BRckIAAIABk1FyQgAAQGflUXJCAAAAzTdSckIAAMAyilJyQgAAgJjcUnJCAABA/i5TckIAAABkgVNyQgAAwMnTU3JCAACALyZUckIAAECVeFRyQgAAAPvKVHJCAADAYB1VckIAAIDGb1VyQgAAQCzCVXJCAAAAkhRWckIAAMD3ZlZyQgAAgF25VnJCAABAwwtXckIAAAApXldyQgAAwI6wV3JCAACA9AJYckIAAEBaVVhyQgAAAMCnWHJCAADAJfpYckIAAICLTFlyQgAAQPGeWXJCAAAAV/FZckIAAMC8Q1pyQgAAgCKWWnJCAABAiOhackIAAADuOltyQgAAwFONW3JCAACAud9bckIAAEAfMlxyQgAAAIWEXHJCAADA6tZcckIAAIBQKV1yQgAAQLZ7XXJCAAAAHM5dckIAAMCBIF5yQgAAgOdyXnJCAABATcVeckIAAACzF19yQgAAwBhqX3JCAACAfrxfckIAAEDkDmByQgAAAEphYHJCAADAr7NgckIAAIAVBmFyQgAAQHtYYXJCAAAA4aphckIAAMBG/WFyQgAAgKxPYnJCAABAEqJickIAAAB49GJyQgAAwN1GY3JCAACAQ5ljckIAAECp62NyQgAAAA8+ZHJCAADAdJBkckIAAIDa4mRyQgAAQEA1ZXJCAAAApodlckIAAMAL2mVyQgAAgHEsZnJCAABA135mckIAAAA90WZyQgAAwKIjZ3JCAACACHZnckIAAEBuyGdyQgAAANQaaHJCAADAOW1ockIAAICfv2hyQgAAQAUSaXJCAAAAa2RpckIAAMDQtmlyQgAAgDYJanJCAABAnFtqckIAAAACrmpyQgAAwGcAa3JCAACAzVJrckIAAEAzpWtyQgAAAJn3a3JCAADA/klsckIAAIBknGxyQgAAQMrubHJCAAAAMEFtckIAAMCVk21yQgAAgPvlbXJCAABAYThuckIAAADHim5yQgAAwCzdbnJCAACAki9vckIAAED4gW9yQgAAAF7Ub3JCAADAwyZwckIAAIApeXByQgAAQI/LcHJCAAAA9R1xckIAAMBacHFyQgAAgMDCcXJCAABAJhVyckIAAACMZ3JyQgAAwPG5cnJCAACAVwxzckIAAEC9XnNyQgAAACOxc3JCAADAiAN0ckIAAIDuVXRyQgAAQFSodHJCAAAAuvp0ckIAAMAfTXVyQgAAgIWfdXJCAABA6/F1ckIAAABRRHZyQgAAwLaWdnJCAACAHOl2ckIAAECCO3dyQgAAAOiNd3JCAADATeB3ckIAAICzMnhyQgAAQBmFeHJCAAAAf9d4ckIAAMDkKXlyQgAAgEp8eXJCAABAsM55ckIAAAAWIXpyQgAAwHtzenJCAACA4cV6ckIAAEBHGHtyQgAAAK1qe3JCAADAEr17ckIAAIB4D3xyQgAAQN5hfHJCAAAARLR8ckIAAMCpBn1yQgAAgA9ZfXJCAABAdat9ckIAAADb/X1yQgAAwEBQfnJCAACApqJ+ckIAAEAM9X5yQgAAAHJHf3JCAADA15l/ckIAAIA97H9yQgAAQKM+gHJCAAAACZGAckIAAMBu44ByQgAAgNQ1gXJCAABAOoiBckIAAACg2oFyQgAAwAUtgnJCAACAa3+CckIAAEDR0YJyQgAAADckg3JCAADAnHaDckIAAIACyYNyQgAAQGgbhHJCAAAAzm2EckIAAMAzwIRyQgAAgJkShXJCAABA/2SFckIAAABlt4VyQgAAwMoJhnJCAACAMFyGckIAAECWroZyQgAAAPwAh3JCAADAYVOHckIAAIDHpYdyQgAAQC34h3JCAAAAk0qIckIAAMD4nIhyQgAAgF7viHJCAABAxEGJckIAAAAqlIlyQgAAwI/miXJCAACA9TiKckIAAEBbi4pyQgAAAMHdinJCAADAJjCLckIAAICMgotyQgAAQPLUi3JCAAAAWCeMckIAAMC9eYxyQgAAgCPMjHJCAABAiR6NckIAAADvcI1yQgAAwFTDjXJCAACAuhWOckIAAEAgaI5yQgAAAIa6jnJCAADA6wyPckIAAIBRX49yQgAAQLexj3JCAAAAHQSQckIAAMCCVpByQgAAgOiokHJCAABATvuQckIAAAC0TZFyQgAAwBmgkXJCAACAf/KRckIAAEDlRJJyQgAAAEuXknJCAADAsOmSckIAAIAWPJNyQgAAQHyOk3JCAAAA4uCTckIAAMBHM5RyQgAAgK2FlHJCAABAE9iUckIAAAB5KpVyQgAAwN58lXJCAACARM+VckIAAECqIZZyQgAAABB0lnJCAADAdcaWckIAAIDbGJdyQgAAQEFrl3JCAAAAp72XckIAAMAMEJhyQgAAgHJimHJCAABA2LSYckIAAAA+B5lyQgAAwKNZmXJCAACACayZckIAAEBv/plyQgAAANVQmnJCAADAOqOackIAAICg9ZpyQgAAQAZIm3JCAAAAbJqbckIAAMDR7JtyQgAAgDc/nHJCAABAnZGcckIAAAAD5JxyQgAAwGg2nXJCAACAzoidckIAAEA0251yQgAAAJotnnJCAADA/3+eckIAAIBl0p5yQgAAQMskn3JCAAAAMXefckIAAMCWyZ9yQgAAgPwboHJCAABAYm6gckIAAADIwKByQgAAwC0ToXJCAACAk2WhckIAAED5t6FyQgAAAF8KonJCAADAxFyickIAAIAqr6JyQgAAQJABo3JCAAAA9lOjckIAAMBbpqNyQgAAgMH4o3JCAABAJ0ukckIAAACNnaRyQgAAwPLvpHJCAACAWEKlckIAAEC+lKVyQgAAACTnpXJCAADAiTmmckIAAIDvi6ZyQgAAQFXepnJCAAAAuzCnckIAAMAgg6dyQgAAgIbVp3JCAABA7CeockIAAABSeqhyQgAAwLfMqHJCAACAHR+pckIAAECDcalyQgAAAOnDqXJCAADAThaqckIAAIC0aKpyQgAAQBq7qnJCAAAAgA2rckIAAMDlX6tyQgAAgEuyq3JCAABAsQSsckIAAAAXV6xyQgAAwHyprHJCAACA4vusckIAAEBITq1yQgAAAK6grXJCAADAE/OtckIAAIB5Ra5yQgAAQN+XrnJCAAAARequckIAAMCqPK9yQgAAgBCPr3JCAABAduGvckIAAADcM7ByQgAAwEGGsHJCAACAp9iwckIAAEANK7FyQgAAAHN9sXJCAADA2M+xckIAAIA+IrJyQgAAQKR0snJCAAAACseyckIAAMBvGbNyQgAAgNVrs3JCAABAO76zckIAAAChELRyQgAAwAZjtHJCAACAbLW0ckIAAEDSB7VyQgAAADhatXJCAADAnay1ckIAAIAD/7VyQgAAQGlRtnJCAAAAz6O2ckIAAMA09rZyQgAAgJpIt3JCAABAAJu3ckIAAABm7bdyQgAAwMs/uHJCAACAMZK4ckIAAECX5LhyQgAAAP02uXJCAADAYom5ckIAAIDI27lyQgAAQC4uunJCAAAAlIC6ckIAAMD50rpyQgAAgF8lu3JCAABAxXe7ckIAAAAryrtyQgAAwJAcvHJCAACA9m68ckIAAEBcwbxyQgAAAMITvXJCAADAJ2a9ckIAAICNuL1yQgAAQPMKvnJCAAAAWV2+ckIAAMC+r75yQgAAgCQCv3JCAABAilS/ckIAAADwpr9yQgAAwFX5v3JCAACAu0vAckIAAEAhnsByQgAAAIfwwHJCAADA7ELBckIAAIBSlcFyQgAAQLjnwXJCAAAAHjrCckIAAMCDjMJyQgAAgOnewnJCAABATzHDckIAAAC1g8NyQgAAwBrWw3JCAACAgCjEckIAAEDmesRyQgAAAEzNxHJCAADAsR/FckIAAIAXcsVyQgAAQH3ExXJCAAAA4xbGckIAAMBIacZyQgAAgK67xnJCAABAFA7HckIAAAB6YMdyQgAAwN+yx3JCAACARQXIckIAAECrV8hyQgAAABGqyHJCAADAdvzIckIAAIDcTslyQgAAQEKhyXJCAAAAqPPJckIAAMANRspyQgAAgHOYynJCAABA2erKckIAAAA/PctyQgAAwKSPy3JCAACACuLLckIAAEBwNMxyQgAAANaGzHJCAADAO9nMckIAAIChK81yQgAAQAd+zXJCAAAAbdDNckIAAMDSIs5yQgAAgDh1znJCAABAnsfOckIAAAAEGs9yQgAAwGlsz3JCAACAz77PckIAAEA1EdByQgAAAJtj0HJCAADAALbQckIAAIBmCNFyQgAAQMxa0XJCAAAAMq3RckIAAMCX/9FyQgAAgP1R0nJCAABAY6TSckIAAADJ9tJyQgAAwC5J03JCAACAlJvTckI=\",\"dtype\":\"float64\",\"order\":\"little\",\"shape\":[730]},\"y\":{\"__ndarray__\":\"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\",\"dtype\":\"float64\",\"order\":\"little\",\"shape\":[730]}},\"selected\":{\"id\":\"3140\"},\"selection_policy\":{\"id\":\"3139\"}},\"id\":\"3115\",\"type\":\"ColumnDataSource\"},{\"attributes\":{\"items\":[{\"id\":\"3142\"},{\"id\":\"3171\"}]},\"id\":\"3141\",\"type\":\"Legend\"},{\"attributes\":{\"num_minor_ticks\":5,\"tickers\":[{\"id\":\"3127\"},{\"id\":\"3128\"},{\"id\":\"3129\"},{\"id\":\"3130\"},{\"id\":\"3131\"},{\"id\":\"3132\"},{\"id\":\"3133\"},{\"id\":\"3134\"},{\"id\":\"3135\"},{\"id\":\"3136\"},{\"id\":\"3137\"},{\"id\":\"3138\"}]},\"id\":\"3093\",\"type\":\"DatetimeTicker\"},{\"attributes\":{},\"id\":\"3101\",\"type\":\"WheelZoomTool\"},{\"attributes\":{},\"id\":\"3086\",\"type\":\"DataRange1d\"},{\"attributes\":{\"line_alpha\":0.1,\"line_color\":\"dodgerblue\",\"line_width\":2,\"x\":{\"field\":\"x\"},\"y\":{\"field\":\"y\"}},\"id\":\"3117\",\"type\":\"Line\"},{\"attributes\":{\"label\":{\"value\":\"Measured Q\"},\"renderers\":[{\"id\":\"3118\"}]},\"id\":\"3142\",\"type\":\"LegendItem\"},{\"attributes\":{},\"id\":\"3084\",\"type\":\"DataRange1d\"},{\"attributes\":{\"data\":{\"x\":{\"__ndarray__\":\"AADA1PfocUIAAIA6SulxQgAAQKCc6XFCAAAABu/pcUIAAMBrQepxQgAAgNGT6nFCAABAN+bqcUIAAACdOOtxQgAAwAKL63FCAACAaN3rcUIAAEDOL+xxQgAAADSC7HFCAADAmdTscUIAAID/Ju1xQgAAQGV57XFCAAAAy8vtcUIAAMAwHu5xQgAAgJZw7nFCAABA/MLucUIAAABiFe9xQgAAwMdn73FCAACALbrvcUIAAECTDPBxQgAAAPle8HFCAADAXrHwcUIAAIDEA/FxQgAAQCpW8XFCAAAAkKjxcUIAAMD1+vFxQgAAgFtN8nFCAABAwZ/ycUIAAAAn8vJxQgAAwIxE83FCAACA8pbzcUIAAEBY6fNxQgAAAL479HFCAADAI470cUIAAICJ4PRxQgAAQO8y9XFCAAAAVYX1cUIAAMC61/VxQgAAgCAq9nFCAABAhnz2cUIAAADszvZxQgAAwFEh93FCAACAt3P3cUIAAEAdxvdxQgAAAIMY+HFCAADA6Gr4cUIAAIBOvfhxQgAAQLQP+XFCAAAAGmL5cUIAAMB/tPlxQgAAgOUG+nFCAABAS1n6cUIAAACxq/pxQgAAwBb++nFCAACAfFD7cUIAAEDiovtxQgAAAEj1+3FCAADArUf8cUIAAIATmvxxQgAAQHns/HFCAAAA3z79cUIAAMBEkf1xQgAAgKrj/XFCAABAEDb+cUIAAAB2iP5xQgAAwNva/nFCAACAQS3/cUIAAECnf/9xQgAAAA3S/3FCAADAciQAckIAAIDYdgByQgAAQD7JAHJCAAAApBsBckIAAMAJbgFyQgAAgG/AAXJCAABA1RICckIAAAA7ZQJyQgAAwKC3AnJCAACABgoDckIAAEBsXANyQgAAANKuA3JCAADANwEEckIAAICdUwRyQgAAQAOmBHJCAAAAafgEckIAAMDOSgVyQgAAgDSdBXJCAABAmu8FckIAAAAAQgZyQgAAwGWUBnJCAACAy+YGckIAAEAxOQdyQgAAAJeLB3JCAADA/N0HckIAAIBiMAhyQgAAQMiCCHJCAAAALtUIckIAAMCTJwlyQgAAgPl5CXJCAABAX8wJckIAAADFHgpyQgAAwCpxCnJCAACAkMMKckIAAED2FQtyQgAAAFxoC3JCAADAwboLckIAAIAnDQxyQgAAQI1fDHJCAAAA87EMckIAAMBYBA1yQgAAgL5WDXJCAABAJKkNckIAAACK+w1yQgAAwO9NDnJCAACAVaAOckIAAEC78g5yQgAAACFFD3JCAADAhpcPckIAAIDs6Q9yQgAAQFI8EHJCAAAAuI4QckIAAMAd4RByQgAAgIMzEXJCAABA6YURckIAAABP2BFyQgAAwLQqEnJCAACAGn0SckIAAECAzxJyQgAAAOYhE3JCAADAS3QTckIAAICxxhNyQgAAQBcZFHJCAAAAfWsUckIAAMDivRRyQgAAgEgQFXJCAABArmIVckIAAAAUtRVyQgAAwHkHFnJCAACA31kWckIAAEBFrBZyQgAAAKv+FnJCAADAEFEXckIAAIB2oxdyQgAAQNz1F3JCAAAAQkgYckIAAMCnmhhyQgAAgA3tGHJCAABAcz8ZckIAAADZkRlyQgAAwD7kGXJCAACApDYackIAAEAKiRpyQgAAAHDbGnJCAADA1S0bckIAAIA7gBtyQgAAQKHSG3JCAAAAByUcckIAAMBsdxxyQgAAgNLJHHJCAABAOBwdckIAAACebh1yQgAAwAPBHXJCAACAaRMeckIAAEDPZR5yQgAAADW4HnJCAADAmgofckIAAIAAXR9yQgAAQGavH3JCAAAAzAEgckIAAMAxVCByQgAAgJemIHJCAABA/fggckIAAABjSyFyQgAAwMidIXJCAACALvAhckIAAECUQiJyQgAAAPqUInJCAADAX+cickIAAIDFOSNyQgAAQCuMI3JCAAAAkd4jckIAAMD2MCRyQgAAgFyDJHJCAABAwtUkckIAAAAoKCVyQgAAwI16JXJCAACA88wlckIAAEBZHyZyQgAAAL9xJnJCAADAJMQmckIAAICKFidyQgAAQPBoJ3JCAAAAVrsnckIAAMC7DShyQgAAgCFgKHJCAABAh7IockIAAADtBClyQgAAwFJXKXJCAACAuKkpckIAAEAe/ClyQgAAAIROKnJCAADA6aAqckIAAIBP8ypyQgAAQLVFK3JCAAAAG5grckIAAMCA6ityQgAAgOY8LHJCAABATI8sckIAAACy4SxyQgAAwBc0LXJCAACAfYYtckIAAEDj2C1yQgAAAEkrLnJCAADArn0uckIAAIAU0C5yQgAAQHoiL3JCAAAA4HQvckIAAMBFxy9yQgAAgKsZMHJCAABAEWwwckIAAAB3vjByQgAAwNwQMXJCAACAQmMxckIAAECotTFyQgAAAA4IMnJCAADAc1oyckIAAIDZrDJyQgAAQD//MnJCAAAApVEzckIAAMAKpDNyQgAAgHD2M3JCAABA1kg0ckIAAAA8mzRyQgAAwKHtNHJCAACAB0A1ckIAAEBtkjVyQgAAANPkNXJCAADAODc2ckIAAICeiTZyQgAAQATcNnJCAAAAai43ckIAAMDPgDdyQgAAgDXTN3JCAABAmyU4ckIAAAABeDhyQgAAwGbKOHJCAACAzBw5ckIAAEAybzlyQgAAAJjBOXJCAADA/RM6ckIAAIBjZjpyQgAAQMm4OnJCAAAALws7ckIAAMCUXTtyQgAAgPqvO3JCAABAYAI8ckIAAADGVDxyQgAAwCunPHJCAACAkfk8ckIAAED3Sz1yQgAAAF2ePXJCAADAwvA9ckIAAIAoQz5yQgAAQI6VPnJCAAAA9Oc+ckIAAMBZOj9yQgAAgL+MP3JCAABAJd8/ckIAAACLMUByQgAAwPCDQHJCAACAVtZAckIAAEC8KEFyQgAAACJ7QXJCAADAh81BckIAAIDtH0JyQgAAQFNyQnJCAAAAucRCckIAAMAeF0NyQgAAgIRpQ3JCAABA6rtDckIAAABQDkRyQgAAwLVgRHJCAACAG7NEckIAAECBBUVyQgAAAOdXRXJCAADATKpFckIAAICy/EVyQgAAQBhPRnJCAAAAfqFGckIAAMDj80ZyQgAAgElGR3JCAABAr5hHckIAAAAV60dyQgAAwHo9SHJCAACA4I9IckIAAEBG4khyQgAAAKw0SXJCAADAEYdJckIAAIB32UlyQgAAQN0rSnJCAAAAQ35KckIAAMCo0EpyQgAAgA4jS3JCAABAdHVLckIAAADax0tyQgAAwD8aTHJCAACApWxMckIAAEALv0xyQgAAAHERTXJCAADA1mNNckIAAIA8tk1yQgAAQKIITnJCAAAACFtOckIAAMBtrU5yQgAAgNP/TnJCAABAOVJPckIAAACfpE9yQgAAwAT3T3JCAACAaklQckIAAEDQm1ByQgAAADbuUHJCAADAm0BRckIAAIABk1FyQgAAQGflUXJCAAAAzTdSckIAAMAyilJyQgAAgJjcUnJCAABA/i5TckIAAABkgVNyQgAAwMnTU3JCAACALyZUckIAAECVeFRyQgAAAPvKVHJCAADAYB1VckIAAIDGb1VyQgAAQCzCVXJCAAAAkhRWckIAAMD3ZlZyQgAAgF25VnJCAABAwwtXckIAAAApXldyQgAAwI6wV3JCAACA9AJYckIAAEBaVVhyQgAAAMCnWHJCAADAJfpYckIAAICLTFlyQgAAQPGeWXJCAAAAV/FZckIAAMC8Q1pyQgAAgCKWWnJCAABAiOhackIAAADuOltyQgAAwFONW3JCAACAud9bckIAAEAfMlxyQgAAAIWEXHJCAADA6tZcckIAAIBQKV1yQgAAQLZ7XXJCAAAAHM5dckIAAMCBIF5yQgAAgOdyXnJCAABATcVeckIAAACzF19yQgAAwBhqX3JCAACAfrxfckIAAEDkDmByQgAAAEphYHJCAADAr7NgckIAAIAVBmFyQgAAQHtYYXJCAAAA4aphckIAAMBG/WFyQgAAgKxPYnJCAABAEqJickIAAAB49GJyQgAAwN1GY3JCAACAQ5ljckIAAECp62NyQgAAAA8+ZHJCAADAdJBkckIAAIDa4mRyQgAAQEA1ZXJCAAAApodlckIAAMAL2mVyQgAAgHEsZnJCAABA135mckIAAAA90WZyQgAAwKIjZ3JCAACACHZnckIAAEBuyGdyQgAAANQaaHJCAADAOW1ockIAAICfv2hyQgAAQAUSaXJCAAAAa2RpckIAAMDQtmlyQgAAgDYJanJCAABAnFtqckIAAAACrmpyQgAAwGcAa3JCAACAzVJrckIAAEAzpWtyQgAAAJn3a3JCAADA/klsckIAAIBknGxyQgAAQMrubHJCAAAAMEFtckIAAMCVk21yQgAAgPvlbXJCAABAYThuckIAAADHim5yQgAAwCzdbnJCAACAki9vckIAAED4gW9yQgAAAF7Ub3JCAADAwyZwckIAAIApeXByQgAAQI/LcHJCAAAA9R1xckIAAMBacHFyQgAAgMDCcXJCAABAJhVyckIAAACMZ3JyQgAAwPG5cnJCAACAVwxzckIAAEC9XnNyQgAAACOxc3JCAADAiAN0ckIAAIDuVXRyQgAAQFSodHJCAAAAuvp0ckIAAMAfTXVyQgAAgIWfdXJCAABA6/F1ckIAAABRRHZyQgAAwLaWdnJCAACAHOl2ckIAAECCO3dyQgAAAOiNd3JCAADATeB3ckIAAICzMnhyQgAAQBmFeHJCAAAAf9d4ckIAAMDkKXlyQgAAgEp8eXJCAABAsM55ckIAAAAWIXpyQgAAwHtzenJCAACA4cV6ckIAAEBHGHtyQgAAAK1qe3JCAADAEr17ckIAAIB4D3xyQgAAQN5hfHJCAAAARLR8ckIAAMCpBn1yQgAAgA9ZfXJCAABAdat9ckIAAADb/X1yQgAAwEBQfnJCAACApqJ+ckIAAEAM9X5yQgAAAHJHf3JCAADA15l/ckIAAIA97H9yQgAAQKM+gHJCAAAACZGAckIAAMBu44ByQgAAgNQ1gXJCAABAOoiBckIAAACg2oFyQgAAwAUtgnJCAACAa3+CckIAAEDR0YJyQgAAADckg3JCAADAnHaDckIAAIACyYNyQgAAQGgbhHJCAAAAzm2EckIAAMAzwIRyQgAAgJkShXJCAABA/2SFckIAAABlt4VyQgAAwMoJhnJCAACAMFyGckIAAECWroZyQgAAAPwAh3JCAADAYVOHckIAAIDHpYdyQgAAQC34h3JCAAAAk0qIckIAAMD4nIhyQgAAgF7viHJCAABAxEGJckIAAAAqlIlyQgAAwI/miXJCAACA9TiKckIAAEBbi4pyQgAAAMHdinJCAADAJjCLckIAAICMgotyQgAAQPLUi3JCAAAAWCeMckIAAMC9eYxyQgAAgCPMjHJCAABAiR6NckIAAADvcI1yQgAAwFTDjXJCAACAuhWOckIAAEAgaI5yQgAAAIa6jnJCAADA6wyPckIAAIBRX49yQgAAQLexj3JCAAAAHQSQckIAAMCCVpByQgAAgOiokHJCAABATvuQckIAAAC0TZFyQgAAwBmgkXJCAACAf/KRckIAAEDlRJJyQgAAAEuXknJCAADAsOmSckIAAIAWPJNyQgAAQHyOk3JCAAAA4uCTckIAAMBHM5RyQgAAgK2FlHJCAABAE9iUckIAAAB5KpVyQgAAwN58lXJCAACARM+VckIAAECqIZZyQgAAABB0lnJCAADAdcaWckIAAIDbGJdyQgAAQEFrl3JCAAAAp72XckIAAMAMEJhyQgAAgHJimHJCAABA2LSYckIAAAA+B5lyQgAAwKNZmXJCAACACayZckIAAEBv/plyQgAAANVQmnJCAADAOqOackIAAICg9ZpyQgAAQAZIm3JCAAAAbJqbckIAAMDR7JtyQgAAgDc/nHJCAABAnZGcckIAAAAD5JxyQgAAwGg2nXJCAACAzoidckIAAEA0251yQgAAAJotnnJCAADA/3+eckIAAIBl0p5yQgAAQMskn3JCAAAAMXefckIAAMCWyZ9yQgAAgPwboHJCAABAYm6gckIAAADIwKByQgAAwC0ToXJCAACAk2WhckIAAED5t6FyQgAAAF8KonJCAADAxFyickIAAIAqr6JyQgAAQJABo3JCAAAA9lOjckIAAMBbpqNyQgAAgMH4o3JCAABAJ0ukckIAAACNnaRyQgAAwPLvpHJCAACAWEKlckIAAEC+lKVyQgAAACTnpXJCAADAiTmmckIAAIDvi6ZyQgAAQFXepnJCAAAAuzCnckIAAMAgg6dyQgAAgIbVp3JCAABA7CeockIAAABSeqhyQgAAwLfMqHJCAACAHR+pckIAAECDcalyQgAAAOnDqXJCAADAThaqckIAAIC0aKpyQgAAQBq7qnJCAAAAgA2rckIAAMDlX6tyQgAAgEuyq3JCAABAsQSsckIAAAAXV6xyQgAAwHyprHJCAACA4vusckIAAEBITq1yQgAAAK6grXJCAADAE/OtckIAAIB5Ra5yQgAAQN+XrnJCAAAARequckIAAMCqPK9yQgAAgBCPr3JCAABAduGvckIAAADcM7ByQgAAwEGGsHJCAACAp9iwckIAAEANK7FyQgAAAHN9sXJCAADA2M+xckIAAIA+IrJyQgAAQKR0snJCAAAACseyckIAAMBvGbNyQgAAgNVrs3JCAABAO76zckIAAAChELRyQgAAwAZjtHJCAACAbLW0ckIAAEDSB7VyQgAAADhatXJCAADAnay1ckIAAIAD/7VyQgAAQGlRtnJCAAAAz6O2ckIAAMA09rZyQgAAgJpIt3JCAABAAJu3ckIAAABm7bdyQgAAwMs/uHJCAACAMZK4ckIAAECX5LhyQgAAAP02uXJCAADAYom5ckIAAIDI27lyQgAAQC4uunJCAAAAlIC6ckIAAMD50rpyQgAAgF8lu3JCAABAxXe7ckIAAAAryrtyQgAAwJAcvHJCAACA9m68ckIAAEBcwbxyQgAAAMITvXJCAADAJ2a9ckIAAICNuL1yQgAAQPMKvnJCAAAAWV2+ckIAAMC+r75yQgAAgCQCv3JCAABAilS/ckIAAADwpr9yQgAAwFX5v3JCAACAu0vAckIAAEAhnsByQgAAAIfwwHJCAADA7ELBckIAAIBSlcFyQgAAQLjnwXJCAAAAHjrCckIAAMCDjMJyQgAAgOnewnJCAABATzHDckIAAAC1g8NyQgAAwBrWw3JCAACAgCjEckIAAEDmesRyQgAAAEzNxHJCAADAsR/FckIAAIAXcsVyQgAAQH3ExXJCAAAA4xbGckIAAMBIacZyQgAAgK67xnJCAABAFA7HckIAAAB6YMdyQgAAwN+yx3JCAACARQXIckIAAECrV8hyQgAAABGqyHJCAADAdvzIckIAAIDcTslyQgAAQEKhyXJCAAAAqPPJckIAAMANRspyQgAAgHOYynJCAABA2erKckIAAAA/PctyQgAAwKSPy3JCAACACuLLckIAAEBwNMxyQgAAANaGzHJCAADAO9nMckIAAIChK81yQgAAQAd+zXJCAAAAbdDNckIAAMDSIs5yQgAAgDh1znJCAABAnsfOckIAAAAEGs9yQgAAwGlsz3JCAACAz77PckIAAEA1EdByQgAAAJtj0HJCAADAALbQckIAAIBmCNFyQgAAQMxa0XJCAAAAMq3RckIAAMCX/9FyQgAAgP1R0nJCAABAY6TSckIAAADJ9tJyQgAAwC5J03JCAACAlJvTckI=\",\"dtype\":\"float64\",\"order\":\"little\",\"shape\":[730]},\"y\":{\"__ndarray__\":\"2lp33epz9T9ibRlR/CD1P6Z26gqF9/Q/WslKHIlq9D/6pP+rMCj0P3KSXTgfe/Q/6n+7xA3O9D/qf7vEDc70P9K2qKh3vfQ/RlKfmiy19D+67ZWM4az0P6Ikg3BLnPQ/FsB5YgCU9D8WwHliAJT0P4pbcFS1i/Q/iltwVLWL9D/+9mZGaoP0P/72ZkZqg/Q//vZmRmqD9D9ykl04H3v0P3KSXTgfe/Q/cpJdOB979D/+9mZGaoP0P4pbcFS1i/Q/FsB5YgCU9D+iJINwS5z0Py6JjH6WpPQ/uu2VjOGs9D9GUp+aLLX0P9K2qKh3vfQ/XhuytsLF9D+Ordfu7ub0P6Z26gqF9/Q/6n+7xA3O9D+iJINwS5z0PxbAeWIAlPQ/uu2VjOGs9D9CADgA81n0P3KSXTgfe/Q/iltwVLWL9D8SbhLIxjj0P7rtlYzhrPQ/+qT/qzAo9D8m5b1JI+7zP4K3oR9C1fM/au6OA6zE8z9SJXznFbTzPzpcact/o/M/IpNWr+mS8z99ZTqFCHrzP/IAMXe9cfM/fWU6hQh68z8KykOTU4LzP4K3oR9C1fM/iltwVLWL9D8SkWtKikv2Px6HoRk3Xfc/1ggQQ7EY9T9KpAY1ZhD1P8KRZMFUY/U/CCeahOuE/T+AFPgQ2tf9P5RF8Y2vZ/k/msZmQF8L+D+q66ongmX3P/4ZwMgtlvY/hixiPD9D9j9uY08gqTL2Pw4/BLBQ8PU/IravMa2l9T/aWnfd6nP1P3o2LG2SMfU/Bps1e9059T8CSc7go970P0ZSn5ostfQ/uu2VjOGs9D/Stqiod730PzZQtDXNbfc/TDBrPnRb/T9gpxbA0BD9P/NpPP4Hqvk/ctgPPaag+D/66rGwt034P/rqsbC3Tfg/NlC0Nc1t9z9m4tlt+Y73P97PN/rn4fc/HoehGTdd9z++Ylap3hr3Px6HoRk3Xfc/kiKYC+xU9z9ikHLTvzP3P2bi2W35jvc/NlC0Nc1t9z+WdP+lJbD3P9P8Wq3+4vg/3MOCZDWs+z+UrvwU+p//PxvosVSUwQFAbhbH9T/yAEBanxt04zwBQGGattu5xQFAHjoZ780cAkBhym9ClCP/PzRnWCLeSv0/lIujkjaN/T8IGjqg1DkCQK1HVsq1UgJALl9d1vB2AUB4RvozwfMJQFTPQPLnJxVA4PMhuuA6G0DVXpAOZwAOQPDtpbsoIQZAZGZDKxoGBEBHS8l0SpoDQANC+LrBwwNA+50phk4NA0Ah40y8akoCQHHiU0WgMgNA7L6Xo7LYB0CqYNdbqWAQQPdTKU8sExVA6viUEofID0CUY1GPc5ASQC4CZswPnw9A1V6QDmcADkDVXpAOZwAOQHILN4aYdQ9AQDU87sdfE0BeucEr4gMaQNzh4mX51BRAjeD+N+G7C0Ak0jKOjp0GQBF+4I71+ghAhD4NqFA2E0Css1y8r+koQJ96uUeWyihAji/XfpVFIkCEPg2oUDYTQJDukHJ2IhBAs0pYlaM8FUACqHTuhiogQLXawNzhoiJAT5vG4QndJEA+EwEy0XopQGeE7SBJ6CFAsGUAwOQ0IEDIrsJP1losQL5hwE3GditAgn9TtG9ZJUAOfpaaikEkQGYhbFgz4CVAyBFEGOxiKECZondig1QqQLMUvku2kipA/PXQ6lHfKEA6AcLd6RQjQIxDNgyMCiNAQ8WkNQbGIEAmZ73ZyUwhQJ5UG2a4nyFAq42+2tG+IUBcN+seOQQhQA7hF2OgSSBAd8iGTP85HkB3KwgVFUIaQIzFDBk1ChxAJP3yc2kRG0AasPBxWS0aQClys5Bmfx1AzFkdtsByGUDxe+dpGZ0WQBDGbzhfURVA0M7d0r3gG0DL10apF3MgQHJTxi8CzBtASR+9J8I7GEAVOzBVXL8XQGT0hNkKghRA0pTgY+nwE0Bap4LX+p0TQEqCPvDXQxRANYW4I6JzFkBt3gUTBV4ZQMxZHbbAchlAeY6J3SpKFkD6ZWijE3kbQNzh4mX51BRA/CtrND+JE0Bztkf4F9QXQKLCkuVq2hlAkp1O/keAGkCSnU7+R4AaQE6UfUS/qRpAgngKFyUmG0AU2K6MRrcbQMvXRqkXcyBAQ8WkNQbGIEAJKCvCIMseQCOacatTCR9AurICwvQYIUD29/AjYT4jQABF8yVxIiRAeTJRsl91JEDZNoj/Dr0nQHXjLndAMilA1krnjAWCKEAdQFm5l5MnQB8s+iuhziZATjhFGfTUKEA+EwEy0XopQOODigEfoShA5W8rdCjcJ0DZNoj/Dr0nQDUpgPjWniRAurICwvQYIUA9DLiUhkcfQFxWQGPM+x1A1qYfuNBWGkAp1TRZfIcZQEJiI23wvSRA33FLrTc7IkCrrBMfZbYeQOFWo4L2QhdAVM9A8ucnFUAWnrEdcscTQJIA0MZdiBZA1qYfuNBWGkDfkKDxyjIfQOVJjZJKsSBAgfYzCnwmIkAt53OtY+0fQBTYroxGtxtAeY6J3SpKFkAQxm84X1EVQFBagNXquRJAmTuTdIYGEUDYbCJJ/GYSQPdTKU8sExVA1gmhgOZeFkBDR3tCr8UZQO8YZqEDlRpAWOF/Rs+NG0AKi6yKNtMaQASzaqUjXRxARar8CsXNFUCIUEz8N5wZQNzh4mX51BRAO8B70crxEEB/yUyLU8gQQKIlFK6A4hVAnrBTkYN0E0AQxm84X1EVQHO2R/gX1BdAKdU0WXyHGUCtchawkMYWQDtd+gi16RRAVGy/KdIfGUAGeW02T20UQMEMG7SwjhhAMdpdvbdbKUDhVqOC9kIXQIizzcRNpBVAsefWzI00GUCYdZDjWvYYQAvuLVNM2xZAqP1Vk5NYFEDYbCJJ/GYSQO5pqBUyNxBAOrLpljWLDEAAWZyn0qAJQEDtrEReCQdATMCJkUcIBkAAE+qiS3sFQO/KTDllDgRAUx6mwTOZAkCqniL9GCUCQHa6lSqzqAFAuBozF59RAUAQm69ShN0AQJYEHvn4XABACErzBq+X/z/4AVadyCr+P1TUOXPnEf4/GEzeaw7f/D8sw4ntapT8P2CnFsDQEP0/7AYnTRwvFECo/VWTk1gUQMxZHbbAchlA+h3Z+akiD0CZkIICB6gIQN2ZU7yPfghA3ZlTvI9+CEB+u7pQvmEMQGkhtkyemQpAZaz1L6ErCEAlGOWSFcMKQLLfb2l20wZAamHekvCOBEB/gb3h6XEEQAvuLVNM2xZAbXuESu9VHUAL7i1TTNsWQK7Vl3imzhJA9qgY3ay0DEBA7axEXgkHQG6WdmmbBw1AWqeC1/qdE0BjkQMR9XkYQFqngtf6nRNAqmDXW6lgEEBWMsK6/S8RQPod2fmpIg9AaSG2TJ6ZCkBA7axEXgkHQDx47CdhmwRAqmDXW6lgEEDygjAHZNAgQJ6wU5GDdBNAGWhhyO/WDUCdBUMfBBYLQJDukHJ2IhBAwsSLCkc4DEDsvpejstgHQPQ/DVZifAZA0in4N7yHBUDFHloImPQeQOyq7iFRWiJArtWXeKbOEkA+J6qzMvkOQMPSHUXcnhBABRbsbTllGEDiuSRLDEsTQE5M7ppVUw5A8TNYwK9GCkC42grRTFwHQLK8FueywARA3vzUhKWGBEBlD3f4tjMEQEydMA+E9QNAB5RfVfseBEB/gb3h6XEEQJrzA8scsARAtGVKtE/uBEBgNzUTpL0FQMj/TrhvtgZAIaMkdhhVCEDxM1jAr0YKQERibWFbdwlAmZCCAgeoCECUG8LlCToGQLk9jJliZANAYZq227nFAUC0yMt8ZfYAQKp7yXpVEgBAdEEbxPDY/j+Ui6OSNo39PyzDie1qlPw/xPpvSJ+b+z+PFuN1OR/7P1wyVqPTovo/40T4FuVP+j9rV5qK9vz5PwwzTxqeuvk/e3zecRlX+T8Cj4DlKgT5P4uhIlk8sfg/E7TEzE1e+D+axmZAXwv4P97PN/rn4fc/ItkItHC49z/afdBfrob3P6rrqieCZfc/wKmZ65qGHEBjkQMR9XkYQBDGbzhfURVAVjLCuv0vEUBgf8S8DRQSQNHpz/FpkgtAhPZ9/ubfBkC+sky2X9IFQKvBe3/cNwRAxBBp5ktjAkBALdWKsP4AQNi3zc6Cdv8/XDJWo9Oi+j/zaTz+B6r5PwKPgOUqBPk/z6rzEsWH+D8TtMTMTV74P5RF8Y2vZ/k/f85FDFOy+T+vYGtEf9P5P+NE+BblT/o/oDsnXVx5+j90+2i/abP6P1wyVqPTovo/DoW2tNcV+j/f8pB8q/T5P1A8INQmkfk/7hfVY85O+T8uzz6DHcr4P2bi2W35jvc/JitwTqoT+D9qNEEIM+r3P6a8nA8MHfk/97ujmEEF+j9c5c14amIFQFGYy3ZafgRAAx+fOP6wAUDYZLvl5AUAQDzozdSN7vs/XDJWo9Oi+j/zaTz+B6r5P0aYUZ+z2vg/E7TEzE1e+D/iIZ+UIT34P4uhIlk8sfg/K33X6ONu+D8XBixnh7n4P+NE+BblT/o/yEzX4tj2+z9I3gOkOgD9P9zm2+b4vv0/xO0PZIhQAEDtLnlQ3yv/P9DwpRdMrfw/Q2lDhz2S+j8Ohba01xX6P4uhIlk8sfg/9phKFn7y9z/GBiXeUdH3PyLZCLRwuPc/jtAwcbL59j9ytba64o32P25jTyCpMvY/5lCtrJeF9j/849uK1TIHQG6WdmmbBw1A0in4N7yHBUDxUCeEPikCQMJE3JbrIgBAnqjsLWwTAUABdmtrYYMBQJYEHvn4XABARK/1i8S3/j/Yt83Ognb/PwxJSLhKggBAOjI6I9p1AEATipUkqDAFQFAS8SuBYwZAZpVRQ5BOAkCpJaiWVlX/P0A6NW/HSfw/0x+0L8L1+j8/F9zsAzf6P6a8nA8MHfk/+uqxsLdN+D9Say7snNn3P/aYShZ+8vc/RphRn7Pa+D8KEPaX2qf3P0rHX7cpI/c/okfc8g6v9j9ytba64o32P3LYDz2moPg/KHEiUzE5/D96DP3E7AMCQKi1xukpAghAPieqszL5DkA26Dnst3sSQPwrazQ/iRNA66OlhAYnGEAzv7WSdmMeQBU7MFVcvxdAmTuTdIYGEUBZ/HFlez8LQBBbhwwy6AZAEuFhVwsDBUDxM1jAr0YKQNHpz/FpkgtAzHQP1WwkCUCdBUMfBBYLQDqy6ZY1iwxAnQVDHwQWC0CIaz4b5E0JQOhJ14a1agVAhgIzlJkVA0DYhxRoqBgCQNowSDVFRgJAjv3N+2+eA0DmoKO5GD0FQKi1xukpAghAgjB7bbvPDkD8K2s0P4kTQL2XWpezIBZAGrDwcVktGkCrrBMfZbYeQBguGmWwLSFAqaEdaMiDIkBLTKSm6pkpQDUpgPjWniRAanCOk1IjIUA1hbgjonMWQFBagNXquRJApIiVdpbqEUC++ttfySgSQJRjUY9zkBJAx+RcmcMEF0BA2QPD/IohQMTCId3MHy1A5W8rdCjcJ0DSOKg4HhwiQEDZA8P8iiFAt2PghtXVJUDGJaOl4icpQMxgZlMLpiNAosKS5WraGUAFFuxtOWUYQLHn1syNNBlAUuroHCkgIEAYLhplsC0hQNgQ6h0xkiBAyOulNg44IUB+CpOXcusiQJ3xmZ2ilyVAMdpdvbdbKUBnhO0gSeghQEi8O1+sMxxAFNiujEa3G0BQ/keqH+UgQHS9kJViByJATjhFGfTUKED89dDqUd8oQP5YUrNn5yRA6b5Nr0cfI0DPTAfGFOEiQH6nEc9c4yZAb+VOsE+RI0CRG3jxnoAhQIfOde+OnCBAgRWJTg8eH0BC5Pl5mb0dQLe/GLKgqhdAMBD4BqUFFEB0GcnALdwTQI6LD6pgGhRAiLPNxE2kFUDH5FyZwwQXQDMiN1uMaxpAgfYzCnwmIkDGiCRu+C8lQEJiI23wvSRAiFeVmYLPI0DKdMXgAWskQIZr9CZ5lCRAsGUAwOQ0IEBcVkBjzPsdQJuHzzdCXB9ApCxdS8sVIEACqHTuhiogQJYSDxtF7hxAYi6CSN9xHEDlaOLW3agdQGejQmXc3x5Ah851746cIEBC5Pl5mb0dQP/aKMAQ5x1AXFZAY8z7HUAjmnGrUwkfQBwau9e5aCBA8oIwB2TQIEDK9pvtqmodQHygyDESsBxAsYRVBHgsHUCmN1MCaEgcQDmX93eJ2RxATDH8e6mhHkCBFYlODx4fQIEViU4PHh9A1EOe77pOHkBGsUWoDwEgQFRsvynSHxlAXhxD9PcLFkA7XfoItekUQDtd+gi16RRA8XvnaRmdFkCD24vfOi4XQNYJoYDmXhZAWUQBD+WVF0CnmtTKfVAYQIPbi986LhdArXIWsJDGFkDCb5x8xpYUQKbvw1j+8Q9AbpZ2aZsHDUCQ7pBydiIQQI3g/jfhuwtAPieqszL5DkDIR95h2QwTQAxRrxti4xJAXXEygnitDUBVh7FIftEIQCgkmijI+AZA1ntf0vXiBUCIaz4b5E0JQBBbhwwy6AZAfvvilhBXBkDR6c/xaZILQK0qhwYncApAOvIR3YeABkBejgFGB5AFQFRB/0P3qwRAIQamPi5dBEBtkOyqZtcCQAYOhQoiBAZAmErQ/X+CBEA6sumWNYsMQAk9kyKYTARAJjW0VqSlAkACmcTtJJYDQLwJGenCpAVABGVRPYXWBUAkr9kLy4oEQJDukHJ2IhBA1EOe77pOHkD6Hdn5qSIPQFYNjJNX7AZAxlYb69KIBkAFzlzEzw4MQPWNJr4AAx1AH8l4Y4vGKkChQLzYwdogQGKR3pY/HTZAp5rUyn1QGECEPg2oUDYTQJk7k3SGBhFAOrLpljWLDEC42grRTFwHQA6yUz+VugZAxTPCaA92BEAkr9kLy4oEQN781ISlhgRAQMpTwpr2BEDOHyBH7IIRQOFWo4L2QhdASdctfljlC0BlrPUvoSsIQEbF7ilxfwVAf4G94elxBEARvgjVR/ACQFj256ZGDwFAOdwYP9u4/z8F+ItsdTz/PyGjJHYYVQhA34Kvz36hAkD6etADi/oAQJT4aGNGJwRAasRfWwaXAEABdmtrYYMBQATI0gWb3gFAX/GCDh2YAUCsJP1H8j8AQH3l6fhjj/8/qSWollZV/z9JAV0m/hL/Pwi3uNe+MQZAvvrbX8koEkBZRAEP5ZUXQBXzoKvyaAtATkzumlVTDkC8/j6FsG4vQKLCkuVq2hlAP9K6JbJXF0C2FAhAIUwPQJbE9bKmZwZAs0LxMYzbAkAuX13W8HYBQCa7jqF9wABAmlaFkzK4AECWBB75+FwAQFRB/0P3qwRAJRjlkhXDCkCy329pdtMGQFkZQSkKIgNAaBssjmlpAEAcnkUGSDr9PyzDie1qlPw/POjN1I3u+z9LDRK8sEj7P1wyVqPTovo/a1eaivb8+T97fN5xGVf5P4uhIlk8sfg/Vr2VhtY0+D8i2Qi0cLj3P8K0vUMYdvc/kiKYC+xU9z8y/kybkxL3P7oQ7w6lv/Y/QiORgrZs9j/i/kUSXir2P1JI1WnZxvU/8iOK+YCE9T8OPwSwUPD1PypafmYgXPY/UkjVadnG9T8itq8xraX1P2bi2W35jvc/dgceVRzp9j9CI5GCtmz2P8o1M/bHGfY/UkjVadnG9T/aWnfd6nP1P+p/u8QNzvQ/cpJdOB979D/6pP+rMCj0Pz6u0GW5/vM/3omF9WC88z9ykl04H3v0PxO0xMxNXvg/N3MNuJCA+T++ha8roi35P0aYUZ+z2vg/ctgPPaag+D8OYl0yFAP4P2bi2W35jvc/kiKYC+xU9z8=\",\"dtype\":\"float64\",\"order\":\"little\",\"shape\":[730]}},\"selected\":{\"id\":\"3170\"},\"selection_policy\":{\"id\":\"3169\"}},\"id\":\"3143\",\"type\":\"ColumnDataSource\"},{\"attributes\":{\"axis\":{\"id\":\"3092\"},\"ticker\":null},\"id\":\"3095\",\"type\":\"Grid\"},{\"attributes\":{\"overlay\":{\"id\":\"3107\"}},\"id\":\"3104\",\"type\":\"PolySelectTool\"},{\"attributes\":{},\"id\":\"3123\",\"type\":\"BasicTickFormatter\"},{\"attributes\":{\"line_color\":\"darkblue\",\"line_dash\":[6],\"line_width\":2,\"x\":{\"field\":\"x\"},\"y\":{\"field\":\"y\"}},\"id\":\"3144\",\"type\":\"Line\"},{\"attributes\":{\"line_alpha\":0.1,\"line_color\":\"darkblue\",\"line_dash\":[6],\"line_width\":2,\"x\":{\"field\":\"x\"},\"y\":{\"field\":\"y\"}},\"id\":\"3145\",\"type\":\"Line\"},{\"attributes\":{},\"id\":\"3097\",\"type\":\"BasicTicker\"},{\"attributes\":{\"fill_alpha\":0.5,\"fill_color\":\"lightgrey\",\"level\":\"overlay\",\"line_alpha\":1.0,\"line_color\":\"black\",\"line_dash\":[4,4],\"line_width\":2,\"xs_units\":\"screen\",\"ys_units\":\"screen\"},\"id\":\"3107\",\"type\":\"PolyAnnotation\"},{\"attributes\":{},\"id\":\"3169\",\"type\":\"UnionRenderers\"},{\"attributes\":{\"axis\":{\"id\":\"3096\"},\"dimension\":1,\"ticker\":null},\"id\":\"3099\",\"type\":\"Grid\"},{\"attributes\":{\"months\":[0,6]},\"id\":\"3137\",\"type\":\"MonthsTicker\"},{\"attributes\":{},\"id\":\"3170\",\"type\":\"Selection\"},{\"attributes\":{},\"id\":\"3121\",\"type\":\"DatetimeTickFormatter\"},{\"attributes\":{\"days\":[1,4,7,10,13,16,19,22,25,28]},\"id\":\"3131\",\"type\":\"DaysTicker\"},{\"attributes\":{\"data_source\":{\"id\":\"3115\"},\"glyph\":{\"id\":\"3116\"},\"hover_glyph\":null,\"muted_glyph\":null,\"nonselection_glyph\":{\"id\":\"3117\"},\"selection_glyph\":null,\"view\":{\"id\":\"3119\"}},\"id\":\"3118\",\"type\":\"GlyphRenderer\"},{\"attributes\":{\"callback\":null},\"id\":\"3103\",\"type\":\"HoverTool\"},{\"attributes\":{\"label\":{\"value\":\"Modeled Q\"},\"renderers\":[{\"id\":\"3146\"}]},\"id\":\"3171\",\"type\":\"LegendItem\"},{\"attributes\":{\"data_source\":{\"id\":\"3143\"},\"glyph\":{\"id\":\"3144\"},\"hover_glyph\":null,\"muted_glyph\":null,\"nonselection_glyph\":{\"id\":\"3145\"},\"selection_glyph\":null,\"view\":{\"id\":\"3147\"}},\"id\":\"3146\",\"type\":\"GlyphRenderer\"},{\"attributes\":{},\"id\":\"3140\",\"type\":\"Selection\"},{\"attributes\":{},\"id\":\"3102\",\"type\":\"ResetTool\"},{\"attributes\":{\"days\":[1,8,15,22]},\"id\":\"3132\",\"type\":\"DaysTicker\"},{\"attributes\":{\"formatter\":{\"id\":\"3123\"},\"ticker\":{\"id\":\"3097\"}},\"id\":\"3096\",\"type\":\"LinearAxis\"},{\"attributes\":{\"bottom_units\":\"screen\",\"fill_alpha\":0.5,\"fill_color\":\"lightgrey\",\"left_units\":\"screen\",\"level\":\"overlay\",\"line_alpha\":1.0,\"line_color\":\"black\",\"line_dash\":[4,4],\"line_width\":2,\"right_units\":\"screen\",\"top_units\":\"screen\"},\"id\":\"3106\",\"type\":\"BoxAnnotation\"},{\"attributes\":{\"months\":[0,1,2,3,4,5,6,7,8,9,10,11]},\"id\":\"3134\",\"type\":\"MonthsTicker\"},{\"attributes\":{\"active_drag\":\"auto\",\"active_inspect\":\"auto\",\"active_multi\":null,\"active_scroll\":\"auto\",\"active_tap\":\"auto\",\"tools\":[{\"id\":\"3100\"},{\"id\":\"3101\"},{\"id\":\"3102\"},{\"id\":\"3103\"},{\"id\":\"3104\"},{\"id\":\"3105\"}]},\"id\":\"3108\",\"type\":\"Toolbar\"},{\"attributes\":{\"line_color\":\"dodgerblue\",\"line_width\":2,\"x\":{\"field\":\"x\"},\"y\":{\"field\":\"y\"}},\"id\":\"3116\",\"type\":\"Line\"},{\"attributes\":{\"days\":[1,15]},\"id\":\"3133\",\"type\":\"DaysTicker\"},{\"attributes\":{\"months\":[0,4,8]},\"id\":\"3136\",\"type\":\"MonthsTicker\"},{\"attributes\":{\"days\":[1,2,3,4,5,6,7,8,9,10,11,12,13,14,15,16,17,18,19,20,21,22,23,24,25,26,27,28,29,30,31]},\"id\":\"3130\",\"type\":\"DaysTicker\"},{\"attributes\":{\"source\":{\"id\":\"3115\"}},\"id\":\"3119\",\"type\":\"CDSView\"},{\"attributes\":{\"base\":24,\"mantissas\":[1,2,4,6,8,12],\"max_interval\":43200000.0,\"min_interval\":3600000.0,\"num_minor_ticks\":0},\"id\":\"3129\",\"type\":\"AdaptiveTicker\"},{\"attributes\":{\"source\":{\"id\":\"3143\"}},\"id\":\"3147\",\"type\":\"CDSView\"},{\"attributes\":{},\"id\":\"3100\",\"type\":\"PanTool\"},{\"attributes\":{\"mantissas\":[1,2,5],\"max_interval\":500.0,\"num_minor_ticks\":0},\"id\":\"3127\",\"type\":\"AdaptiveTicker\"},{\"attributes\":{\"formatter\":{\"id\":\"3121\"},\"ticker\":{\"id\":\"3093\"}},\"id\":\"3092\",\"type\":\"DatetimeAxis\"},{\"attributes\":{\"base\":60,\"mantissas\":[1,2,5,10,15,20,30],\"max_interval\":1800000.0,\"min_interval\":1000.0,\"num_minor_ticks\":0},\"id\":\"3128\",\"type\":\"AdaptiveTicker\"},{\"attributes\":{},\"id\":\"3139\",\"type\":\"UnionRenderers\"},{\"attributes\":{\"text\":\"Measured vs. Modeled Daily Avg. Flow\"},\"id\":\"3082\",\"type\":\"Title\"},{\"attributes\":{\"months\":[0,2,4,6,8,10]},\"id\":\"3135\",\"type\":\"MonthsTicker\"},{\"attributes\":{\"overlay\":{\"id\":\"3106\"}},\"id\":\"3105\",\"type\":\"BoxSelectTool\"},{\"attributes\":{},\"id\":\"3138\",\"type\":\"YearsTicker\"},{\"attributes\":{},\"id\":\"3088\",\"type\":\"LinearScale\"},{\"attributes\":{},\"id\":\"3090\",\"type\":\"LinearScale\"}],\"root_ids\":[\"3081\"]},\"title\":\"Bokeh Application\",\"version\":\"2.2.1\"}};\n",
       "  var render_items = [{\"docid\":\"1df3fbf9-6d26-4b42-852b-b1d88333da44\",\"root_ids\":[\"3081\"],\"roots\":{\"3081\":\"f9612c87-dd8a-4de3-af3f-66768f7a3b24\"}}];\n",
       "  root.Bokeh.embed.embed_items_notebook(docs_json, render_items);\n",
       "\n",
       "  }\n",
       "  if (root.Bokeh !== undefined) {\n",
       "    embed_document(root);\n",
       "  } else {\n",
       "    var attempts = 0;\n",
       "    var timer = setInterval(function(root) {\n",
       "      if (root.Bokeh !== undefined) {\n",
       "        clearInterval(timer);\n",
       "        embed_document(root);\n",
       "      } else {\n",
       "        attempts++;\n",
       "        if (attempts > 100) {\n",
       "          clearInterval(timer);\n",
       "          console.log(\"Bokeh: ERROR: Unable to run BokehJS code because BokehJS library is missing\");\n",
       "        }\n",
       "      }\n",
       "    }, 10, root)\n",
       "  }\n",
       "})(window);"
      ],
      "application/vnd.bokehjs_exec.v0+json": ""
     },
     "metadata": {
      "application/vnd.bokehjs_exec.v0+json": {
       "id": "3081"
      }
     },
     "output_type": "display_data"
    }
   ],
   "source": [
    "mod_df = pd.concat([stage_df, lt_series], join='inner', axis=1)\n",
    "# keep only the measured and modeled columns\n",
    "mod_df = mod_df[['RC Q (cms)', 'Proj_Q']]\n",
    "# rename the columns to something more intuitive\n",
    "mod_df.columns = ['Measured_Q', 'Modeled_Q']\n",
    "\n",
    "reg_plot = figure(plot_width=700, plot_height=400,\n",
    "                title='Measured vs. Modeled Daily Avg. Flow',\n",
    "                tools=TOOLS, x_axis_type='datetime')\n",
    "\n",
    "reg_plot.line(mod_df.index, mod_df['Measured_Q'], line_width=2,\n",
    "             color='dodgerblue', legend_label='Measured Q')\n",
    "\n",
    "reg_plot.line(mod_df.index, mod_df['Modeled_Q'], line_width=2,\n",
    "             color='darkblue', legend_label='Modeled Q',\n",
    "             line_dash='dashed')\n",
    "\n",
    "show(reg_plot)"
   ]
  },
  {
   "cell_type": "markdown",
   "metadata": {},
   "source": [
    "### In the above plot, note general patterns, specific exceptions, and any trends\n",
    "\n",
    "Note the big deviation between the two series in the summer of 2010.  This looks like our model is doing a particularly bad job in the late summer.  How about in other seasons?   How is the model doing at predicting peaks?  \n",
    "\n",
    "How else can we evaluate how the model is fitting the measured data, noting in particular that we are interested in certain ranges of flows, perhaps for generating energy year-round, or supplying a community with drinking water in a dry season?\n",
    "\n",
    "Recall how we plotted the flow duration curve in Notebook 3.  The flow duration curve is particularly useful for focusing on how well the model matches measured data across the range of flows (though extremes are de-emphasized).  \n",
    "\n",
    "### Plot a comparison of Flow Duration Curves"
   ]
  },
  {
   "cell_type": "code",
   "execution_count": 54,
   "metadata": {},
   "outputs": [
    {
     "data": {
      "text/html": [
       "\n",
       "\n",
       "\n",
       "\n",
       "\n",
       "\n",
       "  <div class=\"bk-root\" id=\"624006ad-84f3-41a6-a6ea-01d4cc7c9ef1\" data-root-id=\"3673\"></div>\n"
      ]
     },
     "metadata": {},
     "output_type": "display_data"
    },
    {
     "data": {
      "application/javascript": [
       "(function(root) {\n",
       "  function embed_document(root) {\n",
       "    \n",
       "  var docs_json = {\"4d0c86e4-f49e-45db-bc04-0e8556f962d1\":{\"roots\":{\"references\":[{\"attributes\":{\"below\":[{\"id\":\"3684\"}],\"center\":[{\"id\":\"3687\"},{\"id\":\"3691\"},{\"id\":\"3719\"}],\"left\":[{\"id\":\"3688\"}],\"plot_height\":400,\"plot_width\":700,\"renderers\":[{\"id\":\"3709\"},{\"id\":\"3724\"}],\"title\":{\"id\":\"3674\"},\"toolbar\":{\"id\":\"3699\"},\"x_range\":{\"id\":\"3676\"},\"x_scale\":{\"id\":\"3680\"},\"y_range\":{\"id\":\"3678\"},\"y_scale\":{\"id\":\"3682\"}},\"id\":\"3673\",\"subtype\":\"Figure\",\"type\":\"Plot\"},{\"attributes\":{},\"id\":\"3680\",\"type\":\"LinearScale\"},{\"attributes\":{},\"id\":\"3696\",\"type\":\"ResetTool\"},{\"attributes\":{},\"id\":\"3735\",\"type\":\"Selection\"},{\"attributes\":{\"source\":{\"id\":\"3721\"}},\"id\":\"3725\",\"type\":\"CDSView\"},{\"attributes\":{},\"id\":\"3693\",\"type\":\"WheelZoomTool\"},{\"attributes\":{\"data_source\":{\"id\":\"3706\"},\"glyph\":{\"id\":\"3707\"},\"hover_glyph\":null,\"muted_glyph\":null,\"nonselection_glyph\":{\"id\":\"3708\"},\"selection_glyph\":null,\"view\":{\"id\":\"3710\"}},\"id\":\"3709\",\"type\":\"GlyphRenderer\"},{\"attributes\":{\"data_source\":{\"id\":\"3721\"},\"glyph\":{\"id\":\"3722\"},\"hover_glyph\":null,\"muted_glyph\":null,\"nonselection_glyph\":{\"id\":\"3723\"},\"selection_glyph\":null,\"view\":{\"id\":\"3725\"}},\"id\":\"3724\",\"type\":\"GlyphRenderer\"},{\"attributes\":{\"line_alpha\":0.1,\"line_color\":\"dodgerblue\",\"line_width\":2,\"x\":{\"field\":\"x\"},\"y\":{\"field\":\"y\"}},\"id\":\"3708\",\"type\":\"Line\"},{\"attributes\":{\"data\":{\"x\":{\"__ndarray__\":\"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\",\"dtype\":\"float64\",\"order\":\"little\",\"shape\":[200]},\"y\":{\"__ndarray__\":\"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\",\"dtype\":\"float64\",\"order\":\"little\",\"shape\":[200]}},\"selected\":{\"id\":\"3735\"},\"selection_policy\":{\"id\":\"3734\"}},\"id\":\"3721\",\"type\":\"ColumnDataSource\"},{\"attributes\":{\"axis_label\":\"Percent of Time Exceeded [%]\",\"formatter\":{\"id\":\"3712\"},\"ticker\":{\"id\":\"3685\"}},\"id\":\"3684\",\"type\":\"LinearAxis\"},{\"attributes\":{\"label\":{\"value\":\"Measured\"},\"renderers\":[{\"id\":\"3709\"}]},\"id\":\"3720\",\"type\":\"LegendItem\"},{\"attributes\":{\"line_color\":\"dodgerblue\",\"line_width\":2,\"x\":{\"field\":\"x\"},\"y\":{\"field\":\"y\"}},\"id\":\"3707\",\"type\":\"Line\"},{\"attributes\":{\"overlay\":{\"id\":\"3698\"}},\"id\":\"3694\",\"type\":\"BoxZoomTool\"},{\"attributes\":{},\"id\":\"3678\",\"type\":\"DataRange1d\"},{\"attributes\":{},\"id\":\"3689\",\"type\":\"BasicTicker\"},{\"attributes\":{},\"id\":\"3695\",\"type\":\"SaveTool\"},{\"attributes\":{\"line_alpha\":0.1,\"line_color\":\"darkblue\",\"line_dash\":[6],\"line_width\":2,\"x\":{\"field\":\"x\"},\"y\":{\"field\":\"y\"}},\"id\":\"3723\",\"type\":\"Line\"},{\"attributes\":{\"line_color\":\"darkblue\",\"line_dash\":[6],\"line_width\":2,\"x\":{\"field\":\"x\"},\"y\":{\"field\":\"y\"}},\"id\":\"3722\",\"type\":\"Line\"},{\"attributes\":{},\"id\":\"3676\",\"type\":\"DataRange1d\"},{\"attributes\":{},\"id\":\"3734\",\"type\":\"UnionRenderers\"},{\"attributes\":{\"bottom_units\":\"screen\",\"fill_alpha\":0.5,\"fill_color\":\"lightgrey\",\"left_units\":\"screen\",\"level\":\"overlay\",\"line_alpha\":1.0,\"line_color\":\"black\",\"line_dash\":[4,4],\"line_width\":2,\"right_units\":\"screen\",\"top_units\":\"screen\"},\"id\":\"3698\",\"type\":\"BoxAnnotation\"},{\"attributes\":{\"axis\":{\"id\":\"3684\"},\"ticker\":null},\"id\":\"3687\",\"type\":\"Grid\"},{\"attributes\":{\"axis_label\":\"Flow [m^3/s]\",\"formatter\":{\"id\":\"3714\"},\"ticker\":{\"id\":\"3689\"}},\"id\":\"3688\",\"type\":\"LinearAxis\"},{\"attributes\":{\"text\":\"Measured vs. Modeled Flow Duration Curve\"},\"id\":\"3674\",\"type\":\"Title\"},{\"attributes\":{\"items\":[{\"id\":\"3720\"},{\"id\":\"3736\"}]},\"id\":\"3719\",\"type\":\"Legend\"},{\"attributes\":{},\"id\":\"3718\",\"type\":\"Selection\"},{\"attributes\":{},\"id\":\"3692\",\"type\":\"PanTool\"},{\"attributes\":{\"axis\":{\"id\":\"3688\"},\"dimension\":1,\"ticker\":null},\"id\":\"3691\",\"type\":\"Grid\"},{\"attributes\":{},\"id\":\"3697\",\"type\":\"HelpTool\"},{\"attributes\":{\"label\":{\"value\":\"Modeled\"},\"renderers\":[{\"id\":\"3724\"}]},\"id\":\"3736\",\"type\":\"LegendItem\"},{\"attributes\":{\"active_drag\":\"auto\",\"active_inspect\":\"auto\",\"active_multi\":null,\"active_scroll\":\"auto\",\"active_tap\":\"auto\",\"tools\":[{\"id\":\"3692\"},{\"id\":\"3693\"},{\"id\":\"3694\"},{\"id\":\"3695\"},{\"id\":\"3696\"},{\"id\":\"3697\"}]},\"id\":\"3699\",\"type\":\"Toolbar\"},{\"attributes\":{},\"id\":\"3682\",\"type\":\"LinearScale\"},{\"attributes\":{},\"id\":\"3717\",\"type\":\"UnionRenderers\"},{\"attributes\":{},\"id\":\"3714\",\"type\":\"BasicTickFormatter\"},{\"attributes\":{\"source\":{\"id\":\"3706\"}},\"id\":\"3710\",\"type\":\"CDSView\"},{\"attributes\":{},\"id\":\"3685\",\"type\":\"BasicTicker\"},{\"attributes\":{},\"id\":\"3712\",\"type\":\"BasicTickFormatter\"},{\"attributes\":{\"data\":{\"x\":{\"__ndarray__\":\"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\",\"dtype\":\"float64\",\"order\":\"little\",\"shape\":[200]},\"y\":{\"__ndarray__\":\"lpePDLBj7D/+T0mV3QbtP1nhI2tDdO0/WeEja0N07T9mK2nfJeLtP2Yrad8l4u0/M+7XnEUZ7j8LD7RhzjzuPy9VnK/hh+4/MbFZdUv17j+IFIkAsi7vPxgijdOJZu8/5ODhCYCe7z8MeIuOlNbvP6kaW6ZjB/A/wAfbF4wj8D9uSVohHSrxP0np+O7as/E/Sen47tqz8T/ypIQk9e3xP1EtuWioGvI/El3Ba9Zi8j/VPoHtnJ3yP9oRHD8x9vI/QKzGn0RP8z9HvyGe6I/zP4lM4QQ3sPM/b/nBngUh9D85JNksym70P6pIphCov/Q/EUImRQbi9T+YTB9Y71n2P4wRLYKLZ/Y/3wg668nB9j+wkdGCaSP3P03xFDcIMfc/D9tKp3Fi9z/EqydBCYL3Pz40/9atofc/c8EHzcH89z/QTfCbpkD4P8JrnIyYYPg/AeyYSpeA+D/TQ3kUu8D4P9RDeRS7wPg/3iNvE+Dg+D/dI28T4OD4P+FUVyVQIfk/4VRXJVAh+T+Ps5Erm0H5P22uOdLyYfk/rBvD58ei+T/jajJKRcP5P+RqMkpFw/k/8LmIn2UE+j9ZWTCGCCX6P9uKDuK3Rfo/y6VK4TuH+j8mh9ZRmLf6P7P6RW3xyPo/bD46M5n9+j9vXnM/3iv7P4uMG27wTPs/W6x+hTmP+z/0EUP52e/7PyjB1k9Emvw/32CEBdy7/D9dhU4d6yD9Px5iHgr6if0/hEvJj27k/T+CMR76apL+P1T/fZiV0P8/dImHY40WAEA7WzKpdSkAQP6pIAeOUABA1qYwPYtgAEDg3LKrzooAQI81JWGypgBA0/RfBFXSAEAw2jLApOIAQDow60wzAQFAKhePTj8vAUAxniQz1UUBQIOUhgUejgFAzXI5TeiwAUAINxKggOIBQDPq3PSgLwJAoIvE6s9fAkBEUQerYokCQOCWpUo0nAJAbGuWm48DA0A49bAqpH8DQCvK8F9J1ANA86nKiJISBEBK+TrCCEoEQOuOKbtsVgRA31jtrd/aBECmiMEBbSsFQJS9OVTecAVAgR6t2MyWBUArGjZO6LwFQJG4R/tUHAZAwpNaG7UvBkDwH+UF6UIGQEunJZyKtgZAtnZqv/7iBkBQpgtPn/AGQDt4iRzZPQdAcpa/yjt+B0AVSs/v6p8HQFLy1e99swdAlDILw7r/B0DLAQOuiFYIQLUXpJwuiwhA/ehMaWjbCEAuO11rGgAJQNAEdJ3BZAlAyEadNgKPCUBhtlkYnUkKQOFWsfi54wpAELfUZWhQC0ASUpgjipQLQEr0327upQxATlM/BggKDUCKTfVc9jENQD0hQpoC8A1AjIMyk0+TDkBeL5GleWsPQF4wnAGdtA9AkTq6ECNqEEDmdZ79K+EQQDdgVG4JCBFA/ivjjcKFEUA4dxudYvQRQHrDQihQKBJAEsvbB8CXEkD0cDZb/9gSQMdfkzskHhNAeF2NyQCfE0DSiVbxb8ATQF27E+6OOBRAUFYK+mTKFECrBuMxzlAVQPOhlgy2uBVAd4ZJFWGVFkBHTWleuwIXQHxfEcuUMBdAo44YIdV4F0Cw7urr878XQB5K2RtLvxhALrpjARw8GUBDrfpCgq0ZQBSilgYa/hlAXSW3HspZGkAW2uhEc8waQL3fhngOVhtACH0I9sUlHECDS+C3RpMcQOI+e2rm0BxACEUUwCHzHECfMJWe5VUdQEyu1F6i0h1AfjVm3JkvHkA5cXJignMeQPPVlGRSlh5AjL7sYkjGHkC0ljFi2lMfQNf0Yx9P0B9A5FQ7VO0YIECT6YhE2jogQPARjMjxWSBAZEiSU36GIECawB+Z9scgQNHX0xguCiFAecVXL7BLIUCuH1BrsKghQJvzjYshMyJAQmR010DBIkADYbwJ+Q8jQCLAkU/GUSNAXBG6kYOoI0CnV057X+8jQEN+hotDkyRAO/l9q/zkJECCrZCChIElQGUaUA/W+iVAHaB+AgiGJkD2sSMW8ConQPjkz8+xJShAUP+hsdfLKECrYzyUe2EpQH5tzu17IipAJMb+FN1FKkD2tVETPvAqQI6QR+S5JitApD2fR+PlK0AW+bittu8sQPLnIkuSPS9APSSHSVeoMkBRLCeUTdE0QA==\",\"dtype\":\"float64\",\"order\":\"little\",\"shape\":[200]}},\"selected\":{\"id\":\"3718\"},\"selection_policy\":{\"id\":\"3717\"}},\"id\":\"3706\",\"type\":\"ColumnDataSource\"}],\"root_ids\":[\"3673\"]},\"title\":\"Bokeh Application\",\"version\":\"2.2.1\"}};\n",
       "  var render_items = [{\"docid\":\"4d0c86e4-f49e-45db-bc04-0e8556f962d1\",\"root_ids\":[\"3673\"],\"roots\":{\"3673\":\"624006ad-84f3-41a6-a6ea-01d4cc7c9ef1\"}}];\n",
       "  root.Bokeh.embed.embed_items_notebook(docs_json, render_items);\n",
       "\n",
       "  }\n",
       "  if (root.Bokeh !== undefined) {\n",
       "    embed_document(root);\n",
       "  } else {\n",
       "    var attempts = 0;\n",
       "    var timer = setInterval(function(root) {\n",
       "      if (root.Bokeh !== undefined) {\n",
       "        clearInterval(timer);\n",
       "        embed_document(root);\n",
       "      } else {\n",
       "        attempts++;\n",
       "        if (attempts > 100) {\n",
       "          clearInterval(timer);\n",
       "          console.log(\"Bokeh: ERROR: Unable to run BokehJS code because BokehJS library is missing\");\n",
       "        }\n",
       "      }\n",
       "    }, 10, root)\n",
       "  }\n",
       "})(window);"
      ],
      "application/vnd.bokehjs_exec.v0+json": ""
     },
     "metadata": {
      "application/vnd.bokehjs_exec.v0+json": {
       "id": "3673"
      }
     },
     "output_type": "display_data"
    }
   ],
   "source": [
    "pct_exceeded = np.linspace(0, 100, 200)\n",
    "msd_quantiles = np.percentile(mod_df['Measured_Q'], pct_exceeded)\n",
    "modeled_quantiles = np.percentile(mod_df['Modeled_Q'], pct_exceeded)\n",
    "\n",
    "fdc_plot = figure(width=700, height=400, title='Measured vs. Modeled Flow Duration Curve')\n",
    "fdc_plot.line(pct_exceeded[::-1], msd_quantiles, legend_label=\"Measured\", line_width=2,\n",
    "             color='dodgerblue')\n",
    "fdc_plot.line(pct_exceeded[::-1], modeled_quantiles, line_width=2,\n",
    "             color='darkblue', legend_label='Modeled', line_dash='dashed')\n",
    "fdc_plot.yaxis.axis_label = 'Flow [m^3/s]'\n",
    "fdc_plot.xaxis.axis_label = 'Percent of Time Exceeded [%]'\n",
    "show(fdc_plot)"
   ]
  },
  {
   "cell_type": "markdown",
   "metadata": {},
   "source": [
    "### Estimate the Long-Term Mean Annual Flow for our Project Location\n",
    "\n",
    "Compare the long term mean annual against the short term, then compare the long-term monthly and annual series."
   ]
  },
  {
   "cell_type": "code",
   "execution_count": 62,
   "metadata": {},
   "outputs": [
    {
     "name": "stdout",
     "output_type": "stream",
     "text": [
      "The mean annual flow (MAD) at our project location is 4.3 m^3/s\n",
      "In contrast, the average flow over the measured period was 4.2 m^3/s\n"
     ]
    }
   ],
   "source": [
    "lt_mad = lt_series[['Proj_Q']].mean().to_numpy()[0]\n",
    "msd_mean = stage_df[['RC Q (cms)']].mean().to_numpy()[0]\n",
    "\n",
    "print('The mean annual flow (MAD) at our project location is {:.1f} m^3/s'.format(lt_mad))\n",
    "print('To compare, the average flow over the measured period was {:.1f} m^3/s'.format(msd_mean))"
   ]
  },
  {
   "cell_type": "code",
   "execution_count": 78,
   "metadata": {},
   "outputs": [
    {
     "data": {
      "image/png": "[encoded data removed]",
      "text/plain": [
       "<Figure size 432x288 with 1 Axes>"
      ]
     },
     "metadata": {
      "needs_background": "light"
     },
     "output_type": "display_data"
    }
   ],
   "source": [
    "lt_series['year'] = lt_series.index.year\n",
    "annual_series = lt_series[['Proj_Q', 'year']].groupby('year').mean()\n",
    "\n",
    "stage_df['year'] = stage_df.index.year\n",
    "msd_ann = stage_df[['year', 'RC Q (cms)']].groupby('year').mean()\n",
    "\n",
    "\n",
    "plt.plot(annual_series['Proj_Q'], label='LT Modelled')\n",
    "plt.plot([1987, 2017], [lt_mad, lt_mad], label='LT Mean', color='green')\n",
    "plt.scatter(msd_ann.index, msd_ann['RC Q (cms)'], color='red')\n",
    "plt.title('Mean Annual Series')\n",
    "plt.legend()\n",
    "plt.show()"
   ]
  },
  {
   "cell_type": "markdown",
   "metadata": {},
   "source": [
    "## Questions for Submission on Canvas\n",
    "\n",
    "1.  From our regression plot and from the comparison of measured and estimated daily flow series, what do you think about the quality of our model, i.e. how well does the best fit line approximate the concurrent daily flows (blue dots)?  \n",
    "2.  What range of flow is exceeded 67% OR MORE of the time, how well is this range modelled and what might this flow range be pertinent to?  \n",
    "3.  What could differences in concurrent flows at the two locations be attributable to?  \n",
    "4.  How might we modify our model to capture one of the differences you noted in 3?\n",
    "5.  In the last plot, we see that the ~two years we measured flow at our project location were very close to the long-term mean annual.  What if the two years we happened to measure were 2000 and 2001 and we took these as representative without doing a regression analysis with a long-term regional record?"
   ]
  },
  {
   "cell_type": "markdown",
   "metadata": {},
   "source": [
    "## References\n",
    "\n",
    "1. A.S. Hamilton & R.D. Moore (2012). Quantifying Uncertainty in Streamflow Records , Canadian Water Resources Journal / Revue canadienne des ressources hydriques, 37:1, 3-21, DOI: 10.4296/cwrj3701865\n",
    "2. Environment Canada (2012).  Hydrometric Manual - Data Computations.  Water Survey of Canada, Weather and Environmental Monitoring Directorate."
   ]
  }
 ],
 "metadata": {
  "kernelspec": {
   "display_name": "Python 3",
   "language": "python",
   "name": "python3"
  },
  "language_info": {
   "codemirror_mode": {
    "name": "ipython",
    "version": 3
   },
   "file_extension": ".py",
   "mimetype": "text/x-python",
   "name": "python",
   "nbconvert_exporter": "python",
   "pygments_lexer": "ipython3",
   "version": "3.8.5"
  }
 },
 "nbformat": 4,
 "nbformat_minor": 4
}
