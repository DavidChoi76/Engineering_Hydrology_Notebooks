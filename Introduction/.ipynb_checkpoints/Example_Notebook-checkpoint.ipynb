{
 "cells": [
  {
   "cell_type": "code",
   "execution_count": 32,
   "metadata": {},
   "outputs": [],
   "source": [
    "import pandas as pd\n",
    "import numpy as np\n",
    "import math\n",
    "\n",
    "from matplotlib import pyplot as plt"
   ]
  },
  {
   "cell_type": "markdown",
   "metadata": {},
   "source": [
    "## Example Notebook\n",
    "\n",
    "This notebook is an interactive development environment (IDE) where you can run Python code to do calculations, numerical simuluation, and much more.\n",
    "\n",
    "For this example, we'll plot the atmospheric water vapour pressure for a range of air temperatures."
   ]
  },
  {
   "cell_type": "code",
   "execution_count": 33,
   "metadata": {},
   "outputs": [],
   "source": [
    "# this cell is for code, you can change the cell type in the toolbar at the top of this window.\n",
    "\n",
    "# set the range of temperatures we're interested in \n",
    "# calculating the vapour pressure\n",
    "\n",
    "# this creates an array starting at -5 and ending at 30 with 500 steps\n",
    "temperature_range = np.linspace(-5, 30, 500)"
   ]
  },
  {
   "cell_type": "code",
   "execution_count": 34,
   "metadata": {},
   "outputs": [
    {
     "data": {
      "text/plain": [
       "array([-5.00000000e+00, -4.92985972e+00, -4.85971944e+00, -4.78957916e+00,\n",
       "       -4.71943888e+00, -4.64929860e+00, -4.57915832e+00, -4.50901804e+00,\n",
       "       -4.43887776e+00, -4.36873747e+00, -4.29859719e+00, -4.22845691e+00,\n",
       "       -4.15831663e+00, -4.08817635e+00, -4.01803607e+00, -3.94789579e+00,\n",
       "       -3.87775551e+00, -3.80761523e+00, -3.73747495e+00, -3.66733467e+00,\n",
       "       -3.59719439e+00, -3.52705411e+00, -3.45691383e+00, -3.38677355e+00,\n",
       "       -3.31663327e+00, -3.24649299e+00, -3.17635271e+00, -3.10621242e+00,\n",
       "       -3.03607214e+00, -2.96593186e+00, -2.89579158e+00, -2.82565130e+00,\n",
       "       -2.75551102e+00, -2.68537074e+00, -2.61523046e+00, -2.54509018e+00,\n",
       "       -2.47494990e+00, -2.40480962e+00, -2.33466934e+00, -2.26452906e+00,\n",
       "       -2.19438878e+00, -2.12424850e+00, -2.05410822e+00, -1.98396794e+00,\n",
       "       -1.91382766e+00, -1.84368737e+00, -1.77354709e+00, -1.70340681e+00,\n",
       "       -1.63326653e+00, -1.56312625e+00, -1.49298597e+00, -1.42284569e+00,\n",
       "       -1.35270541e+00, -1.28256513e+00, -1.21242485e+00, -1.14228457e+00,\n",
       "       -1.07214429e+00, -1.00200401e+00, -9.31863727e-01, -8.61723447e-01,\n",
       "       -7.91583166e-01, -7.21442886e-01, -6.51302605e-01, -5.81162325e-01,\n",
       "       -5.11022044e-01, -4.40881764e-01, -3.70741483e-01, -3.00601202e-01,\n",
       "       -2.30460922e-01, -1.60320641e-01, -9.01803607e-02, -2.00400802e-02,\n",
       "        5.01002004e-02,  1.20240481e-01,  1.90380762e-01,  2.60521042e-01,\n",
       "        3.30661323e-01,  4.00801603e-01,  4.70941884e-01,  5.41082164e-01,\n",
       "        6.11222445e-01,  6.81362725e-01,  7.51503006e-01,  8.21643287e-01,\n",
       "        8.91783567e-01,  9.61923848e-01,  1.03206413e+00,  1.10220441e+00,\n",
       "        1.17234469e+00,  1.24248497e+00,  1.31262525e+00,  1.38276553e+00,\n",
       "        1.45290581e+00,  1.52304609e+00,  1.59318637e+00,  1.66332665e+00,\n",
       "        1.73346693e+00,  1.80360721e+00,  1.87374749e+00,  1.94388778e+00,\n",
       "        2.01402806e+00,  2.08416834e+00,  2.15430862e+00,  2.22444890e+00,\n",
       "        2.29458918e+00,  2.36472946e+00,  2.43486974e+00,  2.50501002e+00,\n",
       "        2.57515030e+00,  2.64529058e+00,  2.71543086e+00,  2.78557114e+00,\n",
       "        2.85571142e+00,  2.92585170e+00,  2.99599198e+00,  3.06613226e+00,\n",
       "        3.13627255e+00,  3.20641283e+00,  3.27655311e+00,  3.34669339e+00,\n",
       "        3.41683367e+00,  3.48697395e+00,  3.55711423e+00,  3.62725451e+00,\n",
       "        3.69739479e+00,  3.76753507e+00,  3.83767535e+00,  3.90781563e+00,\n",
       "        3.97795591e+00,  4.04809619e+00,  4.11823647e+00,  4.18837675e+00,\n",
       "        4.25851703e+00,  4.32865731e+00,  4.39879760e+00,  4.46893788e+00,\n",
       "        4.53907816e+00,  4.60921844e+00,  4.67935872e+00,  4.74949900e+00,\n",
       "        4.81963928e+00,  4.88977956e+00,  4.95991984e+00,  5.03006012e+00,\n",
       "        5.10020040e+00,  5.17034068e+00,  5.24048096e+00,  5.31062124e+00,\n",
       "        5.38076152e+00,  5.45090180e+00,  5.52104208e+00,  5.59118236e+00,\n",
       "        5.66132265e+00,  5.73146293e+00,  5.80160321e+00,  5.87174349e+00,\n",
       "        5.94188377e+00,  6.01202405e+00,  6.08216433e+00,  6.15230461e+00,\n",
       "        6.22244489e+00,  6.29258517e+00,  6.36272545e+00,  6.43286573e+00,\n",
       "        6.50300601e+00,  6.57314629e+00,  6.64328657e+00,  6.71342685e+00,\n",
       "        6.78356713e+00,  6.85370741e+00,  6.92384770e+00,  6.99398798e+00,\n",
       "        7.06412826e+00,  7.13426854e+00,  7.20440882e+00,  7.27454910e+00,\n",
       "        7.34468938e+00,  7.41482966e+00,  7.48496994e+00,  7.55511022e+00,\n",
       "        7.62525050e+00,  7.69539078e+00,  7.76553106e+00,  7.83567134e+00,\n",
       "        7.90581162e+00,  7.97595190e+00,  8.04609218e+00,  8.11623246e+00,\n",
       "        8.18637275e+00,  8.25651303e+00,  8.32665331e+00,  8.39679359e+00,\n",
       "        8.46693387e+00,  8.53707415e+00,  8.60721443e+00,  8.67735471e+00,\n",
       "        8.74749499e+00,  8.81763527e+00,  8.88777555e+00,  8.95791583e+00,\n",
       "        9.02805611e+00,  9.09819639e+00,  9.16833667e+00,  9.23847695e+00,\n",
       "        9.30861723e+00,  9.37875752e+00,  9.44889780e+00,  9.51903808e+00,\n",
       "        9.58917836e+00,  9.65931864e+00,  9.72945892e+00,  9.79959920e+00,\n",
       "        9.86973948e+00,  9.93987976e+00,  1.00100200e+01,  1.00801603e+01,\n",
       "        1.01503006e+01,  1.02204409e+01,  1.02905812e+01,  1.03607214e+01,\n",
       "        1.04308617e+01,  1.05010020e+01,  1.05711423e+01,  1.06412826e+01,\n",
       "        1.07114228e+01,  1.07815631e+01,  1.08517034e+01,  1.09218437e+01,\n",
       "        1.09919840e+01,  1.10621242e+01,  1.11322645e+01,  1.12024048e+01,\n",
       "        1.12725451e+01,  1.13426854e+01,  1.14128257e+01,  1.14829659e+01,\n",
       "        1.15531062e+01,  1.16232465e+01,  1.16933868e+01,  1.17635271e+01,\n",
       "        1.18336673e+01,  1.19038076e+01,  1.19739479e+01,  1.20440882e+01,\n",
       "        1.21142285e+01,  1.21843687e+01,  1.22545090e+01,  1.23246493e+01,\n",
       "        1.23947896e+01,  1.24649299e+01,  1.25350701e+01,  1.26052104e+01,\n",
       "        1.26753507e+01,  1.27454910e+01,  1.28156313e+01,  1.28857715e+01,\n",
       "        1.29559118e+01,  1.30260521e+01,  1.30961924e+01,  1.31663327e+01,\n",
       "        1.32364729e+01,  1.33066132e+01,  1.33767535e+01,  1.34468938e+01,\n",
       "        1.35170341e+01,  1.35871743e+01,  1.36573146e+01,  1.37274549e+01,\n",
       "        1.37975952e+01,  1.38677355e+01,  1.39378758e+01,  1.40080160e+01,\n",
       "        1.40781563e+01,  1.41482966e+01,  1.42184369e+01,  1.42885772e+01,\n",
       "        1.43587174e+01,  1.44288577e+01,  1.44989980e+01,  1.45691383e+01,\n",
       "        1.46392786e+01,  1.47094188e+01,  1.47795591e+01,  1.48496994e+01,\n",
       "        1.49198397e+01,  1.49899800e+01,  1.50601202e+01,  1.51302605e+01,\n",
       "        1.52004008e+01,  1.52705411e+01,  1.53406814e+01,  1.54108216e+01,\n",
       "        1.54809619e+01,  1.55511022e+01,  1.56212425e+01,  1.56913828e+01,\n",
       "        1.57615230e+01,  1.58316633e+01,  1.59018036e+01,  1.59719439e+01,\n",
       "        1.60420842e+01,  1.61122244e+01,  1.61823647e+01,  1.62525050e+01,\n",
       "        1.63226453e+01,  1.63927856e+01,  1.64629259e+01,  1.65330661e+01,\n",
       "        1.66032064e+01,  1.66733467e+01,  1.67434870e+01,  1.68136273e+01,\n",
       "        1.68837675e+01,  1.69539078e+01,  1.70240481e+01,  1.70941884e+01,\n",
       "        1.71643287e+01,  1.72344689e+01,  1.73046092e+01,  1.73747495e+01,\n",
       "        1.74448898e+01,  1.75150301e+01,  1.75851703e+01,  1.76553106e+01,\n",
       "        1.77254509e+01,  1.77955912e+01,  1.78657315e+01,  1.79358717e+01,\n",
       "        1.80060120e+01,  1.80761523e+01,  1.81462926e+01,  1.82164329e+01,\n",
       "        1.82865731e+01,  1.83567134e+01,  1.84268537e+01,  1.84969940e+01,\n",
       "        1.85671343e+01,  1.86372745e+01,  1.87074148e+01,  1.87775551e+01,\n",
       "        1.88476954e+01,  1.89178357e+01,  1.89879760e+01,  1.90581162e+01,\n",
       "        1.91282565e+01,  1.91983968e+01,  1.92685371e+01,  1.93386774e+01,\n",
       "        1.94088176e+01,  1.94789579e+01,  1.95490982e+01,  1.96192385e+01,\n",
       "        1.96893788e+01,  1.97595190e+01,  1.98296593e+01,  1.98997996e+01,\n",
       "        1.99699399e+01,  2.00400802e+01,  2.01102204e+01,  2.01803607e+01,\n",
       "        2.02505010e+01,  2.03206413e+01,  2.03907816e+01,  2.04609218e+01,\n",
       "        2.05310621e+01,  2.06012024e+01,  2.06713427e+01,  2.07414830e+01,\n",
       "        2.08116232e+01,  2.08817635e+01,  2.09519038e+01,  2.10220441e+01,\n",
       "        2.10921844e+01,  2.11623246e+01,  2.12324649e+01,  2.13026052e+01,\n",
       "        2.13727455e+01,  2.14428858e+01,  2.15130261e+01,  2.15831663e+01,\n",
       "        2.16533066e+01,  2.17234469e+01,  2.17935872e+01,  2.18637275e+01,\n",
       "        2.19338677e+01,  2.20040080e+01,  2.20741483e+01,  2.21442886e+01,\n",
       "        2.22144289e+01,  2.22845691e+01,  2.23547094e+01,  2.24248497e+01,\n",
       "        2.24949900e+01,  2.25651303e+01,  2.26352705e+01,  2.27054108e+01,\n",
       "        2.27755511e+01,  2.28456914e+01,  2.29158317e+01,  2.29859719e+01,\n",
       "        2.30561122e+01,  2.31262525e+01,  2.31963928e+01,  2.32665331e+01,\n",
       "        2.33366733e+01,  2.34068136e+01,  2.34769539e+01,  2.35470942e+01,\n",
       "        2.36172345e+01,  2.36873747e+01,  2.37575150e+01,  2.38276553e+01,\n",
       "        2.38977956e+01,  2.39679359e+01,  2.40380762e+01,  2.41082164e+01,\n",
       "        2.41783567e+01,  2.42484970e+01,  2.43186373e+01,  2.43887776e+01,\n",
       "        2.44589178e+01,  2.45290581e+01,  2.45991984e+01,  2.46693387e+01,\n",
       "        2.47394790e+01,  2.48096192e+01,  2.48797595e+01,  2.49498998e+01,\n",
       "        2.50200401e+01,  2.50901804e+01,  2.51603206e+01,  2.52304609e+01,\n",
       "        2.53006012e+01,  2.53707415e+01,  2.54408818e+01,  2.55110220e+01,\n",
       "        2.55811623e+01,  2.56513026e+01,  2.57214429e+01,  2.57915832e+01,\n",
       "        2.58617234e+01,  2.59318637e+01,  2.60020040e+01,  2.60721443e+01,\n",
       "        2.61422846e+01,  2.62124248e+01,  2.62825651e+01,  2.63527054e+01,\n",
       "        2.64228457e+01,  2.64929860e+01,  2.65631263e+01,  2.66332665e+01,\n",
       "        2.67034068e+01,  2.67735471e+01,  2.68436874e+01,  2.69138277e+01,\n",
       "        2.69839679e+01,  2.70541082e+01,  2.71242485e+01,  2.71943888e+01,\n",
       "        2.72645291e+01,  2.73346693e+01,  2.74048096e+01,  2.74749499e+01,\n",
       "        2.75450902e+01,  2.76152305e+01,  2.76853707e+01,  2.77555110e+01,\n",
       "        2.78256513e+01,  2.78957916e+01,  2.79659319e+01,  2.80360721e+01,\n",
       "        2.81062124e+01,  2.81763527e+01,  2.82464930e+01,  2.83166333e+01,\n",
       "        2.83867735e+01,  2.84569138e+01,  2.85270541e+01,  2.85971944e+01,\n",
       "        2.86673347e+01,  2.87374749e+01,  2.88076152e+01,  2.88777555e+01,\n",
       "        2.89478958e+01,  2.90180361e+01,  2.90881764e+01,  2.91583166e+01,\n",
       "        2.92284569e+01,  2.92985972e+01,  2.93687375e+01,  2.94388778e+01,\n",
       "        2.95090180e+01,  2.95791583e+01,  2.96492986e+01,  2.97194389e+01,\n",
       "        2.97895792e+01,  2.98597194e+01,  2.99298597e+01,  3.00000000e+01])"
      ]
     },
     "execution_count": 34,
     "metadata": {},
     "output_type": "execute_result"
    }
   ],
   "source": [
    "temperature_range"
   ]
  },
  {
   "cell_type": "markdown",
   "metadata": {},
   "source": [
    "This cell is for \"markdown\" which is an easy way to format text nicely.  [More information on markdown can be found here](https://jupyter-notebook.readthedocs.io/en/stable/examples/Notebook/Working%20With%20Markdown%20Cells.html).\n",
    "\n",
    "Let's use markdown to write the Clausius-Clapeyron equation nicely:\n",
    "\n"
   ]
  },
  {
   "cell_type": "markdown",
   "metadata": {},
   "source": [
    "## Clausius-Clapeyron Equation\n",
    "\n",
    "$$\\frac{de_s}{dT} = \\frac{L_v(T)e_s}{R_v T^2}$$\n",
    "\n",
    "Or, using an approximation:\n",
    "\n",
    "$$e_s(T) = 0.611 \\cdot exp\\left( \\frac{17.3 \\cdot T_s}{T_s + 237.3} \\right) $$\n",
    "\n",
    "Now, we can write this as a function in Python:"
   ]
  },
  {
   "cell_type": "code",
   "execution_count": 41,
   "metadata": {},
   "outputs": [],
   "source": [
    "def calculate_saturation_vapor_pressure(T):\n",
    "    \"\"\"\n",
    "    Given T (temperature) as an input in Kelvin,\n",
    "    return the saturation vapour pressure of air.\n",
    "    \"\"\"\n",
    "    return 0.611 * math.exp((17.3 * T)/(T + 237.3))\n",
    "    "
   ]
  },
  {
   "cell_type": "code",
   "execution_count": 47,
   "metadata": {},
   "outputs": [],
   "source": [
    "def calculate_blackbody_radiation(T):\n",
    "    \"\"\"\n",
    "    Given T (temperature) as an input in Kelvin,\n",
    "    return the saturation vapour pressure of air.\n",
    "    \"\"\"\n",
    "    sigma=5.670374419e-8\n",
    "    return sigma*(T^4)"
   ]
  },
  {
   "cell_type": "code",
   "execution_count": 49,
   "metadata": {},
   "outputs": [],
   "source": [
    "def calculate_greybody_radiation(T,emiss):\n",
    "    \"\"\"\n",
    "    Given T (temperature) as an input in Kelvin,\n",
    "    return the saturation vapour pressure of air.\n",
    "    \"\"\"\n",
    "    sigma=5.670374419e-8\n",
    "    return sigma*emiss*(T^4)"
   ]
  },
  {
   "cell_type": "code",
   "execution_count": 50,
   "metadata": {},
   "outputs": [
    {
     "data": {
      "text/plain": [
       "0.00031164377806824"
      ]
     },
     "execution_count": 50,
     "metadata": {},
     "output_type": "execute_result"
    }
   ],
   "source": [
    "calculate_blackbody_radiation(5500)"
   ]
  },
  {
   "cell_type": "markdown",
   "metadata": {},
   "source": [
    "Stefan-Bolzmann Constant:\n",
    "$\\sigma = 5.670374419×10^8 Wm^{−2}⋅K^{−4}$"
   ]
  },
  {
   "cell_type": "code",
   "execution_count": 42,
   "metadata": {},
   "outputs": [],
   "source": [
    "def calculate_saturation_vapor_pressure_C(Tc):\n",
    "    \"\"\"\n",
    "    Given T (temperature) as an input in Kelvin,\n",
    "    return the saturation vapour pressure of air.\n",
    "    \"\"\"\n",
    "    T=Tc+273;\n",
    "    e = 0.611 * math.exp((17.3 * T/(T + 237.3)))\n",
    "    return e"
   ]
  },
  {
   "cell_type": "code",
   "execution_count": 43,
   "metadata": {},
   "outputs": [
    {
     "data": {
      "text/plain": [
       "7458.467760850734"
      ]
     },
     "execution_count": 43,
     "metadata": {},
     "output_type": "execute_result"
    }
   ],
   "source": [
    "calculate_saturation_vapor_pressure_C(10)"
   ]
  },
  {
   "cell_type": "code",
   "execution_count": 44,
   "metadata": {},
   "outputs": [],
   "source": [
    "def calculate_dewpoint_temperature(e):\n",
    "    \"\"\"\n",
    "    Given e (temperature) as an input in Kelvin,\n",
    "    return the saturation vapour pressure of air.\n",
    "    \"\"\"\n",
    "    return 0.611 * math.exp((17.3 * T)/(T + 237.3))"
   ]
  },
  {
   "cell_type": "code",
   "execution_count": 45,
   "metadata": {},
   "outputs": [],
   "source": [
    "# Now, calculate the saturation vapour pressure for the range of temperature we defined above\n",
    "\n",
    "# create an empty array to store the vapour pressures we will calculate\n",
    "vapour_pressures = []\n",
    "# loop through the range of temperatures we defined above\n",
    "for t in temperature_range:\n",
    "    sat_vapour_pressure = calculate_saturation_vapor_pressure(t)\n",
    "    vapour_pressures.append(sat_vapour_pressure)"
   ]
  },
  {
   "cell_type": "code",
   "execution_count": 46,
   "metadata": {},
   "outputs": [
    {
     "data": {
      "text/plain": [
       "Text(0, 0.5, 'Saturation Vapour Pressure (kPa)')"
      ]
     },
     "execution_count": 46,
     "metadata": {},
     "output_type": "execute_result"
    },
    {
     "data": {
      "image/png": "[encoded data removed]",
      "text/plain": [
       "<Figure size 1296x360 with 1 Axes>"
      ]
     },
     "metadata": {
      "needs_background": "light"
     },
     "output_type": "display_data"
    }
   ],
   "source": [
    "# now plot the result\n",
    "fig, ax = plt.subplots(1, 1, figsize=(18, 5))\n",
    "\n",
    "ax.plot(temperature_range, vapour_pressures, 'b-')\n",
    "ax.set_title('Saturation Vapour Pressure')\n",
    "ax.set_xlabel('Temperature (Celsius)')\n",
    "ax.set_ylabel('Saturation Vapour Pressure (kPa)')"
   ]
  },
  {
   "cell_type": "code",
   "execution_count": null,
   "metadata": {},
   "outputs": [],
   "source": []
  },
  {
   "cell_type": "code",
   "execution_count": null,
   "metadata": {},
   "outputs": [],
   "source": []
  }
 ],
 "metadata": {
  "kernelspec": {
   "display_name": "Python 3",
   "language": "python",
   "name": "python3"
  },
  "language_info": {
   "codemirror_mode": {
    "name": "ipython",
    "version": 3
   },
   "file_extension": ".py",
   "mimetype": "text/x-python",
   "name": "python",
   "nbconvert_exporter": "python",
   "pygments_lexer": "ipython3",
   "version": "3.7.3"
  }
 },
 "nbformat": 4,
 "nbformat_minor": 4
}
