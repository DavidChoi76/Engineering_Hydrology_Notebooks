{
 "cells": [
  {
   "cell_type": "markdown",
   "metadata": {},
   "source": [
    "# This is a Title\n",
    "\n",
    "*Italic* and **bold** text.\n",
    "\n",
    "| Col1 | Co2 |\n",
    "|---|---|\n",
    "| Value | 1 |\n",
    "\n",
    "$$\\sum_{i=1}^n \\alpha^i$$"
   ]
  },
  {
   "cell_type": "code",
   "execution_count": 1,
   "metadata": {},
   "outputs": [],
   "source": [
    "s = 'this is a string 1236 & any symbol!'\n",
    "i = 1\n",
    "\n",
    "water_level = 2.3 \n",
    "\n",
    "l = [1, 1, 0, 0, 1, 0, 0, 1]\n"
   ]
  },
  {
   "cell_type": "code",
   "execution_count": 2,
   "metadata": {},
   "outputs": [],
   "source": [
    "total = 0\n",
    "for n in l:\n",
    "    total = total + n\n",
    "    \n",
    "    "
   ]
  },
  {
   "cell_type": "code",
   "execution_count": 3,
   "metadata": {},
   "outputs": [],
   "source": [
    "l1 = [2, 2, 2]\n",
    "\n",
    "l2 = l + l1"
   ]
  },
  {
   "cell_type": "code",
   "execution_count": null,
   "metadata": {},
   "outputs": [],
   "source": []
  }
 ],
 "metadata": {
  "kernelspec": {
   "display_name": "Python 3",
   "language": "python",
   "name": "python3"
  },
  "language_info": {
   "codemirror_mode": {
    "name": "ipython",
    "version": 3
   },
   "file_extension": ".py",
   "mimetype": "text/x-python",
   "name": "python",
   "nbconvert_exporter": "python",
   "pygments_lexer": "ipython3",
   "version": "3.8.5"
  }
 },
 "nbformat": 4,
 "nbformat_minor": 4
}