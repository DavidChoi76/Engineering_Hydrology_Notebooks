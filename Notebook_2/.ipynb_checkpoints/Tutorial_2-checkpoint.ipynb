{
 "cells": [
  {
   "cell_type": "markdown",
   "metadata": {},
   "source": [
    "# IWME 502 / CIVL 598G - Advanced Engineering Hydrology\n",
    "\n",
    "### Tutorial 2: Rating Curve Development\n",
    "\n"
   ]
  },
  {
   "cell_type": "code",
   "execution_count": 1,
   "metadata": {},
   "outputs": [
    {
     "data": {
      "text/html": [
       "\n",
       "    <div class=\"bk-root\">\n",
       "        <a href=\"https://bokeh.org\" target=\"_blank\" class=\"bk-logo bk-logo-small bk-logo-notebook\"></a>\n",
       "        <span id=\"1001\">Loading BokehJS ...</span>\n",
       "    </div>"
      ]
     },
     "metadata": {},
     "output_type": "display_data"
    },
    {
     "data": {
      "application/javascript": [
       "\n",
       "(function(root) {\n",
       "  function now() {\n",
       "    return new Date();\n",
       "  }\n",
       "\n",
       "  var force = true;\n",
       "\n",
       "  if (typeof root._bokeh_onload_callbacks === \"undefined\" || force === true) {\n",
       "    root._bokeh_onload_callbacks = [];\n",
       "    root._bokeh_is_loading = undefined;\n",
       "  }\n",
       "\n",
       "  var JS_MIME_TYPE = 'application/javascript';\n",
       "  var HTML_MIME_TYPE = 'text/html';\n",
       "  var EXEC_MIME_TYPE = 'application/vnd.bokehjs_exec.v0+json';\n",
       "  var CLASS_NAME = 'output_bokeh rendered_html';\n",
       "\n",
       "  /**\n",
       "   * Render data to the DOM node\n",
       "   */\n",
       "  function render(props, node) {\n",
       "    var script = document.createElement(\"script\");\n",
       "    node.appendChild(script);\n",
       "  }\n",
       "\n",
       "  /**\n",
       "   * Handle when an output is cleared or removed\n",
       "   */\n",
       "  function handleClearOutput(event, handle) {\n",
       "    var cell = handle.cell;\n",
       "\n",
       "    var id = cell.output_area._bokeh_element_id;\n",
       "    var server_id = cell.output_area._bokeh_server_id;\n",
       "    // Clean up Bokeh references\n",
       "    if (id != null && id in Bokeh.index) {\n",
       "      Bokeh.index[id].model.document.clear();\n",
       "      delete Bokeh.index[id];\n",
       "    }\n",
       "\n",
       "    if (server_id !== undefined) {\n",
       "      // Clean up Bokeh references\n",
       "      var cmd = \"from bokeh.io.state import curstate; print(curstate().uuid_to_server['\" + server_id + \"'].get_sessions()[0].document.roots[0]._id)\";\n",
       "      cell.notebook.kernel.execute(cmd, {\n",
       "        iopub: {\n",
       "          output: function(msg) {\n",
       "            var id = msg.content.text.trim();\n",
       "            if (id in Bokeh.index) {\n",
       "              Bokeh.index[id].model.document.clear();\n",
       "              delete Bokeh.index[id];\n",
       "            }\n",
       "          }\n",
       "        }\n",
       "      });\n",
       "      // Destroy server and session\n",
       "      var cmd = \"import bokeh.io.notebook as ion; ion.destroy_server('\" + server_id + \"')\";\n",
       "      cell.notebook.kernel.execute(cmd);\n",
       "    }\n",
       "  }\n",
       "\n",
       "  /**\n",
       "   * Handle when a new output is added\n",
       "   */\n",
       "  function handleAddOutput(event, handle) {\n",
       "    var output_area = handle.output_area;\n",
       "    var output = handle.output;\n",
       "\n",
       "    // limit handleAddOutput to display_data with EXEC_MIME_TYPE content only\n",
       "    if ((output.output_type != \"display_data\") || (!output.data.hasOwnProperty(EXEC_MIME_TYPE))) {\n",
       "      return\n",
       "    }\n",
       "\n",
       "    var toinsert = output_area.element.find(\".\" + CLASS_NAME.split(' ')[0]);\n",
       "\n",
       "    if (output.metadata[EXEC_MIME_TYPE][\"id\"] !== undefined) {\n",
       "      toinsert[toinsert.length - 1].firstChild.textContent = output.data[JS_MIME_TYPE];\n",
       "      // store reference to embed id on output_area\n",
       "      output_area._bokeh_element_id = output.metadata[EXEC_MIME_TYPE][\"id\"];\n",
       "    }\n",
       "    if (output.metadata[EXEC_MIME_TYPE][\"server_id\"] !== undefined) {\n",
       "      var bk_div = document.createElement(\"div\");\n",
       "      bk_div.innerHTML = output.data[HTML_MIME_TYPE];\n",
       "      var script_attrs = bk_div.children[0].attributes;\n",
       "      for (var i = 0; i < script_attrs.length; i++) {\n",
       "        toinsert[toinsert.length - 1].firstChild.setAttribute(script_attrs[i].name, script_attrs[i].value);\n",
       "        toinsert[toinsert.length - 1].firstChild.textContent = bk_div.children[0].textContent\n",
       "      }\n",
       "      // store reference to server id on output_area\n",
       "      output_area._bokeh_server_id = output.metadata[EXEC_MIME_TYPE][\"server_id\"];\n",
       "    }\n",
       "  }\n",
       "\n",
       "  function register_renderer(events, OutputArea) {\n",
       "\n",
       "    function append_mime(data, metadata, element) {\n",
       "      // create a DOM node to render to\n",
       "      var toinsert = this.create_output_subarea(\n",
       "        metadata,\n",
       "        CLASS_NAME,\n",
       "        EXEC_MIME_TYPE\n",
       "      );\n",
       "      this.keyboard_manager.register_events(toinsert);\n",
       "      // Render to node\n",
       "      var props = {data: data, metadata: metadata[EXEC_MIME_TYPE]};\n",
       "      render(props, toinsert[toinsert.length - 1]);\n",
       "      element.append(toinsert);\n",
       "      return toinsert\n",
       "    }\n",
       "\n",
       "    /* Handle when an output is cleared or removed */\n",
       "    events.on('clear_output.CodeCell', handleClearOutput);\n",
       "    events.on('delete.Cell', handleClearOutput);\n",
       "\n",
       "    /* Handle when a new output is added */\n",
       "    events.on('output_added.OutputArea', handleAddOutput);\n",
       "\n",
       "    /**\n",
       "     * Register the mime type and append_mime function with output_area\n",
       "     */\n",
       "    OutputArea.prototype.register_mime_type(EXEC_MIME_TYPE, append_mime, {\n",
       "      /* Is output safe? */\n",
       "      safe: true,\n",
       "      /* Index of renderer in `output_area.display_order` */\n",
       "      index: 0\n",
       "    });\n",
       "  }\n",
       "\n",
       "  // register the mime type if in Jupyter Notebook environment and previously unregistered\n",
       "  if (root.Jupyter !== undefined) {\n",
       "    var events = require('base/js/events');\n",
       "    var OutputArea = require('notebook/js/outputarea').OutputArea;\n",
       "\n",
       "    if (OutputArea.prototype.mime_types().indexOf(EXEC_MIME_TYPE) == -1) {\n",
       "      register_renderer(events, OutputArea);\n",
       "    }\n",
       "  }\n",
       "\n",
       "  \n",
       "  if (typeof (root._bokeh_timeout) === \"undefined\" || force === true) {\n",
       "    root._bokeh_timeout = Date.now() + 5000;\n",
       "    root._bokeh_failed_load = false;\n",
       "  }\n",
       "\n",
       "  var NB_LOAD_WARNING = {'data': {'text/html':\n",
       "     \"<div style='background-color: #fdd'>\\n\"+\n",
       "     \"<p>\\n\"+\n",
       "     \"BokehJS does not appear to have successfully loaded. If loading BokehJS from CDN, this \\n\"+\n",
       "     \"may be due to a slow or bad network connection. Possible fixes:\\n\"+\n",
       "     \"</p>\\n\"+\n",
       "     \"<ul>\\n\"+\n",
       "     \"<li>re-rerun `output_notebook()` to attempt to load from CDN again, or</li>\\n\"+\n",
       "     \"<li>use INLINE resources instead, as so:</li>\\n\"+\n",
       "     \"</ul>\\n\"+\n",
       "     \"<code>\\n\"+\n",
       "     \"from bokeh.resources import INLINE\\n\"+\n",
       "     \"output_notebook(resources=INLINE)\\n\"+\n",
       "     \"</code>\\n\"+\n",
       "     \"</div>\"}};\n",
       "\n",
       "  function display_loaded() {\n",
       "    var el = document.getElementById(\"1001\");\n",
       "    if (el != null) {\n",
       "      el.textContent = \"BokehJS is loading...\";\n",
       "    }\n",
       "    if (root.Bokeh !== undefined) {\n",
       "      if (el != null) {\n",
       "        el.textContent = \"BokehJS \" + root.Bokeh.version + \" successfully loaded.\";\n",
       "      }\n",
       "    } else if (Date.now() < root._bokeh_timeout) {\n",
       "      setTimeout(display_loaded, 100)\n",
       "    }\n",
       "  }\n",
       "\n",
       "\n",
       "  function run_callbacks() {\n",
       "    try {\n",
       "      root._bokeh_onload_callbacks.forEach(function(callback) {\n",
       "        if (callback != null)\n",
       "          callback();\n",
       "      });\n",
       "    } finally {\n",
       "      delete root._bokeh_onload_callbacks\n",
       "    }\n",
       "    console.debug(\"Bokeh: all callbacks have finished\");\n",
       "  }\n",
       "\n",
       "  function load_libs(css_urls, js_urls, callback) {\n",
       "    if (css_urls == null) css_urls = [];\n",
       "    if (js_urls == null) js_urls = [];\n",
       "\n",
       "    root._bokeh_onload_callbacks.push(callback);\n",
       "    if (root._bokeh_is_loading > 0) {\n",
       "      console.debug(\"Bokeh: BokehJS is being loaded, scheduling callback at\", now());\n",
       "      return null;\n",
       "    }\n",
       "    if (js_urls == null || js_urls.length === 0) {\n",
       "      run_callbacks();\n",
       "      return null;\n",
       "    }\n",
       "    console.debug(\"Bokeh: BokehJS not loaded, scheduling load and callback at\", now());\n",
       "    root._bokeh_is_loading = css_urls.length + js_urls.length;\n",
       "\n",
       "    function on_load() {\n",
       "      root._bokeh_is_loading--;\n",
       "      if (root._bokeh_is_loading === 0) {\n",
       "        console.debug(\"Bokeh: all BokehJS libraries/stylesheets loaded\");\n",
       "        run_callbacks()\n",
       "      }\n",
       "    }\n",
       "\n",
       "    function on_error() {\n",
       "      console.error(\"failed to load \" + url);\n",
       "    }\n",
       "\n",
       "    for (var i = 0; i < css_urls.length; i++) {\n",
       "      var url = css_urls[i];\n",
       "      const element = document.createElement(\"link\");\n",
       "      element.onload = on_load;\n",
       "      element.onerror = on_error;\n",
       "      element.rel = \"stylesheet\";\n",
       "      element.type = \"text/css\";\n",
       "      element.href = url;\n",
       "      console.debug(\"Bokeh: injecting link tag for BokehJS stylesheet: \", url);\n",
       "      document.body.appendChild(element);\n",
       "    }\n",
       "\n",
       "    const hashes = {\"https://cdn.bokeh.org/bokeh/release/bokeh-2.0.2.min.js\": \"ufR9RFnRs6lniiaFvtJziE0YeidtAgBRH6ux2oUItHw5WTvE1zuk9uzhUU/FJXDp\", \"https://cdn.bokeh.org/bokeh/release/bokeh-widgets-2.0.2.min.js\": \"8QM/PGWBT+IssZuRcDcjzwIh1mkOmJSoNMmyYDZbCfXJg3Ap1lEvdVgFuSAwhb/J\", \"https://cdn.bokeh.org/bokeh/release/bokeh-tables-2.0.2.min.js\": \"Jm8cH3Rg0P6UeZhVY5cLy1WzKajUT9KImCY+76hEqrcJt59/d8GPvFHjCkYgnSIn\", \"https://cdn.bokeh.org/bokeh/release/bokeh-gl-2.0.2.min.js\": \"Ozhzj+SI7ywm74aOI/UajcWz+C0NjsPunEVyVIrxzYkB+jA+2tUw8x5xJCbVtK5I\"};\n",
       "\n",
       "    for (var i = 0; i < js_urls.length; i++) {\n",
       "      var url = js_urls[i];\n",
       "      var element = document.createElement('script');\n",
       "      element.onload = on_load;\n",
       "      element.onerror = on_error;\n",
       "      element.async = false;\n",
       "      element.src = url;\n",
       "      if (url in hashes) {\n",
       "        element.crossOrigin = \"anonymous\";\n",
       "        element.integrity = \"sha384-\" + hashes[url];\n",
       "      }\n",
       "      console.debug(\"Bokeh: injecting script tag for BokehJS library: \", url);\n",
       "      document.head.appendChild(element);\n",
       "    }\n",
       "  };\n",
       "\n",
       "  function inject_raw_css(css) {\n",
       "    const element = document.createElement(\"style\");\n",
       "    element.appendChild(document.createTextNode(css));\n",
       "    document.body.appendChild(element);\n",
       "  }\n",
       "\n",
       "  \n",
       "  var js_urls = [\"https://cdn.bokeh.org/bokeh/release/bokeh-2.0.2.min.js\", \"https://cdn.bokeh.org/bokeh/release/bokeh-widgets-2.0.2.min.js\", \"https://cdn.bokeh.org/bokeh/release/bokeh-tables-2.0.2.min.js\", \"https://cdn.bokeh.org/bokeh/release/bokeh-gl-2.0.2.min.js\"];\n",
       "  var css_urls = [];\n",
       "  \n",
       "\n",
       "  var inline_js = [\n",
       "    function(Bokeh) {\n",
       "      Bokeh.set_log_level(\"info\");\n",
       "    },\n",
       "    function(Bokeh) {\n",
       "    \n",
       "    \n",
       "    }\n",
       "  ];\n",
       "\n",
       "  function run_inline_js() {\n",
       "    \n",
       "    if (root.Bokeh !== undefined || force === true) {\n",
       "      \n",
       "    for (var i = 0; i < inline_js.length; i++) {\n",
       "      inline_js[i].call(root, root.Bokeh);\n",
       "    }\n",
       "    if (force === true) {\n",
       "        display_loaded();\n",
       "      }} else if (Date.now() < root._bokeh_timeout) {\n",
       "      setTimeout(run_inline_js, 100);\n",
       "    } else if (!root._bokeh_failed_load) {\n",
       "      console.log(\"Bokeh: BokehJS failed to load within specified timeout.\");\n",
       "      root._bokeh_failed_load = true;\n",
       "    } else if (force !== true) {\n",
       "      var cell = $(document.getElementById(\"1001\")).parents('.cell').data().cell;\n",
       "      cell.output_area.append_execute_result(NB_LOAD_WARNING)\n",
       "    }\n",
       "\n",
       "  }\n",
       "\n",
       "  if (root._bokeh_is_loading === 0) {\n",
       "    console.debug(\"Bokeh: BokehJS loaded, going straight to plotting\");\n",
       "    run_inline_js();\n",
       "  } else {\n",
       "    load_libs(css_urls, js_urls, function() {\n",
       "      console.debug(\"Bokeh: BokehJS plotting callback run at\", now());\n",
       "      run_inline_js();\n",
       "    });\n",
       "  }\n",
       "}(window));"
      ],
      "application/vnd.bokehjs_load.v0+json": "\n(function(root) {\n  function now() {\n    return new Date();\n  }\n\n  var force = true;\n\n  if (typeof root._bokeh_onload_callbacks === \"undefined\" || force === true) {\n    root._bokeh_onload_callbacks = [];\n    root._bokeh_is_loading = undefined;\n  }\n\n  \n\n  \n  if (typeof (root._bokeh_timeout) === \"undefined\" || force === true) {\n    root._bokeh_timeout = Date.now() + 5000;\n    root._bokeh_failed_load = false;\n  }\n\n  var NB_LOAD_WARNING = {'data': {'text/html':\n     \"<div style='background-color: #fdd'>\\n\"+\n     \"<p>\\n\"+\n     \"BokehJS does not appear to have successfully loaded. If loading BokehJS from CDN, this \\n\"+\n     \"may be due to a slow or bad network connection. Possible fixes:\\n\"+\n     \"</p>\\n\"+\n     \"<ul>\\n\"+\n     \"<li>re-rerun `output_notebook()` to attempt to load from CDN again, or</li>\\n\"+\n     \"<li>use INLINE resources instead, as so:</li>\\n\"+\n     \"</ul>\\n\"+\n     \"<code>\\n\"+\n     \"from bokeh.resources import INLINE\\n\"+\n     \"output_notebook(resources=INLINE)\\n\"+\n     \"</code>\\n\"+\n     \"</div>\"}};\n\n  function display_loaded() {\n    var el = document.getElementById(\"1001\");\n    if (el != null) {\n      el.textContent = \"BokehJS is loading...\";\n    }\n    if (root.Bokeh !== undefined) {\n      if (el != null) {\n        el.textContent = \"BokehJS \" + root.Bokeh.version + \" successfully loaded.\";\n      }\n    } else if (Date.now() < root._bokeh_timeout) {\n      setTimeout(display_loaded, 100)\n    }\n  }\n\n\n  function run_callbacks() {\n    try {\n      root._bokeh_onload_callbacks.forEach(function(callback) {\n        if (callback != null)\n          callback();\n      });\n    } finally {\n      delete root._bokeh_onload_callbacks\n    }\n    console.debug(\"Bokeh: all callbacks have finished\");\n  }\n\n  function load_libs(css_urls, js_urls, callback) {\n    if (css_urls == null) css_urls = [];\n    if (js_urls == null) js_urls = [];\n\n    root._bokeh_onload_callbacks.push(callback);\n    if (root._bokeh_is_loading > 0) {\n      console.debug(\"Bokeh: BokehJS is being loaded, scheduling callback at\", now());\n      return null;\n    }\n    if (js_urls == null || js_urls.length === 0) {\n      run_callbacks();\n      return null;\n    }\n    console.debug(\"Bokeh: BokehJS not loaded, scheduling load and callback at\", now());\n    root._bokeh_is_loading = css_urls.length + js_urls.length;\n\n    function on_load() {\n      root._bokeh_is_loading--;\n      if (root._bokeh_is_loading === 0) {\n        console.debug(\"Bokeh: all BokehJS libraries/stylesheets loaded\");\n        run_callbacks()\n      }\n    }\n\n    function on_error() {\n      console.error(\"failed to load \" + url);\n    }\n\n    for (var i = 0; i < css_urls.length; i++) {\n      var url = css_urls[i];\n      const element = document.createElement(\"link\");\n      element.onload = on_load;\n      element.onerror = on_error;\n      element.rel = \"stylesheet\";\n      element.type = \"text/css\";\n      element.href = url;\n      console.debug(\"Bokeh: injecting link tag for BokehJS stylesheet: \", url);\n      document.body.appendChild(element);\n    }\n\n    const hashes = {\"https://cdn.bokeh.org/bokeh/release/bokeh-2.0.2.min.js\": \"ufR9RFnRs6lniiaFvtJziE0YeidtAgBRH6ux2oUItHw5WTvE1zuk9uzhUU/FJXDp\", \"https://cdn.bokeh.org/bokeh/release/bokeh-widgets-2.0.2.min.js\": \"8QM/PGWBT+IssZuRcDcjzwIh1mkOmJSoNMmyYDZbCfXJg3Ap1lEvdVgFuSAwhb/J\", \"https://cdn.bokeh.org/bokeh/release/bokeh-tables-2.0.2.min.js\": \"Jm8cH3Rg0P6UeZhVY5cLy1WzKajUT9KImCY+76hEqrcJt59/d8GPvFHjCkYgnSIn\", \"https://cdn.bokeh.org/bokeh/release/bokeh-gl-2.0.2.min.js\": \"Ozhzj+SI7ywm74aOI/UajcWz+C0NjsPunEVyVIrxzYkB+jA+2tUw8x5xJCbVtK5I\"};\n\n    for (var i = 0; i < js_urls.length; i++) {\n      var url = js_urls[i];\n      var element = document.createElement('script');\n      element.onload = on_load;\n      element.onerror = on_error;\n      element.async = false;\n      element.src = url;\n      if (url in hashes) {\n        element.crossOrigin = \"anonymous\";\n        element.integrity = \"sha384-\" + hashes[url];\n      }\n      console.debug(\"Bokeh: injecting script tag for BokehJS library: \", url);\n      document.head.appendChild(element);\n    }\n  };\n\n  function inject_raw_css(css) {\n    const element = document.createElement(\"style\");\n    element.appendChild(document.createTextNode(css));\n    document.body.appendChild(element);\n  }\n\n  \n  var js_urls = [\"https://cdn.bokeh.org/bokeh/release/bokeh-2.0.2.min.js\", \"https://cdn.bokeh.org/bokeh/release/bokeh-widgets-2.0.2.min.js\", \"https://cdn.bokeh.org/bokeh/release/bokeh-tables-2.0.2.min.js\", \"https://cdn.bokeh.org/bokeh/release/bokeh-gl-2.0.2.min.js\"];\n  var css_urls = [];\n  \n\n  var inline_js = [\n    function(Bokeh) {\n      Bokeh.set_log_level(\"info\");\n    },\n    function(Bokeh) {\n    \n    \n    }\n  ];\n\n  function run_inline_js() {\n    \n    if (root.Bokeh !== undefined || force === true) {\n      \n    for (var i = 0; i < inline_js.length; i++) {\n      inline_js[i].call(root, root.Bokeh);\n    }\n    if (force === true) {\n        display_loaded();\n      }} else if (Date.now() < root._bokeh_timeout) {\n      setTimeout(run_inline_js, 100);\n    } else if (!root._bokeh_failed_load) {\n      console.log(\"Bokeh: BokehJS failed to load within specified timeout.\");\n      root._bokeh_failed_load = true;\n    } else if (force !== true) {\n      var cell = $(document.getElementById(\"1001\")).parents('.cell').data().cell;\n      cell.output_area.append_execute_result(NB_LOAD_WARNING)\n    }\n\n  }\n\n  if (root._bokeh_is_loading === 0) {\n    console.debug(\"Bokeh: BokehJS loaded, going straight to plotting\");\n    run_inline_js();\n  } else {\n    load_libs(css_urls, js_urls, function() {\n      console.debug(\"Bokeh: BokehJS plotting callback run at\", now());\n      run_inline_js();\n    });\n  }\n}(window));"
     },
     "metadata": {},
     "output_type": "display_data"
    }
   ],
   "source": [
    "import math\n",
    "import pandas as pd\n",
    "import numpy as np\n",
    "from scipy import stats as st\n",
    "\n",
    "import matplotlib.pyplot as plt\n",
    "from pandas.plotting import register_matplotlib_converters\n",
    "register_matplotlib_converters()\n",
    "\n",
    "from bokeh.plotting import figure, show, output_file\n",
    "from bokeh.models import ColumnDataSource, Band\n",
    "from bokeh.io import output_notebook\n",
    "from bokeh.layouts import gridplot\n",
    "output_notebook()"
   ]
  },
  {
   "cell_type": "markdown",
   "metadata": {},
   "source": [
    "## Introduction\n",
    "\n",
    "In the last exercise, we processed a single discharge measurement taken using the salt dilution method.  In practice, discharge measurements are taken in close proximity to where a hydrometric station has been established.  \n",
    "\n",
    "**Note**: A folder of references is provided containing governing standards for hydrometric data collection, as well as a discussion paper on uncertainty in hydrometric data collection.\n",
    "\n",
    "## Expected Deliverables\n",
    "\n",
    "There are eight questions spread throughout this notebook.  Some require you to complete a function or finish creating a plot, and some are questions concerning theory which written answers are appropriate.  Your submission should be a document of responses to the eight questions.  Where the question asks for a plot, just an image of the plot can be submitted (use a screen capture or the built in function `plt.savefig('filename.png')`).  If you want use other software to plot, feel free -- there are instructions on how to export data to csv in a few places. For other questions, short written answers are fine.  Grading of your submissions will count toward your participation grade, and it is more important that you try responding to all questions, and as such there is no strict grading scheme.  \n",
    "\n",
    "### Question 1 \n",
    "\n",
    ">Why is it important that the discharge measurement is conducted in close proximity to the hydrometric station?  In other words, what would the effect be on the rating curve, and any subsequent analysis if we consistently measured streamflow one kilometre upstream of our station?  How about one kilometre downstream?  What other factors should be considered?\n",
    "\n",
    "## Stage-Discharge (Rating Curve) Development\n",
    "\n",
    "A hydrometric station can be as simple as a pressure transducer fixed in a creek bed, continuously collecting readings of water level, or 'stage'.  The purpose of establishing continuous collection of stage data, and collecting many discharge (flow) measurements is to establish (and validate) a relationship between the water level and the volumetric flow over a wide range of conditions:\n",
    "\n",
    "![Stage-Discharge Relationship (source: Hamilton & Moore (2012))](img/rating_curve_ex.png)\n",
    "\n",
    "Each point in the above plot represents an 'instantaneous' discharge measurement, and the water level (stage) at the time the discharge measurement was taken.\n",
    "\n",
    "In this exercise, we will develop a stage-discharge relationship from a collection of discharge measurements and the corresponding stage record. Once a valid stage-discharge relationship has been established, it can be used to generate a discharge time series from the long series of stage data."
   ]
  },
  {
   "cell_type": "markdown",
   "metadata": {},
   "source": [
    "## Import the Data"
   ]
  },
  {
   "cell_type": "code",
   "execution_count": 166,
   "metadata": {},
   "outputs": [],
   "source": [
    "# import the stage data\n",
    "stage_df = pd.read_csv('data/WL_data.csv', parse_dates=['Date'])"
   ]
  },
  {
   "cell_type": "code",
   "execution_count": 167,
   "metadata": {},
   "outputs": [
    {
     "data": {
      "text/html": [
       "<div>\n",
       "<style scoped>\n",
       "    .dataframe tbody tr th:only-of-type {\n",
       "        vertical-align: middle;\n",
       "    }\n",
       "\n",
       "    .dataframe tbody tr th {\n",
       "        vertical-align: top;\n",
       "    }\n",
       "\n",
       "    .dataframe thead th {\n",
       "        text-align: right;\n",
       "    }\n",
       "</style>\n",
       "<table border=\"1\" class=\"dataframe\">\n",
       "  <thead>\n",
       "    <tr style=\"text-align: right;\">\n",
       "      <th></th>\n",
       "      <th>Date</th>\n",
       "      <th>Water level (daily av.) (m)</th>\n",
       "    </tr>\n",
       "  </thead>\n",
       "  <tbody>\n",
       "    <tr>\n",
       "      <th>0</th>\n",
       "      <td>2009-01-01</td>\n",
       "      <td>0.240</td>\n",
       "    </tr>\n",
       "    <tr>\n",
       "      <th>1</th>\n",
       "      <td>2009-01-02</td>\n",
       "      <td>0.236</td>\n",
       "    </tr>\n",
       "    <tr>\n",
       "      <th>2</th>\n",
       "      <td>2009-01-03</td>\n",
       "      <td>0.234</td>\n",
       "    </tr>\n",
       "    <tr>\n",
       "      <th>3</th>\n",
       "      <td>2009-01-04</td>\n",
       "      <td>0.233</td>\n",
       "    </tr>\n",
       "    <tr>\n",
       "      <th>4</th>\n",
       "      <td>2009-01-05</td>\n",
       "      <td>0.231</td>\n",
       "    </tr>\n",
       "  </tbody>\n",
       "</table>\n",
       "</div>"
      ],
      "text/plain": [
       "        Date  Water level (daily av.) (m)\n",
       "0 2009-01-01                        0.240\n",
       "1 2009-01-02                        0.236\n",
       "2 2009-01-03                        0.234\n",
       "3 2009-01-04                        0.233\n",
       "4 2009-01-05                        0.231"
      ]
     },
     "execution_count": 167,
     "metadata": {},
     "output_type": "execute_result"
    }
   ],
   "source": [
    "# take a quick look at what we're dealing with\n",
    "stage_df.head()"
   ]
  },
  {
   "cell_type": "code",
   "execution_count": 168,
   "metadata": {},
   "outputs": [],
   "source": [
    "# the water level (stage) label is long, \n",
    "# let's create a shortcut reference label\n",
    "stage_label = 'Water level (daily av.) (m)'\n",
    "\n",
    "# check to make sure we've got the label correct\n",
    "# stage_df[stage_label]\n",
    "\n",
    "# alternatively, there are a couple of ways to rename a column.\n",
    "# We want it to be descriptive, and it should also contain the units\n",
    "# stage_df.columns = ['Date', 'WL_m']\n",
    "# stage_df.rename({'Water level (daily av.) (m)': 'WL_m'}, inplace=True)"
   ]
  },
  {
   "cell_type": "code",
   "execution_count": 197,
   "metadata": {},
   "outputs": [],
   "source": [
    "# import the discharge measurements\n",
    "rc_df = pd.read_csv('data/RC_Data.csv', parse_dates=['Date'])\n"
   ]
  },
  {
   "cell_type": "code",
   "execution_count": 198,
   "metadata": {},
   "outputs": [
    {
     "data": {
      "text/html": [
       "<div>\n",
       "<style scoped>\n",
       "    .dataframe tbody tr th:only-of-type {\n",
       "        vertical-align: middle;\n",
       "    }\n",
       "\n",
       "    .dataframe tbody tr th {\n",
       "        vertical-align: top;\n",
       "    }\n",
       "\n",
       "    .dataframe thead th {\n",
       "        text-align: right;\n",
       "    }\n",
       "</style>\n",
       "<table border=\"1\" class=\"dataframe\">\n",
       "  <thead>\n",
       "    <tr style=\"text-align: right;\">\n",
       "      <th></th>\n",
       "      <th>Date</th>\n",
       "      <th>Flow (m3/s)</th>\n",
       "      <th>Water level (m)</th>\n",
       "    </tr>\n",
       "  </thead>\n",
       "  <tbody>\n",
       "    <tr>\n",
       "      <th>0</th>\n",
       "      <td>2009-01-02</td>\n",
       "      <td>1.565</td>\n",
       "      <td>0.236</td>\n",
       "    </tr>\n",
       "    <tr>\n",
       "      <th>1</th>\n",
       "      <td>2009-01-07</td>\n",
       "      <td>1.530</td>\n",
       "      <td>0.267</td>\n",
       "    </tr>\n",
       "    <tr>\n",
       "      <th>2</th>\n",
       "      <td>2009-03-20</td>\n",
       "      <td>0.967</td>\n",
       "      <td>0.224</td>\n",
       "    </tr>\n",
       "    <tr>\n",
       "      <th>3</th>\n",
       "      <td>2009-09-12</td>\n",
       "      <td>5.133</td>\n",
       "      <td>0.707</td>\n",
       "    </tr>\n",
       "    <tr>\n",
       "      <th>4</th>\n",
       "      <td>2009-11-10</td>\n",
       "      <td>3.402</td>\n",
       "      <td>0.468</td>\n",
       "    </tr>\n",
       "    <tr>\n",
       "      <th>5</th>\n",
       "      <td>2009-11-18</td>\n",
       "      <td>4.474</td>\n",
       "      <td>0.589</td>\n",
       "    </tr>\n",
       "    <tr>\n",
       "      <th>6</th>\n",
       "      <td>2010-03-24</td>\n",
       "      <td>1.297</td>\n",
       "      <td>0.296</td>\n",
       "    </tr>\n",
       "    <tr>\n",
       "      <th>7</th>\n",
       "      <td>2010-03-25</td>\n",
       "      <td>1.823</td>\n",
       "      <td>0.300</td>\n",
       "    </tr>\n",
       "    <tr>\n",
       "      <th>8</th>\n",
       "      <td>2010-08-25</td>\n",
       "      <td>4.682</td>\n",
       "      <td>0.632</td>\n",
       "    </tr>\n",
       "  </tbody>\n",
       "</table>\n",
       "</div>"
      ],
      "text/plain": [
       "        Date  Flow (m3/s)  Water level (m)\n",
       "0 2009-01-02        1.565            0.236\n",
       "1 2009-01-07        1.530            0.267\n",
       "2 2009-03-20        0.967            0.224\n",
       "3 2009-09-12        5.133            0.707\n",
       "4 2009-11-10        3.402            0.468\n",
       "5 2009-11-18        4.474            0.589\n",
       "6 2010-03-24        1.297            0.296\n",
       "7 2010-03-25        1.823            0.300\n",
       "8 2010-08-25        4.682            0.632"
      ]
     },
     "execution_count": 198,
     "metadata": {},
     "output_type": "execute_result"
    }
   ],
   "source": [
    "# take a look at the discharge measurements\n",
    "rc_df"
   ]
  },
  {
   "cell_type": "markdown",
   "metadata": {},
   "source": [
    "## Plot the Measured Discharge and corresponding stage (water level)\n",
    "\n",
    "From previous site visits, we have collected a total of 10 discharge measurements.  During the measurement, we also measure the water level to validate the data being recorded continuously by our pressure transducer + datalogger (hydrometric station).  It is important to measure stage by some independent means before and after a discharge measurement in order to to assess the quality of the stage-discharge relationship and any analysis derived from it.  Validating the hydrometric station stage concurrent to a discharge measurement is typically done manually, such as with a benchmark survey.\n",
    "\n",
    "## Question 2 - Plot the measured discharge\n",
    "\n",
    "Plot the measured discharge vs. stage and label the axes.  Refer to the figure from the introduction for the common ordering of axes. L\n",
    "\n",
    "Referring to old code is very helpful -- feel free to copy and paste lines of code from Tutorial 1 if you can't remember the commands and syntax to plot."
   ]
  },
  {
   "cell_type": "code",
   "execution_count": 199,
   "metadata": {},
   "outputs": [],
   "source": [
    "# plot the discharge measurements on the x-axis, and the corresponding stage on the y axis\n",
    "\n",
    "###\n",
    "#\n",
    "#\n",
    "# Insert code here.  \n",
    "#\n",
    "#\n",
    "####"
   ]
  },
  {
   "cell_type": "markdown",
   "metadata": {},
   "source": [
    "### Plot a Curve Representing the Standard Stage-Discharge Relationship\n",
    "\n",
    "The standard stage-discharge relationship takes the form $Q = C(h-h_0)^b$ where:\n",
    "\n",
    "* Q = flow $[\\frac {m^3}{s}]$\n",
    "* C = rating coefficient $[-]$\n",
    "* $h_0$ = elevation offset $[m]$ corresponding to the point of zero flow\n",
    "* b = hydraulic control shape coefficient $[-]$\n",
    "\n",
    "The rating exponent (b) is related to some extent to the cross sectional shape of the hydraulic control.  Values for the rating exponent suggested by Environment Canada (2012) are as follows:\n",
    "\n",
    "| Shape | Value of exponent (b) |\n",
    "|---|---|\n",
    "| Rectangular | 1.3 to 1.8 |\n",
    "| Parabolic | 1.7 to 2.3 |\n",
    "| Triangular | 2.5 to 3 |\n"
   ]
  },
  {
   "cell_type": "code",
   "execution_count": 200,
   "metadata": {},
   "outputs": [],
   "source": [
    "# definition of rating curve: calculate Q from h, given the parameters.\n",
    "def calc_q(C, h, h0, b):\n",
    "    \"\"\"\n",
    "    Standard form of the rating curve equation.\n",
    "        Q = flow [m^3/s]\n",
    "        C = rating coefficient [-]\n",
    "        h0 = elevation offset [m] - corresponds to point of zero flow\n",
    "        b = hydraulic control shape coefficient [-]\n",
    "    Return volumetric flow [m^3/s]\n",
    "    \"\"\"\n",
    "    return C*(h-h0)**b"
   ]
  },
  {
   "cell_type": "code",
   "execution_count": 201,
   "metadata": {},
   "outputs": [],
   "source": [
    "# use some example rating curve parameters\n",
    "# try changing these values to see the effect\n",
    "h0 = -0.01\n",
    "b = 1.8\n",
    "C = 8.0\n",
    "\n",
    "# here, we want to calculate the discharge\n",
    "# based on a range of stage values\n",
    "stage_range = np.linspace(0, 1.5, 100)\n",
    "\n",
    "# short form to apply a function to an array of values\n",
    "# here we calculate flow (q) for every value of stage\n",
    "# we defined in stage_range above\n",
    "manual_fit_q = [calc_q(C, h, h0, b) for h in stage_range]"
   ]
  },
  {
   "cell_type": "code",
   "execution_count": 202,
   "metadata": {},
   "outputs": [
    {
     "data": {
      "text/plain": [
       "[<matplotlib.lines.Line2D at 0x7f064ba0feb8>]"
      ]
     },
     "execution_count": 202,
     "metadata": {},
     "output_type": "execute_result"
    },
    {
     "data": {
      "image/png": "[encoded data removed]",
      "text/plain": [
       "<Figure size 432x288 with 1 Axes>"
      ]
     },
     "metadata": {
      "needs_background": "light"
     },
     "output_type": "display_data"
    }
   ],
   "source": [
    "plt.plot(manual_fit_q, stage_range)"
   ]
  },
  {
   "cell_type": "markdown",
   "metadata": {},
   "source": [
    "## Question 3 - Plot the stage-discharge curve and the measured data points in the same figure\n",
    "\n",
    "Try changing the rating curve parameters (C, h0, and b) to fit the data as best as you can.  Label the axes.  Your plot should look something like the example in the introduction, but we have fewer measurements and our data has more spread, so the curve fit will not look as nice.  How like life."
   ]
  },
  {
   "cell_type": "code",
   "execution_count": 203,
   "metadata": {},
   "outputs": [],
   "source": [
    "###\n",
    "#\n",
    "#  Insert code here.  Your plot should look something like the example in the Introduction.  \n",
    "#\n",
    "###"
   ]
  },
  {
   "cell_type": "markdown",
   "metadata": {},
   "source": [
    "When you're happy with your result, and your curve fits the data reasonably well, continue below."
   ]
  },
  {
   "cell_type": "markdown",
   "metadata": {},
   "source": [
    "## Curve Fitting Method\n",
    "\n",
    "Above, we plotted the stage-discharge curve using made up parameters for C, h0, and b.  We can use guess-and-check to change the parameters until they have a 'good' visual fit, but let's be more efficient and systematic and use a \"best fit\" method.  \n",
    "\n",
    "Because our equation is not linear (the b exponent is usually > 1), we can't use the linear best fit function shown in Tutorial 1.  Or can we?\n",
    "\n",
    "Recall: $Q = C(H-h_0)^b$.  If we transform the data to log space, we get a linear relationship:\n",
    "\n",
    "$$log(Q) = log(C) + b\\cdot log(h-h_0)$$\n",
    "\n",
    "If we rearrange to the form $y = intercept + slope \\cdot x$, we can use the scipy function for linear regression (`st.linregress()` from the previous tutorial).\n",
    "\n",
    "Recall the x and y axis parameters are Q and h, respectively, so the linear form of the equation is then: \n",
    "\n",
    "$$log(h-h_0) = slope \\cdot log(Q) + intercept$$\n",
    "\n",
    "The above relationship is linear, so we can use ordinary least squares to find the best fit line (in log-log space), and then transform back to linear space.\n",
    "Note that $h_0$ cannot be fitted this way, and has to be set manually. In this case we can assume $h_0=0$."
   ]
  },
  {
   "cell_type": "code",
   "execution_count": 204,
   "metadata": {},
   "outputs": [],
   "source": [
    "# Find the best-fit line in log-log space\n",
    "# take the logarithm of the measured streamflows and stage\n",
    "h0=0\n",
    "q_log = np.log(rc_df['Flow (m3/s)']-h0)\n",
    "stage_log = np.log(rc_df['Water level (m)'])\n",
    "\n",
    "# find the parameters describing the linear best fit using ordinary least squares (OLS)\n",
    "log_slope, log_intercept, log_rval, log_pval, log_stderr = st.linregress(q_log, stage_log)"
   ]
  },
  {
   "cell_type": "markdown",
   "metadata": {},
   "source": [
    "The linearized form of the best fit equation was shown in the last step: $log(h-h_0) = slope \\cdot log(Q) + intercept$.\n",
    "\n",
    "The `st.linregress` function solved the ordinary least squares best fit and yielded the `slope` and `intercept` of the best fit line, so we have two unknowns.  When we plotted the general stage-discharge curve above, we set a variable `stage_range` to evaluate the range of water level over which we're interested in knowing the corresponding flow.  The remaining unknown is then the `log(Q)` term, but we want a function that will give us the discharge (`Q`) in linear space.  \n",
    "\n",
    "## Question 4 - Solve for Q\n",
    "\n",
    "Rearrange the log form of the equation $log(h-h_0) = slope \\cdot log(Q) + intercept$ to solve for Q.   Enter the equation below in the `ols_rc_q` function where the comment indicates.  Your response can be just the rearranged equation, but you'll be able to verify if it is reasonably correct when you plot the rating curve further down in the notebook."
   ]
  },
  {
   "cell_type": "code",
   "execution_count": 237,
   "metadata": {},
   "outputs": [],
   "source": [
    "# calculate the discharge based on the best fit\n",
    "# parameters found by ordinary least squares above\n",
    "def ols_rc_q(slope, intercept, h, h0):\n",
    "    \"\"\"\n",
    "    Calculate flow (Q) from the linear best fit parameters.\n",
    "        -slope: the `log_slope` calculated above (constant)\n",
    "        -intercept: `log_intercept` calculated above (constant)\n",
    "        -h0 is the same PZF offset used above (constant)\n",
    "        -h is the independent variable\n",
    "    Returns Q, the discharge in m^3/s.\n",
    "    \"\"\"\n",
    "    if slope == 0:\n",
    "        return 0\n",
    "    try:\n",
    "        return ### ENTER YOUR REARRANGED FUNCTION HERE FOR QUESTION 4\n",
    "    except ValueError: \n",
    "        return None"
   ]
  },
  {
   "cell_type": "code",
   "execution_count": 235,
   "metadata": {},
   "outputs": [],
   "source": [
    "# put best fit results into a dataframe for plotting\n",
    "# use 0 as the PZF (point of zero flow) (the h0 parameter)\n",
    "bf_df = pd.DataFrame()\n",
    "bf_df['stage'] = stage_range\n",
    "\n",
    "# now as before, apply the `ols_rc_q` function to create the stage-discharge\n",
    "# curve based on the best-fit equation\n",
    "bf_df['best_fit_q'] = [ols_rc_q(log_slope, log_intercept, h, 0) for h in stage_range]\n",
    "bf_df.sort_values(by='stage', inplace=True)\n",
    "\n",
    "# now add the manual fit we developed above -- this way we can compare the two curves side-by-side\n",
    "bf_df['manual_fit_q'] = manual_fit_q"
   ]
  },
  {
   "cell_type": "code",
   "execution_count": 236,
   "metadata": {},
   "outputs": [],
   "source": [
    "# if you want to export this data to continue working in excel (or another program)\n",
    "# You can call a function to write a dataframe directly to csv using the command below.\n",
    "# The string is the filename, and you can additionally add path information\n",
    "# bf_df.to_csv('rating_curve_data.csv')"
   ]
  },
  {
   "cell_type": "markdown",
   "metadata": {},
   "source": [
    "## Add the new discharge measurement\n",
    "\n",
    "In the previous tutorial, we processed a discharge measurement using salt dilution.  Let's update our rating curve with this latest data point.\n",
    "\n",
    "### Find the stage on the measurement date (26 September 2010)"
   ]
  },
  {
   "cell_type": "code",
   "execution_count": 208,
   "metadata": {},
   "outputs": [
    {
     "name": "stdout",
     "output_type": "stream",
     "text": [
      "633    1.313\n",
      "Name: Water level (daily av.) (m), dtype: float64\n",
      "------\n",
      "\n",
      "The stage on 2010-09-26 was 1.313 m.\n"
     ]
    }
   ],
   "source": [
    "# measurement_date\n",
    "msmt_date = '2010-09-26'\n",
    " \n",
    "# here, we are indexing the stage dataframe to return \n",
    "# just the row corresponding to the date we're interested in\n",
    "msmt_date_data = stage_df[stage_df['Date'] == pd.to_datetime(msmt_date)]\n",
    "# now just extract the stage\n",
    "# and round to 2 decimals\n",
    "msmt_stage = msmt_date_data[stage_label].round(3)\n",
    "\n",
    "# Note that when we index this way,  \n",
    "# a dataframe is still returned\n",
    "print(msmt_stage)\n",
    "print('------')\n",
    "print('')\n",
    "\n",
    "# To get just the value\n",
    "msmt_stage = msmt_stage.values[0]\n",
    "print('The stage on {} was {} m.'.format(msmt_date, msmt_stage))"
   ]
  },
  {
   "cell_type": "markdown",
   "metadata": {},
   "source": [
    "### Enter the value of discharge you calculated in the previous tutorial"
   ]
  },
  {
   "cell_type": "code",
   "execution_count": 238,
   "metadata": {},
   "outputs": [],
   "source": [
    "# add a new point - get the discharge value \n",
    "# you calculated in the previous tutorial\n",
    "# Here we can enter the additional point for the rating curve \n",
    "# from the salt dilution measurement calculation exercise\n",
    "# set variables corresponding to the discharge and stage from that measurement\n",
    "Q_calculated = 12 # enter the value you calculated from Tutorial 1\n",
    "concurrent_stage = msmt_stage"
   ]
  },
  {
   "cell_type": "markdown",
   "metadata": {},
   "source": [
    "## Plot the stage-discharge measurement points and the rating curve\n",
    "\n",
    "The plot below is where you will be able to validate if your answer for question 4 is correct."
   ]
  },
  {
   "cell_type": "code",
   "execution_count": 239,
   "metadata": {},
   "outputs": [
    {
     "data": {
      "text/plain": [
       "<matplotlib.legend.Legend at 0x7f064a125710>"
      ]
     },
     "execution_count": 239,
     "metadata": {},
     "output_type": "execute_result"
    },
    {
     "data": {
      "image/png": "[encoded data removed]",
      "text/plain": [
       "<Figure size 720x432 with 1 Axes>"
      ]
     },
     "metadata": {
      "needs_background": "light"
     },
     "output_type": "display_data"
    }
   ],
   "source": [
    "# start a figure with 1 panel\n",
    "fig, ax = plt.subplots(1, 1, figsize=(10,6))\n",
    "\n",
    "\n",
    "#make a scatter plot for flow vs water level of the measured points\n",
    "ax.scatter(rc_df['Flow (m3/s)'], rc_df['Water level (m)'],\n",
    "              s=20, color='green', label='Measured Discharge')\n",
    "\n",
    "\n",
    "## add the new point calculated from your salt dilution measurement\n",
    "ax.scatter(Q_calculated, concurrent_stage,\n",
    "       s=20, color='orange', label='New Measurement')\n",
    "\n",
    "# plot the manually defined rating curve from above\n",
    "# these series should correspond to the values you \n",
    "# decided upon in Question 3\n",
    "ax.plot(manual_fit_q, stage_range, label=\"Manual Rating Curve\")\n",
    "\n",
    "# plot the rating curve fitted with least squares in log-log space. \n",
    "# WHEN YOU HAVE COMPLETED QUESTION 4, UNCOMMENT THE TWO LINES BELOW\n",
    "# ax.plot(bf_df['best_fit_q'], bf_df['stage'], color='purple', \n",
    "#         linestyle='dashed', label=\"OLS Best-Fit Rating Curve\")\n",
    "\n",
    "ax.annotate(s='Q = {}(h - ({}))^{}'.format(C, h0, b),\n",
    "           xy=(320,220), xycoords='figure pixels')\n",
    "\n",
    "ax.set_title('Stage Discharge Relationship for Weijs Creek')\n",
    "ax.set_xlabel('Q [m^3/s]')\n",
    "ax.set_ylabel('Daily Average Stage [m]')\n",
    "ax.legend()"
   ]
  },
  {
   "cell_type": "code",
   "execution_count": 212,
   "metadata": {},
   "outputs": [
    {
     "data": {
      "text/html": [
       "<div>\n",
       "<style scoped>\n",
       "    .dataframe tbody tr th:only-of-type {\n",
       "        vertical-align: middle;\n",
       "    }\n",
       "\n",
       "    .dataframe tbody tr th {\n",
       "        vertical-align: top;\n",
       "    }\n",
       "\n",
       "    .dataframe thead th {\n",
       "        text-align: right;\n",
       "    }\n",
       "</style>\n",
       "<table border=\"1\" class=\"dataframe\">\n",
       "  <thead>\n",
       "    <tr style=\"text-align: right;\">\n",
       "      <th></th>\n",
       "      <th>Date</th>\n",
       "      <th>Flow (m3/s)</th>\n",
       "      <th>Water level (m)</th>\n",
       "    </tr>\n",
       "  </thead>\n",
       "  <tbody>\n",
       "    <tr>\n",
       "      <th>0</th>\n",
       "      <td>2009-01-02</td>\n",
       "      <td>1.565</td>\n",
       "      <td>0.236</td>\n",
       "    </tr>\n",
       "    <tr>\n",
       "      <th>1</th>\n",
       "      <td>2009-01-07</td>\n",
       "      <td>1.530</td>\n",
       "      <td>0.267</td>\n",
       "    </tr>\n",
       "    <tr>\n",
       "      <th>2</th>\n",
       "      <td>2009-03-20</td>\n",
       "      <td>0.967</td>\n",
       "      <td>0.224</td>\n",
       "    </tr>\n",
       "    <tr>\n",
       "      <th>3</th>\n",
       "      <td>2009-09-12</td>\n",
       "      <td>5.133</td>\n",
       "      <td>0.707</td>\n",
       "    </tr>\n",
       "    <tr>\n",
       "      <th>4</th>\n",
       "      <td>2009-11-10</td>\n",
       "      <td>3.402</td>\n",
       "      <td>0.468</td>\n",
       "    </tr>\n",
       "    <tr>\n",
       "      <th>5</th>\n",
       "      <td>2009-11-18</td>\n",
       "      <td>4.474</td>\n",
       "      <td>0.589</td>\n",
       "    </tr>\n",
       "    <tr>\n",
       "      <th>6</th>\n",
       "      <td>2010-03-24</td>\n",
       "      <td>1.297</td>\n",
       "      <td>0.296</td>\n",
       "    </tr>\n",
       "    <tr>\n",
       "      <th>7</th>\n",
       "      <td>2010-03-25</td>\n",
       "      <td>1.823</td>\n",
       "      <td>0.300</td>\n",
       "    </tr>\n",
       "    <tr>\n",
       "      <th>8</th>\n",
       "      <td>2010-08-25</td>\n",
       "      <td>4.682</td>\n",
       "      <td>0.632</td>\n",
       "    </tr>\n",
       "    <tr>\n",
       "      <th>10</th>\n",
       "      <td>2010-09-26</td>\n",
       "      <td>12.000</td>\n",
       "      <td>1.313</td>\n",
       "    </tr>\n",
       "  </tbody>\n",
       "</table>\n",
       "</div>"
      ],
      "text/plain": [
       "         Date  Flow (m3/s)  Water level (m)\n",
       "0  2009-01-02        1.565            0.236\n",
       "1  2009-01-07        1.530            0.267\n",
       "2  2009-03-20        0.967            0.224\n",
       "3  2009-09-12        5.133            0.707\n",
       "4  2009-11-10        3.402            0.468\n",
       "5  2009-11-18        4.474            0.589\n",
       "6  2010-03-24        1.297            0.296\n",
       "7  2010-03-25        1.823            0.300\n",
       "8  2010-08-25        4.682            0.632\n",
       "10 2010-09-26       12.000            1.313"
      ]
     },
     "execution_count": 212,
     "metadata": {},
     "output_type": "execute_result"
    }
   ],
   "source": [
    "# Add the newly measured point to the rating curve (discharge data) dataframe\n",
    "# len(stage_df) + 1 makes it add a row at the bottom\n",
    "rc_df.loc[len(rc_df) + 1] = [pd.to_datetime(msmt_date), Q_calculated, msmt_stage]\n",
    "rc_df"
   ]
  },
  {
   "cell_type": "markdown",
   "metadata": {},
   "source": [
    "### Plot the Daily Average Hydrograph From the Rating Curve \n",
    "\n",
    "Now that we've established the relationship between stage and discharge, we can transform the continuous stage record into a continuous flow record.\n",
    "\n",
    "### Question 5\n",
    "\n",
    "Apply the rating curve to the water level (stage) time series.  Add the result as a new column in the `stage_df` dataframe."
   ]
  },
  {
   "cell_type": "code",
   "execution_count": 213,
   "metadata": {},
   "outputs": [],
   "source": [
    "# calculate a dicharge based on the best fit or manually fit rating curve\n",
    "# for each water level recorded in the measured stage record (stage_df)\n",
    "\n",
    "# look to previous examples in this notebook to apply a function to each element in an array\n",
    "stage_df['RC Q (cms)'] = # enter your code here\n"
   ]
  },
  {
   "cell_type": "code",
   "execution_count": 214,
   "metadata": {},
   "outputs": [
    {
     "data": {
      "text/html": [
       "<div>\n",
       "<style scoped>\n",
       "    .dataframe tbody tr th:only-of-type {\n",
       "        vertical-align: middle;\n",
       "    }\n",
       "\n",
       "    .dataframe tbody tr th {\n",
       "        vertical-align: top;\n",
       "    }\n",
       "\n",
       "    .dataframe thead th {\n",
       "        text-align: right;\n",
       "    }\n",
       "</style>\n",
       "<table border=\"1\" class=\"dataframe\">\n",
       "  <thead>\n",
       "    <tr style=\"text-align: right;\">\n",
       "      <th></th>\n",
       "      <th>Date</th>\n",
       "      <th>Water level (daily av.) (m)</th>\n",
       "      <th>RC Q (cms)</th>\n",
       "    </tr>\n",
       "  </thead>\n",
       "  <tbody>\n",
       "    <tr>\n",
       "      <th>0</th>\n",
       "      <td>2009-01-01</td>\n",
       "      <td>0.240</td>\n",
       "      <td>1.214128</td>\n",
       "    </tr>\n",
       "    <tr>\n",
       "      <th>1</th>\n",
       "      <td>2009-01-02</td>\n",
       "      <td>0.236</td>\n",
       "      <td>1.185106</td>\n",
       "    </tr>\n",
       "    <tr>\n",
       "      <th>2</th>\n",
       "      <td>2009-01-03</td>\n",
       "      <td>0.234</td>\n",
       "      <td>1.170675</td>\n",
       "    </tr>\n",
       "    <tr>\n",
       "      <th>3</th>\n",
       "      <td>2009-01-04</td>\n",
       "      <td>0.233</td>\n",
       "      <td>1.163480</td>\n",
       "    </tr>\n",
       "    <tr>\n",
       "      <th>4</th>\n",
       "      <td>2009-01-05</td>\n",
       "      <td>0.231</td>\n",
       "      <td>1.149130</td>\n",
       "    </tr>\n",
       "    <tr>\n",
       "      <th>...</th>\n",
       "      <td>...</td>\n",
       "      <td>...</td>\n",
       "      <td>...</td>\n",
       "    </tr>\n",
       "    <tr>\n",
       "      <th>725</th>\n",
       "      <td>2010-12-27</td>\n",
       "      <td>0.288</td>\n",
       "      <td>1.578517</td>\n",
       "    </tr>\n",
       "    <tr>\n",
       "      <th>726</th>\n",
       "      <td>2010-12-28</td>\n",
       "      <td>0.287</td>\n",
       "      <td>1.570633</td>\n",
       "    </tr>\n",
       "    <tr>\n",
       "      <th>727</th>\n",
       "      <td>2010-12-29</td>\n",
       "      <td>0.265</td>\n",
       "      <td>1.400280</td>\n",
       "    </tr>\n",
       "    <tr>\n",
       "      <th>728</th>\n",
       "      <td>2010-12-30</td>\n",
       "      <td>0.248</td>\n",
       "      <td>1.272812</td>\n",
       "    </tr>\n",
       "    <tr>\n",
       "      <th>729</th>\n",
       "      <td>2010-12-31</td>\n",
       "      <td>0.242</td>\n",
       "      <td>1.228720</td>\n",
       "    </tr>\n",
       "  </tbody>\n",
       "</table>\n",
       "<p>730 rows × 3 columns</p>\n",
       "</div>"
      ],
      "text/plain": [
       "          Date  Water level (daily av.) (m)  RC Q (cms)\n",
       "0   2009-01-01                        0.240    1.214128\n",
       "1   2009-01-02                        0.236    1.185106\n",
       "2   2009-01-03                        0.234    1.170675\n",
       "3   2009-01-04                        0.233    1.163480\n",
       "4   2009-01-05                        0.231    1.149130\n",
       "..         ...                          ...         ...\n",
       "725 2010-12-27                        0.288    1.578517\n",
       "726 2010-12-28                        0.287    1.570633\n",
       "727 2010-12-29                        0.265    1.400280\n",
       "728 2010-12-30                        0.248    1.272812\n",
       "729 2010-12-31                        0.242    1.228720\n",
       "\n",
       "[730 rows x 3 columns]"
      ]
     },
     "execution_count": 214,
     "metadata": {},
     "output_type": "execute_result"
    }
   ],
   "source": [
    "stage_df"
   ]
  },
  {
   "cell_type": "code",
   "execution_count": 215,
   "metadata": {},
   "outputs": [],
   "source": [
    "# again, if you want to export this dataframe to csv for use in Excel\n",
    "# or other program, use the command below\n",
    "# stage_df.to_csv('derived_flow_series.csv')"
   ]
  },
  {
   "cell_type": "markdown",
   "metadata": {},
   "source": [
    "### Plot the Resulting Flow Series"
   ]
  },
  {
   "cell_type": "code",
   "execution_count": 216,
   "metadata": {},
   "outputs": [
    {
     "data": {
      "text/plain": [
       "<matplotlib.legend.Legend at 0x7f064c164a58>"
      ]
     },
     "execution_count": 216,
     "metadata": {},
     "output_type": "execute_result"
    },
    {
     "data": {
      "image/png": "[encoded data removed]",
      "text/plain": [
       "<Figure size 720x432 with 1 Axes>"
      ]
     },
     "metadata": {
      "needs_background": "light"
     },
     "output_type": "display_data"
    }
   ],
   "source": [
    "# apply the RC equation from above to the stage record\n",
    "fig, ax = plt.subplots(1, 1, figsize=(10,6))\n",
    "\n",
    "plt.plot(stage_df['Date'], stage_df['RC Q (cms)'],\n",
    "        label=\"Rating Curve Q\", alpha=0.6)\n",
    "\n",
    "plt.scatter(rc_df['Date'], rc_df['Flow (m3/s)'],\n",
    "            s=25, color='green', label='Measured Q')\n",
    "\n",
    "plt.scatter(pd.to_datetime('2010-09-26'), Q_calculated,\n",
    "            s=25, color='orange', label='Q: 26 Sept 2010')\n",
    "\n",
    "ax.set_title('Daily Hydrograph for Weijs Creek')\n",
    "ax.set_xlabel('Date')\n",
    "ax.set_ylabel('Daily Average Flow [m3/s]')\n",
    "ax.legend()\n",
    "#ddd: also here a zoomable plot may be nice."
   ]
  },
  {
   "cell_type": "markdown",
   "metadata": {},
   "source": [
    "### Re-create the plot in Bokeh\n",
    "\n",
    "The two plots below are linked.  Check the selection tools, and select points on one plot.  When validating data, it is helpful to be able to link the measurements on the rating curve plot and the daily flow series plot.  Consider how you would you check if the low flows were subject to a shift in the hydraulic control over time?    "
   ]
  },
  {
   "cell_type": "code",
   "execution_count": 219,
   "metadata": {},
   "outputs": [
    {
     "data": {
      "text/html": [
       "\n",
       "\n",
       "\n",
       "\n",
       "\n",
       "\n",
       "  <div class=\"bk-root\" id=\"b85248d7-e625-4c40-b0c7-c944439fc19e\" data-root-id=\"7679\"></div>\n"
      ]
     },
     "metadata": {},
     "output_type": "display_data"
    },
    {
     "data": {
      "application/javascript": [
       "(function(root) {\n",
       "  function embed_document(root) {\n",
       "    \n",
       "  var docs_json = {\"201557d7-9c6b-4f86-b9ff-5ff049bdade6\":{\"roots\":{\"references\":[{\"attributes\":{\"children\":[{\"id\":\"7678\"},{\"id\":\"7676\"}]},\"id\":\"7679\",\"type\":\"Column\"},{\"attributes\":{},\"id\":\"7549\",\"type\":\"SaveTool\"},{\"attributes\":{\"label\":{\"value\":\"Measured Q\"},\"renderers\":[{\"id\":\"7593\"}]},\"id\":\"7614\",\"type\":\"LegendItem\"},{\"attributes\":{},\"id\":\"7550\",\"type\":\"ResetTool\"},{\"attributes\":{\"data_source\":{\"id\":\"7575\"},\"glyph\":{\"id\":\"7576\"},\"hover_glyph\":null,\"muted_glyph\":null,\"nonselection_glyph\":{\"id\":\"7577\"},\"selection_glyph\":null,\"view\":{\"id\":\"7579\"}},\"id\":\"7578\",\"type\":\"GlyphRenderer\"},{\"attributes\":{},\"id\":\"7551\",\"type\":\"HelpTool\"},{\"attributes\":{\"data\":{\"x\":{\"__ndarray__\":\"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\",\"dtype\":\"float64\",\"shape\":[730]},\"y\":{\"__ndarray__\":\"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\",\"dtype\":\"float64\",\"shape\":[730]}},\"selected\":{\"id\":\"7661\"},\"selection_policy\":{\"id\":\"7662\"}},\"id\":\"7615\",\"type\":\"ColumnDataSource\"},{\"attributes\":{\"data_source\":{\"id\":\"7560\"},\"glyph\":{\"id\":\"7591\"},\"hover_glyph\":null,\"muted_glyph\":null,\"nonselection_glyph\":{\"id\":\"7592\"},\"selection_glyph\":null,\"view\":{\"id\":\"7594\"}},\"id\":\"7593\",\"type\":\"GlyphRenderer\"},{\"attributes\":{\"label\":{\"value\":\"Daily Flow\"},\"renderers\":[{\"id\":\"7618\"}]},\"id\":\"7640\",\"type\":\"LegendItem\"},{\"attributes\":{\"active_drag\":\"auto\",\"active_inspect\":\"auto\",\"active_multi\":null,\"active_scroll\":\"auto\",\"active_tap\":\"auto\",\"tools\":[{\"id\":\"7546\"},{\"id\":\"7547\"},{\"id\":\"7548\"},{\"id\":\"7549\"},{\"id\":\"7550\"},{\"id\":\"7551\"}]},\"id\":\"7553\",\"type\":\"Toolbar\"},{\"attributes\":{\"line_alpha\":0.1,\"line_color\":\"green\",\"x\":{\"field\":\"x\"},\"y\":{\"field\":\"y\"}},\"id\":\"7617\",\"type\":\"Line\"},{\"attributes\":{\"source\":{\"id\":\"7560\"}},\"id\":\"7594\",\"type\":\"CDSView\"},{\"attributes\":{\"fill_alpha\":{\"value\":0.1},\"fill_color\":{\"value\":\"red\"},\"line_alpha\":{\"value\":0.1},\"line_color\":{\"value\":\"red\"},\"size\":{\"units\":\"screen\",\"value\":5},\"x\":{\"field\":\"Date\"},\"y\":{\"field\":\"Flow (m3/s)\"}},\"id\":\"7592\",\"type\":\"Circle\"},{\"attributes\":{\"source\":{\"id\":\"7615\"}},\"id\":\"7619\",\"type\":\"CDSView\"},{\"attributes\":{\"data_source\":{\"id\":\"7615\"},\"glyph\":{\"id\":\"7616\"},\"hover_glyph\":null,\"muted_glyph\":null,\"nonselection_glyph\":{\"id\":\"7617\"},\"selection_glyph\":null,\"view\":{\"id\":\"7619\"}},\"id\":\"7618\",\"type\":\"GlyphRenderer\"},{\"attributes\":{},\"id\":\"7596\",\"type\":\"DatetimeTickFormatter\"},{\"attributes\":{\"line_color\":\"green\",\"x\":{\"field\":\"x\"},\"y\":{\"field\":\"y\"}},\"id\":\"7616\",\"type\":\"Line\"},{\"attributes\":{\"bottom_units\":\"screen\",\"fill_alpha\":0.5,\"fill_color\":\"lightgrey\",\"left_units\":\"screen\",\"level\":\"overlay\",\"line_alpha\":1.0,\"line_color\":\"black\",\"line_dash\":[4,4],\"line_width\":2,\"render_mode\":\"css\",\"right_units\":\"screen\",\"top_units\":\"screen\"},\"id\":\"7552\",\"type\":\"BoxAnnotation\"},{\"attributes\":{\"toolbars\":[{\"id\":\"7553\"},{\"id\":\"7520\"}],\"tools\":[{\"id\":\"7546\"},{\"id\":\"7547\"},{\"id\":\"7548\"},{\"id\":\"7549\"},{\"id\":\"7550\"},{\"id\":\"7551\"},{\"id\":\"7512\"},{\"id\":\"7513\"},{\"id\":\"7514\"},{\"id\":\"7515\"},{\"id\":\"7516\"},{\"id\":\"7517\"}]},\"id\":\"7677\",\"type\":\"ProxyToolbar\"},{\"attributes\":{},\"id\":\"7567\",\"type\":\"BasicTickFormatter\"},{\"attributes\":{},\"id\":\"7661\",\"type\":\"Selection\"},{\"attributes\":{\"data_source\":{\"id\":\"7560\"},\"glyph\":{\"id\":\"7562\"},\"hover_glyph\":null,\"muted_glyph\":null,\"nonselection_glyph\":{\"id\":\"7563\"},\"selection_glyph\":null,\"view\":{\"id\":\"7565\"}},\"id\":\"7564\",\"type\":\"GlyphRenderer\"},{\"attributes\":{\"fill_alpha\":{\"value\":0.1},\"fill_color\":{\"value\":\"red\"},\"line_alpha\":{\"value\":0.1},\"line_color\":{\"value\":\"red\"},\"size\":{\"units\":\"screen\",\"value\":5},\"x\":{\"field\":\"Flow (m3/s)\"},\"y\":{\"field\":\"Water level (m)\"}},\"id\":\"7563\",\"type\":\"Circle\"},{\"attributes\":{},\"id\":\"7662\",\"type\":\"UnionRenderers\"},{\"attributes\":{\"source\":{\"id\":\"7560\"}},\"id\":\"7565\",\"type\":\"CDSView\"},{\"attributes\":{},\"id\":\"7673\",\"type\":\"Selection\"},{\"attributes\":{},\"id\":\"7569\",\"type\":\"BasicTickFormatter\"},{\"attributes\":{},\"id\":\"7674\",\"type\":\"UnionRenderers\"},{\"attributes\":{\"toolbar\":{\"id\":\"7677\"},\"toolbar_location\":\"above\"},\"id\":\"7678\",\"type\":\"ToolbarBox\"},{\"attributes\":{\"items\":[{\"id\":\"7574\"},{\"id\":\"7589\"}],\"location\":\"bottom_right\"},\"id\":\"7573\",\"type\":\"Legend\"},{\"attributes\":{\"label\":{\"value\":\"Measured Q\"},\"renderers\":[{\"id\":\"7564\"}]},\"id\":\"7574\",\"type\":\"LegendItem\"},{\"attributes\":{\"children\":[[{\"id\":\"7527\"},0,0],[{\"id\":\"7493\"},0,1]]},\"id\":\"7676\",\"type\":\"GridBox\"},{\"attributes\":{\"line_alpha\":0.1,\"line_color\":\"#1f77b4\",\"x\":{\"field\":\"x\"},\"y\":{\"field\":\"y\"}},\"id\":\"7577\",\"type\":\"Line\"},{\"attributes\":{},\"id\":\"7502\",\"type\":\"LinearScale\"},{\"attributes\":{\"fill_alpha\":{\"value\":0.5},\"fill_color\":{\"value\":\"red\"},\"line_alpha\":{\"value\":0.5},\"line_color\":{\"value\":\"red\"},\"size\":{\"units\":\"screen\",\"value\":5},\"x\":{\"field\":\"Date\"},\"y\":{\"field\":\"Flow (m3/s)\"}},\"id\":\"7591\",\"type\":\"Circle\"},{\"attributes\":{\"line_color\":\"#1f77b4\",\"x\":{\"field\":\"x\"},\"y\":{\"field\":\"y\"}},\"id\":\"7576\",\"type\":\"Line\"},{\"attributes\":{},\"id\":\"7598\",\"type\":\"BasicTickFormatter\"},{\"attributes\":{\"mantissas\":[1,2,5],\"max_interval\":500.0,\"num_minor_ticks\":0},\"id\":\"7601\",\"type\":\"AdaptiveTicker\"},{\"attributes\":{\"base\":60,\"mantissas\":[1,2,5,10,15,20,30],\"max_interval\":1800000.0,\"min_interval\":1000.0,\"num_minor_ticks\":0},\"id\":\"7602\",\"type\":\"AdaptiveTicker\"},{\"attributes\":{\"base\":24,\"mantissas\":[1,2,4,6,8,12],\"max_interval\":43200000.0,\"min_interval\":3600000.0,\"num_minor_ticks\":0},\"id\":\"7603\",\"type\":\"AdaptiveTicker\"},{\"attributes\":{\"days\":[1,2,3,4,5,6,7,8,9,10,11,12,13,14,15,16,17,18,19,20,21,22,23,24,25,26,27,28,29,30,31]},\"id\":\"7604\",\"type\":\"DaysTicker\"},{\"attributes\":{\"days\":[1,4,7,10,13,16,19,22,25,28]},\"id\":\"7605\",\"type\":\"DaysTicker\"},{\"attributes\":{\"days\":[1,8,15,22]},\"id\":\"7606\",\"type\":\"DaysTicker\"},{\"attributes\":{\"days\":[1,15]},\"id\":\"7607\",\"type\":\"DaysTicker\"},{\"attributes\":{\"data\":{\"x\":[0.0020095091452076636,0.010570741716532757,0.024700050941554075,0.04387093159724574,0.06776501722546034,0.09615690564163124,0.12887376472247425,0.1657763939272647,0.20674885290134212,0.25169218475506083,0.3005203399608291,0.3531573861458165,0.4095355182165085,0.4695935918620614,0.5332760132564379,0.6005318792937172,0.6713142989761121,0.7455798489109096,0.8232881301286581,0.9044014028202956,0.988884281938312,1.0767034810024128,1.1678275945580001,1.2622269119745815,1.3598732569110537,1.4607398479941869,1.5648011771758024,1.6720329029356877,1.7824117560388624,1.8959154559782916,2.012522636566893,2.1322127794071233,2.2549661541783275,2.380763764853111,2.5095873010931573,2.6414190941888256,2.7762420770007368,2.9140397474393374,3.0547961350832646,3.1984957705916535,3.345123657611234,3.4946652469177564,3.6471064125641344,3.8024334298357187,3.9606329548371457,4.121692005555811,4.2855979442648895,4.452338461144171,4.621901559010456,4.794275539060877,4.969448987542742,5.1474107632724335,5.3281499859337655,5.511656025093127,5.69791848987485,5.886927219245698,6.07867227286214,6.273143922438384,6.470332643596965,6.670229108167082,6.87282417689894,7.078108892565077,7.286074473422177,7.49671230700899,7.710013944258075,7.925971093900834,8.144575617146959,8.365819522620884,8.58969496153921,8.81619422311425,9.045309730169988,9.277034034957747,9.51135981515981,9.74827987007004,9.987787116941345,10.229874587490619,10.474535424552261,10.72176287887217,10.971550306034544,11.223891163514363,11.478779007848892,11.73620749192197,11.996170362355265,12.25866145700103,12.523674702531222,12.79120411211821,13.061243783202533,13.33378789534348,13.608830708148513,13.886366559277745,14.166389862520012,14.448895105937119,14.733876850073193,15.021329726226131,15.311248434778387,15.603627743584411,15.898462486412285,16.195747561437155,16.495477929784233,16.797648614119282],\"y\":{\"__ndarray__\":\"AAAAAAAAAAAIH3zwwQePPwgffPDBB58/RhdddNFFpz8IH3zwwQevP2WTTTbZZLM/RhdddNFFtz8nm2yyySa7PwgffPDBB78/dNFFF110wT9lk0022WTDP1ZVVVVVVcU/RhdddNFFxz822WSTTTbJPyebbLLJJss/GF100UUXzT8IH3zwwQfPP3zwwQcffNA/dNFFF1100T9tsskmm2zSP2WTTTbZZNM/XXTRRRdd1D9WVVVVVVXVP0422WSTTdY/RhdddNFF1z8++OCDDz7YPzbZZJNNNtk/L7rooosu2j8nm2yyySbbPx988MEHH9w/GF100UUX3T8QPvjggw/ePwgffPDBB98/AAAAAAAA4D988MEHH3zgP/jggw8++OA/dNFFF1104T/xwQcffPDhP22yySabbOI/6aKLLrro4j9lk0022WTjP+GDDz744OM/XXTRRRdd5D/ZZJNNNtnkP1ZVVVVVVeU/0kUXXXTR5T9ONtlkk03mP8omm2yyyeY/RhdddNFF5z/CBx988MHnPz744IMPPug/uuiiiy666D822WSTTTbpP7PJJptssuk/L7rooosu6j+rqqqqqqrqPyebbLLJJus/o4suuuii6z8ffPDBBx/sP5tssskmm+w/GF100UUX7T+UTTbZZJPtPxA++OCDD+4/jC666KKL7j8IH3zwwQfvP4QPPvjgg+8/AAAAAAAA8D8++OCDDz7wP3zwwQcffPA/uuiiiy668D/44IMPPvjwPzbZZJNNNvE/dNFFF1108T+zySabbLLxP/HBBx988PE/L7rooosu8j9tsskmm2zyP6uqqqqqqvI/6aKLLrro8j8nm2yyySbzP2WTTTbZZPM/o4suuuii8z/hgw8++ODzPx988MEHH/Q/XXTRRRdd9D+bbLLJJpv0P9lkk0022fQ/F1100UUX9T9WVVVVVVX1P5RNNtlkk/U/0kUXXXTR9T8QPvjggw/2P0422WSTTfY/jC666KKL9j/KJptsssn2PwgffPDBB/c/RhdddNFF9z+EDz744IP3P8IHH3zwwfc/AAAAAAAA+D8=\",\"dtype\":\"float64\",\"shape\":[100]}},\"selected\":{\"id\":\"7673\"},\"selection_policy\":{\"id\":\"7674\"}},\"id\":\"7575\",\"type\":\"ColumnDataSource\"},{\"attributes\":{\"months\":[0,1,2,3,4,5,6,7,8,9,10,11]},\"id\":\"7608\",\"type\":\"MonthsTicker\"},{\"attributes\":{\"months\":[0,2,4,6,8,10]},\"id\":\"7609\",\"type\":\"MonthsTicker\"},{\"attributes\":{\"months\":[0,4,8]},\"id\":\"7610\",\"type\":\"MonthsTicker\"},{\"attributes\":{\"months\":[0,6]},\"id\":\"7611\",\"type\":\"MonthsTicker\"},{\"attributes\":{},\"id\":\"7612\",\"type\":\"YearsTicker\"},{\"attributes\":{\"items\":[{\"id\":\"7614\"},{\"id\":\"7640\"}]},\"id\":\"7613\",\"type\":\"Legend\"},{\"attributes\":{\"axis_label\":\"Flow (m\\u00b3/s)\",\"formatter\":{\"id\":\"7567\"},\"ticker\":{\"id\":\"7505\"}},\"id\":\"7504\",\"type\":\"LinearAxis\"},{\"attributes\":{},\"id\":\"7505\",\"type\":\"BasicTicker\"},{\"attributes\":{\"axis\":{\"id\":\"7504\"},\"ticker\":null},\"id\":\"7507\",\"type\":\"Grid\"},{\"attributes\":{\"axis_label\":\"Stage (m)\",\"formatter\":{\"id\":\"7569\"},\"ticker\":{\"id\":\"7509\"}},\"id\":\"7508\",\"type\":\"LinearAxis\"},{\"attributes\":{},\"id\":\"7509\",\"type\":\"BasicTicker\"},{\"attributes\":{\"text\":\"Daily Flow Hydrograph\"},\"id\":\"7528\",\"type\":\"Title\"},{\"attributes\":{},\"id\":\"7512\",\"type\":\"PanTool\"},{\"attributes\":{},\"id\":\"7513\",\"type\":\"WheelZoomTool\"},{\"attributes\":{},\"id\":\"7514\",\"type\":\"ResetTool\"},{\"attributes\":{\"callback\":null},\"id\":\"7515\",\"type\":\"HoverTool\"},{\"attributes\":{\"overlay\":{\"id\":\"7519\"}},\"id\":\"7516\",\"type\":\"PolySelectTool\"},{\"attributes\":{\"overlay\":{\"id\":\"7518\"}},\"id\":\"7517\",\"type\":\"BoxSelectTool\"},{\"attributes\":{\"active_drag\":\"auto\",\"active_inspect\":\"auto\",\"active_multi\":null,\"active_scroll\":\"auto\",\"active_tap\":\"auto\",\"tools\":[{\"id\":\"7512\"},{\"id\":\"7513\"},{\"id\":\"7514\"},{\"id\":\"7515\"},{\"id\":\"7516\"},{\"id\":\"7517\"}]},\"id\":\"7520\",\"type\":\"Toolbar\"},{\"attributes\":{\"fill_alpha\":0.5,\"fill_color\":\"lightgrey\",\"level\":\"overlay\",\"line_alpha\":1.0,\"line_color\":\"black\",\"line_dash\":[4,4],\"line_width\":2,\"xs_units\":\"screen\",\"ys_units\":\"screen\"},\"id\":\"7519\",\"type\":\"PolyAnnotation\"},{\"attributes\":{},\"id\":\"7588\",\"type\":\"UnionRenderers\"},{\"attributes\":{},\"id\":\"7587\",\"type\":\"Selection\"},{\"attributes\":{\"label\":{\"value\":\"Rating Curve\"},\"renderers\":[{\"id\":\"7578\"}]},\"id\":\"7589\",\"type\":\"LegendItem\"},{\"attributes\":{\"bottom_units\":\"screen\",\"fill_alpha\":0.5,\"fill_color\":\"lightgrey\",\"left_units\":\"screen\",\"level\":\"overlay\",\"line_alpha\":1.0,\"line_color\":\"black\",\"line_dash\":[4,4],\"line_width\":2,\"render_mode\":\"css\",\"right_units\":\"screen\",\"top_units\":\"screen\"},\"id\":\"7518\",\"type\":\"BoxAnnotation\"},{\"attributes\":{},\"id\":\"7530\",\"type\":\"DataRange1d\"},{\"attributes\":{},\"id\":\"7532\",\"type\":\"DataRange1d\"},{\"attributes\":{},\"id\":\"7534\",\"type\":\"LinearScale\"},{\"attributes\":{},\"id\":\"7536\",\"type\":\"LinearScale\"},{\"attributes\":{\"axis_label\":\"Date\",\"formatter\":{\"id\":\"7596\"},\"ticker\":{\"id\":\"7539\"}},\"id\":\"7538\",\"type\":\"DatetimeAxis\"},{\"attributes\":{\"num_minor_ticks\":5,\"tickers\":[{\"id\":\"7601\"},{\"id\":\"7602\"},{\"id\":\"7603\"},{\"id\":\"7604\"},{\"id\":\"7605\"},{\"id\":\"7606\"},{\"id\":\"7607\"},{\"id\":\"7608\"},{\"id\":\"7609\"},{\"id\":\"7610\"},{\"id\":\"7611\"},{\"id\":\"7612\"}]},\"id\":\"7539\",\"type\":\"DatetimeTicker\"},{\"attributes\":{\"axis\":{\"id\":\"7538\"},\"ticker\":null},\"id\":\"7541\",\"type\":\"Grid\"},{\"attributes\":{\"axis_label\":\"Flow (m\\u00b3/s)\",\"formatter\":{\"id\":\"7598\"},\"ticker\":{\"id\":\"7543\"}},\"id\":\"7542\",\"type\":\"LinearAxis\"},{\"attributes\":{\"axis\":{\"id\":\"7508\"},\"dimension\":1,\"ticker\":null},\"id\":\"7511\",\"type\":\"Grid\"},{\"attributes\":{},\"id\":\"7543\",\"type\":\"BasicTicker\"},{\"attributes\":{\"text\":\"Rating Curve Plot\"},\"id\":\"7494\",\"type\":\"Title\"},{\"attributes\":{\"axis\":{\"id\":\"7542\"},\"dimension\":1,\"ticker\":null},\"id\":\"7545\",\"type\":\"Grid\"},{\"attributes\":{\"below\":[{\"id\":\"7504\"}],\"center\":[{\"id\":\"7507\"},{\"id\":\"7511\"},{\"id\":\"7573\"}],\"left\":[{\"id\":\"7508\"}],\"plot_height\":300,\"plot_width\":500,\"renderers\":[{\"id\":\"7564\"},{\"id\":\"7578\"}],\"title\":{\"id\":\"7494\"},\"toolbar\":{\"id\":\"7520\"},\"toolbar_location\":null,\"x_range\":{\"id\":\"7496\"},\"x_scale\":{\"id\":\"7500\"},\"y_range\":{\"id\":\"7498\"},\"y_scale\":{\"id\":\"7502\"}},\"id\":\"7493\",\"subtype\":\"Figure\",\"type\":\"Plot\"},{\"attributes\":{\"data\":{\"Date\":{\"__ndarray__\":\"AACAOkrpcUIAAEA35upxQgAAQNUSAnJCAABAybg6ckIAAIA8tk1yQgAAgGpJUHJCAAAAf9d4ckIAAMDkKXlyQgAAgLRoqnJCAACAbLW0ckI=\",\"dtype\":\"float64\",\"shape\":[10]},\"Flow (m3/s)\":{\"__ndarray__\":\"CtejcD0K+T97FK5H4Xr4P4xs5/up8e4/1HjpJjGIFECd76fGSzcLQEw3iUFg5RFAjZduEoPA9D9fukkMAiv9P+18PzVeuhJAAAAAAAAAKEA=\",\"dtype\":\"float64\",\"shape\":[10]},\"Water level (m)\":{\"__ndarray__\":\"aZHtfD81zj9KDAIrhxbRP3jpJjEIrMw/OrTIdr6f5j/AyqFFtvPdPwwCK4cW2eI/jGzn+6nx0j8zMzMzMzPTP9NNYhBYOeQ/NV66SQwC9T8=\",\"dtype\":\"float64\",\"shape\":[10]},\"index\":[0,1,2,3,4,5,6,7,8,10]},\"selected\":{\"id\":\"7587\"},\"selection_policy\":{\"id\":\"7588\"}},\"id\":\"7560\",\"type\":\"ColumnDataSource\"},{\"attributes\":{\"fill_alpha\":{\"value\":0.5},\"fill_color\":{\"value\":\"red\"},\"line_alpha\":{\"value\":0.5},\"line_color\":{\"value\":\"red\"},\"size\":{\"units\":\"screen\",\"value\":5},\"x\":{\"field\":\"Flow (m3/s)\"},\"y\":{\"field\":\"Water level (m)\"}},\"id\":\"7562\",\"type\":\"Circle\"},{\"attributes\":{\"below\":[{\"id\":\"7538\"}],\"center\":[{\"id\":\"7541\"},{\"id\":\"7545\"},{\"id\":\"7613\"}],\"left\":[{\"id\":\"7542\"}],\"plot_height\":300,\"plot_width\":500,\"renderers\":[{\"id\":\"7593\"},{\"id\":\"7618\"}],\"title\":{\"id\":\"7528\"},\"toolbar\":{\"id\":\"7553\"},\"toolbar_location\":null,\"x_range\":{\"id\":\"7530\"},\"x_scale\":{\"id\":\"7534\"},\"y_range\":{\"id\":\"7532\"},\"y_scale\":{\"id\":\"7536\"}},\"id\":\"7527\",\"subtype\":\"Figure\",\"type\":\"Plot\"},{\"attributes\":{},\"id\":\"7496\",\"type\":\"DataRange1d\"},{\"attributes\":{\"source\":{\"id\":\"7575\"}},\"id\":\"7579\",\"type\":\"CDSView\"},{\"attributes\":{},\"id\":\"7546\",\"type\":\"PanTool\"},{\"attributes\":{},\"id\":\"7547\",\"type\":\"WheelZoomTool\"},{\"attributes\":{},\"id\":\"7498\",\"type\":\"DataRange1d\"},{\"attributes\":{\"overlay\":{\"id\":\"7552\"}},\"id\":\"7548\",\"type\":\"BoxZoomTool\"},{\"attributes\":{},\"id\":\"7500\",\"type\":\"LinearScale\"}],\"root_ids\":[\"7679\"]},\"title\":\"Bokeh Application\",\"version\":\"2.0.2\"}};\n",
       "  var render_items = [{\"docid\":\"201557d7-9c6b-4f86-b9ff-5ff049bdade6\",\"root_ids\":[\"7679\"],\"roots\":{\"7679\":\"b85248d7-e625-4c40-b0c7-c944439fc19e\"}}];\n",
       "  root.Bokeh.embed.embed_items_notebook(docs_json, render_items);\n",
       "\n",
       "  }\n",
       "  if (root.Bokeh !== undefined) {\n",
       "    embed_document(root);\n",
       "  } else {\n",
       "    var attempts = 0;\n",
       "    var timer = setInterval(function(root) {\n",
       "      if (root.Bokeh !== undefined) {\n",
       "        clearInterval(timer);\n",
       "        embed_document(root);\n",
       "      } else {\n",
       "        attempts++;\n",
       "        if (attempts > 100) {\n",
       "          clearInterval(timer);\n",
       "          console.log(\"Bokeh: ERROR: Unable to run BokehJS code because BokehJS library is missing\");\n",
       "        }\n",
       "      }\n",
       "    }, 10, root)\n",
       "  }\n",
       "})(window);"
      ],
      "application/vnd.bokehjs_exec.v0+json": ""
     },
     "metadata": {
      "application/vnd.bokehjs_exec.v0+json": {
       "id": "7679"
      }
     },
     "output_type": "display_data"
    }
   ],
   "source": [
    "# output to static HTML file\n",
    "#output_file(\"filename.html\")\n",
    "\n",
    "# customize the tools for interacting with the bokeh plot\n",
    "TOOLS=\"pan,wheel_zoom,reset,hover,poly_select,box_select\"\n",
    "\n",
    "rc_plot = figure(plot_width=500, plot_height=300,\n",
    "                title='Rating Curve Plot',\n",
    "                tools=TOOLS)\n",
    "\n",
    "daily_flow_plot = figure(plot_width=500, plot_height=300, \n",
    "                        x_axis_type='datetime', title='Daily Flow Hydrograph')\n",
    "\n",
    "# Bokeh uses a ColumnDataSource data structure to \n",
    "# link plots and make them more interactive\n",
    "\n",
    "source = ColumnDataSource(data=dict())\n",
    "stage_df = stage_df.reset_index(drop=True)\n",
    "source.data = source.from_df(rc_df)\n",
    "\n",
    "# plot the measured discharge points\n",
    "rc_plot.circle('Flow (m3/s)', 'Water level (m)', size=5, color=\"red\", alpha=0.5,\n",
    "              source=source, legend_label='Measured Q')\n",
    "rc_plot.line(manual_fit_q, stage_range, legend_label='Rating Curve')\n",
    "\n",
    "# plot the daily flow series generated from the rating curve\n",
    "daily_flow_plot.circle('Date', 'Flow (m3/s)', size=5, color=\"red\", alpha=0.5,\n",
    "              source=source, legend_label='Measured Q')\n",
    "daily_flow_plot.line(stage_df['Date'], stage_df['RC Q (cms)'], \n",
    "                    legend_label='Daily Flow', color='green')\n",
    "\n",
    "# daily_flow_plot.line('Date', 'RC Q (cms)')\n",
    "# label the axes\n",
    "daily_flow_plot.xaxis.axis_label = 'Date'\n",
    "daily_flow_plot.yaxis.axis_label = 'Flow (m³/s)'\n",
    "rc_plot.xaxis.axis_label = 'Flow (m³/s)'\n",
    "rc_plot.yaxis.axis_label = 'Stage (m)'\n",
    "rc_plot.legend.location = \"bottom_right\"\n",
    "\n",
    "layout = gridplot([[daily_flow_plot, rc_plot]])\n",
    "\n",
    "# show the results\n",
    "show(layout)"
   ]
  },
  {
   "cell_type": "markdown",
   "metadata": {},
   "source": [
    "## Flow Duration\n",
    "\n",
    "Now that we have generated a daily average flow series from our rating curve, we can see some general trends in flow at different timescales, such as daily and seasonal.\n",
    "\n",
    "The flow duration curve (FDC) is a useful way to characterize the distribution of daily flows in the long term.  The FDC maps a percentile to a quantile, in other words it describes the expectation of the flow.  For example, a high flow is exceeded only 1% of the time (of all the points in the measured record), and a low flow is exceeded 99% of the time.  Just like Excel, there are useful Python functions for calculating percentiles of an array of data (one such function is `np.percentile()`, [documentation is here](https://numpy.org/doc/stable/reference/generated/numpy.percentile.html))."
   ]
  },
  {
   "cell_type": "markdown",
   "metadata": {},
   "source": [
    "### Question 6: Complete the code to plot a Flow Duration Curve\n",
    "\n",
    "Complete the x values to represent 'percent exceeded'.  Check the link to the documentation for the np.percentile function provided above.\n",
    "\n",
    "The `np.percentile()` function takes two arrays.  One is the data set we are interested in computing quantiles for.  The other is the range (or sequence) of percentiles we want to know the exceedence quantiles for.  What you need to do below is complete the line: `flow_quantiles = np.percentile(array1, array2)`, where you need to replace `array1` and `array2` with the correct series.  \n",
    "\n",
    "Again, the [np.percentile() documentation is here](https://numpy.org/doc/stable/reference/generated/numpy.percentile.html)."
   ]
  },
  {
   "cell_type": "code",
   "execution_count": 220,
   "metadata": {},
   "outputs": [
    {
     "data": {
      "text/plain": [
       "Text(0, 0.5, 'Flow [m^3/s]')"
      ]
     },
     "execution_count": 220,
     "metadata": {},
     "output_type": "execute_result"
    },
    {
     "data": {
      "image/png": "[encoded data removed]",
      "text/plain": [
       "<Figure size 576x360 with 1 Axes>"
      ]
     },
     "metadata": {
      "needs_background": "light"
     },
     "output_type": "display_data"
    }
   ],
   "source": [
    "fig, ax = plt.subplots(1, 1, figsize=(8, 5))\n",
    "\n",
    "pct_exceeded = # array 1 \n",
    "\n",
    "fdc_data = # array 2 \n",
    "\n",
    "# replace 'array1' and 'array2' with arrays representing the percentiles and inputs.\n",
    "# check the documentation to see what the array ordering should be!\n",
    "flow_quantiles = np.percentile(#array, #array)\n",
    "\n",
    "plt.plot(pct_exceeded[::-1], flow_quantiles)\n",
    "ax.set_xlabel('Percent of time exceeded [%]')\n",
    "ax.set_ylabel('Flow [m^3/s]')"
   ]
  },
  {
   "cell_type": "markdown",
   "metadata": {},
   "source": [
    "## Question 7: Characterizing Water Resources\n",
    "\n",
    "1.  How long has the hydrometric station been operating?  \n",
    "2.  If we're collecting data to support civil engineering design, to assess financial viability of a project, to inform operations, and to quantify the impact of our use of water resources or our modification of natural flow regimes, have we collected enough data?\n",
    "3.  How much data is enough?\n",
    "4.  If we don't have enough, what can we do to better evaluate the water resource?\n",
    "\n",
    "Discuss with your classmates your thoughts on numbers 2-4 above.  \n"
   ]
  },
  {
   "cell_type": "markdown",
   "metadata": {},
   "source": [
    "## Daily Streamflow Regression\n",
    "\n",
    "![Active WSC Stations in Western Canada](img/wsc_map_view.png)\n",
    "\n",
    "Water Survey of Canada (WSC) has operated and maintained hydrometric stations across Canada for over 100 years.  If we can find a regional surrogate WSC station in close proximity to our location of interest, with similar basin characteristics to those of our project, we can correlate daily streamflow between the two locations, ultimately to generate an estimated (or synthetic) long-term flow series for our project location.  \n",
    "\n",
    "\n"
   ]
  },
  {
   "cell_type": "markdown",
   "metadata": {},
   "source": [
    "### Steps to develop a correlation: Chronological Pairing (CP)\n",
    "\n",
    "A lot of work goes into finding an appropriate long-term record comparable to our location of interest, but we will assume we have been given a long-term daily flow series to use.\n",
    "\n",
    "1.  Find just the concurrent days of record (days where we have flow recorded for both creeks/rivers).\n",
    "2.  Create a scatter plot where the coordinates of each data point are (flow1, flow2).  It is customary to put the long-term regional station on the x-axis.\n",
    "3.  Determine the equation describing the line of best fit through the data.\n",
    "4.  Apply the best fit line equation to the long-term surrogate record to yield an estimated long-term series for the project location.\n",
    "\n",
    "To further refine this estimate, we can recognize that the mechanisms driving flow across seasons and months can change quite dramatically, and the relationship between the two catchments can also change month-by-month, and/or season by season.  If there is enough data to create seasonal or monthly regressions, we can develop a best-fit equation for each month or season.  The process of steps 2 through 4 then are the same, except we treat each season or month independently.  \n",
    "\n",
    "The above method is referred to as **chronological pairing (CP)**, as it pairs flow that occurs on the same day.  But what if there are timing differences between stations, or what if the spatial variability of precipitation results in flow events that don't coincide in the short term?  "
   ]
  },
  {
   "cell_type": "markdown",
   "metadata": {},
   "source": [
    "### Empirical Frequency Pairing\n",
    "\n",
    "To eliminate the temporal constraint on timing of events at the daily level, instead of comparing concurrent days, we can compare magnitudes of flows. This method is referred to as Empirical Frequency Pairing (EFP) and is commonly used in British Columbia.  Empirical frequency pairing still uses concurrent records, however it is the ranked flows in each series that are compared, i.e. the data points on an EFP plot are [(r1_siteA, r1_site_B), (r2_siteA, r2_siteB), ..., (rn_siteA, rn_siteB)].  The steps to derive an estimated long-term flow series for our location of interest are the same (i.e. steps 2-4 above)."
   ]
  },
  {
   "cell_type": "markdown",
   "metadata": {},
   "source": [
    "### Setting up a Regression\n",
    "\n",
    "The first step is to import the regional data series and find all of the dates with values for both locations.\n",
    "\n",
    "Previewing the data shows line 1 has information about two distinct parameters.  Where the `PARAM` column value is 1, the `Value` column corresponds to daily discharge ($\\frac{m^3}{s}$ and where the `PARAM` column value is 2, the `Value` column corresonds to daily water level ($m$).  We need to correctly set the header line to index 1 (the second row), so that the headings are read correctly."
   ]
  },
  {
   "cell_type": "code",
   "execution_count": 221,
   "metadata": {},
   "outputs": [
    {
     "data": {
      "text/html": [
       "<div>\n",
       "<style scoped>\n",
       "    .dataframe tbody tr th:only-of-type {\n",
       "        vertical-align: middle;\n",
       "    }\n",
       "\n",
       "    .dataframe tbody tr th {\n",
       "        vertical-align: top;\n",
       "    }\n",
       "\n",
       "    .dataframe thead th {\n",
       "        text-align: right;\n",
       "    }\n",
       "</style>\n",
       "<table border=\"1\" class=\"dataframe\">\n",
       "  <thead>\n",
       "    <tr style=\"text-align: right;\">\n",
       "      <th></th>\n",
       "      <th>Daily Discharge (m3/s) (PARAM = 1) and Daily Water Level (m) (PARAM = 2)</th>\n",
       "      <th>Unnamed: 1</th>\n",
       "      <th>Unnamed: 2</th>\n",
       "      <th>Unnamed: 3</th>\n",
       "    </tr>\n",
       "  </thead>\n",
       "  <tbody>\n",
       "    <tr>\n",
       "      <th>0</th>\n",
       "      <td>PARAM</td>\n",
       "      <td>Date</td>\n",
       "      <td>Value</td>\n",
       "      <td>SYM</td>\n",
       "    </tr>\n",
       "    <tr>\n",
       "      <th>1</th>\n",
       "      <td>1</td>\n",
       "      <td>1987/01/26</td>\n",
       "      <td>0.283</td>\n",
       "      <td>A</td>\n",
       "    </tr>\n",
       "    <tr>\n",
       "      <th>2</th>\n",
       "      <td>1</td>\n",
       "      <td>1987/01/27</td>\n",
       "      <td>0.24</td>\n",
       "      <td>B</td>\n",
       "    </tr>\n",
       "    <tr>\n",
       "      <th>3</th>\n",
       "      <td>1</td>\n",
       "      <td>1987/01/28</td>\n",
       "      <td>0.24</td>\n",
       "      <td>B</td>\n",
       "    </tr>\n",
       "    <tr>\n",
       "      <th>4</th>\n",
       "      <td>1</td>\n",
       "      <td>1987/01/29</td>\n",
       "      <td>0.273</td>\n",
       "      <td>NaN</td>\n",
       "    </tr>\n",
       "  </tbody>\n",
       "</table>\n",
       "</div>"
      ],
      "text/plain": [
       "  Daily Discharge (m3/s) (PARAM = 1) and Daily Water Level (m) (PARAM = 2)  \\\n",
       "0                                              PARAM                         \n",
       "1                                                  1                         \n",
       "2                                                  1                         \n",
       "3                                                  1                         \n",
       "4                                                  1                         \n",
       "\n",
       "   Unnamed: 1 Unnamed: 2 Unnamed: 3  \n",
       "0        Date      Value        SYM  \n",
       "1  1987/01/26      0.283          A  \n",
       "2  1987/01/27       0.24          B  \n",
       "3  1987/01/28       0.24          B  \n",
       "4  1987/01/29      0.273        NaN  "
      ]
     },
     "execution_count": 221,
     "metadata": {},
     "output_type": "execute_result"
    }
   ],
   "source": [
    "# import some example regional data\n",
    "regional_df = pd.read_csv('data/Regional_data.csv')\n",
    "\n",
    "# preview the data\n",
    "regional_df.head()"
   ]
  },
  {
   "cell_type": "code",
   "execution_count": 222,
   "metadata": {},
   "outputs": [
    {
     "data": {
      "text/html": [
       "<div>\n",
       "<style scoped>\n",
       "    .dataframe tbody tr th:only-of-type {\n",
       "        vertical-align: middle;\n",
       "    }\n",
       "\n",
       "    .dataframe tbody tr th {\n",
       "        vertical-align: top;\n",
       "    }\n",
       "\n",
       "    .dataframe thead th {\n",
       "        text-align: right;\n",
       "    }\n",
       "</style>\n",
       "<table border=\"1\" class=\"dataframe\">\n",
       "  <thead>\n",
       "    <tr style=\"text-align: right;\">\n",
       "      <th></th>\n",
       "      <th>PARAM</th>\n",
       "      <th>Value</th>\n",
       "      <th>SYM</th>\n",
       "    </tr>\n",
       "    <tr>\n",
       "      <th>Date</th>\n",
       "      <th></th>\n",
       "      <th></th>\n",
       "      <th></th>\n",
       "    </tr>\n",
       "  </thead>\n",
       "  <tbody>\n",
       "    <tr>\n",
       "      <th>1987-01-26</th>\n",
       "      <td>1</td>\n",
       "      <td>0.283</td>\n",
       "      <td>A</td>\n",
       "    </tr>\n",
       "    <tr>\n",
       "      <th>1987-01-27</th>\n",
       "      <td>1</td>\n",
       "      <td>0.240</td>\n",
       "      <td>B</td>\n",
       "    </tr>\n",
       "    <tr>\n",
       "      <th>1987-01-28</th>\n",
       "      <td>1</td>\n",
       "      <td>0.240</td>\n",
       "      <td>B</td>\n",
       "    </tr>\n",
       "    <tr>\n",
       "      <th>1987-01-29</th>\n",
       "      <td>1</td>\n",
       "      <td>0.273</td>\n",
       "      <td>NaN</td>\n",
       "    </tr>\n",
       "    <tr>\n",
       "      <th>1987-01-30</th>\n",
       "      <td>1</td>\n",
       "      <td>0.255</td>\n",
       "      <td>NaN</td>\n",
       "    </tr>\n",
       "  </tbody>\n",
       "</table>\n",
       "</div>"
      ],
      "text/plain": [
       "            PARAM  Value  SYM\n",
       "Date                         \n",
       "1987-01-26      1  0.283    A\n",
       "1987-01-27      1  0.240    B\n",
       "1987-01-28      1  0.240    B\n",
       "1987-01-29      1  0.273  NaN\n",
       "1987-01-30      1  0.255  NaN"
      ]
     },
     "execution_count": 222,
     "metadata": {},
     "output_type": "execute_result"
    }
   ],
   "source": [
    "# set the header row to index 1, tell the function to set the `Date` column as the index\n",
    "regional_df = pd.read_csv('data/Regional_data.csv', header=1, parse_dates=True, index_col='Date')\n",
    "\n",
    "# select only the discharge data (PARAM == 1)\n",
    "regional_df = regional_df[regional_df['PARAM'] == 1]\n",
    "\n",
    "# preview the data\n",
    "regional_df.head()"
   ]
  },
  {
   "cell_type": "code",
   "execution_count": 223,
   "metadata": {},
   "outputs": [
    {
     "name": "stdout",
     "output_type": "stream",
     "text": [
      "REGIONAL DATA: Start date = 1987-01-26 00:00:00, End date = 2017-12-31 00:00:00\n",
      "SITE DATA: Start date = 2009-01-01 00:00:00, End date = 2010-12-31 00:00:00\n"
     ]
    }
   ],
   "source": [
    "# check the date range covered by the regional data\n",
    "print('REGIONAL DATA: Start date = {}, End date = {}'.format(regional_df.index[0], regional_df.index[-1]))\n",
    "\n",
    "# for the concat function, the indexes of all dataframes need to be datetime\n",
    "stage_df.set_index('Date', inplace=True)\n",
    "# check the date range covered by our data measured at site\n",
    "print('SITE DATA: Start date = {}, End date = {}'.format(stage_df.index[0], stage_df.index[-1]))\n",
    "\n"
   ]
  },
  {
   "cell_type": "markdown",
   "metadata": {},
   "source": [
    "### Obtain Concurrent Data\n",
    "\n",
    "In the previous step, we can see that the regional dataset encompasses the date range of our site data.  To perform a regression, we want to use concurrent data only.   The `concat`, or concatenate, function [documentation can be found here](https://pandas.pydata.org/pandas-docs/stable/reference/api/pandas.concat.html). "
   ]
  },
  {
   "cell_type": "code",
   "execution_count": 224,
   "metadata": {},
   "outputs": [
    {
     "data": {
      "text/html": [
       "<div>\n",
       "<style scoped>\n",
       "    .dataframe tbody tr th:only-of-type {\n",
       "        vertical-align: middle;\n",
       "    }\n",
       "\n",
       "    .dataframe tbody tr th {\n",
       "        vertical-align: top;\n",
       "    }\n",
       "\n",
       "    .dataframe thead th {\n",
       "        text-align: right;\n",
       "    }\n",
       "</style>\n",
       "<table border=\"1\" class=\"dataframe\">\n",
       "  <thead>\n",
       "    <tr style=\"text-align: right;\">\n",
       "      <th></th>\n",
       "      <th>Water level (daily av.) (m)</th>\n",
       "      <th>RC Q (cms)</th>\n",
       "      <th>PARAM</th>\n",
       "      <th>Value</th>\n",
       "      <th>SYM</th>\n",
       "    </tr>\n",
       "    <tr>\n",
       "      <th>Date</th>\n",
       "      <th></th>\n",
       "      <th></th>\n",
       "      <th></th>\n",
       "      <th></th>\n",
       "      <th></th>\n",
       "    </tr>\n",
       "  </thead>\n",
       "  <tbody>\n",
       "    <tr>\n",
       "      <th>2009-01-01</th>\n",
       "      <td>0.240</td>\n",
       "      <td>1.214128</td>\n",
       "      <td>1</td>\n",
       "      <td>0.240</td>\n",
       "      <td>B</td>\n",
       "    </tr>\n",
       "    <tr>\n",
       "      <th>2009-01-02</th>\n",
       "      <td>0.236</td>\n",
       "      <td>1.185106</td>\n",
       "      <td>1</td>\n",
       "      <td>0.230</td>\n",
       "      <td>B</td>\n",
       "    </tr>\n",
       "    <tr>\n",
       "      <th>2009-01-03</th>\n",
       "      <td>0.234</td>\n",
       "      <td>1.170675</td>\n",
       "      <td>1</td>\n",
       "      <td>0.225</td>\n",
       "      <td>B</td>\n",
       "    </tr>\n",
       "    <tr>\n",
       "      <th>2009-01-04</th>\n",
       "      <td>0.233</td>\n",
       "      <td>1.163480</td>\n",
       "      <td>1</td>\n",
       "      <td>0.208</td>\n",
       "      <td>B</td>\n",
       "    </tr>\n",
       "    <tr>\n",
       "      <th>2009-01-05</th>\n",
       "      <td>0.231</td>\n",
       "      <td>1.149130</td>\n",
       "      <td>1</td>\n",
       "      <td>0.200</td>\n",
       "      <td>B</td>\n",
       "    </tr>\n",
       "  </tbody>\n",
       "</table>\n",
       "</div>"
      ],
      "text/plain": [
       "            Water level (daily av.) (m)  RC Q (cms)  PARAM  Value SYM\n",
       "Date                                                                 \n",
       "2009-01-01                        0.240    1.214128      1  0.240   B\n",
       "2009-01-02                        0.236    1.185106      1  0.230   B\n",
       "2009-01-03                        0.234    1.170675      1  0.225   B\n",
       "2009-01-04                        0.233    1.163480      1  0.208   B\n",
       "2009-01-05                        0.231    1.149130      1  0.200   B"
      ]
     },
     "execution_count": 224,
     "metadata": {},
     "output_type": "execute_result"
    }
   ],
   "source": [
    "# create a new dataframe of concurrent data and plot the data\n",
    "# join='inner' says to line up the indices and get the values that are common between the two dataframes\n",
    "# axis=1 says line up columns instead of rows\n",
    "\n",
    "concurrent_df = pd.concat([stage_df, regional_df], join='inner', axis=1)\n",
    "concurrent_df.head()\n"
   ]
  },
  {
   "cell_type": "code",
   "execution_count": 225,
   "metadata": {},
   "outputs": [
    {
     "data": {
      "text/plain": [
       "<matplotlib.collections.PathCollection at 0x7f064b7ea320>"
      ]
     },
     "execution_count": 225,
     "metadata": {},
     "output_type": "execute_result"
    },
    {
     "data": {
      "image/png": "[encoded data removed]",
      "text/plain": [
       "<Figure size 432x288 with 1 Axes>"
      ]
     },
     "metadata": {
      "needs_background": "light"
     },
     "output_type": "display_data"
    }
   ],
   "source": [
    "plt.scatter(concurrent_df['Value'], concurrent_df['RC Q (cms)'])"
   ]
  },
  {
   "cell_type": "markdown",
   "metadata": {},
   "source": [
    "### Question 8: Why do we use concurrent data?\n",
    "\n",
    "Why do we restrict a regression analysis to concurrent data?  What would the effect on our estimates of long-term flow characteristics be if we used non-concurrent data?"
   ]
  },
  {
   "cell_type": "markdown",
   "metadata": {},
   "source": [
    "## Optional Extra\n",
    "\n",
    "The power of programmatic approaches lies in the ability to automate routine analysis.  For instance, a deterministic rating curve fit might be 'good enough', but the next level of complexity would be to express the rating curve in a probabilistic manner.  Below is an example of how this might be approached."
   ]
  },
  {
   "cell_type": "code",
   "execution_count": 226,
   "metadata": {},
   "outputs": [
    {
     "data": {
      "text/html": [
       "<div>\n",
       "<style scoped>\n",
       "    .dataframe tbody tr th:only-of-type {\n",
       "        vertical-align: middle;\n",
       "    }\n",
       "\n",
       "    .dataframe tbody tr th {\n",
       "        vertical-align: top;\n",
       "    }\n",
       "\n",
       "    .dataframe thead th {\n",
       "        text-align: right;\n",
       "    }\n",
       "</style>\n",
       "<table border=\"1\" class=\"dataframe\">\n",
       "  <thead>\n",
       "    <tr style=\"text-align: right;\">\n",
       "      <th></th>\n",
       "      <th>Date</th>\n",
       "      <th>Flow (m3/s)</th>\n",
       "      <th>Water level (m)</th>\n",
       "    </tr>\n",
       "  </thead>\n",
       "  <tbody>\n",
       "    <tr>\n",
       "      <th>0</th>\n",
       "      <td>2009-01-02</td>\n",
       "      <td>1.565</td>\n",
       "      <td>0.236</td>\n",
       "    </tr>\n",
       "    <tr>\n",
       "      <th>1</th>\n",
       "      <td>2009-01-07</td>\n",
       "      <td>1.530</td>\n",
       "      <td>0.267</td>\n",
       "    </tr>\n",
       "    <tr>\n",
       "      <th>2</th>\n",
       "      <td>2009-03-20</td>\n",
       "      <td>0.967</td>\n",
       "      <td>0.224</td>\n",
       "    </tr>\n",
       "    <tr>\n",
       "      <th>3</th>\n",
       "      <td>2009-09-12</td>\n",
       "      <td>5.133</td>\n",
       "      <td>0.707</td>\n",
       "    </tr>\n",
       "    <tr>\n",
       "      <th>4</th>\n",
       "      <td>2009-11-10</td>\n",
       "      <td>3.402</td>\n",
       "      <td>0.468</td>\n",
       "    </tr>\n",
       "  </tbody>\n",
       "</table>\n",
       "</div>"
      ],
      "text/plain": [
       "        Date  Flow (m3/s)  Water level (m)\n",
       "0 2009-01-02        1.565            0.236\n",
       "1 2009-01-07        1.530            0.267\n",
       "2 2009-03-20        0.967            0.224\n",
       "3 2009-09-12        5.133            0.707\n",
       "4 2009-11-10        3.402            0.468"
      ]
     },
     "execution_count": 226,
     "metadata": {},
     "output_type": "execute_result"
    }
   ],
   "source": [
    "rc_df.head()"
   ]
  },
  {
   "cell_type": "code",
   "execution_count": 227,
   "metadata": {},
   "outputs": [
    {
     "name": "stdout",
     "output_type": "stream",
     "text": [
      "Mean stage = 0.50 [m], std. dev stage = 0.34 [m]\n",
      "Mean discharge = 3.69 [m], std. dev discharge = 3.31 [m3/s]\n"
     ]
    }
   ],
   "source": [
    "# take the existing rating curve data and find the mean and standard deviation\n",
    "# water level\n",
    "mean_stage, std_stage = rc_df['Water level (m)'].mean(), rc_df['Water level (m)'].std()\n",
    "mean_q, std_q = rc_df['Flow (m3/s)'].mean(), rc_df['Flow (m3/s)'].std()\n",
    "print('Mean stage = {:.2f} [m], std. dev stage = {:.2f} [m]'.format(mean_stage, std_stage))\n",
    "print('Mean discharge = {:.2f} [m], std. dev discharge = {:.2f} [m3/s]'.format(mean_q, std_q))"
   ]
  },
  {
   "cell_type": "code",
   "execution_count": 231,
   "metadata": {},
   "outputs": [
    {
     "name": "stderr",
     "output_type": "stream",
     "text": [
      "/home/danbot/Documents/code/data_analysis/lib/python3.6/site-packages/ipykernel_launcher.py:11: RuntimeWarning: invalid value encountered in power\n",
      "  # This is added back by InteractiveShellApp.init_path()\n",
      "/home/danbot/Documents/code/data_analysis/lib/python3.6/site-packages/ipykernel_launcher.py:24: RuntimeWarning: invalid value encountered in log\n"
     ]
    }
   ],
   "source": [
    "# simulate 1000 measurement points assuming the data follow a normal distribution, \n",
    "# and that the data are independent and identically distributed (IID)\n",
    "n_simulations = 1000\n",
    "\n",
    "log_q = np.log(rc_df['Flow (m3/s)']).to_numpy()\n",
    "log_stage = np.log(rc_df['Water level (m)']).to_numpy()\n",
    "\n",
    "simulated_rcs = []\n",
    "for sim in range(n_simulations):\n",
    "   \n",
    "    # simulate stage from one measurement\n",
    "    sim_h = np.random.normal(mean_stage, std_stage, 1)\n",
    "        \n",
    "    # calculate the discharge based on your rating curve parameters \n",
    "    # or the OLS best fit parameters\n",
    "    sim_q = calc_q(C, sim_h, h0, b) \n",
    "\n",
    "    # add some amount of random error (centred at 0 with \n",
    "    # a standard deviation of 15% of the simulated flow magnitude\n",
    "    sim_q += np.random.normal(0, 0.15 * sim_q)\n",
    "    \n",
    "    # append the simulated measurement to the log_q array\n",
    "    log_q = np.append(log_q, np.log(sim_q))\n",
    "    log_stage = np.append(log_stage, np.log(sim_h))\n",
    "\n",
    "    # simulate a best fit\n",
    "    log_slope, log_intercept, log_rval, log_pval, log_stderr = st.linregress(log_q, log_stage)\n",
    "    # calculate the rating curve flow values based on the best fit values\n",
    "    simulated_rcs.append([ols_rc_q(log_slope, log_intercept, h, h0) for h in stage_range])    "
   ]
  },
  {
   "cell_type": "code",
   "execution_count": 232,
   "metadata": {},
   "outputs": [
    {
     "name": "stderr",
     "output_type": "stream",
     "text": [
      "/home/danbot/Documents/code/data_analysis/lib/python3.6/site-packages/ipykernel_launcher.py:20: FutureWarning: elementwise comparison failed; returning scalar instead, but in the future will perform elementwise comparison\n"
     ]
    }
   ],
   "source": [
    "# convert the array of rating curves into a dataframe.  \n",
    "# each column should represent one simulated rating curve fit\n",
    "sim_rc_df = pd.DataFrame(simulated_rcs).T\n",
    "sim_rc_df.dropna(how='any', inplace=True, axis=1)\n",
    "sim_rc_df['stage'] = stage_range\n",
    "\n",
    "# calculate the expected value, and the lines representing\n",
    "# 1 and 2 standard deviations\n",
    "sim_rc_df['expected_value'] = sim_rc_df.apply(lambda row: np.percentile(row, 50), axis=1)\n",
    "sim_rc_df['lower_1s'] = sim_rc_df.apply(lambda row: np.percentile(row, 33), axis=1)\n",
    "sim_rc_df['lower_2s'] = sim_rc_df.apply(lambda row: np.percentile(row, 5), axis=1)\n",
    "sim_rc_df['upper_1s'] = sim_rc_df.apply(lambda row: np.percentile(row, 66), axis=1)\n",
    "sim_rc_df['upper_2s'] = sim_rc_df.apply(lambda row: np.percentile(row, 95), axis=1)\n",
    "\n",
    "\n",
    "sim_source = ColumnDataSource(data=dict())\n",
    "numeric_cols = sim_rc_df.select_dtypes(include=object).index.values\n",
    "\n",
    "# ignore the future warning...\n",
    "sim_rc_df = sim_rc_df.loc[:, [col for col in sim_rc_df.columns if col not in numeric_cols]]\n",
    "sim_source.data = sim_source.from_df(sim_rc_df)"
   ]
  },
  {
   "cell_type": "code",
   "execution_count": 233,
   "metadata": {},
   "outputs": [
    {
     "data": {
      "text/html": [
       "\n",
       "\n",
       "\n",
       "\n",
       "\n",
       "\n",
       "  <div class=\"bk-root\" id=\"c13c7d3d-238f-4993-a868-24cb76e84aab\" data-root-id=\"8782\"></div>\n"
      ]
     },
     "metadata": {},
     "output_type": "display_data"
    },
    {
     "data": {
      "application/javascript": [
       "(function(root) {\n",
       "  function embed_document(root) {\n",
       "    \n",
       "  var docs_json = {\"2ab5bb69-9f7f-4287-92d3-fab69d1678c8\":{\"roots\":{\"references\":[{\"attributes\":{\"below\":[{\"id\":\"8793\"}],\"center\":[{\"id\":\"8796\"},{\"id\":\"8800\"},{\"id\":\"8826\"}],\"left\":[{\"id\":\"8797\"}],\"plot_height\":300,\"plot_width\":500,\"renderers\":[{\"id\":\"8818\"},{\"id\":\"8831\"},{\"id\":\"8845\"},{\"id\":\"8861\"}],\"title\":{\"id\":\"8783\"},\"toolbar\":{\"id\":\"8808\"},\"x_range\":{\"id\":\"8785\"},\"x_scale\":{\"id\":\"8789\"},\"y_range\":{\"id\":\"8787\"},\"y_scale\":{\"id\":\"8791\"}},\"id\":\"8782\",\"subtype\":\"Figure\",\"type\":\"Plot\"},{\"attributes\":{\"label\":{\"value\":\"2 sigma\"},\"renderers\":[{\"id\":\"8845\"}]},\"id\":\"8857\",\"type\":\"LegendItem\"},{\"attributes\":{\"axis_label\":\"Stage [m]\",\"formatter\":{\"id\":\"8823\"},\"ticker\":{\"id\":\"8798\"}},\"id\":\"8797\",\"type\":\"LinearAxis\"},{\"attributes\":{\"data_source\":{\"id\":\"8815\"},\"glyph\":{\"id\":\"8816\"},\"hover_glyph\":null,\"muted_glyph\":null,\"nonselection_glyph\":{\"id\":\"8817\"},\"selection_glyph\":null,\"view\":{\"id\":\"8819\"}},\"id\":\"8818\",\"type\":\"GlyphRenderer\"},{\"attributes\":{},\"id\":\"8798\",\"type\":\"BasicTicker\"},{\"attributes\":{},\"id\":\"8821\",\"type\":\"BasicTickFormatter\"},{\"attributes\":{\"source\":{\"id\":\"8815\"}},\"id\":\"8819\",\"type\":\"CDSView\"},{\"attributes\":{\"fill_color\":{\"value\":\"blue\"},\"line_color\":{\"value\":\"blue\"},\"x\":{\"field\":\"x\"},\"y\":{\"field\":\"y\"}},\"id\":\"8859\",\"type\":\"Circle\"},{\"attributes\":{},\"id\":\"8855\",\"type\":\"Selection\"},{\"attributes\":{\"label\":{\"value\":\"Measured Q\"},\"renderers\":[{\"id\":\"8861\"}]},\"id\":\"8873\",\"type\":\"LegendItem\"},{\"attributes\":{},\"id\":\"8823\",\"type\":\"BasicTickFormatter\"},{\"attributes\":{\"data\":{\"x\":{\"__ndarray__\":\"AAAAAAAAAAAWWWb9oDx8P2iL1CqFP5c/4GzI421Cpz/KQPCzXtGyP9zm36u9sbs/9csgLfL8wj+IEpfURMzIP95IivneP88/MrF1Dfoo0z/AEoo6oP3WP3JxxG52G9s//LfizH6B3z8kbAGMBBfiP+ilil7Ij+Q/TiIHwloq5z9YUsPyGubpPz7fyZVqyOw/LOeF/cvO7z/ms/kjonjxPyqCymMfGPM/RP5z7Z3I9D+SbO8wvon2P2o1l1lHWvg/Ku9mZww6+j8of0HA4ij8P9EPlvehJv4/GfeYzpEZAEA4hQyJIScBQKh6O7HuOwJAjAPzkehXA0BYdLYr/3oEQKIYVycjpQVA6OjtyUXWBkAp6gjqWA4IQEI35eVOTQlAKKKUmhqTCkDQvfJbr98LQIsuUe0AMw1ADn/GegONDkDziw2Tq+0PQNX88hB3qhBA+BV0NWBhEUAQdmACjBsSQAIcCTff2BJA1TC3ZACJE0Bl+iHVhzsUQJRBCxGV+RRAEs3XctG6FUBLeryI8XYWQIAgYc9/NRdAXavJN+70F0DPtpiPq6wYQFghUX8KaBlA0n38gYkvGkBuvfxEGQkbQIzOsfmc5htAPoEuvMjIHECQWcoE/60dQA4zo4GrkB5ASECiy9xnH0BWB+fPiSYgQI5e8RlnniBAI6Cmob0XIUA6aRnxi5IhQBj8qZnQDiJABlzFM4qMIkAIrzWbtwsjQAGrarxbjCNAAAXi21wOJECGiBqD5JEkQD7ebQTVFiVAyKuu59GYJUAoFCyWPR0mQK68VxQcpyZA/tz2DGsyJ0BwxeIsKL8nQBC/fexPSihAtsAjP6nWKEC8oUL0VGQpQK4fGacY9ilAbldCbJeKKkD8J7PcTx8rQL1hj107tCtA+isod4FKLEBlL4kiIeIsQCEtoVwZey1Aob+QisEWLkDX60qEHbUuQLjOk7jiVC9AFEV8QhD2L0CMXRmgUkwwQGLRd2lQnjBA0d63j9fwMEC33zgLu0MxQCFAHE7mlTFAJBhmCpXpMUB68/6MVT4yQHLPdF7CkzJAVkKuFdvpMkA=\",\"dtype\":\"float64\",\"shape\":[100]},\"y\":{\"__ndarray__\":\"AAAAAAAAAAAIH3zwwQePPwgffPDBB58/RhdddNFFpz8IH3zwwQevP2WTTTbZZLM/RhdddNFFtz8nm2yyySa7PwgffPDBB78/dNFFF110wT9lk0022WTDP1ZVVVVVVcU/RhdddNFFxz822WSTTTbJPyebbLLJJss/GF100UUXzT8IH3zwwQfPP3zwwQcffNA/dNFFF1100T9tsskmm2zSP2WTTTbZZNM/XXTRRRdd1D9WVVVVVVXVP0422WSTTdY/RhdddNFF1z8++OCDDz7YPzbZZJNNNtk/L7rooosu2j8nm2yyySbbPx988MEHH9w/GF100UUX3T8QPvjggw/ePwgffPDBB98/AAAAAAAA4D988MEHH3zgP/jggw8++OA/dNFFF1104T/xwQcffPDhP22yySabbOI/6aKLLrro4j9lk0022WTjP+GDDz744OM/XXTRRRdd5D/ZZJNNNtnkP1ZVVVVVVeU/0kUXXXTR5T9ONtlkk03mP8omm2yyyeY/RhdddNFF5z/CBx988MHnPz744IMPPug/uuiiiy666D822WSTTTbpP7PJJptssuk/L7rooosu6j+rqqqqqqrqPyebbLLJJus/o4suuuii6z8ffPDBBx/sP5tssskmm+w/GF100UUX7T+UTTbZZJPtPxA++OCDD+4/jC666KKL7j8IH3zwwQfvP4QPPvjgg+8/AAAAAAAA8D8++OCDDz7wP3zwwQcffPA/uuiiiy668D/44IMPPvjwPzbZZJNNNvE/dNFFF1108T+zySabbLLxP/HBBx988PE/L7rooosu8j9tsskmm2zyP6uqqqqqqvI/6aKLLrro8j8nm2yyySbzP2WTTTbZZPM/o4suuuii8z/hgw8++ODzPx988MEHH/Q/XXTRRRdd9D+bbLLJJpv0P9lkk0022fQ/F1100UUX9T9WVVVVVVX1P5RNNtlkk/U/0kUXXXTR9T8QPvjggw/2P0422WSTTfY/jC666KKL9j/KJptsssn2PwgffPDBB/c/RhdddNFF9z+EDz744IP3P8IHH3zwwfc/AAAAAAAA+D8=\",\"dtype\":\"float64\",\"shape\":[100]}},\"selected\":{\"id\":\"8839\"},\"selection_policy\":{\"id\":\"8840\"}},\"id\":\"8815\",\"type\":\"ColumnDataSource\"},{\"attributes\":{\"fill_alpha\":{\"value\":0.1},\"fill_color\":{\"value\":\"blue\"},\"line_alpha\":{\"value\":0.1},\"line_color\":{\"value\":\"blue\"},\"x\":{\"field\":\"x\"},\"y\":{\"field\":\"y\"}},\"id\":\"8860\",\"type\":\"Circle\"},{\"attributes\":{\"axis\":{\"id\":\"8797\"},\"dimension\":1,\"ticker\":null},\"id\":\"8800\",\"type\":\"Grid\"},{\"attributes\":{\"source\":{\"id\":\"8858\"}},\"id\":\"8862\",\"type\":\"CDSView\"},{\"attributes\":{\"line_color\":\"green\",\"line_dash\":[6],\"x\":{\"field\":\"x\"},\"y\":{\"field\":\"y\"}},\"id\":\"8816\",\"type\":\"Line\"},{\"attributes\":{\"data_source\":{\"id\":\"8858\"},\"glyph\":{\"id\":\"8859\"},\"hover_glyph\":null,\"muted_glyph\":null,\"nonselection_glyph\":{\"id\":\"8860\"},\"selection_glyph\":null,\"view\":{\"id\":\"8862\"}},\"id\":\"8861\",\"type\":\"GlyphRenderer\"},{\"attributes\":{\"fill_alpha\":0.1,\"fill_color\":\"darkblue\",\"x1\":{\"field\":\"lower_1s\"},\"x2\":{\"field\":\"upper_1s\"},\"y\":{\"field\":\"stage\"}},\"id\":\"8830\",\"type\":\"HArea\"},{\"attributes\":{\"data_source\":{\"id\":\"8781\"},\"glyph\":{\"id\":\"8829\"},\"hover_glyph\":null,\"level\":\"underlay\",\"muted_glyph\":null,\"nonselection_glyph\":{\"id\":\"8830\"},\"selection_glyph\":null,\"view\":{\"id\":\"8832\"}},\"id\":\"8831\",\"type\":\"GlyphRenderer\"},{\"attributes\":{},\"id\":\"8805\",\"type\":\"ResetTool\"},{\"attributes\":{\"overlay\":{\"id\":\"8807\"}},\"id\":\"8803\",\"type\":\"BoxZoomTool\"},{\"attributes\":{},\"id\":\"8804\",\"type\":\"SaveTool\"},{\"attributes\":{},\"id\":\"9265\",\"type\":\"UnionRenderers\"},{\"attributes\":{\"source\":{\"id\":\"8781\"}},\"id\":\"8832\",\"type\":\"CDSView\"},{\"attributes\":{},\"id\":\"8839\",\"type\":\"Selection\"},{\"attributes\":{\"fill_alpha\":0.9,\"fill_color\":\"darkblue\",\"x1\":{\"field\":\"lower_1s\"},\"x2\":{\"field\":\"upper_1s\"},\"y\":{\"field\":\"stage\"}},\"id\":\"8829\",\"type\":\"HArea\"},{\"attributes\":{\"text\":\"Rating Curve Simulation\"},\"id\":\"8783\",\"type\":\"Title\"},{\"attributes\":{},\"id\":\"8840\",\"type\":\"UnionRenderers\"},{\"attributes\":{\"items\":[{\"id\":\"8827\"},{\"id\":\"8841\"},{\"id\":\"8857\"},{\"id\":\"8873\"}],\"location\":\"bottom_right\"},\"id\":\"8826\",\"type\":\"Legend\"},{\"attributes\":{\"data\":{\"expected_value\":{\"__ndarray__\":\"AAAAAAAAAAAWWWb9oDx8P2iL1CqFP5c/4GzI421Cpz/KQPCzXtGyP9zm36u9sbs/9csgLfL8wj+IEpfURMzIP95IivneP88/MrF1Dfoo0z/AEoo6oP3WP3JxxG52G9s//LfizH6B3z8kbAGMBBfiP+ilil7Ij+Q/TiIHwloq5z9YUsPyGubpPz7fyZVqyOw/LOeF/cvO7z/ms/kjonjxPyqCymMfGPM/RP5z7Z3I9D+SbO8wvon2P2o1l1lHWvg/Ku9mZww6+j8of0HA4ij8P9EPlvehJv4/GfeYzpEZAEA4hQyJIScBQKh6O7HuOwJAjAPzkehXA0BYdLYr/3oEQKIYVycjpQVA6OjtyUXWBkAp6gjqWA4IQEI35eVOTQlAKKKUmhqTCkDQvfJbr98LQIsuUe0AMw1ADn/GegONDkDziw2Tq+0PQNX88hB3qhBA+BV0NWBhEUAQdmACjBsSQAIcCTff2BJA1TC3ZACJE0Bl+iHVhzsUQJRBCxGV+RRAEs3XctG6FUBLeryI8XYWQIAgYc9/NRdAXavJN+70F0DPtpiPq6wYQFghUX8KaBlA0n38gYkvGkBuvfxEGQkbQIzOsfmc5htAPoEuvMjIHECQWcoE/60dQA4zo4GrkB5ASECiy9xnH0BWB+fPiSYgQI5e8RlnniBAI6Cmob0XIUA6aRnxi5IhQBj8qZnQDiJABlzFM4qMIkAIrzWbtwsjQAGrarxbjCNAAAXi21wOJECGiBqD5JEkQD7ebQTVFiVAyKuu59GYJUAoFCyWPR0mQK68VxQcpyZA/tz2DGsyJ0BwxeIsKL8nQBC/fexPSihAtsAjP6nWKEC8oUL0VGQpQK4fGacY9ilAbldCbJeKKkD8J7PcTx8rQL1hj107tCtA+isod4FKLEBlL4kiIeIsQCEtoVwZey1Aob+QisEWLkDX60qEHbUuQLjOk7jiVC9AFEV8QhD2L0CMXRmgUkwwQGLRd2lQnjBA0d63j9fwMEC33zgLu0MxQCFAHE7mlTFAJBhmCpXpMUB68/6MVT4yQHLPdF7CkzJAVkKuFdvpMkA=\",\"dtype\":\"float64\",\"shape\":[100]},\"index\":[0,1,2,3,4,5,6,7,8,9,10,11,12,13,14,15,16,17,18,19,20,21,22,23,24,25,26,27,28,29,30,31,32,33,34,35,36,37,38,39,40,41,42,43,44,45,46,47,48,49,50,51,52,53,54,55,56,57,58,59,60,61,62,63,64,65,66,67,68,69,70,71,72,73,74,75,76,77,78,79,80,81,82,83,84,85,86,87,88,89,90,91,92,93,94,95,96,97,98,99],\"lower_1s\":{\"__ndarray__\":\"AAAAAAAAAAAHzbGxhpx5P/R/n3xgiJU/JtahQdPdpT/QZna/G2axP5Iz4L3Htrk/MUjfY+uwwT97VrD35SvHP+yiGSMQRs0//l4z6xf90T+u2m0t56HVP2kM+h2Fj9k/B+zOtzvE3T8S0j4eQh/hPwvLLT6kguM/jc4O72II5j+xRS9e0q/oP191RBvBdes/0RptWOpU7j+LS04teqnwP5ASExrOO/I/qLAh9Jve8z+9DptqX5L1P4NdQAGdVfc/vgwOZCgo+T/WANPl2gn7P1/ywsmP+vw/FIkjGCT6/j/YUh88O4QAQOZYZYezkgFAvOAPsGuoAkAbI9caVcUDQDT1IcNh6QRA7SZfMIQUBkBham1sr0YHQI2p7/rWfwhAxNhw0e6/CUCLlj5Q6wYLQLyg/RLWUwxAW+2GerulDUBYOzyHOP4OQJnOsF+hLhBA+fPO/WfhEEBhk0Mxa5cRQP74QjKmUBJA6pgDXBQNE0BCavoqscwTQKRtNzt4jxRAEiCIbYBUFUAkOVYoZRAWQDifgHqtzBZAi1RudS6aF0DuUQFVuGoYQMVO7ryYOhlAgS7HaJYRGkCrOicmBNYaQDHlImP9nBtAhzy5ri19HEC1gQ3cZGAdQJxaN8OfRh5ACZNdTdsvH0BaEAk6Cg4gQCcTJQHBfyBAMC3Dh9v2IEBpUeqv/3EhQHPKitHH7SFAzyfWfgZrIkDnAPhhq+ciQBF8kEvNaCNA8RFvUGvrI0BZpts0hG8kQKknA6M+8CRAEZRUrnt3JUBZys+TMgAmQN8MPiK+fiZAthhTp+T4JkAOm166G4EnQMTo5J/nCihA8YKmwQSWKEAJfYv3cSIpQGDHQx4usClAT6c1Vtk9KkCybzlcEMwqQEWkwdeCWytAOuI9qy/sK0A254e9FX4sQJjyxPkzES1ASlRIT4mlLUAKGnexFDsuQCjNrBfV0S5AoTMhfclpL0D/g2dweAEwQDXOrSKlTjBA9q5/WGqcMECulreWx+owQCxC42O8OTFAdy45SEiJMUCSaY7NatkxQDC8TH8jKjJAPShp6nF7MkA=\",\"dtype\":\"float64\",\"shape\":[100]},\"lower_2s\":{\"__ndarray__\":\"AAAAAAAAAACllg5EsuV1PyFyNkgIyZI/Tc6aDilSoz8J5YZo5vevP4OHvRgaybc/b86bBcJ0wD90k9sWuafFPyGE9c71d8s/p2ktF4Xw0D/FxS8zh2/UPyKChiJNN9g/tkgVKFVG3D/eanwZo03gP1iFP1Z0muI/vhM/fhAJ5T8ovEqi9ZjnP/DR5/6rSeo/eO1sn8Qa7T8wSY8g7AXwP9Cb3TNDjvE/awdlTDom8z/wUtvaps30P3i4WLdghPY/WGzZ5EFK+D+VuAJdJh/6P0wswOLrAvw/6KGX2nH1/T9ou8snmfb/P3Q8yAYiAwFAvP3bCSsSAkBoWiz3WSgDQEn1AbShRQRAWWoap/VpBUAkY6JFQ5UGQDIK8iZyxwdAfA2+TYgACUB2k03SekAKQJTy8yk/hwtABiwNNr3QDECmJ//lriAOQDUMthQRdw9AY/1U7JppEEDu5nCinhoRQBlnNC/EzhFAKtwNEgeGEkB3G6jqYkATQFifU3fT/RNADBGMk1S+FEBmppc24oEVQC0RPnJ4SBZAfvuUcRMSF0C4QeB3r94XQDbucqlanRhAMNokgBtdGUB4rZzO7hwaQHFYQfKK3RpAC/DKYDCgG0Af4u6g22QcQCOcib3HJB1AGnql3BvdHUB67QXt1JYeQNJY27bvUR9AvqB9izQHIEDy4AT/HmYgQBh217e1xSBASqPrQPclIUBkTv8t4oYhQDk5Qht16CFAlrgEra5KIkDgnGqPja0iQH0GInYQESNAW+UdHDZ1I0A06FND/dkjQGOkfbRkPyRAtcPcPmulJEDYCAK4DwwlQPv+lvtQcyVAFiwq6y3bJUA4oP1tpUMmQAS/13C2rCZAwCLW5V8WJ0DAekLEoIAnQPZIaQh46ydAPGRys+RWKEDuJjvL5cIoQKIyMlp6LylAtLM0b6GcKUBuEG0dWgoqQOHwMnyjeCpADo7spnznKkBnN/G85FYrQGj/bOHaxitAiYBFO143LEDFrP/0bagsQNuapjwJGi1ADkWzQy+MLUDsLfU+3/4tQFHge2YYci5AfECB9dnlLkA=\",\"dtype\":\"float64\",\"shape\":[100]},\"stage\":{\"__ndarray__\":\"AAAAAAAAAAAIH3zwwQePPwgffPDBB58/RhdddNFFpz8IH3zwwQevP2WTTTbZZLM/RhdddNFFtz8nm2yyySa7PwgffPDBB78/dNFFF110wT9lk0022WTDP1ZVVVVVVcU/RhdddNFFxz822WSTTTbJPyebbLLJJss/GF100UUXzT8IH3zwwQfPP3zwwQcffNA/dNFFF1100T9tsskmm2zSP2WTTTbZZNM/XXTRRRdd1D9WVVVVVVXVP0422WSTTdY/RhdddNFF1z8++OCDDz7YPzbZZJNNNtk/L7rooosu2j8nm2yyySbbPx988MEHH9w/GF100UUX3T8QPvjggw/ePwgffPDBB98/AAAAAAAA4D988MEHH3zgP/jggw8++OA/dNFFF1104T/xwQcffPDhP22yySabbOI/6aKLLrro4j9lk0022WTjP+GDDz744OM/XXTRRRdd5D/ZZJNNNtnkP1ZVVVVVVeU/0kUXXXTR5T9ONtlkk03mP8omm2yyyeY/RhdddNFF5z/CBx988MHnPz744IMPPug/uuiiiy666D822WSTTTbpP7PJJptssuk/L7rooosu6j+rqqqqqqrqPyebbLLJJus/o4suuuii6z8ffPDBBx/sP5tssskmm+w/GF100UUX7T+UTTbZZJPtPxA++OCDD+4/jC666KKL7j8IH3zwwQfvP4QPPvjgg+8/AAAAAAAA8D8++OCDDz7wP3zwwQcffPA/uuiiiy668D/44IMPPvjwPzbZZJNNNvE/dNFFF1108T+zySabbLLxP/HBBx988PE/L7rooosu8j9tsskmm2zyP6uqqqqqqvI/6aKLLrro8j8nm2yyySbzP2WTTTbZZPM/o4suuuii8z/hgw8++ODzPx988MEHH/Q/XXTRRRdd9D+bbLLJJpv0P9lkk0022fQ/F1100UUX9T9WVVVVVVX1P5RNNtlkk/U/0kUXXXTR9T8QPvjggw/2P0422WSTTfY/jC666KKL9j/KJptsssn2PwgffPDBB/c/RhdddNFF9z+EDz744IP3P8IHH3zwwfc/AAAAAAAA+D8=\",\"dtype\":\"float64\",\"shape\":[100]},\"upper_1s\":{\"__ndarray__\":\"AAAAAAAAAADET0RRW1WAPzwntcVWdJo/mxGpGqQOqj/kWkY8ETu1P7npfGTHAb8/V0VodG8gxT9gFM2qAHLLP9DrV2q4NtE/LzYHGwAG1T8ScdspwyDZP6XMNhnrgt0/2yUjmb0W4T9yz4KxQI/jP2O5B7ofKuY/eNkiouTr6D+E5xUMZdPrP4iyh2eO3O4/IAfbzGQD8T8YB6iBOaTyP7aylZjUUvQ/qsZzY20Q9j9Nrzovydz3Pwi42tqwt/k/W8atefCg+z8+GAwDV5j9P/0itgy2nf8/zBggx3DYAEDS5ATW1+gBQAlySUT8/wJAX5KcDcsdBEDEr8kFMkIFQLxgYsgfbQZApX0eqoOeB0A2srirTdYIQFuzFm5uFApANcKTJ9dYC0BQUEqaeaMMQHS0PgtI9A1AKx9ROjVLD0BiKaDgI1QQQBuu4d5jABFAbpRUBs6hEUCq+fLgA1cSQNqw0c++FhNAAEoGCE/YE0CsL9/Kg4IUQLr72IJrMhVAJGN49RD0FUAg6nsQO7IWQD1T0M9RexdAaDwt655FGEDo5ujn+RUZQISwah0n6RlA3R7cciK/GkD7OuTo55cbQC5e/bk3ahxAoLmYd71IHUD/llj/eCEeQACsFfEdAx9Azt5JDa3nH0DPV17sb2cgQEypsG5Z3CBAjXV5JptSIUA/TDG0ucohQNZjrF4pRCJABSK/lOi+IkCVKIBtjTYjQDG1HWUItSNA5wUTKfUyJECC9Bpkx68kQAEMY7YxLCVAMaybtqKuJUBdFjrWWzMmQIxh9xMCuCZAquIUYOk9J0C5bMJPJMUnQNcXPiSPUihAdMnpbG3hKEAx0UvusHEpQF7iB49YAypAtysDndaVKkDetfEBNiorQIusEhVKwCtApitb58pXLECUHOE9V/AsQONNpnNBii1AMmagi4glLkBS1mWMK8IuQAMVFoApYC9AbLlCdIH/L0C7tOw8GVAwQDVJh9IdoTBAKEAnas/yMEBgr7WXQUUxQKhk9oAvmDFA9RUJ6jXsMUAj5zoOiEEyQBKnoxmKlzJAFKjrpTvuMkA=\",\"dtype\":\"float64\",\"shape\":[100]},\"upper_2s\":{\"__ndarray__\":\"AAAAAAAAAABPZnEqbwKUP9fhJrAFbqs/oAc4I2vAuD9GC2GRmtDCPwq4odLVCco/Q+8kHH360D8kgfpB3ErVP8p7ENNQ6tk/rUQnN/Tb3j/0/3fNZwniP0ZtW77TxeQ/mqEpQ6ah5z/OcdyIfJvqP8CwJBK3sO0/D63LCapw8D+0cYiWOxbyP2C7DOGfyPM/iR/u0HCH9T9Yh6cPUVL3P6zWrtrqKPk/inZ6C+8K+z/53K5JFPj8P5bfq14W8P4/Mkvq0Vp5AEB2eTxD238BQF7utY5wiwJA+SOVZgCcA0DoGQ78cbEEQOEfe9ytywVADNnR0p3qBkDsUbbMLA4IQHzgo8JGNglAxj+7othiCkCYVtg90JMLQFhroTYcyQxAzPdN8qsCDkB8e+2Kb0APQCyEf+ErQRBAQpgY/SrkEEAu3pMRLokRQKCvFF0uMBJAgtVNXiXZEkAodZvQDIQTQKkG0MpSMhRAFBoziyXwFED9jdRWkbAVQPIZwcqQcxZA3FFMrR45F0Avm/vrNQEYQJR4lpnRyxhA2mZVK8mXGUAXRAxHh2QaQNqOJNIROBtADDH+G64NHEBaeFnAEeQcQBFrWreKux1ANKWrUleVHkDYUOSYc3EfQNxeu9TtJyBA87w9ZJmeIECcfYI3jhohQMu5jx8FmCFAj4yTePwWIkBuOTSncpciQAwHQxhmGSNAWv9yQNWcI0CEVBOcviEkQO4uza4gqCRAHK1kA/ovJUDU4nwrSbklQE+oXr8MRCZAMA7CXUPQJkDGTZqr610nQFIQ5FME7SdAwep1B4x9KEA67dJ8gQ8pQPco/2/joilAHBBWorA3KkCqlWLa580qQD71uOOHZStA2gvSjo/+K0CVLOiw/ZgsQEhd1SPRNC1AtOjyxQjSLUCoNPp5o3AuQN/L5iagEC9APIzZt/2xL0CAdf6NXSowQL4gNaNrfDBAugoIlyjPMECoqMzmkyIxQF2wqhGtdjFAjJOQmHPLMUDsYij+5iAyQOTBf1a7djJA1nI/gArMMkDN8GG09yEzQCQj0wuGeDNAyM84C7XPM0A=\",\"dtype\":\"float64\",\"shape\":[100]}},\"selected\":{\"id\":\"8855\"},\"selection_policy\":{\"id\":\"8856\"}},\"id\":\"8781\",\"type\":\"ColumnDataSource\"},{\"attributes\":{},\"id\":\"8785\",\"type\":\"DataRange1d\"},{\"attributes\":{},\"id\":\"8856\",\"type\":\"UnionRenderers\"},{\"attributes\":{\"bottom_units\":\"screen\",\"fill_alpha\":0.5,\"fill_color\":\"lightgrey\",\"left_units\":\"screen\",\"level\":\"overlay\",\"line_alpha\":1.0,\"line_color\":\"black\",\"line_dash\":[4,4],\"line_width\":2,\"render_mode\":\"css\",\"right_units\":\"screen\",\"top_units\":\"screen\"},\"id\":\"8807\",\"type\":\"BoxAnnotation\"},{\"attributes\":{},\"id\":\"8787\",\"type\":\"DataRange1d\"},{\"attributes\":{\"label\":{\"value\":\"1 sigma\"},\"renderers\":[{\"id\":\"8831\"}]},\"id\":\"8841\",\"type\":\"LegendItem\"},{\"attributes\":{},\"id\":\"8806\",\"type\":\"HelpTool\"},{\"attributes\":{},\"id\":\"8794\",\"type\":\"BasicTicker\"},{\"attributes\":{\"data\":{\"x\":{\"__ndarray__\":\"CtejcD0K+T97FK5H4Xr4P4xs5/up8e4/1HjpJjGIFECd76fGSzcLQEw3iUFg5RFAjZduEoPA9D9fukkMAiv9P+18PzVeuhJAAAAAAAAAKEA=\",\"dtype\":\"float64\",\"shape\":[10]},\"y\":{\"__ndarray__\":\"aZHtfD81zj9KDAIrhxbRP3jpJjEIrMw/OrTIdr6f5j/AyqFFtvPdPwwCK4cW2eI/jGzn+6nx0j8zMzMzMzPTP9NNYhBYOeQ/NV66SQwC9T8=\",\"dtype\":\"float64\",\"shape\":[10]}},\"selected\":{\"id\":\"9264\"},\"selection_policy\":{\"id\":\"9265\"}},\"id\":\"8858\",\"type\":\"ColumnDataSource\"},{\"attributes\":{},\"id\":\"8789\",\"type\":\"LinearScale\"},{\"attributes\":{\"axis_label\":\"Flow [m^3/s]\",\"formatter\":{\"id\":\"8821\"},\"ticker\":{\"id\":\"8794\"}},\"id\":\"8793\",\"type\":\"LinearAxis\"},{\"attributes\":{\"data_source\":{\"id\":\"8781\"},\"glyph\":{\"id\":\"8843\"},\"hover_glyph\":null,\"level\":\"underlay\",\"muted_glyph\":null,\"nonselection_glyph\":{\"id\":\"8844\"},\"selection_glyph\":null,\"view\":{\"id\":\"8846\"}},\"id\":\"8845\",\"type\":\"GlyphRenderer\"},{\"attributes\":{},\"id\":\"8791\",\"type\":\"LinearScale\"},{\"attributes\":{\"fill_alpha\":0.1,\"fill_color\":\"lightblue\",\"x1\":{\"field\":\"lower_2s\"},\"x2\":{\"field\":\"upper_2s\"},\"y\":{\"field\":\"stage\"}},\"id\":\"8844\",\"type\":\"HArea\"},{\"attributes\":{\"line_alpha\":0.1,\"line_color\":\"green\",\"line_dash\":[6],\"x\":{\"field\":\"x\"},\"y\":{\"field\":\"y\"}},\"id\":\"8817\",\"type\":\"Line\"},{\"attributes\":{},\"id\":\"9264\",\"type\":\"Selection\"},{\"attributes\":{\"label\":{\"value\":\"Expected Value\"},\"renderers\":[{\"id\":\"8818\"}]},\"id\":\"8827\",\"type\":\"LegendItem\"},{\"attributes\":{\"source\":{\"id\":\"8781\"}},\"id\":\"8846\",\"type\":\"CDSView\"},{\"attributes\":{\"fill_alpha\":0.9,\"fill_color\":\"lightblue\",\"x1\":{\"field\":\"lower_2s\"},\"x2\":{\"field\":\"upper_2s\"},\"y\":{\"field\":\"stage\"}},\"id\":\"8843\",\"type\":\"HArea\"},{\"attributes\":{},\"id\":\"8802\",\"type\":\"WheelZoomTool\"},{\"attributes\":{\"axis\":{\"id\":\"8793\"},\"ticker\":null},\"id\":\"8796\",\"type\":\"Grid\"},{\"attributes\":{\"active_drag\":\"auto\",\"active_inspect\":\"auto\",\"active_multi\":null,\"active_scroll\":\"auto\",\"active_tap\":\"auto\",\"tools\":[{\"id\":\"8801\"},{\"id\":\"8802\"},{\"id\":\"8803\"},{\"id\":\"8804\"},{\"id\":\"8805\"},{\"id\":\"8806\"}]},\"id\":\"8808\",\"type\":\"Toolbar\"},{\"attributes\":{},\"id\":\"8801\",\"type\":\"PanTool\"}],\"root_ids\":[\"8782\"]},\"title\":\"Bokeh Application\",\"version\":\"2.0.2\"}};\n",
       "  var render_items = [{\"docid\":\"2ab5bb69-9f7f-4287-92d3-fab69d1678c8\",\"root_ids\":[\"8782\"],\"roots\":{\"8782\":\"c13c7d3d-238f-4993-a868-24cb76e84aab\"}}];\n",
       "  root.Bokeh.embed.embed_items_notebook(docs_json, render_items);\n",
       "\n",
       "  }\n",
       "  if (root.Bokeh !== undefined) {\n",
       "    embed_document(root);\n",
       "  } else {\n",
       "    var attempts = 0;\n",
       "    var timer = setInterval(function(root) {\n",
       "      if (root.Bokeh !== undefined) {\n",
       "        clearInterval(timer);\n",
       "        embed_document(root);\n",
       "      } else {\n",
       "        attempts++;\n",
       "        if (attempts > 100) {\n",
       "          clearInterval(timer);\n",
       "          console.log(\"Bokeh: ERROR: Unable to run BokehJS code because BokehJS library is missing\");\n",
       "        }\n",
       "      }\n",
       "    }, 10, root)\n",
       "  }\n",
       "})(window);"
      ],
      "application/vnd.bokehjs_exec.v0+json": ""
     },
     "metadata": {
      "application/vnd.bokehjs_exec.v0+json": {
       "id": "8782"
      }
     },
     "output_type": "display_data"
    }
   ],
   "source": [
    "# plot the simulated rating curve fits\n",
    "\n",
    "sim_rc_fig = figure(plot_width=500, plot_height=300, \n",
    "                    title='Rating Curve Simulation')\n",
    "\n",
    "sim_rc_fig.line(sim_rc_df['expected_value'], sim_rc_df['stage'],\n",
    "               legend_label='Expected Value', color='green',\n",
    "               line_dash='dashed')\n",
    "\n",
    "sim_rc_fig.harea(x1='lower_1s', x2='upper_1s', y='stage', source=sim_source, \n",
    "            level='underlay', fill_alpha=0.9, fill_color='darkblue',\n",
    "                legend_label='1 sigma')\n",
    "\n",
    "sim_rc_fig.harea(x1='lower_2s', x2='upper_2s', y='stage', source=sim_source, \n",
    "            level='underlay', fill_alpha=0.9, fill_color='lightblue',\n",
    "                legend_label='2 sigma')\n",
    "\n",
    "sim_rc_fig.circle(rc_df['Flow (m3/s)'], rc_df['Water level (m)'],\n",
    "                 legend_label='Measured Q', color='blue')\n",
    "\n",
    "\n",
    "sim_rc_fig.legend.location = \"bottom_right\"\n",
    "sim_rc_fig.xaxis.axis_label = 'Flow [m^3/s]'\n",
    "sim_rc_fig.yaxis.axis_label = 'Stage [m]'\n",
    "\n",
    "show(sim_rc_fig)"
   ]
  },
  {
   "cell_type": "markdown",
   "metadata": {},
   "source": [
    "## References\n",
    "\n",
    "1. A.S. Hamilton & R.D. Moore (2012). Quantifying Uncertainty in Streamflow Records , Canadian Water Resources Journal / Revue canadienne des ressources hydriques, 37:1, 3-21, DOI: 10.4296/cwrj3701865\n",
    "2. Environment Canada (2012).  Hydrometric Manual - Data Computations.  Water Survey of Canada, Weather and Environmental Monitoring Directorate."
   ]
  },
  {
   "cell_type": "code",
   "execution_count": null,
   "metadata": {},
   "outputs": [],
   "source": []
  }
 ],
 "metadata": {
  "kernelspec": {
   "display_name": "Python 3",
   "language": "python",
   "name": "python3"
  },
  "language_info": {
   "codemirror_mode": {
    "name": "ipython",
    "version": 3
   },
   "file_extension": ".py",
   "mimetype": "text/x-python",
   "name": "python",
   "nbconvert_exporter": "python",
   "pygments_lexer": "ipython3",
   "version": "3.6.9"
  }
 },
 "nbformat": 4,
 "nbformat_minor": 4
}
